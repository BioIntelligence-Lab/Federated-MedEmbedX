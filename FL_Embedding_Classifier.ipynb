{
 "cells": [
  {
   "cell_type": "code",
   "execution_count": 3,
   "metadata": {
    "colab": {
     "base_uri": "https://localhost:8080/"
    },
    "id": "HvqlPD_IG-ea",
    "outputId": "d09a3a5e-43d1-42bb-de1a-43ad6ed0bb88"
   },
   "outputs": [
    {
     "name": "stdout",
     "output_type": "stream",
     "text": [
      "Requirement already satisfied: sentence_transformers in c:\\users\\nikhi\\desktop\\github projects\\federated-medembedx\\.venv\\lib\\site-packages (3.2.0)\n",
      "Requirement already satisfied: transformers<5.0.0,>=4.41.0 in c:\\users\\nikhi\\desktop\\github projects\\federated-medembedx\\.venv\\lib\\site-packages (from sentence_transformers) (4.45.2)\n",
      "Requirement already satisfied: tqdm in c:\\users\\nikhi\\desktop\\github projects\\federated-medembedx\\.venv\\lib\\site-packages (from sentence_transformers) (4.66.5)\n",
      "Requirement already satisfied: torch>=1.11.0 in c:\\users\\nikhi\\desktop\\github projects\\federated-medembedx\\.venv\\lib\\site-packages (from sentence_transformers) (2.4.1)\n",
      "Requirement already satisfied: scikit-learn in c:\\users\\nikhi\\desktop\\github projects\\federated-medembedx\\.venv\\lib\\site-packages (from sentence_transformers) (1.5.2)\n",
      "Requirement already satisfied: scipy in c:\\users\\nikhi\\desktop\\github projects\\federated-medembedx\\.venv\\lib\\site-packages (from sentence_transformers) (1.14.1)\n",
      "Requirement already satisfied: huggingface-hub>=0.20.0 in c:\\users\\nikhi\\desktop\\github projects\\federated-medembedx\\.venv\\lib\\site-packages (from sentence_transformers) (0.25.2)\n",
      "Requirement already satisfied: Pillow in c:\\users\\nikhi\\desktop\\github projects\\federated-medembedx\\.venv\\lib\\site-packages (from sentence_transformers) (10.4.0)\n",
      "Requirement already satisfied: filelock in c:\\users\\nikhi\\desktop\\github projects\\federated-medembedx\\.venv\\lib\\site-packages (from huggingface-hub>=0.20.0->sentence_transformers) (3.16.1)\n",
      "Requirement already satisfied: fsspec>=2023.5.0 in c:\\users\\nikhi\\desktop\\github projects\\federated-medembedx\\.venv\\lib\\site-packages (from huggingface-hub>=0.20.0->sentence_transformers) (2024.9.0)\n",
      "Requirement already satisfied: packaging>=20.9 in c:\\users\\nikhi\\desktop\\github projects\\federated-medembedx\\.venv\\lib\\site-packages (from huggingface-hub>=0.20.0->sentence_transformers) (24.1)\n",
      "Requirement already satisfied: pyyaml>=5.1 in c:\\users\\nikhi\\desktop\\github projects\\federated-medembedx\\.venv\\lib\\site-packages (from huggingface-hub>=0.20.0->sentence_transformers) (6.0.2)\n",
      "Requirement already satisfied: requests in c:\\users\\nikhi\\desktop\\github projects\\federated-medembedx\\.venv\\lib\\site-packages (from huggingface-hub>=0.20.0->sentence_transformers) (2.32.3)\n",
      "Requirement already satisfied: typing-extensions>=3.7.4.3 in c:\\users\\nikhi\\desktop\\github projects\\federated-medembedx\\.venv\\lib\\site-packages (from huggingface-hub>=0.20.0->sentence_transformers) (4.12.2)\n",
      "Requirement already satisfied: sympy in c:\\users\\nikhi\\desktop\\github projects\\federated-medembedx\\.venv\\lib\\site-packages (from torch>=1.11.0->sentence_transformers) (1.13.3)\n",
      "Requirement already satisfied: networkx in c:\\users\\nikhi\\desktop\\github projects\\federated-medembedx\\.venv\\lib\\site-packages (from torch>=1.11.0->sentence_transformers) (3.4.1)\n",
      "Requirement already satisfied: jinja2 in c:\\users\\nikhi\\desktop\\github projects\\federated-medembedx\\.venv\\lib\\site-packages (from torch>=1.11.0->sentence_transformers) (3.1.4)\n",
      "Requirement already satisfied: colorama in c:\\users\\nikhi\\desktop\\github projects\\federated-medembedx\\.venv\\lib\\site-packages (from tqdm->sentence_transformers) (0.4.6)\n",
      "Requirement already satisfied: numpy>=1.17 in c:\\users\\nikhi\\desktop\\github projects\\federated-medembedx\\.venv\\lib\\site-packages (from transformers<5.0.0,>=4.41.0->sentence_transformers) (1.26.4)\n",
      "Requirement already satisfied: regex!=2019.12.17 in c:\\users\\nikhi\\desktop\\github projects\\federated-medembedx\\.venv\\lib\\site-packages (from transformers<5.0.0,>=4.41.0->sentence_transformers) (2024.9.11)\n",
      "Requirement already satisfied: safetensors>=0.4.1 in c:\\users\\nikhi\\desktop\\github projects\\federated-medembedx\\.venv\\lib\\site-packages (from transformers<5.0.0,>=4.41.0->sentence_transformers) (0.4.5)\n",
      "Requirement already satisfied: tokenizers<0.21,>=0.20 in c:\\users\\nikhi\\desktop\\github projects\\federated-medembedx\\.venv\\lib\\site-packages (from transformers<5.0.0,>=4.41.0->sentence_transformers) (0.20.1)\n",
      "Requirement already satisfied: joblib>=1.2.0 in c:\\users\\nikhi\\desktop\\github projects\\federated-medembedx\\.venv\\lib\\site-packages (from scikit-learn->sentence_transformers) (1.4.2)\n",
      "Requirement already satisfied: threadpoolctl>=3.1.0 in c:\\users\\nikhi\\desktop\\github projects\\federated-medembedx\\.venv\\lib\\site-packages (from scikit-learn->sentence_transformers) (3.5.0)\n",
      "Requirement already satisfied: MarkupSafe>=2.0 in c:\\users\\nikhi\\desktop\\github projects\\federated-medembedx\\.venv\\lib\\site-packages (from jinja2->torch>=1.11.0->sentence_transformers) (3.0.1)\n",
      "Requirement already satisfied: charset-normalizer<4,>=2 in c:\\users\\nikhi\\desktop\\github projects\\federated-medembedx\\.venv\\lib\\site-packages (from requests->huggingface-hub>=0.20.0->sentence_transformers) (3.4.0)\n",
      "Requirement already satisfied: idna<4,>=2.5 in c:\\users\\nikhi\\desktop\\github projects\\federated-medembedx\\.venv\\lib\\site-packages (from requests->huggingface-hub>=0.20.0->sentence_transformers) (3.10)\n",
      "Requirement already satisfied: urllib3<3,>=1.21.1 in c:\\users\\nikhi\\desktop\\github projects\\federated-medembedx\\.venv\\lib\\site-packages (from requests->huggingface-hub>=0.20.0->sentence_transformers) (2.2.3)\n",
      "Requirement already satisfied: certifi>=2017.4.17 in c:\\users\\nikhi\\desktop\\github projects\\federated-medembedx\\.venv\\lib\\site-packages (from requests->huggingface-hub>=0.20.0->sentence_transformers) (2024.8.30)\n",
      "Requirement already satisfied: mpmath<1.4,>=1.1.0 in c:\\users\\nikhi\\desktop\\github projects\\federated-medembedx\\.venv\\lib\\site-packages (from sympy->torch>=1.11.0->sentence_transformers) (1.3.0)\n",
      "Requirement already satisfied: pandas in c:\\users\\nikhi\\desktop\\github projects\\federated-medembedx\\.venv\\lib\\site-packages (2.2.3)\n",
      "Requirement already satisfied: numpy>=1.23.2 in c:\\users\\nikhi\\desktop\\github projects\\federated-medembedx\\.venv\\lib\\site-packages (from pandas) (1.26.4)\n",
      "Requirement already satisfied: python-dateutil>=2.8.2 in c:\\users\\nikhi\\desktop\\github projects\\federated-medembedx\\.venv\\lib\\site-packages (from pandas) (2.9.0.post0)\n",
      "Requirement already satisfied: pytz>=2020.1 in c:\\users\\nikhi\\desktop\\github projects\\federated-medembedx\\.venv\\lib\\site-packages (from pandas) (2024.2)\n",
      "Requirement already satisfied: tzdata>=2022.7 in c:\\users\\nikhi\\desktop\\github projects\\federated-medembedx\\.venv\\lib\\site-packages (from pandas) (2024.2)\n",
      "Requirement already satisfied: six>=1.5 in c:\\users\\nikhi\\desktop\\github projects\\federated-medembedx\\.venv\\lib\\site-packages (from python-dateutil>=2.8.2->pandas) (1.16.0)\n",
      "Requirement already satisfied: numpy in c:\\users\\nikhi\\desktop\\github projects\\federated-medembedx\\.venv\\lib\\site-packages (1.26.4)\n",
      "Requirement already satisfied: scikit-learn in c:\\users\\nikhi\\desktop\\github projects\\federated-medembedx\\.venv\\lib\\site-packages (1.5.2)\n",
      "Requirement already satisfied: numpy>=1.19.5 in c:\\users\\nikhi\\desktop\\github projects\\federated-medembedx\\.venv\\lib\\site-packages (from scikit-learn) (1.26.4)\n",
      "Requirement already satisfied: scipy>=1.6.0 in c:\\users\\nikhi\\desktop\\github projects\\federated-medembedx\\.venv\\lib\\site-packages (from scikit-learn) (1.14.1)\n",
      "Requirement already satisfied: joblib>=1.2.0 in c:\\users\\nikhi\\desktop\\github projects\\federated-medembedx\\.venv\\lib\\site-packages (from scikit-learn) (1.4.2)\n",
      "Requirement already satisfied: threadpoolctl>=3.1.0 in c:\\users\\nikhi\\desktop\\github projects\\federated-medembedx\\.venv\\lib\\site-packages (from scikit-learn) (3.5.0)\n",
      "Requirement already satisfied: matplotlib in c:\\users\\nikhi\\desktop\\github projects\\federated-medembedx\\.venv\\lib\\site-packages (3.9.2)\n",
      "Requirement already satisfied: contourpy>=1.0.1 in c:\\users\\nikhi\\desktop\\github projects\\federated-medembedx\\.venv\\lib\\site-packages (from matplotlib) (1.3.0)\n",
      "Requirement already satisfied: cycler>=0.10 in c:\\users\\nikhi\\desktop\\github projects\\federated-medembedx\\.venv\\lib\\site-packages (from matplotlib) (0.12.1)\n",
      "Requirement already satisfied: fonttools>=4.22.0 in c:\\users\\nikhi\\desktop\\github projects\\federated-medembedx\\.venv\\lib\\site-packages (from matplotlib) (4.54.1)\n",
      "Requirement already satisfied: kiwisolver>=1.3.1 in c:\\users\\nikhi\\desktop\\github projects\\federated-medembedx\\.venv\\lib\\site-packages (from matplotlib) (1.4.7)\n",
      "Requirement already satisfied: numpy>=1.23 in c:\\users\\nikhi\\desktop\\github projects\\federated-medembedx\\.venv\\lib\\site-packages (from matplotlib) (1.26.4)\n",
      "Requirement already satisfied: packaging>=20.0 in c:\\users\\nikhi\\desktop\\github projects\\federated-medembedx\\.venv\\lib\\site-packages (from matplotlib) (24.1)\n",
      "Requirement already satisfied: pillow>=8 in c:\\users\\nikhi\\desktop\\github projects\\federated-medembedx\\.venv\\lib\\site-packages (from matplotlib) (10.4.0)\n",
      "Requirement already satisfied: pyparsing>=2.3.1 in c:\\users\\nikhi\\desktop\\github projects\\federated-medembedx\\.venv\\lib\\site-packages (from matplotlib) (3.2.0)\n",
      "Requirement already satisfied: python-dateutil>=2.7 in c:\\users\\nikhi\\desktop\\github projects\\federated-medembedx\\.venv\\lib\\site-packages (from matplotlib) (2.9.0.post0)\n",
      "Requirement already satisfied: six>=1.5 in c:\\users\\nikhi\\desktop\\github projects\\federated-medembedx\\.venv\\lib\\site-packages (from python-dateutil>=2.7->matplotlib) (1.16.0)\n",
      "Requirement already satisfied: seaborn in c:\\users\\nikhi\\desktop\\github projects\\federated-medembedx\\.venv\\lib\\site-packages (0.13.2)\n",
      "Requirement already satisfied: numpy!=1.24.0,>=1.20 in c:\\users\\nikhi\\desktop\\github projects\\federated-medembedx\\.venv\\lib\\site-packages (from seaborn) (1.26.4)\n",
      "Requirement already satisfied: pandas>=1.2 in c:\\users\\nikhi\\desktop\\github projects\\federated-medembedx\\.venv\\lib\\site-packages (from seaborn) (2.2.3)\n",
      "Requirement already satisfied: matplotlib!=3.6.1,>=3.4 in c:\\users\\nikhi\\desktop\\github projects\\federated-medembedx\\.venv\\lib\\site-packages (from seaborn) (3.9.2)\n",
      "Requirement already satisfied: contourpy>=1.0.1 in c:\\users\\nikhi\\desktop\\github projects\\federated-medembedx\\.venv\\lib\\site-packages (from matplotlib!=3.6.1,>=3.4->seaborn) (1.3.0)\n",
      "Requirement already satisfied: cycler>=0.10 in c:\\users\\nikhi\\desktop\\github projects\\federated-medembedx\\.venv\\lib\\site-packages (from matplotlib!=3.6.1,>=3.4->seaborn) (0.12.1)\n",
      "Requirement already satisfied: fonttools>=4.22.0 in c:\\users\\nikhi\\desktop\\github projects\\federated-medembedx\\.venv\\lib\\site-packages (from matplotlib!=3.6.1,>=3.4->seaborn) (4.54.1)\n",
      "Requirement already satisfied: kiwisolver>=1.3.1 in c:\\users\\nikhi\\desktop\\github projects\\federated-medembedx\\.venv\\lib\\site-packages (from matplotlib!=3.6.1,>=3.4->seaborn) (1.4.7)\n",
      "Requirement already satisfied: packaging>=20.0 in c:\\users\\nikhi\\desktop\\github projects\\federated-medembedx\\.venv\\lib\\site-packages (from matplotlib!=3.6.1,>=3.4->seaborn) (24.1)\n",
      "Requirement already satisfied: pillow>=8 in c:\\users\\nikhi\\desktop\\github projects\\federated-medembedx\\.venv\\lib\\site-packages (from matplotlib!=3.6.1,>=3.4->seaborn) (10.4.0)\n",
      "Requirement already satisfied: pyparsing>=2.3.1 in c:\\users\\nikhi\\desktop\\github projects\\federated-medembedx\\.venv\\lib\\site-packages (from matplotlib!=3.6.1,>=3.4->seaborn) (3.2.0)\n",
      "Requirement already satisfied: python-dateutil>=2.7 in c:\\users\\nikhi\\desktop\\github projects\\federated-medembedx\\.venv\\lib\\site-packages (from matplotlib!=3.6.1,>=3.4->seaborn) (2.9.0.post0)\n",
      "Requirement already satisfied: pytz>=2020.1 in c:\\users\\nikhi\\desktop\\github projects\\federated-medembedx\\.venv\\lib\\site-packages (from pandas>=1.2->seaborn) (2024.2)\n",
      "Requirement already satisfied: tzdata>=2022.7 in c:\\users\\nikhi\\desktop\\github projects\\federated-medembedx\\.venv\\lib\\site-packages (from pandas>=1.2->seaborn) (2024.2)\n",
      "Requirement already satisfied: six>=1.5 in c:\\users\\nikhi\\desktop\\github projects\\federated-medembedx\\.venv\\lib\\site-packages (from python-dateutil>=2.7->matplotlib!=3.6.1,>=3.4->seaborn) (1.16.0)\n",
      "Requirement already satisfied: tf-keras in c:\\users\\nikhi\\desktop\\github projects\\federated-medembedx\\.venv\\lib\\site-packages (2.17.0)\n",
      "Requirement already satisfied: tensorflow<2.18,>=2.17 in c:\\users\\nikhi\\desktop\\github projects\\federated-medembedx\\.venv\\lib\\site-packages (from tf-keras) (2.17.1)\n",
      "Requirement already satisfied: tensorflow-intel==2.17.1 in c:\\users\\nikhi\\desktop\\github projects\\federated-medembedx\\.venv\\lib\\site-packages (from tensorflow<2.18,>=2.17->tf-keras) (2.17.1)\n",
      "Requirement already satisfied: absl-py>=1.0.0 in c:\\users\\nikhi\\desktop\\github projects\\federated-medembedx\\.venv\\lib\\site-packages (from tensorflow-intel==2.17.1->tensorflow<2.18,>=2.17->tf-keras) (2.1.0)\n",
      "Requirement already satisfied: astunparse>=1.6.0 in c:\\users\\nikhi\\desktop\\github projects\\federated-medembedx\\.venv\\lib\\site-packages (from tensorflow-intel==2.17.1->tensorflow<2.18,>=2.17->tf-keras) (1.6.3)\n",
      "Requirement already satisfied: flatbuffers>=24.3.25 in c:\\users\\nikhi\\desktop\\github projects\\federated-medembedx\\.venv\\lib\\site-packages (from tensorflow-intel==2.17.1->tensorflow<2.18,>=2.17->tf-keras) (24.3.25)\n",
      "Requirement already satisfied: gast!=0.5.0,!=0.5.1,!=0.5.2,>=0.2.1 in c:\\users\\nikhi\\desktop\\github projects\\federated-medembedx\\.venv\\lib\\site-packages (from tensorflow-intel==2.17.1->tensorflow<2.18,>=2.17->tf-keras) (0.6.0)\n",
      "Requirement already satisfied: google-pasta>=0.1.1 in c:\\users\\nikhi\\desktop\\github projects\\federated-medembedx\\.venv\\lib\\site-packages (from tensorflow-intel==2.17.1->tensorflow<2.18,>=2.17->tf-keras) (0.2.0)\n",
      "Requirement already satisfied: h5py>=3.10.0 in c:\\users\\nikhi\\desktop\\github projects\\federated-medembedx\\.venv\\lib\\site-packages (from tensorflow-intel==2.17.1->tensorflow<2.18,>=2.17->tf-keras) (3.12.1)\n",
      "Requirement already satisfied: libclang>=13.0.0 in c:\\users\\nikhi\\desktop\\github projects\\federated-medembedx\\.venv\\lib\\site-packages (from tensorflow-intel==2.17.1->tensorflow<2.18,>=2.17->tf-keras) (18.1.1)\n",
      "Requirement already satisfied: ml-dtypes<0.5.0,>=0.3.1 in c:\\users\\nikhi\\desktop\\github projects\\federated-medembedx\\.venv\\lib\\site-packages (from tensorflow-intel==2.17.1->tensorflow<2.18,>=2.17->tf-keras) (0.4.1)\n",
      "Requirement already satisfied: opt-einsum>=2.3.2 in c:\\users\\nikhi\\desktop\\github projects\\federated-medembedx\\.venv\\lib\\site-packages (from tensorflow-intel==2.17.1->tensorflow<2.18,>=2.17->tf-keras) (3.4.0)\n",
      "Requirement already satisfied: packaging in c:\\users\\nikhi\\desktop\\github projects\\federated-medembedx\\.venv\\lib\\site-packages (from tensorflow-intel==2.17.1->tensorflow<2.18,>=2.17->tf-keras) (24.1)\n",
      "Requirement already satisfied: protobuf!=4.21.0,!=4.21.1,!=4.21.2,!=4.21.3,!=4.21.4,!=4.21.5,<5.0.0dev,>=3.20.3 in c:\\users\\nikhi\\desktop\\github projects\\federated-medembedx\\.venv\\lib\\site-packages (from tensorflow-intel==2.17.1->tensorflow<2.18,>=2.17->tf-keras) (4.25.5)\n",
      "Requirement already satisfied: requests<3,>=2.21.0 in c:\\users\\nikhi\\desktop\\github projects\\federated-medembedx\\.venv\\lib\\site-packages (from tensorflow-intel==2.17.1->tensorflow<2.18,>=2.17->tf-keras) (2.32.3)\n",
      "Requirement already satisfied: setuptools in c:\\users\\nikhi\\desktop\\github projects\\federated-medembedx\\.venv\\lib\\site-packages (from tensorflow-intel==2.17.1->tensorflow<2.18,>=2.17->tf-keras) (65.5.0)\n",
      "Requirement already satisfied: six>=1.12.0 in c:\\users\\nikhi\\desktop\\github projects\\federated-medembedx\\.venv\\lib\\site-packages (from tensorflow-intel==2.17.1->tensorflow<2.18,>=2.17->tf-keras) (1.16.0)\n",
      "Requirement already satisfied: termcolor>=1.1.0 in c:\\users\\nikhi\\desktop\\github projects\\federated-medembedx\\.venv\\lib\\site-packages (from tensorflow-intel==2.17.1->tensorflow<2.18,>=2.17->tf-keras) (2.5.0)\n",
      "Requirement already satisfied: typing-extensions>=3.6.6 in c:\\users\\nikhi\\desktop\\github projects\\federated-medembedx\\.venv\\lib\\site-packages (from tensorflow-intel==2.17.1->tensorflow<2.18,>=2.17->tf-keras) (4.12.2)\n",
      "Requirement already satisfied: wrapt>=1.11.0 in c:\\users\\nikhi\\desktop\\github projects\\federated-medembedx\\.venv\\lib\\site-packages (from tensorflow-intel==2.17.1->tensorflow<2.18,>=2.17->tf-keras) (1.16.0)\n",
      "Requirement already satisfied: grpcio<2.0,>=1.24.3 in c:\\users\\nikhi\\desktop\\github projects\\federated-medembedx\\.venv\\lib\\site-packages (from tensorflow-intel==2.17.1->tensorflow<2.18,>=2.17->tf-keras) (1.66.2)\n",
      "Requirement already satisfied: tensorboard<2.18,>=2.17 in c:\\users\\nikhi\\desktop\\github projects\\federated-medembedx\\.venv\\lib\\site-packages (from tensorflow-intel==2.17.1->tensorflow<2.18,>=2.17->tf-keras) (2.17.1)\n",
      "Requirement already satisfied: keras>=3.2.0 in c:\\users\\nikhi\\desktop\\github projects\\federated-medembedx\\.venv\\lib\\site-packages (from tensorflow-intel==2.17.1->tensorflow<2.18,>=2.17->tf-keras) (3.6.0)\n",
      "Requirement already satisfied: tensorflow-io-gcs-filesystem>=0.23.1 in c:\\users\\nikhi\\desktop\\github projects\\federated-medembedx\\.venv\\lib\\site-packages (from tensorflow-intel==2.17.1->tensorflow<2.18,>=2.17->tf-keras) (0.31.0)\n",
      "Requirement already satisfied: numpy<2.0.0,>=1.23.5 in c:\\users\\nikhi\\desktop\\github projects\\federated-medembedx\\.venv\\lib\\site-packages (from tensorflow-intel==2.17.1->tensorflow<2.18,>=2.17->tf-keras) (1.26.4)\n",
      "Requirement already satisfied: wheel<1.0,>=0.23.0 in c:\\users\\nikhi\\desktop\\github projects\\federated-medembedx\\.venv\\lib\\site-packages (from astunparse>=1.6.0->tensorflow-intel==2.17.1->tensorflow<2.18,>=2.17->tf-keras) (0.44.0)\n",
      "Requirement already satisfied: rich in c:\\users\\nikhi\\desktop\\github projects\\federated-medembedx\\.venv\\lib\\site-packages (from keras>=3.2.0->tensorflow-intel==2.17.1->tensorflow<2.18,>=2.17->tf-keras) (13.9.2)\n",
      "Requirement already satisfied: namex in c:\\users\\nikhi\\desktop\\github projects\\federated-medembedx\\.venv\\lib\\site-packages (from keras>=3.2.0->tensorflow-intel==2.17.1->tensorflow<2.18,>=2.17->tf-keras) (0.0.8)\n",
      "Requirement already satisfied: optree in c:\\users\\nikhi\\desktop\\github projects\\federated-medembedx\\.venv\\lib\\site-packages (from keras>=3.2.0->tensorflow-intel==2.17.1->tensorflow<2.18,>=2.17->tf-keras) (0.13.0)\n",
      "Requirement already satisfied: charset-normalizer<4,>=2 in c:\\users\\nikhi\\desktop\\github projects\\federated-medembedx\\.venv\\lib\\site-packages (from requests<3,>=2.21.0->tensorflow-intel==2.17.1->tensorflow<2.18,>=2.17->tf-keras) (3.4.0)\n",
      "Requirement already satisfied: idna<4,>=2.5 in c:\\users\\nikhi\\desktop\\github projects\\federated-medembedx\\.venv\\lib\\site-packages (from requests<3,>=2.21.0->tensorflow-intel==2.17.1->tensorflow<2.18,>=2.17->tf-keras) (3.10)\n",
      "Requirement already satisfied: urllib3<3,>=1.21.1 in c:\\users\\nikhi\\desktop\\github projects\\federated-medembedx\\.venv\\lib\\site-packages (from requests<3,>=2.21.0->tensorflow-intel==2.17.1->tensorflow<2.18,>=2.17->tf-keras) (2.2.3)\n",
      "Requirement already satisfied: certifi>=2017.4.17 in c:\\users\\nikhi\\desktop\\github projects\\federated-medembedx\\.venv\\lib\\site-packages (from requests<3,>=2.21.0->tensorflow-intel==2.17.1->tensorflow<2.18,>=2.17->tf-keras) (2024.8.30)\n",
      "Requirement already satisfied: markdown>=2.6.8 in c:\\users\\nikhi\\desktop\\github projects\\federated-medembedx\\.venv\\lib\\site-packages (from tensorboard<2.18,>=2.17->tensorflow-intel==2.17.1->tensorflow<2.18,>=2.17->tf-keras) (3.7)\n",
      "Requirement already satisfied: tensorboard-data-server<0.8.0,>=0.7.0 in c:\\users\\nikhi\\desktop\\github projects\\federated-medembedx\\.venv\\lib\\site-packages (from tensorboard<2.18,>=2.17->tensorflow-intel==2.17.1->tensorflow<2.18,>=2.17->tf-keras) (0.7.2)\n",
      "Requirement already satisfied: werkzeug>=1.0.1 in c:\\users\\nikhi\\desktop\\github projects\\federated-medembedx\\.venv\\lib\\site-packages (from tensorboard<2.18,>=2.17->tensorflow-intel==2.17.1->tensorflow<2.18,>=2.17->tf-keras) (3.0.4)\n",
      "Requirement already satisfied: MarkupSafe>=2.1.1 in c:\\users\\nikhi\\desktop\\github projects\\federated-medembedx\\.venv\\lib\\site-packages (from werkzeug>=1.0.1->tensorboard<2.18,>=2.17->tensorflow-intel==2.17.1->tensorflow<2.18,>=2.17->tf-keras) (3.0.1)\n",
      "Requirement already satisfied: markdown-it-py>=2.2.0 in c:\\users\\nikhi\\desktop\\github projects\\federated-medembedx\\.venv\\lib\\site-packages (from rich->keras>=3.2.0->tensorflow-intel==2.17.1->tensorflow<2.18,>=2.17->tf-keras) (3.0.0)\n",
      "Requirement already satisfied: pygments<3.0.0,>=2.13.0 in c:\\users\\nikhi\\desktop\\github projects\\federated-medembedx\\.venv\\lib\\site-packages (from rich->keras>=3.2.0->tensorflow-intel==2.17.1->tensorflow<2.18,>=2.17->tf-keras) (2.18.0)\n",
      "Requirement already satisfied: mdurl~=0.1 in c:\\users\\nikhi\\desktop\\github projects\\federated-medembedx\\.venv\\lib\\site-packages (from markdown-it-py>=2.2.0->rich->keras>=3.2.0->tensorflow-intel==2.17.1->tensorflow<2.18,>=2.17->tf-keras) (0.1.2)\n"
     ]
    }
   ],
   "source": [
    "# Install the libraries\n",
    "!pip install sentence_transformers\n",
    "!pip install pandas\n",
    "!pip install numpy\n",
    "!pip install scikit-learn\n",
    "!pip install matplotlib\n",
    "!pip install seaborn\n",
    "!pip install tf-keras"
   ]
  },
  {
   "cell_type": "code",
   "execution_count": 45,
   "metadata": {
    "colab": {
     "base_uri": "https://localhost:8080/"
    },
    "id": "1fxIGnXgHY1_",
    "outputId": "2eb2b7cb-f661-43f4-f525-6f2ee7f54d31"
   },
   "outputs": [],
   "source": [
    "# Import the packages\n",
    "import matplotlib.pyplot as plt\n",
    "import pandas as pd\n",
    "import os\n",
    "import json\n",
    "from sklearn.manifold import TSNE\n",
    "import numpy as np\n",
    "from sklearn.ensemble import RandomForestClassifier\n",
    "from sklearn.metrics import accuracy_score, roc_auc_score, confusion_matrix, recall_score\n",
    "from sklearn.model_selection import cross_validate\n",
    "from sentence_transformers import SentenceTransformer\n",
    "from sklearn.model_selection import train_test_split\n",
    "\n",
    "\n",
    "import tensorflow as tf\n",
    "from tensorflow.keras.models import Sequential\n",
    "from tensorflow.keras.layers import Dense, Dropout\n",
    "from tensorflow.keras.optimizers import Adam\n",
    "from tensorflow.keras.losses import BinaryCrossentropy\n",
    "from tensorflow.keras.metrics import AUC\n",
    "from tensorflow import keras\n",
    "from tensorflow.keras import layers\n"
   ]
  },
  {
   "cell_type": "markdown",
   "metadata": {
    "id": "78g-W3kJsAx-"
   },
   "source": [
    "# Federated Learning with Surgical Aggregation"
   ]
  },
  {
   "cell_type": "markdown",
   "metadata": {},
   "source": [
    "## Setup"
   ]
  },
  {
   "cell_type": "code",
   "execution_count": 46,
   "metadata": {
    "colab": {
     "base_uri": "https://localhost:8080/",
     "height": 528,
     "referenced_widgets": [
      "a30e36f3bf9e4c3e85df561d3f1a81a1",
      "63dc8025965242e09dfb7fffb70c953a",
      "4b8aa7e353f045dd8297de8c688b9d40",
      "0cdbc7260ad346048a87a3f8ba22486e",
      "59f57f5ddfd24b53a4f1621f1a6389bb",
      "280332c72db54753a188f6abf68eaaa9",
      "f7d8f5d7761541ec95481008339f2420",
      "2d46775c61384019ad3479eab413e7a9",
      "25d29337a9544ee98ba83c7e9d75f853",
      "bf354c1bbf524f97a07cd2a6c854e22c",
      "199a73af56a5402e9ad15644a7c72755",
      "874a74254ebc4d71a119f67e137c0551",
      "2fbd5496ad3944fd92a3c28f8d3e31a1",
      "a236061375e947dc9612c24adbe4ff0b",
      "cd89e860240142e28da826f6f49ba240",
      "9c8aa38595dc4b7e8ca640d03cc19694",
      "76496dac60c44c839bb441f2f4ff6f9f",
      "57453cbecc0b4d7ea786935449271c90",
      "6bdcd35840594df4ab40d4c64e660dba",
      "f3384eb9244c4701ac8c1b16772132cf",
      "f412568cd7f741c5a2d4a18416981739",
      "50b11ecfa6ee4d4d8d4fc97a31a4551b",
      "887871630cd944d89907336e3124835e",
      "412ec4ec63d448939556ff9f40e5805b",
      "2d94a369fc234cbc8452df68917e75b6",
      "04ff5f37db7c42f2980f807bc3032586",
      "d357f7f4bd3f4af7af517dd7a725d2f0",
      "a53e2fc70d75494da4d6106f6608875b",
      "77d4965ca1c1401381aca48ec309280e",
      "5e91ad19f8ad463f9cb5a0f9d1e8c294",
      "1cc1e2d9840149c497d7d90b5dbb2d55",
      "74a45523ed954b0abd9e7a05045d2daf",
      "c2058ed868ff4815a9ef7ea89e85f022",
      "6274cc6165234aaba2c930d23350b362",
      "5e61f9e947714e64a29e116c44a124f0",
      "e2c7cbcbf7cd4e0ca1352925b8c7bdea",
      "6b70db174de04c9ba25282525de05387",
      "41be3437b15c4e57a75534d238a829a5",
      "e48c72f5aa414987a2ce9409e9b5ad69",
      "2d273cb8c27347b68a191ee17dc89311",
      "30a058a01b434739adf517283900f1c8",
      "9036a15be46e45799e8e3cc854fa88bb",
      "8cd133cc3bd44a9cb49c7d1b6a4db642",
      "16d38234182b49dda5d3115621aecb39",
      "590a4e7454af492a8910e8fc1940b872",
      "b73272664dfb4605b1d3a85928865304",
      "52067038eb414f5f983281696bcf84b1",
      "3960d078abed4760b043dd20fddcf949",
      "14822fe23d064263bafda0ecaa573e15",
      "879a060bd57146398f7c175704456532",
      "64a3c90a4ba94283bbc717031722190c",
      "658c15a0430b4a788e9874b236cfb86d",
      "701a5fc9c6ac4efebee807273eae66e1",
      "2803d2f51c944e789952f5e4368c6c06",
      "267f0cdfde1f42cfb5a09d0da0c453ea",
      "932c4d4ac22d402fa5f1564437dc5e5b",
      "35750f3fe46e40b99058d14ca7ed800b",
      "f4e20a4a864b4c13adc38f22fccb80a0",
      "3987a825b2584353a2be546f63911a0c",
      "1bc226c51f954bbf98c13d2310940135",
      "fffef1e3409c4e929c21060b07853091",
      "692fbf8b0b7542a39c3978569db3a9f8",
      "b05eb88e352947e295a0ed84710ed5f0",
      "dcbf618d0a85491f8254ead7a0c027f5",
      "4f3486a446af44019511654af1f51312",
      "14cb9e333a89414b9167d21d26760cff",
      "14261702d08a4d019e8ce8ee1f08d4ce",
      "12e62aa39c8a475ebd65aaf5e5e84338",
      "22223361bfd3496ca312f53e3653cfed",
      "224ab887d94a455cb3664d0c7d7ddde2",
      "81ae5aa2028c46248b01d916cce292fa",
      "89c8e756392047b48e155bc153b4f6dd",
      "9ce5c894beb448b1b5935907c38d9138",
      "fbb3251aed0743e1be86088735d2ba33",
      "22617e8f1b384d17b2481d77edb94658",
      "a02025fa486a4cab95eb79496bc3e7ea",
      "89e43961094244889ca5e14889d9f815",
      "86b9a304e58446939dbb1d7a023de81f",
      "87034250c3894eee883cb3ecb9347078",
      "efa59884be0e4fa6bb6ddf4d4885ab52",
      "3f2a6b57c81c4dc99404363b0b0e5632",
      "60bf8b23189b45949746bed8dbb91765",
      "ab01960dd6954af78441736c8669b241",
      "e3f45f680ec84c4eb6ee402b187e38a8",
      "bd7036844925403fb3db2f1985fbf7f8",
      "33c5f2daa3a146e4ad66a753a4969e71",
      "1e89725dd21a4a28a127279a274819d8",
      "0a66bb0689824b83a0230934c12374e3",
      "71f5342382cb4fdf818c03978a4ccccb",
      "fb9ef2497d3b47a297501004b0176cde",
      "b63ec0fd33c448e89cc03e6000abee00",
      "7da0f13278624d2a91348680b4f9e6be",
      "8a82c40aedbc4555a03a8c29981740dd",
      "2377c5a7810c4e86849f2f1889cb0a5e",
      "4a8445cda576479ab8663568b2e58fe0",
      "2153807b370049bd95c515e53f487f72",
      "291e805751f84bb3a29d25c8b7cb3204",
      "10c6a410b1ca4210812a84b8d1bd9984",
      "c2d096efb1db4dde86fd42ff3a4df605",
      "0ea78511c0d54dd1acbd29baaf0cbf58",
      "abdbb22939fd41db9b0a3ee58c7ed13b",
      "c92270c929c24bcb847c6739686a799b",
      "7b87dd0653c14863a8a2af560d5e7c42",
      "fec6c46a94314fff8f5fa6db76c722a2",
      "7a839c9bc6ca43fdbf6d63cfe823af63",
      "59d57ba6032a46d79628065ec01cff0f",
      "e5aa932cda80483d8328d9f942462e9e",
      "e0e136927c3644c6bfb9d611817870c8",
      "b5a63beb6d2b4249871961e1a0a9b937",
      "f94f4f97ce194f77bdd6d4bdfea4edea",
      "332a06b57849496c9a9b73b0cf2b4737",
      "2c7d422cafe04b1cb2112f28fd631194",
      "56762b63b5c74f56bdeb19012c7e509b",
      "fe74971a69824ace86c03a408afe7100",
      "af86bd6b8bef45c99bc6d61af2c4f71f",
      "6b07c11c0b634256be6c9dc37369fbb5",
      "bf34bae971834a2ca8ab1ac10e833986",
      "b4717e6adc3e42648ffbf1e202a852ca",
      "71cef30c369b4878823b8a4db5b44f5b",
      "a0fd105ea5f046c18b8191d1ae5d89bc",
      "2319ac540cdb44eba7715740e1f391b3"
     ]
    },
    "id": "9KitraTVHf1d",
    "outputId": "448a6dff-f056-4f2b-9b40-b1ea1e3bf8b3"
   },
   "outputs": [],
   "source": [
    "# Load the embedding model\n",
    "model = SentenceTransformer(\"all-MiniLM-L6-v2\")"
   ]
  },
  {
   "cell_type": "code",
   "execution_count": 47,
   "metadata": {
    "id": "qaurbTtCGu0q"
   },
   "outputs": [],
   "source": [
    "# Load the datasets and create embeddings\n",
    "file_path = r\"data\\IU-GroundTruth.csv\"\n",
    "report_column = 'REPORT'\n",
    "df = pd.read_csv(file_path)\n",
    "allReports = df[report_column]\n",
    "allEmbeddings = [];\n",
    "\n",
    "for report in allReports:\n",
    "    response = model.encode(report)\n",
    "    allEmbeddings.append(response)\n",
    "\n",
    "label_columns = ['Enlarged Cardiom.','Cardiomegaly','Lung Lesion','Lung Opacity','Edema','Consolidation','Pneumonia','Atelectasis','Pneumothorax','Pleural Effusion','Pleural Other','Fracture','Support Devices']\n",
    "labels = df[label_columns].values\n",
    "\n",
    "allEmbeddings = np.array(allEmbeddings)\n",
    "labels = np.array(labels)"
   ]
  },
  {
   "cell_type": "code",
   "execution_count": 48,
   "metadata": {},
   "outputs": [],
   "source": [
    "# Create train and test sets\n",
    "test_size = 0.2\n",
    "X_train, X_test, y_train, y_test = train_test_split(allEmbeddings, labels, test_size=test_size, random_state=37)"
   ]
  },
  {
   "cell_type": "code",
   "execution_count": 49,
   "metadata": {
    "id": "qNfkcRaZYDEf"
   },
   "outputs": [],
   "source": [
    "# Function to create an MLP classifier\n",
    "def create_mlp_model(input_dim, output_dim):\n",
    "    model = Sequential()\n",
    "\n",
    "    inputs = keras.Input(shape=(input_dim,))\n",
    "    x = layers.Dense(512, activation=\"relu\")(inputs)\n",
    "    x = layers.Dropout(0.2)(x) # optional dropout\n",
    "    x = layers.Dense(256, activation=\"relu\")(x)\n",
    "    x = layers.Dropout(0.2)(x) # optional dropout\n",
    "    outputs = layers.Dense(output_dim, activation=\"sigmoid\")(x)\n",
    "    model = keras.Model(inputs=inputs, outputs=outputs)\n",
    "\n",
    "\n",
    "\n",
    "    # Compile model\n",
    "    model.compile(optimizer=Adam(),\n",
    "                  loss=BinaryCrossentropy(),\n",
    "                  metrics=[AUC(name='auc')])  # Use AUC as a metric\n",
    "\n",
    "    return model"
   ]
  },
  {
   "cell_type": "code",
   "execution_count": 50,
   "metadata": {
    "id": "7orWZVCppQR-"
   },
   "outputs": [],
   "source": [
    "# Surgical Aggregation\n",
    "\n",
    "def surgical_aggregation(nodes, max_label, global_model):\n",
    "\n",
    "  \"\"\"\n",
    "  This function will surgically aggregate the last layer\n",
    "  with the assumption that all the other layers\n",
    "  are part of the representation block.\n",
    "\n",
    "  Args:\n",
    "    nodes: list of nodes with their models and label indices\n",
    "    max_label: maximum number of labels / maximum label indice\n",
    "    global_model: global model to update\n",
    "\n",
    "  \"\"\"\n",
    "\n",
    "  # Extract the models and label indices from each node\n",
    "  models = [node['classifier'] for node in nodes]\n",
    "  labels = [node['label_names'] for node in nodes]\n",
    "\n",
    "  # Identify the common and unique classes across all the models\n",
    "\n",
    "  # Create a global final layer with all the labels\n",
    "  lw = models[0].layers[-1].get_weights() # Get the last layer from one of the models\n",
    "  row_shape = lw[0].shape[0] # Get the shape of the last layer\n",
    "  final_layer_w = np.zeros((lw[0].shape[0],max_label+1)) # Use the last layer's shape to initialize the final layer for the global model\n",
    "  final_layer_b = np.zeros(max_label+1) # Same for the bias\n",
    "\n",
    "  node_count = np.zeros(max_label+1) # Number of contributing to each label\n",
    "\n",
    "\n",
    "\n",
    "  num_layers = len(models[0].layers) # Get the number of layers\n",
    "  for iter,layer in enumerate(models[0].layers): # iteratre through all the layers\n",
    "\n",
    "    if isinstance(layer, tf.keras.layers.Dense): # Check if the layer type is a dense layer\n",
    "\n",
    "      if iter == num_layers-1: # Check if this is the final layer (for surgical aggregation)\n",
    "\n",
    "        # Surgically Aggregate the final layer\n",
    "\n",
    "\n",
    "        node_count = np.zeros(max_label+1) # Initialize an array to count the number of nodes contributing to each label\n",
    "        for iter1,model in enumerate(models): # iterate through all the models\n",
    "          w = (model.layers[iter].get_weights()) # get the weights for the last layer\n",
    "          w_0 = w[0] # get the weight matrix\n",
    "          w_1 = w[1] # get the bias array\n",
    "\n",
    "          for l_iter,l in enumerate(labels[iter1]): #iterate through all the labels in this model\n",
    "\n",
    "            final_layer_w[:,l] += w_0[:,l_iter] # FedAvg on each label this model is contributing to\n",
    "            final_layer_b[l] += w_1[l_iter]\n",
    "            node_count[l] += 1\n",
    "\n",
    "        for l in range(max_label+1):\n",
    "          if node_count[l] > 0: # if this label has atleast one contributor\n",
    "            final_layer_w[:,l] /= node_count[l] # perform fedavg\n",
    "            final_layer_b[l] /= node_count[l] # perform fedavg\n",
    "\n",
    "        for iter1,model in enumerate(models):\n",
    "          fw = final_layer_w[:,labels[iter1]] # reassign the weights to each model\n",
    "          fb = final_layer_b[labels[iter1]]\n",
    "          model.layers[iter].set_weights([fw,fb])\n",
    "        global_model.layers[iter].set_weights([final_layer_w,final_layer_b]) # assign the weights to the global model\n",
    "\n",
    "      else:\n",
    "        # Normal FedAvg for all other layers\n",
    "        d_w = [] # for weights\n",
    "        d_b = [] # for bias\n",
    "        for model in models:\n",
    "          d1 = model.layers[iter].get_weights()\n",
    "          d_w.append(d1[0])\n",
    "          d_b.append(d1[1])\n",
    "\n",
    "        new_w = np.mean(d_w,axis=0)\n",
    "        new_b = np.mean(d_b,axis=0)\n",
    "        new_d = [new_w,new_b]\n",
    "\n",
    "        for model in models:\n",
    "          model.layers[iter].set_weights(new_d)\n",
    "        global_model.layers[iter].set_weights(new_d)\n",
    "\n",
    "  # Reassign the models to nodes\n",
    "  for iter,node in enumerate(nodes):\n",
    "    node['classifier'] = models[iter]\n",
    "\n",
    "  return global_model, nodes"
   ]
  },
  {
   "cell_type": "code",
   "execution_count": 51,
   "metadata": {
    "id": "25u_CTeKIoXo"
   },
   "outputs": [],
   "source": [
    "# Function to create the datasets for FL\n",
    "def create_FL_Datasets(X_train, y_train, n_nodes, labels_shared):\n",
    "\n",
    "\n",
    "  # Initialize the sample and label indices\n",
    "  sample_indices = np.arange(0, X_train.shape[0])\n",
    "  label_indices = np.arange(0, y_train.shape[1])\n",
    "\n",
    "  # Let's shuffle the indices\n",
    "  np.random.shuffle(label_indices)\n",
    "  np.random.shuffle(sample_indices)\n",
    "\n",
    "  # Picking the shared labels\n",
    "  if labels_shared > 0:\n",
    "    shared_labels = label_indices[:labels_shared]\n",
    "    label_indices = label_indices[labels_shared:]\n",
    "  else:\n",
    "    shared_labels = []\n",
    "\n",
    "\n",
    "\n",
    "  # Split the remaining labels into different nodes.\n",
    "  label_indices_per_node = np.array_split(label_indices, n_nodes)\n",
    "\n",
    "\n",
    "  # Split the dataset into different nodes\n",
    "  sample_indices_per_node = np.array_split(sample_indices, n_nodes)\n",
    "\n",
    "  # Let's create the nodes. Each node will store a dictionary of X_train, y_train,\n",
    "  # and label_names\n",
    "  nodes = []\n",
    "  for i in range(n_nodes):\n",
    "    node = {}\n",
    "    node['X_train'] = X_train[sample_indices_per_node[i]]\n",
    "    if len(shared_labels) > 0:\n",
    "      node['y_train'] = y_train[np.ix_(sample_indices_per_node[i],np.concatenate((shared_labels,label_indices_per_node[i])))]\n",
    "      node['label_names'] = np.concatenate((shared_labels,label_indices_per_node[i]))\n",
    "    else:\n",
    "      node['y_train'] = y_train[np.ix_(sample_indices_per_node[i],label_indices_per_node[i])]\n",
    "      node['label_names'] = label_indices_per_node[i]\n",
    "\n",
    "    node['classifier'] = create_mlp_model(node['X_train'].shape[1], node['y_train'].shape[1])\n",
    "    nodes.append(node)\n",
    "\n",
    "  return nodes"
   ]
  },
  {
   "cell_type": "code",
   "execution_count": 52,
   "metadata": {
    "id": "rWqjLQkUMepG"
   },
   "outputs": [],
   "source": [
    "def get_metrics(model, X_test, y_test, labels):\n",
    "    import numpy as np\n",
    "    from sklearn.metrics import accuracy_score, recall_score, roc_auc_score, roc_curve\n",
    "\n",
    "    # Predict probabilities\n",
    "    y_pred_proba = model.predict(X_test)\n",
    "    y_true = y_test.copy()\n",
    "\n",
    "    # Metrics calculation\n",
    "    metrics = {}\n",
    "    for i in range(labels.shape[1]):\n",
    "        # Calculate the ROC curve to find optimal threshold\n",
    "        fpr, tpr, thresholds = roc_curve(y_true[:, i], y_pred_proba[:, i])\n",
    "        # Calculate Youden's J statistic for each threshold\n",
    "        J = tpr - fpr\n",
    "        optimal_idx = np.argmax(J)\n",
    "        optimal_threshold = thresholds[optimal_idx]\n",
    "\n",
    "        # Apply the optimal threshold to get binary predictions\n",
    "        y_pred = (y_pred_proba[:, i] >= optimal_threshold).astype(int)\n",
    "\n",
    "        # Accuracy\n",
    "        accuracy = accuracy_score(y_true[:, i], y_pred)\n",
    "\n",
    "        # Sensitivity (Recall for the positive class)\n",
    "        sensitivity = recall_score(y_true[:, i], y_pred, pos_label=1)\n",
    "\n",
    "        # Specificity: Recall for the negative class (pos_label=0)\n",
    "        specificity = recall_score(y_true[:, i], y_pred, pos_label=0)\n",
    "\n",
    "        # AUC (Area Under the ROC Curve)\n",
    "        auc = roc_auc_score(y_true[:, i], y_pred_proba[:, i])\n",
    "\n",
    "        # Store metrics for this label\n",
    "        metrics[f'Label_{i}'] = {\n",
    "            'Optimal Threshold': optimal_threshold,\n",
    "            'Accuracy': accuracy,\n",
    "            'Sensitivity': sensitivity,\n",
    "            'Specificity': specificity,\n",
    "            'AUC': auc\n",
    "        }\n",
    "\n",
    "    # Overall metrics\n",
    "    metrics['Overall'] = {\n",
    "        'Accuracy': np.mean([m['Accuracy'] for m in metrics.values() if isinstance(m, dict)]),\n",
    "        'Sensitivity': np.mean([m['Sensitivity'] for m in metrics.values() if isinstance(m, dict)]),\n",
    "        'Specificity': np.mean([m['Specificity'] for m in metrics.values() if isinstance(m, dict)]),\n",
    "        'AUC': np.mean([m['AUC'] for m in metrics.values() if isinstance(m, dict)])\n",
    "    }\n",
    "\n",
    "    return metrics\n"
   ]
  },
  {
   "cell_type": "code",
   "execution_count": 53,
   "metadata": {},
   "outputs": [],
   "source": [
    "def old_get_metrics(model, X_test, y_test, labels, threshold=0.5):\n",
    "        # Predict probabilities\n",
    "        y_pred_proba = model.predict(X_test)\n",
    "        \n",
    "        # Apply consistent threshold\n",
    "        y_pred = (y_pred_proba >= threshold).astype(int)\n",
    "        y_true = y_test.copy()\n",
    "\n",
    "        # Metrics calculation\n",
    "        metrics = {}\n",
    "        for i in range(labels.shape[1]):\n",
    "            metrics[f'Label_{i}'] = {\n",
    "                'Accuracy': accuracy_score(y_true[:, i], y_pred[:, i]),\n",
    "                'Sensitivity': recall_score(y_true[:, i], y_pred[:, i], pos_label=1),\n",
    "                'Specificity': recall_score(y_true[:, i], y_pred[:, i], pos_label=0),\n",
    "                'AUC': roc_auc_score(y_true[:, i], y_pred_proba[:, i])\n",
    "            }\n",
    "        \n",
    "        # Overall metrics\n",
    "        metrics['Overall'] = {\n",
    "            'Accuracy': np.mean([m['Accuracy'] for m in metrics.values() if isinstance(m, dict)]),\n",
    "            'Sensitivity': np.mean([m['Sensitivity'] for m in metrics.values() if isinstance(m, dict)]),\n",
    "            'AUC': np.mean([m['AUC'] for m in metrics.values() if isinstance(m, dict)])\n",
    "        }\n",
    "        \n",
    "        return metrics"
   ]
  },
  {
   "cell_type": "markdown",
   "metadata": {
    "id": "lz24rDr6T5zt"
   },
   "source": [
    "# Experiment 1: Varying the number of nodes"
   ]
  },
  {
   "cell_type": "code",
   "execution_count": 54,
   "metadata": {
    "colab": {
     "base_uri": "https://localhost:8080/"
    },
    "id": "hA54drxFqRjH",
    "outputId": "5ce0950a-4b6b-4ca7-a7c1-5f17402ccb49"
   },
   "outputs": [
    {
     "name": "stdout",
     "output_type": "stream",
     "text": [
      "\u001b[1m23/23\u001b[0m \u001b[32m━━━━━━━━━━━━━━━━━━━━\u001b[0m\u001b[37m\u001b[0m \u001b[1m0s\u001b[0m 2ms/step - auc: 0.4379 - loss: 0.6864 \n",
      "2 0\n",
      "2 1\n",
      "2 2\n",
      "2 3\n",
      "2 4\n",
      "2 5\n",
      "2 6\n",
      "2 7\n",
      "2 8\n",
      "2 9\n",
      "2 10\n",
      "2 11\n",
      "2 12\n",
      "2 13\n",
      "2 14\n",
      "2 15\n",
      "2 16\n",
      "2 17\n",
      "2 18\n",
      "2 19\n",
      "\u001b[1m23/23\u001b[0m \u001b[32m━━━━━━━━━━━━━━━━━━━━\u001b[0m\u001b[37m\u001b[0m \u001b[1m0s\u001b[0m 867us/step - auc: 0.9642 - loss: 0.1011\n",
      "\u001b[1m23/23\u001b[0m \u001b[32m━━━━━━━━━━━━━━━━━━━━\u001b[0m\u001b[37m\u001b[0m \u001b[1m0s\u001b[0m 1ms/step \n",
      "performance of the global model after training: AUC= 0.9645223021507263 Loss= 0.10296601802110672\n",
      "\u001b[1m23/23\u001b[0m \u001b[32m━━━━━━━━━━━━━━━━━━━━\u001b[0m\u001b[37m\u001b[0m \u001b[1m0s\u001b[0m 822us/step - auc: 0.4939 - loss: 0.6915\n",
      "3 0\n",
      "3 1\n",
      "3 2\n",
      "3 3\n",
      "3 4\n",
      "3 5\n",
      "3 6\n",
      "3 7\n",
      "3 8\n",
      "3 9\n",
      "3 10\n",
      "3 11\n",
      "3 12\n",
      "3 13\n",
      "3 14\n",
      "3 15\n",
      "3 16\n",
      "3 17\n",
      "3 18\n",
      "3 19\n",
      "\u001b[1m23/23\u001b[0m \u001b[32m━━━━━━━━━━━━━━━━━━━━\u001b[0m\u001b[37m\u001b[0m \u001b[1m0s\u001b[0m 773us/step - auc: 0.9644 - loss: 0.1037\n",
      "\u001b[1m23/23\u001b[0m \u001b[32m━━━━━━━━━━━━━━━━━━━━\u001b[0m\u001b[37m\u001b[0m \u001b[1m0s\u001b[0m 1ms/step \n",
      "performance of the global model after training: AUC= 0.9636107087135315 Loss= 0.10661164671182632\n",
      "\u001b[1m23/23\u001b[0m \u001b[32m━━━━━━━━━━━━━━━━━━━━\u001b[0m\u001b[37m\u001b[0m \u001b[1m0s\u001b[0m 818us/step - auc: 0.4619 - loss: 0.7007\n",
      "4 0\n",
      "4 1\n",
      "4 2\n",
      "4 3\n",
      "4 4\n",
      "4 5\n",
      "4 6\n",
      "4 7\n",
      "4 8\n",
      "4 9\n",
      "4 10\n",
      "4 11\n",
      "4 12\n",
      "4 13\n",
      "4 14\n",
      "4 15\n",
      "4 16\n",
      "4 17\n",
      "4 18\n",
      "4 19\n",
      "\u001b[1m23/23\u001b[0m \u001b[32m━━━━━━━━━━━━━━━━━━━━\u001b[0m\u001b[37m\u001b[0m \u001b[1m0s\u001b[0m 743us/step - auc: 0.9537 - loss: 0.1211\n",
      "\u001b[1m23/23\u001b[0m \u001b[32m━━━━━━━━━━━━━━━━━━━━\u001b[0m\u001b[37m\u001b[0m \u001b[1m0s\u001b[0m 1ms/step \n",
      "performance of the global model after training: AUC= 0.9558477997779846 Loss= 0.1200043186545372\n",
      "\u001b[1m23/23\u001b[0m \u001b[32m━━━━━━━━━━━━━━━━━━━━\u001b[0m\u001b[37m\u001b[0m \u001b[1m0s\u001b[0m 796us/step - auc: 0.4963 - loss: 0.6956\n",
      "5 0\n",
      "5 1\n",
      "5 2\n",
      "5 3\n",
      "5 4\n",
      "5 5\n",
      "5 6\n",
      "5 7\n",
      "5 8\n",
      "5 9\n",
      "5 10\n",
      "5 11\n",
      "5 12\n",
      "5 13\n",
      "5 14\n",
      "5 15\n",
      "5 16\n",
      "5 17\n",
      "5 18\n",
      "5 19\n",
      "\u001b[1m23/23\u001b[0m \u001b[32m━━━━━━━━━━━━━━━━━━━━\u001b[0m\u001b[37m\u001b[0m \u001b[1m0s\u001b[0m 770us/step - auc: 0.9521 - loss: 0.1225\n",
      "\u001b[1m23/23\u001b[0m \u001b[32m━━━━━━━━━━━━━━━━━━━━\u001b[0m\u001b[37m\u001b[0m \u001b[1m0s\u001b[0m 1ms/step \n",
      "performance of the global model after training: AUC= 0.9536846280097961 Loss= 0.12262371927499771\n",
      "\u001b[1m23/23\u001b[0m \u001b[32m━━━━━━━━━━━━━━━━━━━━\u001b[0m\u001b[37m\u001b[0m \u001b[1m0s\u001b[0m 749us/step - auc: 0.5765 - loss: 0.6867\n",
      "6 0\n",
      "6 1\n",
      "6 2\n",
      "6 3\n",
      "6 4\n",
      "6 5\n",
      "6 6\n",
      "6 7\n",
      "6 8\n",
      "6 9\n",
      "6 10\n",
      "6 11\n",
      "6 12\n",
      "6 13\n",
      "6 14\n",
      "6 15\n",
      "6 16\n",
      "6 17\n",
      "6 18\n",
      "6 19\n",
      "\u001b[1m23/23\u001b[0m \u001b[32m━━━━━━━━━━━━━━━━━━━━\u001b[0m\u001b[37m\u001b[0m \u001b[1m0s\u001b[0m 773us/step - auc: 0.9395 - loss: 0.1377\n",
      "\u001b[1m23/23\u001b[0m \u001b[32m━━━━━━━━━━━━━━━━━━━━\u001b[0m\u001b[37m\u001b[0m \u001b[1m0s\u001b[0m 1ms/step \n",
      "performance of the global model after training: AUC= 0.9449873566627502 Loss= 0.13593502342700958\n",
      "\u001b[1m23/23\u001b[0m \u001b[32m━━━━━━━━━━━━━━━━━━━━\u001b[0m\u001b[37m\u001b[0m \u001b[1m0s\u001b[0m 773us/step - auc: 0.5680 - loss: 0.6942\n",
      "7 0\n",
      "7 1\n",
      "7 2\n",
      "7 3\n",
      "7 4\n",
      "7 5\n",
      "7 6\n",
      "7 7\n",
      "7 8\n",
      "7 9\n",
      "7 10\n",
      "7 11\n",
      "7 12\n",
      "7 13\n",
      "7 14\n",
      "7 15\n",
      "7 16\n",
      "7 17\n",
      "7 18\n",
      "7 19\n",
      "\u001b[1m23/23\u001b[0m \u001b[32m━━━━━━━━━━━━━━━━━━━━\u001b[0m\u001b[37m\u001b[0m \u001b[1m0s\u001b[0m 1ms/step - auc: 0.9269 - loss: 0.1475\n",
      "\u001b[1m23/23\u001b[0m \u001b[32m━━━━━━━━━━━━━━━━━━━━\u001b[0m\u001b[37m\u001b[0m \u001b[1m0s\u001b[0m 1ms/step \n",
      "performance of the global model after training: AUC= 0.9327421188354492 Loss= 0.14539097249507904\n",
      "\u001b[1m23/23\u001b[0m \u001b[32m━━━━━━━━━━━━━━━━━━━━\u001b[0m\u001b[37m\u001b[0m \u001b[1m0s\u001b[0m 816us/step - auc: 0.4040 - loss: 0.6963\n",
      "8 0\n",
      "8 1\n",
      "8 2\n",
      "8 3\n",
      "8 4\n",
      "8 5\n",
      "8 6\n",
      "8 7\n",
      "8 8\n",
      "8 9\n",
      "8 10\n",
      "8 11\n",
      "8 12\n",
      "8 13\n",
      "8 14\n",
      "8 15\n",
      "8 16\n",
      "8 17\n",
      "8 18\n",
      "8 19\n",
      "\u001b[1m23/23\u001b[0m \u001b[32m━━━━━━━━━━━━━━━━━━━━\u001b[0m\u001b[37m\u001b[0m \u001b[1m0s\u001b[0m 1ms/step - auc: 0.9156 - loss: 0.1562 \n",
      "\u001b[1m23/23\u001b[0m \u001b[32m━━━━━━━━━━━━━━━━━━━━\u001b[0m\u001b[37m\u001b[0m \u001b[1m0s\u001b[0m 2ms/step \n",
      "performance of the global model after training: AUC= 0.9235774278640747 Loss= 0.1534172147512436\n",
      "\u001b[1m23/23\u001b[0m \u001b[32m━━━━━━━━━━━━━━━━━━━━\u001b[0m\u001b[37m\u001b[0m \u001b[1m0s\u001b[0m 2ms/step - auc: 0.5745 - loss: 0.6871 \n",
      "9 0\n",
      "9 1\n",
      "9 2\n",
      "9 3\n",
      "9 4\n",
      "9 5\n",
      "9 6\n",
      "9 7\n",
      "9 8\n",
      "9 9\n",
      "9 10\n",
      "9 11\n",
      "9 12\n",
      "9 13\n",
      "9 14\n",
      "9 15\n",
      "9 16\n",
      "9 17\n",
      "9 18\n",
      "9 19\n",
      "\u001b[1m23/23\u001b[0m \u001b[32m━━━━━━━━━━━━━━━━━━━━\u001b[0m\u001b[37m\u001b[0m \u001b[1m0s\u001b[0m 2ms/step - auc: 0.9165 - loss: 0.1663 \n",
      "\u001b[1m23/23\u001b[0m \u001b[32m━━━━━━━━━━━━━━━━━━━━\u001b[0m\u001b[37m\u001b[0m \u001b[1m0s\u001b[0m 2ms/step \n",
      "performance of the global model after training: AUC= 0.9185625314712524 Loss= 0.16616040468215942\n",
      "\u001b[1m23/23\u001b[0m \u001b[32m━━━━━━━━━━━━━━━━━━━━\u001b[0m\u001b[37m\u001b[0m \u001b[1m0s\u001b[0m 1ms/step - auc: 0.6691 - loss: 0.6943  \n",
      "10 0\n",
      "10 1\n",
      "10 2\n",
      "10 3\n",
      "10 4\n",
      "10 5\n",
      "10 6\n",
      "10 7\n",
      "10 8\n",
      "10 9\n",
      "10 10\n",
      "10 11\n",
      "10 12\n",
      "10 13\n",
      "10 14\n",
      "10 15\n",
      "10 16\n",
      "10 17\n",
      "10 18\n",
      "10 19\n",
      "\u001b[1m23/23\u001b[0m \u001b[32m━━━━━━━━━━━━━━━━━━━━\u001b[0m\u001b[37m\u001b[0m \u001b[1m0s\u001b[0m 1ms/step - auc: 0.9058 - loss: 0.1767\n",
      "\u001b[1m23/23\u001b[0m \u001b[32m━━━━━━━━━━━━━━━━━━━━\u001b[0m\u001b[37m\u001b[0m \u001b[1m0s\u001b[0m 2ms/step \n",
      "performance of the global model after training: AUC= 0.9066500067710876 Loss= 0.17674145102500916\n"
     ]
    }
   ],
   "source": [
    "# Federated Learning Experiment\n",
    "\n",
    "# Input parameters\n",
    "\n",
    "labels_shared = 0\n",
    "\n",
    "num_epochs = 1\n",
    "num_rounds = 20\n",
    "\n",
    "allGlobalModels = []\n",
    "allPerf = []\n",
    "allLabelNames = []\n",
    "allMetrics = []\n",
    "\n",
    "for n_nodes in range(2, 11):\n",
    "\n",
    "  # Create FL datasets\n",
    "  nodes = create_FL_Datasets(X_train, y_train, n_nodes, labels_shared)\n",
    "\n",
    "  # Initialize the global model\n",
    "  global_model = create_mlp_model(allEmbeddings.shape[1], labels.shape[1])\n",
    "  max_label = labels.shape[1]-1\n",
    "  perf = global_model.evaluate(X_test,y_test)\n",
    "\n",
    "  ### Perform federated learning\n",
    "  # Iteratively train all models for N epochs and merge them using surgical aggregation\n",
    "\n",
    "  for round in range(num_rounds):\n",
    "    for node in nodes:\n",
    "      node['classifier'].fit(node['X_train'], node['y_train'], epochs=num_epochs, verbose=0)\n",
    "\n",
    "    print (n_nodes,round)\n",
    "\n",
    "    # surgical aggregation FL\n",
    "    global_model, nodes = surgical_aggregation(nodes, max_label, global_model)\n",
    "\n",
    "  perf = global_model.evaluate(X_test,y_test)\n",
    "  allGlobalModels.append(global_model)\n",
    "  allPerf.append(perf)\n",
    "  label_names = [node['label_names'] for node in nodes]\n",
    "  allLabelNames.append(label_names)\n",
    "  allMetrics.append(get_metrics(global_model, X_test, y_test, labels))\n",
    "\n",
    "  print(\"performance of the global model after training: AUC=\",perf[1], \"Loss=\", perf[0])"
   ]
  },
  {
   "cell_type": "code",
   "execution_count": 55,
   "metadata": {
    "colab": {
     "base_uri": "https://localhost:8080/"
    },
    "id": "U54KZxzR3ssA",
    "outputId": "db228d35-e4cf-4f4d-bae4-b06cd95351f3"
   },
   "outputs": [
    {
     "name": "stdout",
     "output_type": "stream",
     "text": [
      "\u001b[1m23/23\u001b[0m \u001b[32m━━━━━━━━━━━━━━━━━━━━\u001b[0m\u001b[37m\u001b[0m \u001b[1m0s\u001b[0m 2ms/step - auc: 0.9750 - loss: 0.0899\n",
      "\u001b[1m23/23\u001b[0m \u001b[32m━━━━━━━━━━━━━━━━━━━━\u001b[0m\u001b[37m\u001b[0m \u001b[1m0s\u001b[0m 2ms/step \n"
     ]
    }
   ],
   "source": [
    "# Train and evaluate the base model\n",
    "base_model = create_mlp_model(allEmbeddings.shape[1], labels.shape[1])\n",
    "\n",
    "base_model.fit(X_train, y_train, epochs=20, verbose=0)\n",
    "base_perf = base_model.evaluate(X_test,y_test)\n",
    "base_metrics = get_metrics(base_model, X_test, y_test, labels)"
   ]
  },
  {
   "cell_type": "code",
   "execution_count": 56,
   "metadata": {
    "colab": {
     "base_uri": "https://localhost:8080/",
     "height": 472
    },
    "id": "MvaiwvWb1-EJ",
    "outputId": "b19a946a-570a-4427-8d52-a5aa898857b5"
   },
   "outputs": [
    {
     "data": {
      "image/png": "[encoded data removed]",
      "text/plain": [
       "<Figure size 800x500 with 1 Axes>"
      ]
     },
     "metadata": {},
     "output_type": "display_data"
    }
   ],
   "source": [
    "# Plot AUC vs. number of nodes using seaborn\n",
    "perf_AUC = [x[1] for x in allPerf]\n",
    "n_nodes = range(2,11)\n",
    "plt.figure(figsize=(8, 5))\n",
    "\n",
    "plt.errorbar(\n",
    "    n_nodes,        # x-values\n",
    "    perf_AUC,       # y-values (the means)\n",
    "    yerr=np.std(perf_AUC, axis=0),   # error (standard deviation)\n",
    "    fmt='-o',       # line and marker style\n",
    "    capsize=5,      # adds \"caps\" to the error bars\n",
    "    label='Federated Learning'\n",
    ")\n",
    "\n",
    "# Base model is a constant baseline (no error bars needed):\n",
    "plt.plot(\n",
    "    n_nodes,\n",
    "    [base_perf[1]] * len(n_nodes),\n",
    "    'r--',\n",
    "    label='Base Model'\n",
    ")\n",
    "\n",
    "plt.xlabel('Number of Nodes')\n",
    "plt.ylabel('AUC')\n",
    "plt.title('AUC vs Number of Nodes')\n",
    "plt.ylim(0, 1)\n",
    "plt.xticks(n_nodes)\n",
    "plt.legend()\n",
    "plt.grid(True)\n",
    "plt.show()\n"
   ]
  },
  {
   "cell_type": "code",
   "execution_count": 57,
   "metadata": {
    "colab": {
     "base_uri": "https://localhost:8080/",
     "height": 472
    },
    "id": "xkchnL9m3CPw",
    "outputId": "119193fe-4411-49b0-8136-f6fdcf86f77a"
   },
   "outputs": [
    {
     "data": {
      "image/png": "[encoded data removed]",
      "text/plain": [
       "<Figure size 800x500 with 1 Axes>"
      ]
     },
     "metadata": {},
     "output_type": "display_data"
    }
   ],
   "source": [
    "# Mean Accuracy vs. number of nodes\n",
    "perf_Accuracy = [x['Overall']['Accuracy'] for x in allMetrics]\n",
    "\n",
    "# For the base model\n",
    "base_overall_accuracy = base_metrics['Overall']['Accuracy']\n",
    "\n",
    "plt.figure(figsize=(8, 5))\n",
    "\n",
    "plt.errorbar(\n",
    "    n_nodes,\n",
    "    perf_Accuracy,\n",
    "    yerr=np.std(perf_Accuracy, axis=0),\n",
    "    fmt='-o',\n",
    "    capsize=5,\n",
    "    label='Federated Learning'\n",
    ")\n",
    "\n",
    "plt.plot(\n",
    "    n_nodes,\n",
    "    [base_overall_accuracy] * len(n_nodes),\n",
    "    'r--',\n",
    "    label='Base Model'\n",
    ")\n",
    "\n",
    "plt.xlabel('Number of Nodes')\n",
    "plt.ylabel('Accuracy')\n",
    "plt.title('Accuracy vs Number of Nodes')\n",
    "plt.ylim(0.0, 1.0)\n",
    "plt.xticks(n_nodes)\n",
    "plt.legend()\n",
    "plt.grid(True)\n",
    "plt.show()\n"
   ]
  },
  {
   "cell_type": "markdown",
   "metadata": {},
   "source": [
    "## Storing Metrics"
   ]
  },
  {
   "cell_type": "code",
   "execution_count": 58,
   "metadata": {},
   "outputs": [],
   "source": [
    "experiment_directory = os.path.join('data', 'Experiment 1')\n",
    "\n",
    "os.makedirs(experiment_directory, exist_ok=True)"
   ]
  },
  {
   "cell_type": "code",
   "execution_count": 59,
   "metadata": {},
   "outputs": [],
   "source": [
    "# Convert any NumPy arrays to lists\n",
    "allPerf_serializable = [perf.tolist() if isinstance(perf, np.ndarray) else perf for perf in allPerf]\n",
    "\n",
    "# Save to JSON\n",
    "with open(os.path.join(experiment_directory, 'allPerf.json'), 'w') as f:\n",
    "    json.dump(allPerf_serializable, f)\n"
   ]
  },
  {
   "cell_type": "code",
   "execution_count": 60,
   "metadata": {},
   "outputs": [],
   "source": [
    "# Function to make data JSON serializable\n",
    "def make_serializable(obj):\n",
    "    if isinstance(obj, dict):\n",
    "        return {k: make_serializable(v) for k, v in obj.items()}\n",
    "    elif isinstance(obj, list):\n",
    "        return [make_serializable(v) for v in obj]\n",
    "    elif isinstance(obj, np.ndarray):\n",
    "        return obj.tolist()\n",
    "    elif isinstance(obj, (np.float32, np.float64, np.int32, np.int64)):\n",
    "        return obj.item()  # Convert NumPy scalars to native Python types\n",
    "    else:\n",
    "        return obj\n",
    "\n",
    "# Convert allMetrics to a serializable format\n",
    "allMetrics_serializable = make_serializable(allMetrics)\n",
    "\n",
    "# Save to JSON\n",
    "with open(os.path.join(experiment_directory, 'allMetrics.json'), 'w') as f:\n",
    "    json.dump(allMetrics_serializable, f)\n"
   ]
  },
  {
   "cell_type": "code",
   "execution_count": 61,
   "metadata": {},
   "outputs": [],
   "source": [
    "# Convert NumPy array to list if necessary\n",
    "base_perf_serializable = base_perf.tolist() if isinstance(base_perf, np.ndarray) else base_perf\n",
    "\n",
    "# Save to JSON\n",
    "with open(os.path.join(experiment_directory, 'base_perf.json'), 'w') as f:\n",
    "    json.dump(base_perf_serializable, f)\n"
   ]
  },
  {
   "cell_type": "code",
   "execution_count": 62,
   "metadata": {},
   "outputs": [],
   "source": [
    "# Convert base_metrics to a serializable format\n",
    "base_metrics_serializable = make_serializable(base_metrics)\n",
    "\n",
    "# Save to JSON\n",
    "with open(os.path.join(experiment_directory, 'base_metrics.json'), 'w') as f:\n",
    "    json.dump(base_metrics_serializable, f)\n"
   ]
  },
  {
   "cell_type": "markdown",
   "metadata": {},
   "source": [
    "## Storing Models"
   ]
  },
  {
   "cell_type": "code",
   "execution_count": 63,
   "metadata": {},
   "outputs": [],
   "source": [
    "models_directory = os.path.join(experiment_directory, 'models')\n",
    "os.makedirs(models_directory, exist_ok=True)"
   ]
  },
  {
   "cell_type": "code",
   "execution_count": 64,
   "metadata": {},
   "outputs": [],
   "source": [
    "# Save each global model's architecture and weights\n",
    "for idx, model in enumerate(allGlobalModels):\n",
    "    # Save model architecture to JSON\n",
    "    model_json = model.to_json()\n",
    "    with open(os.path.join(models_directory, f'allGlobalModels_model_{idx}.json'), 'w') as json_file:\n",
    "        json_file.write(model_json)\n",
    "    # Save model weights to HDF5\n",
    "    model.save_weights(os.path.join(models_directory, f'allGlobalModels_{idx}.weights.h5'))\n"
   ]
  },
  {
   "cell_type": "code",
   "execution_count": 65,
   "metadata": {},
   "outputs": [],
   "source": [
    "# Save base model architecture to JSON\n",
    "base_model_json = base_model.to_json()\n",
    "with open(os.path.join(models_directory, 'base_model.json'), 'w') as json_file:\n",
    "    json_file.write(base_model_json)\n",
    "\n",
    "# Save base model weights to HDF5\n",
    "base_model.save_weights(os.path.join(models_directory, 'base_model.weights.h5'))\n"
   ]
  },
  {
   "cell_type": "markdown",
   "metadata": {},
   "source": [
    "# Experiment 2"
   ]
  },
  {
   "cell_type": "code",
   "execution_count": 66,
   "metadata": {},
   "outputs": [],
   "source": [
    "import os\n",
    "import numpy as np\n",
    "import seaborn as sns\n",
    "import matplotlib.pyplot as plt\n",
    "import pickle\n",
    "from sklearn.model_selection import train_test_split"
   ]
  },
  {
   "cell_type": "markdown",
   "metadata": {},
   "source": [
    "## Running Model"
   ]
  },
  {
   "cell_type": "code",
   "execution_count": 68,
   "metadata": {},
   "outputs": [],
   "source": [
    "def make_serializable(obj):\n",
    "    if isinstance(obj, dict):\n",
    "        return {k: make_serializable(v) for k, v in obj.items()}\n",
    "    elif isinstance(obj, list):\n",
    "        return [make_serializable(v) for v in obj]\n",
    "    elif isinstance(obj, np.ndarray):\n",
    "        return obj.tolist()\n",
    "    elif isinstance(obj, np.integer):\n",
    "        return int(obj)\n",
    "    elif isinstance(obj, np.floating):\n",
    "        return float(obj)\n",
    "    else:\n",
    "        return obj\n"
   ]
  },
  {
   "cell_type": "code",
   "execution_count": 70,
   "metadata": {},
   "outputs": [
    {
     "name": "stdout",
     "output_type": "stream",
     "text": [
      "Running iteration 1...\n",
      "\u001b[1m23/23\u001b[0m \u001b[32m━━━━━━━━━━━━━━━━━━━━\u001b[0m\u001b[37m\u001b[0m \u001b[1m0s\u001b[0m 2ms/step\n",
      "\u001b[1m23/23\u001b[0m \u001b[32m━━━━━━━━━━━━━━━━━━━━\u001b[0m\u001b[37m\u001b[0m \u001b[1m0s\u001b[0m 2ms/step\n",
      "\u001b[1m23/23\u001b[0m \u001b[32m━━━━━━━━━━━━━━━━━━━━\u001b[0m\u001b[37m\u001b[0m \u001b[1m0s\u001b[0m 3ms/step\n",
      "\u001b[1m23/23\u001b[0m \u001b[32m━━━━━━━━━━━━━━━━━━━━\u001b[0m\u001b[37m\u001b[0m \u001b[1m0s\u001b[0m 2ms/step\n",
      "\u001b[1m23/23\u001b[0m \u001b[32m━━━━━━━━━━━━━━━━━━━━\u001b[0m\u001b[37m\u001b[0m \u001b[1m0s\u001b[0m 2ms/step \n",
      "\u001b[1m23/23\u001b[0m \u001b[32m━━━━━━━━━━━━━━━━━━━━\u001b[0m\u001b[37m\u001b[0m \u001b[1m0s\u001b[0m 3ms/step\n",
      "\u001b[1m23/23\u001b[0m \u001b[32m━━━━━━━━━━━━━━━━━━━━\u001b[0m\u001b[37m\u001b[0m \u001b[1m0s\u001b[0m 3ms/step\n",
      "\u001b[1m23/23\u001b[0m \u001b[32m━━━━━━━━━━━━━━━━━━━━\u001b[0m\u001b[37m\u001b[0m \u001b[1m0s\u001b[0m 3ms/step\n",
      "\u001b[1m23/23\u001b[0m \u001b[32m━━━━━━━━━━━━━━━━━━━━\u001b[0m\u001b[37m\u001b[0m \u001b[1m0s\u001b[0m 2ms/step\n",
      "Running iteration 2...\n",
      "\u001b[1m23/23\u001b[0m \u001b[32m━━━━━━━━━━━━━━━━━━━━\u001b[0m\u001b[37m\u001b[0m \u001b[1m0s\u001b[0m 2ms/step\n",
      "\u001b[1m23/23\u001b[0m \u001b[32m━━━━━━━━━━━━━━━━━━━━\u001b[0m\u001b[37m\u001b[0m \u001b[1m0s\u001b[0m 3ms/step\n",
      "\u001b[1m23/23\u001b[0m \u001b[32m━━━━━━━━━━━━━━━━━━━━\u001b[0m\u001b[37m\u001b[0m \u001b[1m0s\u001b[0m 2ms/step\n",
      "\u001b[1m23/23\u001b[0m \u001b[32m━━━━━━━━━━━━━━━━━━━━\u001b[0m\u001b[37m\u001b[0m \u001b[1m0s\u001b[0m 2ms/step\n",
      "\u001b[1m23/23\u001b[0m \u001b[32m━━━━━━━━━━━━━━━━━━━━\u001b[0m\u001b[37m\u001b[0m \u001b[1m0s\u001b[0m 2ms/step\n",
      "\u001b[1m23/23\u001b[0m \u001b[32m━━━━━━━━━━━━━━━━━━━━\u001b[0m\u001b[37m\u001b[0m \u001b[1m0s\u001b[0m 3ms/step\n",
      "\u001b[1m23/23\u001b[0m \u001b[32m━━━━━━━━━━━━━━━━━━━━\u001b[0m\u001b[37m\u001b[0m \u001b[1m0s\u001b[0m 3ms/step\n",
      "\u001b[1m23/23\u001b[0m \u001b[32m━━━━━━━━━━━━━━━━━━━━\u001b[0m\u001b[37m\u001b[0m \u001b[1m0s\u001b[0m 2ms/step\n",
      "\u001b[1m23/23\u001b[0m \u001b[32m━━━━━━━━━━━━━━━━━━━━\u001b[0m\u001b[37m\u001b[0m \u001b[1m0s\u001b[0m 2ms/step\n",
      "Running iteration 3...\n",
      "\u001b[1m23/23\u001b[0m \u001b[32m━━━━━━━━━━━━━━━━━━━━\u001b[0m\u001b[37m\u001b[0m \u001b[1m0s\u001b[0m 3ms/step\n",
      "\u001b[1m23/23\u001b[0m \u001b[32m━━━━━━━━━━━━━━━━━━━━\u001b[0m\u001b[37m\u001b[0m \u001b[1m0s\u001b[0m 3ms/step\n",
      "\u001b[1m23/23\u001b[0m \u001b[32m━━━━━━━━━━━━━━━━━━━━\u001b[0m\u001b[37m\u001b[0m \u001b[1m0s\u001b[0m 4ms/step\n",
      "\u001b[1m23/23\u001b[0m \u001b[32m━━━━━━━━━━━━━━━━━━━━\u001b[0m\u001b[37m\u001b[0m \u001b[1m0s\u001b[0m 2ms/step\n",
      "\u001b[1m23/23\u001b[0m \u001b[32m━━━━━━━━━━━━━━━━━━━━\u001b[0m\u001b[37m\u001b[0m \u001b[1m0s\u001b[0m 2ms/step\n",
      "\u001b[1m23/23\u001b[0m \u001b[32m━━━━━━━━━━━━━━━━━━━━\u001b[0m\u001b[37m\u001b[0m \u001b[1m0s\u001b[0m 3ms/step\n",
      "\u001b[1m23/23\u001b[0m \u001b[32m━━━━━━━━━━━━━━━━━━━━\u001b[0m\u001b[37m\u001b[0m \u001b[1m0s\u001b[0m 2ms/step\n",
      "\u001b[1m23/23\u001b[0m \u001b[32m━━━━━━━━━━━━━━━━━━━━\u001b[0m\u001b[37m\u001b[0m \u001b[1m0s\u001b[0m 3ms/step\n",
      "\u001b[1m23/23\u001b[0m \u001b[32m━━━━━━━━━━━━━━━━━━━━\u001b[0m\u001b[37m\u001b[0m \u001b[1m0s\u001b[0m 2ms/step\n",
      "Running iteration 4...\n",
      "\u001b[1m23/23\u001b[0m \u001b[32m━━━━━━━━━━━━━━━━━━━━\u001b[0m\u001b[37m\u001b[0m \u001b[1m0s\u001b[0m 2ms/step\n",
      "\u001b[1m23/23\u001b[0m \u001b[32m━━━━━━━━━━━━━━━━━━━━\u001b[0m\u001b[37m\u001b[0m \u001b[1m0s\u001b[0m 2ms/step\n",
      "\u001b[1m23/23\u001b[0m \u001b[32m━━━━━━━━━━━━━━━━━━━━\u001b[0m\u001b[37m\u001b[0m \u001b[1m0s\u001b[0m 3ms/step\n",
      "\u001b[1m23/23\u001b[0m \u001b[32m━━━━━━━━━━━━━━━━━━━━\u001b[0m\u001b[37m\u001b[0m \u001b[1m0s\u001b[0m 3ms/step\n",
      "\u001b[1m23/23\u001b[0m \u001b[32m━━━━━━━━━━━━━━━━━━━━\u001b[0m\u001b[37m\u001b[0m \u001b[1m0s\u001b[0m 3ms/step\n",
      "\u001b[1m23/23\u001b[0m \u001b[32m━━━━━━━━━━━━━━━━━━━━\u001b[0m\u001b[37m\u001b[0m \u001b[1m0s\u001b[0m 3ms/step\n",
      "\u001b[1m23/23\u001b[0m \u001b[32m━━━━━━━━━━━━━━━━━━━━\u001b[0m\u001b[37m\u001b[0m \u001b[1m0s\u001b[0m 3ms/step\n",
      "\u001b[1m23/23\u001b[0m \u001b[32m━━━━━━━━━━━━━━━━━━━━\u001b[0m\u001b[37m\u001b[0m \u001b[1m0s\u001b[0m 2ms/step\n",
      "\u001b[1m23/23\u001b[0m \u001b[32m━━━━━━━━━━━━━━━━━━━━\u001b[0m\u001b[37m\u001b[0m \u001b[1m0s\u001b[0m 3ms/step\n",
      "Running iteration 5...\n",
      "\u001b[1m23/23\u001b[0m \u001b[32m━━━━━━━━━━━━━━━━━━━━\u001b[0m\u001b[37m\u001b[0m \u001b[1m0s\u001b[0m 2ms/step\n",
      "\u001b[1m23/23\u001b[0m \u001b[32m━━━━━━━━━━━━━━━━━━━━\u001b[0m\u001b[37m\u001b[0m \u001b[1m0s\u001b[0m 3ms/step\n",
      "\u001b[1m23/23\u001b[0m \u001b[32m━━━━━━━━━━━━━━━━━━━━\u001b[0m\u001b[37m\u001b[0m \u001b[1m0s\u001b[0m 3ms/step\n",
      "\u001b[1m23/23\u001b[0m \u001b[32m━━━━━━━━━━━━━━━━━━━━\u001b[0m\u001b[37m\u001b[0m \u001b[1m0s\u001b[0m 2ms/step\n",
      "\u001b[1m23/23\u001b[0m \u001b[32m━━━━━━━━━━━━━━━━━━━━\u001b[0m\u001b[37m\u001b[0m \u001b[1m0s\u001b[0m 3ms/step\n",
      "\u001b[1m23/23\u001b[0m \u001b[32m━━━━━━━━━━━━━━━━━━━━\u001b[0m\u001b[37m\u001b[0m \u001b[1m0s\u001b[0m 2ms/step\n",
      "\u001b[1m23/23\u001b[0m \u001b[32m━━━━━━━━━━━━━━━━━━━━\u001b[0m\u001b[37m\u001b[0m \u001b[1m0s\u001b[0m 3ms/step\n",
      "\u001b[1m23/23\u001b[0m \u001b[32m━━━━━━━━━━━━━━━━━━━━\u001b[0m\u001b[37m\u001b[0m \u001b[1m0s\u001b[0m 2ms/step\n",
      "\u001b[1m23/23\u001b[0m \u001b[32m━━━━━━━━━━━━━━━━━━━━\u001b[0m\u001b[37m\u001b[0m \u001b[1m0s\u001b[0m 3ms/step\n",
      "Running iteration 6...\n",
      "\u001b[1m23/23\u001b[0m \u001b[32m━━━━━━━━━━━━━━━━━━━━\u001b[0m\u001b[37m\u001b[0m \u001b[1m0s\u001b[0m 3ms/step\n",
      "\u001b[1m23/23\u001b[0m \u001b[32m━━━━━━━━━━━━━━━━━━━━\u001b[0m\u001b[37m\u001b[0m \u001b[1m0s\u001b[0m 3ms/step\n",
      "\u001b[1m23/23\u001b[0m \u001b[32m━━━━━━━━━━━━━━━━━━━━\u001b[0m\u001b[37m\u001b[0m \u001b[1m0s\u001b[0m 3ms/step\n",
      "\u001b[1m23/23\u001b[0m \u001b[32m━━━━━━━━━━━━━━━━━━━━\u001b[0m\u001b[37m\u001b[0m \u001b[1m0s\u001b[0m 2ms/step\n",
      "\u001b[1m23/23\u001b[0m \u001b[32m━━━━━━━━━━━━━━━━━━━━\u001b[0m\u001b[37m\u001b[0m \u001b[1m0s\u001b[0m 3ms/step\n",
      "\u001b[1m23/23\u001b[0m \u001b[32m━━━━━━━━━━━━━━━━━━━━\u001b[0m\u001b[37m\u001b[0m \u001b[1m0s\u001b[0m 3ms/step\n",
      "\u001b[1m23/23\u001b[0m \u001b[32m━━━━━━━━━━━━━━━━━━━━\u001b[0m\u001b[37m\u001b[0m \u001b[1m0s\u001b[0m 3ms/step\n",
      "\u001b[1m23/23\u001b[0m \u001b[32m━━━━━━━━━━━━━━━━━━━━\u001b[0m\u001b[37m\u001b[0m \u001b[1m0s\u001b[0m 3ms/step\n",
      "\u001b[1m23/23\u001b[0m \u001b[32m━━━━━━━━━━━━━━━━━━━━\u001b[0m\u001b[37m\u001b[0m \u001b[1m0s\u001b[0m 2ms/step\n",
      "Running iteration 7...\n",
      "\u001b[1m23/23\u001b[0m \u001b[32m━━━━━━━━━━━━━━━━━━━━\u001b[0m\u001b[37m\u001b[0m \u001b[1m0s\u001b[0m 3ms/step\n",
      "\u001b[1m23/23\u001b[0m \u001b[32m━━━━━━━━━━━━━━━━━━━━\u001b[0m\u001b[37m\u001b[0m \u001b[1m0s\u001b[0m 2ms/step\n",
      "\u001b[1m23/23\u001b[0m \u001b[32m━━━━━━━━━━━━━━━━━━━━\u001b[0m\u001b[37m\u001b[0m \u001b[1m0s\u001b[0m 2ms/step\n",
      "\u001b[1m23/23\u001b[0m \u001b[32m━━━━━━━━━━━━━━━━━━━━\u001b[0m\u001b[37m\u001b[0m \u001b[1m0s\u001b[0m 3ms/step\n",
      "\u001b[1m23/23\u001b[0m \u001b[32m━━━━━━━━━━━━━━━━━━━━\u001b[0m\u001b[37m\u001b[0m \u001b[1m0s\u001b[0m 4ms/step\n",
      "\u001b[1m23/23\u001b[0m \u001b[32m━━━━━━━━━━━━━━━━━━━━\u001b[0m\u001b[37m\u001b[0m \u001b[1m0s\u001b[0m 3ms/step\n",
      "\u001b[1m23/23\u001b[0m \u001b[32m━━━━━━━━━━━━━━━━━━━━\u001b[0m\u001b[37m\u001b[0m \u001b[1m0s\u001b[0m 2ms/step\n",
      "\u001b[1m23/23\u001b[0m \u001b[32m━━━━━━━━━━━━━━━━━━━━\u001b[0m\u001b[37m\u001b[0m \u001b[1m0s\u001b[0m 2ms/step\n",
      "\u001b[1m23/23\u001b[0m \u001b[32m━━━━━━━━━━━━━━━━━━━━\u001b[0m\u001b[37m\u001b[0m \u001b[1m0s\u001b[0m 3ms/step\n",
      "Running iteration 8...\n",
      "\u001b[1m23/23\u001b[0m \u001b[32m━━━━━━━━━━━━━━━━━━━━\u001b[0m\u001b[37m\u001b[0m \u001b[1m0s\u001b[0m 2ms/step\n",
      "\u001b[1m23/23\u001b[0m \u001b[32m━━━━━━━━━━━━━━━━━━━━\u001b[0m\u001b[37m\u001b[0m \u001b[1m0s\u001b[0m 2ms/step\n",
      "\u001b[1m23/23\u001b[0m \u001b[32m━━━━━━━━━━━━━━━━━━━━\u001b[0m\u001b[37m\u001b[0m \u001b[1m0s\u001b[0m 3ms/step\n",
      "\u001b[1m23/23\u001b[0m \u001b[32m━━━━━━━━━━━━━━━━━━━━\u001b[0m\u001b[37m\u001b[0m \u001b[1m0s\u001b[0m 3ms/step\n",
      "\u001b[1m23/23\u001b[0m \u001b[32m━━━━━━━━━━━━━━━━━━━━\u001b[0m\u001b[37m\u001b[0m \u001b[1m0s\u001b[0m 3ms/step\n",
      "\u001b[1m23/23\u001b[0m \u001b[32m━━━━━━━━━━━━━━━━━━━━\u001b[0m\u001b[37m\u001b[0m \u001b[1m0s\u001b[0m 3ms/step\n",
      "\u001b[1m23/23\u001b[0m \u001b[32m━━━━━━━━━━━━━━━━━━━━\u001b[0m\u001b[37m\u001b[0m \u001b[1m0s\u001b[0m 3ms/step\n",
      "\u001b[1m23/23\u001b[0m \u001b[32m━━━━━━━━━━━━━━━━━━━━\u001b[0m\u001b[37m\u001b[0m \u001b[1m0s\u001b[0m 3ms/step\n",
      "\u001b[1m23/23\u001b[0m \u001b[32m━━━━━━━━━━━━━━━━━━━━\u001b[0m\u001b[37m\u001b[0m \u001b[1m0s\u001b[0m 2ms/step\n",
      "Running iteration 9...\n",
      "\u001b[1m23/23\u001b[0m \u001b[32m━━━━━━━━━━━━━━━━━━━━\u001b[0m\u001b[37m\u001b[0m \u001b[1m0s\u001b[0m 3ms/step\n",
      "\u001b[1m23/23\u001b[0m \u001b[32m━━━━━━━━━━━━━━━━━━━━\u001b[0m\u001b[37m\u001b[0m \u001b[1m0s\u001b[0m 2ms/step\n",
      "\u001b[1m23/23\u001b[0m \u001b[32m━━━━━━━━━━━━━━━━━━━━\u001b[0m\u001b[37m\u001b[0m \u001b[1m0s\u001b[0m 3ms/step\n",
      "\u001b[1m23/23\u001b[0m \u001b[32m━━━━━━━━━━━━━━━━━━━━\u001b[0m\u001b[37m\u001b[0m \u001b[1m0s\u001b[0m 3ms/step\n",
      "\u001b[1m23/23\u001b[0m \u001b[32m━━━━━━━━━━━━━━━━━━━━\u001b[0m\u001b[37m\u001b[0m \u001b[1m0s\u001b[0m 3ms/step\n",
      "\u001b[1m23/23\u001b[0m \u001b[32m━━━━━━━━━━━━━━━━━━━━\u001b[0m\u001b[37m\u001b[0m \u001b[1m0s\u001b[0m 3ms/step\n",
      "\u001b[1m23/23\u001b[0m \u001b[32m━━━━━━━━━━━━━━━━━━━━\u001b[0m\u001b[37m\u001b[0m \u001b[1m0s\u001b[0m 3ms/step\n",
      "\u001b[1m23/23\u001b[0m \u001b[32m━━━━━━━━━━━━━━━━━━━━\u001b[0m\u001b[37m\u001b[0m \u001b[1m0s\u001b[0m 4ms/step\n",
      "\u001b[1m23/23\u001b[0m \u001b[32m━━━━━━━━━━━━━━━━━━━━\u001b[0m\u001b[37m\u001b[0m \u001b[1m0s\u001b[0m 3ms/step\n",
      "Running iteration 10...\n",
      "\u001b[1m23/23\u001b[0m \u001b[32m━━━━━━━━━━━━━━━━━━━━\u001b[0m\u001b[37m\u001b[0m \u001b[1m0s\u001b[0m 3ms/step\n",
      "\u001b[1m23/23\u001b[0m \u001b[32m━━━━━━━━━━━━━━━━━━━━\u001b[0m\u001b[37m\u001b[0m \u001b[1m0s\u001b[0m 2ms/step\n",
      "\u001b[1m23/23\u001b[0m \u001b[32m━━━━━━━━━━━━━━━━━━━━\u001b[0m\u001b[37m\u001b[0m \u001b[1m0s\u001b[0m 3ms/step\n",
      "\u001b[1m23/23\u001b[0m \u001b[32m━━━━━━━━━━━━━━━━━━━━\u001b[0m\u001b[37m\u001b[0m \u001b[1m0s\u001b[0m 2ms/step\n",
      "\u001b[1m23/23\u001b[0m \u001b[32m━━━━━━━━━━━━━━━━━━━━\u001b[0m\u001b[37m\u001b[0m \u001b[1m0s\u001b[0m 3ms/step\n",
      "\u001b[1m23/23\u001b[0m \u001b[32m━━━━━━━━━━━━━━━━━━━━\u001b[0m\u001b[37m\u001b[0m \u001b[1m0s\u001b[0m 3ms/step\n",
      "\u001b[1m23/23\u001b[0m \u001b[32m━━━━━━━━━━━━━━━━━━━━\u001b[0m\u001b[37m\u001b[0m \u001b[1m0s\u001b[0m 3ms/step\n",
      "\u001b[1m23/23\u001b[0m \u001b[32m━━━━━━━━━━━━━━━━━━━━\u001b[0m\u001b[37m\u001b[0m \u001b[1m0s\u001b[0m 3ms/step\n",
      "\u001b[1m23/23\u001b[0m \u001b[32m━━━━━━━━━━━━━━━━━━━━\u001b[0m\u001b[37m\u001b[0m \u001b[1m0s\u001b[0m 3ms/step\n",
      "Running iteration 11...\n",
      "\u001b[1m23/23\u001b[0m \u001b[32m━━━━━━━━━━━━━━━━━━━━\u001b[0m\u001b[37m\u001b[0m \u001b[1m0s\u001b[0m 3ms/step\n",
      "\u001b[1m23/23\u001b[0m \u001b[32m━━━━━━━━━━━━━━━━━━━━\u001b[0m\u001b[37m\u001b[0m \u001b[1m0s\u001b[0m 3ms/step\n",
      "\u001b[1m23/23\u001b[0m \u001b[32m━━━━━━━━━━━━━━━━━━━━\u001b[0m\u001b[37m\u001b[0m \u001b[1m0s\u001b[0m 3ms/step\n",
      "\u001b[1m23/23\u001b[0m \u001b[32m━━━━━━━━━━━━━━━━━━━━\u001b[0m\u001b[37m\u001b[0m \u001b[1m0s\u001b[0m 3ms/step\n",
      "\u001b[1m23/23\u001b[0m \u001b[32m━━━━━━━━━━━━━━━━━━━━\u001b[0m\u001b[37m\u001b[0m \u001b[1m0s\u001b[0m 2ms/step\n",
      "\u001b[1m23/23\u001b[0m \u001b[32m━━━━━━━━━━━━━━━━━━━━\u001b[0m\u001b[37m\u001b[0m \u001b[1m0s\u001b[0m 3ms/step\n",
      "\u001b[1m23/23\u001b[0m \u001b[32m━━━━━━━━━━━━━━━━━━━━\u001b[0m\u001b[37m\u001b[0m \u001b[1m0s\u001b[0m 2ms/step\n",
      "\u001b[1m23/23\u001b[0m \u001b[32m━━━━━━━━━━━━━━━━━━━━\u001b[0m\u001b[37m\u001b[0m \u001b[1m0s\u001b[0m 2ms/step\n",
      "\u001b[1m23/23\u001b[0m \u001b[32m━━━━━━━━━━━━━━━━━━━━\u001b[0m\u001b[37m\u001b[0m \u001b[1m0s\u001b[0m 2ms/step\n",
      "Running iteration 12...\n",
      "\u001b[1m23/23\u001b[0m \u001b[32m━━━━━━━━━━━━━━━━━━━━\u001b[0m\u001b[37m\u001b[0m \u001b[1m0s\u001b[0m 2ms/step\n",
      "\u001b[1m23/23\u001b[0m \u001b[32m━━━━━━━━━━━━━━━━━━━━\u001b[0m\u001b[37m\u001b[0m \u001b[1m0s\u001b[0m 3ms/step\n",
      "\u001b[1m23/23\u001b[0m \u001b[32m━━━━━━━━━━━━━━━━━━━━\u001b[0m\u001b[37m\u001b[0m \u001b[1m0s\u001b[0m 2ms/step\n",
      "\u001b[1m23/23\u001b[0m \u001b[32m━━━━━━━━━━━━━━━━━━━━\u001b[0m\u001b[37m\u001b[0m \u001b[1m0s\u001b[0m 3ms/step\n",
      "\u001b[1m23/23\u001b[0m \u001b[32m━━━━━━━━━━━━━━━━━━━━\u001b[0m\u001b[37m\u001b[0m \u001b[1m0s\u001b[0m 2ms/step\n",
      "\u001b[1m23/23\u001b[0m \u001b[32m━━━━━━━━━━━━━━━━━━━━\u001b[0m\u001b[37m\u001b[0m \u001b[1m0s\u001b[0m 2ms/step\n",
      "\u001b[1m23/23\u001b[0m \u001b[32m━━━━━━━━━━━━━━━━━━━━\u001b[0m\u001b[37m\u001b[0m \u001b[1m0s\u001b[0m 3ms/step\n",
      "\u001b[1m23/23\u001b[0m \u001b[32m━━━━━━━━━━━━━━━━━━━━\u001b[0m\u001b[37m\u001b[0m \u001b[1m0s\u001b[0m 2ms/step\n",
      "\u001b[1m23/23\u001b[0m \u001b[32m━━━━━━━━━━━━━━━━━━━━\u001b[0m\u001b[37m\u001b[0m \u001b[1m0s\u001b[0m 2ms/step\n",
      "Running iteration 13...\n",
      "\u001b[1m23/23\u001b[0m \u001b[32m━━━━━━━━━━━━━━━━━━━━\u001b[0m\u001b[37m\u001b[0m \u001b[1m0s\u001b[0m 2ms/step\n",
      "\u001b[1m23/23\u001b[0m \u001b[32m━━━━━━━━━━━━━━━━━━━━\u001b[0m\u001b[37m\u001b[0m \u001b[1m0s\u001b[0m 2ms/step\n",
      "\u001b[1m23/23\u001b[0m \u001b[32m━━━━━━━━━━━━━━━━━━━━\u001b[0m\u001b[37m\u001b[0m \u001b[1m0s\u001b[0m 3ms/step\n",
      "\u001b[1m23/23\u001b[0m \u001b[32m━━━━━━━━━━━━━━━━━━━━\u001b[0m\u001b[37m\u001b[0m \u001b[1m0s\u001b[0m 2ms/step\n",
      "\u001b[1m23/23\u001b[0m \u001b[32m━━━━━━━━━━━━━━━━━━━━\u001b[0m\u001b[37m\u001b[0m \u001b[1m0s\u001b[0m 2ms/step\n",
      "\u001b[1m23/23\u001b[0m \u001b[32m━━━━━━━━━━━━━━━━━━━━\u001b[0m\u001b[37m\u001b[0m \u001b[1m0s\u001b[0m 2ms/step\n",
      "\u001b[1m23/23\u001b[0m \u001b[32m━━━━━━━━━━━━━━━━━━━━\u001b[0m\u001b[37m\u001b[0m \u001b[1m0s\u001b[0m 2ms/step\n",
      "\u001b[1m23/23\u001b[0m \u001b[32m━━━━━━━━━━━━━━━━━━━━\u001b[0m\u001b[37m\u001b[0m \u001b[1m0s\u001b[0m 3ms/step\n",
      "\u001b[1m23/23\u001b[0m \u001b[32m━━━━━━━━━━━━━━━━━━━━\u001b[0m\u001b[37m\u001b[0m \u001b[1m0s\u001b[0m 2ms/step \n",
      "Running iteration 14...\n",
      "\u001b[1m23/23\u001b[0m \u001b[32m━━━━━━━━━━━━━━━━━━━━\u001b[0m\u001b[37m\u001b[0m \u001b[1m0s\u001b[0m 2ms/step\n",
      "\u001b[1m23/23\u001b[0m \u001b[32m━━━━━━━━━━━━━━━━━━━━\u001b[0m\u001b[37m\u001b[0m \u001b[1m0s\u001b[0m 2ms/step\n",
      "\u001b[1m23/23\u001b[0m \u001b[32m━━━━━━━━━━━━━━━━━━━━\u001b[0m\u001b[37m\u001b[0m \u001b[1m0s\u001b[0m 2ms/step\n",
      "\u001b[1m23/23\u001b[0m \u001b[32m━━━━━━━━━━━━━━━━━━━━\u001b[0m\u001b[37m\u001b[0m \u001b[1m0s\u001b[0m 2ms/step\n",
      "\u001b[1m23/23\u001b[0m \u001b[32m━━━━━━━━━━━━━━━━━━━━\u001b[0m\u001b[37m\u001b[0m \u001b[1m0s\u001b[0m 2ms/step\n",
      "\u001b[1m23/23\u001b[0m \u001b[32m━━━━━━━━━━━━━━━━━━━━\u001b[0m\u001b[37m\u001b[0m \u001b[1m0s\u001b[0m 2ms/step\n",
      "\u001b[1m23/23\u001b[0m \u001b[32m━━━━━━━━━━━━━━━━━━━━\u001b[0m\u001b[37m\u001b[0m \u001b[1m0s\u001b[0m 4ms/step\n",
      "\u001b[1m23/23\u001b[0m \u001b[32m━━━━━━━━━━━━━━━━━━━━\u001b[0m\u001b[37m\u001b[0m \u001b[1m0s\u001b[0m 2ms/step\n",
      "\u001b[1m23/23\u001b[0m \u001b[32m━━━━━━━━━━━━━━━━━━━━\u001b[0m\u001b[37m\u001b[0m \u001b[1m0s\u001b[0m 2ms/step\n",
      "Running iteration 15...\n",
      "\u001b[1m23/23\u001b[0m \u001b[32m━━━━━━━━━━━━━━━━━━━━\u001b[0m\u001b[37m\u001b[0m \u001b[1m0s\u001b[0m 2ms/step\n",
      "\u001b[1m23/23\u001b[0m \u001b[32m━━━━━━━━━━━━━━━━━━━━\u001b[0m\u001b[37m\u001b[0m \u001b[1m0s\u001b[0m 2ms/step\n",
      "\u001b[1m23/23\u001b[0m \u001b[32m━━━━━━━━━━━━━━━━━━━━\u001b[0m\u001b[37m\u001b[0m \u001b[1m0s\u001b[0m 2ms/step \n",
      "\u001b[1m23/23\u001b[0m \u001b[32m━━━━━━━━━━━━━━━━━━━━\u001b[0m\u001b[37m\u001b[0m \u001b[1m0s\u001b[0m 2ms/step \n",
      "\u001b[1m23/23\u001b[0m \u001b[32m━━━━━━━━━━━━━━━━━━━━\u001b[0m\u001b[37m\u001b[0m \u001b[1m0s\u001b[0m 3ms/step\n",
      "\u001b[1m23/23\u001b[0m \u001b[32m━━━━━━━━━━━━━━━━━━━━\u001b[0m\u001b[37m\u001b[0m \u001b[1m0s\u001b[0m 1ms/step \n",
      "\u001b[1m23/23\u001b[0m \u001b[32m━━━━━━━━━━━━━━━━━━━━\u001b[0m\u001b[37m\u001b[0m \u001b[1m0s\u001b[0m 1ms/step \n",
      "\u001b[1m23/23\u001b[0m \u001b[32m━━━━━━━━━━━━━━━━━━━━\u001b[0m\u001b[37m\u001b[0m \u001b[1m0s\u001b[0m 1ms/step \n",
      "\u001b[1m23/23\u001b[0m \u001b[32m━━━━━━━━━━━━━━━━━━━━\u001b[0m\u001b[37m\u001b[0m \u001b[1m0s\u001b[0m 2ms/step \n",
      "Running iteration 16...\n",
      "\u001b[1m23/23\u001b[0m \u001b[32m━━━━━━━━━━━━━━━━━━━━\u001b[0m\u001b[37m\u001b[0m \u001b[1m0s\u001b[0m 2ms/step\n",
      "\u001b[1m23/23\u001b[0m \u001b[32m━━━━━━━━━━━━━━━━━━━━\u001b[0m\u001b[37m\u001b[0m \u001b[1m0s\u001b[0m 2ms/step\n",
      "\u001b[1m23/23\u001b[0m \u001b[32m━━━━━━━━━━━━━━━━━━━━\u001b[0m\u001b[37m\u001b[0m \u001b[1m0s\u001b[0m 1ms/step \n",
      "\u001b[1m23/23\u001b[0m \u001b[32m━━━━━━━━━━━━━━━━━━━━\u001b[0m\u001b[37m\u001b[0m \u001b[1m0s\u001b[0m 1ms/step \n",
      "\u001b[1m23/23\u001b[0m \u001b[32m━━━━━━━━━━━━━━━━━━━━\u001b[0m\u001b[37m\u001b[0m \u001b[1m0s\u001b[0m 1ms/step \n",
      "\u001b[1m23/23\u001b[0m \u001b[32m━━━━━━━━━━━━━━━━━━━━\u001b[0m\u001b[37m\u001b[0m \u001b[1m0s\u001b[0m 1ms/step \n",
      "\u001b[1m23/23\u001b[0m \u001b[32m━━━━━━━━━━━━━━━━━━━━\u001b[0m\u001b[37m\u001b[0m \u001b[1m0s\u001b[0m 1ms/step \n",
      "\u001b[1m23/23\u001b[0m \u001b[32m━━━━━━━━━━━━━━━━━━━━\u001b[0m\u001b[37m\u001b[0m \u001b[1m0s\u001b[0m 1ms/step \n",
      "\u001b[1m23/23\u001b[0m \u001b[32m━━━━━━━━━━━━━━━━━━━━\u001b[0m\u001b[37m\u001b[0m \u001b[1m0s\u001b[0m 1ms/step \n",
      "Running iteration 17...\n",
      "\u001b[1m23/23\u001b[0m \u001b[32m━━━━━━━━━━━━━━━━━━━━\u001b[0m\u001b[37m\u001b[0m \u001b[1m0s\u001b[0m 1ms/step \n",
      "\u001b[1m23/23\u001b[0m \u001b[32m━━━━━━━━━━━━━━━━━━━━\u001b[0m\u001b[37m\u001b[0m \u001b[1m0s\u001b[0m 1ms/step \n",
      "\u001b[1m23/23\u001b[0m \u001b[32m━━━━━━━━━━━━━━━━━━━━\u001b[0m\u001b[37m\u001b[0m \u001b[1m0s\u001b[0m 1ms/step \n",
      "\u001b[1m23/23\u001b[0m \u001b[32m━━━━━━━━━━━━━━━━━━━━\u001b[0m\u001b[37m\u001b[0m \u001b[1m0s\u001b[0m 1ms/step \n",
      "\u001b[1m23/23\u001b[0m \u001b[32m━━━━━━━━━━━━━━━━━━━━\u001b[0m\u001b[37m\u001b[0m \u001b[1m0s\u001b[0m 1ms/step \n",
      "\u001b[1m23/23\u001b[0m \u001b[32m━━━━━━━━━━━━━━━━━━━━\u001b[0m\u001b[37m\u001b[0m \u001b[1m0s\u001b[0m 1ms/step \n",
      "\u001b[1m23/23\u001b[0m \u001b[32m━━━━━━━━━━━━━━━━━━━━\u001b[0m\u001b[37m\u001b[0m \u001b[1m0s\u001b[0m 1ms/step \n",
      "\u001b[1m23/23\u001b[0m \u001b[32m━━━━━━━━━━━━━━━━━━━━\u001b[0m\u001b[37m\u001b[0m \u001b[1m0s\u001b[0m 1ms/step \n",
      "\u001b[1m23/23\u001b[0m \u001b[32m━━━━━━━━━━━━━━━━━━━━\u001b[0m\u001b[37m\u001b[0m \u001b[1m0s\u001b[0m 1ms/step \n",
      "Running iteration 18...\n",
      "\u001b[1m23/23\u001b[0m \u001b[32m━━━━━━━━━━━━━━━━━━━━\u001b[0m\u001b[37m\u001b[0m \u001b[1m0s\u001b[0m 1ms/step \n",
      "\u001b[1m23/23\u001b[0m \u001b[32m━━━━━━━━━━━━━━━━━━━━\u001b[0m\u001b[37m\u001b[0m \u001b[1m0s\u001b[0m 1ms/step \n",
      "\u001b[1m23/23\u001b[0m \u001b[32m━━━━━━━━━━━━━━━━━━━━\u001b[0m\u001b[37m\u001b[0m \u001b[1m0s\u001b[0m 2ms/step \n",
      "\u001b[1m23/23\u001b[0m \u001b[32m━━━━━━━━━━━━━━━━━━━━\u001b[0m\u001b[37m\u001b[0m \u001b[1m0s\u001b[0m 1ms/step \n",
      "\u001b[1m23/23\u001b[0m \u001b[32m━━━━━━━━━━━━━━━━━━━━\u001b[0m\u001b[37m\u001b[0m \u001b[1m0s\u001b[0m 1ms/step \n",
      "\u001b[1m23/23\u001b[0m \u001b[32m━━━━━━━━━━━━━━━━━━━━\u001b[0m\u001b[37m\u001b[0m \u001b[1m0s\u001b[0m 1ms/step \n",
      "\u001b[1m23/23\u001b[0m \u001b[32m━━━━━━━━━━━━━━━━━━━━\u001b[0m\u001b[37m\u001b[0m \u001b[1m0s\u001b[0m 1ms/step \n",
      "\u001b[1m23/23\u001b[0m \u001b[32m━━━━━━━━━━━━━━━━━━━━\u001b[0m\u001b[37m\u001b[0m \u001b[1m0s\u001b[0m 1ms/step \n",
      "\u001b[1m23/23\u001b[0m \u001b[32m━━━━━━━━━━━━━━━━━━━━\u001b[0m\u001b[37m\u001b[0m \u001b[1m0s\u001b[0m 1ms/step \n",
      "Running iteration 19...\n",
      "\u001b[1m23/23\u001b[0m \u001b[32m━━━━━━━━━━━━━━━━━━━━\u001b[0m\u001b[37m\u001b[0m \u001b[1m0s\u001b[0m 1ms/step \n",
      "\u001b[1m23/23\u001b[0m \u001b[32m━━━━━━━━━━━━━━━━━━━━\u001b[0m\u001b[37m\u001b[0m \u001b[1m0s\u001b[0m 1ms/step \n",
      "\u001b[1m23/23\u001b[0m \u001b[32m━━━━━━━━━━━━━━━━━━━━\u001b[0m\u001b[37m\u001b[0m \u001b[1m0s\u001b[0m 1ms/step \n",
      "\u001b[1m23/23\u001b[0m \u001b[32m━━━━━━━━━━━━━━━━━━━━\u001b[0m\u001b[37m\u001b[0m \u001b[1m0s\u001b[0m 1ms/step \n",
      "\u001b[1m23/23\u001b[0m \u001b[32m━━━━━━━━━━━━━━━━━━━━\u001b[0m\u001b[37m\u001b[0m \u001b[1m0s\u001b[0m 1ms/step \n",
      "\u001b[1m23/23\u001b[0m \u001b[32m━━━━━━━━━━━━━━━━━━━━\u001b[0m\u001b[37m\u001b[0m \u001b[1m0s\u001b[0m 1ms/step \n",
      "\u001b[1m23/23\u001b[0m \u001b[32m━━━━━━━━━━━━━━━━━━━━\u001b[0m\u001b[37m\u001b[0m \u001b[1m0s\u001b[0m 1ms/step \n",
      "\u001b[1m23/23\u001b[0m \u001b[32m━━━━━━━━━━━━━━━━━━━━\u001b[0m\u001b[37m\u001b[0m \u001b[1m0s\u001b[0m 1ms/step \n",
      "\u001b[1m23/23\u001b[0m \u001b[32m━━━━━━━━━━━━━━━━━━━━\u001b[0m\u001b[37m\u001b[0m \u001b[1m0s\u001b[0m 2ms/step \n",
      "Running iteration 20...\n",
      "\u001b[1m23/23\u001b[0m \u001b[32m━━━━━━━━━━━━━━━━━━━━\u001b[0m\u001b[37m\u001b[0m \u001b[1m0s\u001b[0m 1ms/step \n",
      "\u001b[1m23/23\u001b[0m \u001b[32m━━━━━━━━━━━━━━━━━━━━\u001b[0m\u001b[37m\u001b[0m \u001b[1m0s\u001b[0m 1ms/step \n",
      "\u001b[1m23/23\u001b[0m \u001b[32m━━━━━━━━━━━━━━━━━━━━\u001b[0m\u001b[37m\u001b[0m \u001b[1m0s\u001b[0m 1ms/step \n",
      "\u001b[1m23/23\u001b[0m \u001b[32m━━━━━━━━━━━━━━━━━━━━\u001b[0m\u001b[37m\u001b[0m \u001b[1m0s\u001b[0m 1ms/step \n",
      "\u001b[1m23/23\u001b[0m \u001b[32m━━━━━━━━━━━━━━━━━━━━\u001b[0m\u001b[37m\u001b[0m \u001b[1m0s\u001b[0m 1ms/step \n",
      "\u001b[1m23/23\u001b[0m \u001b[32m━━━━━━━━━━━━━━━━━━━━\u001b[0m\u001b[37m\u001b[0m \u001b[1m0s\u001b[0m 1ms/step \n",
      "\u001b[1m23/23\u001b[0m \u001b[32m━━━━━━━━━━━━━━━━━━━━\u001b[0m\u001b[37m\u001b[0m \u001b[1m0s\u001b[0m 1ms/step \n",
      "\u001b[1m23/23\u001b[0m \u001b[32m━━━━━━━━━━━━━━━━━━━━\u001b[0m\u001b[37m\u001b[0m \u001b[1m0s\u001b[0m 1ms/step \n",
      "\u001b[1m23/23\u001b[0m \u001b[32m━━━━━━━━━━━━━━━━━━━━\u001b[0m\u001b[37m\u001b[0m \u001b[1m0s\u001b[0m 1ms/step \n",
      "All 20 iterations are complete, and results are saved.\n"
     ]
    }
   ],
   "source": [
    "# Create the output directory if it doesn't exist\n",
    "output_dir = 'data/Experiment 2'\n",
    "if not os.path.exists(output_dir):\n",
    "    os.makedirs(output_dir)\n",
    "\n",
    "\n",
    "# Experiment parameters\n",
    "num_iterations = 20\n",
    "num_rounds = 20\n",
    "num_epochs = 1\n",
    "labels_shared = 0\n",
    "test_size = 0.2\n",
    "\n",
    "\n",
    "\n",
    "all_experiment_results = []\n",
    "\n",
    "for iteration in range(num_iterations):\n",
    "    print(f\"Running iteration {iteration + 1}...\")\n",
    "    \n",
    "    # Initialize containers to store results for this iteration\n",
    "    iteration_global_models = []\n",
    "    iteration_perf = []\n",
    "    iteration_label_names = []\n",
    "    iteration_metrics = []\n",
    "    \n",
    "    # Federated Learning Experiment for this iteration\n",
    "    for n_nodes in range(2, 11):\n",
    "        nodes = create_FL_Datasets(X_train, y_train, n_nodes, labels_shared)\n",
    "        global_model = create_mlp_model(allEmbeddings.shape[1], labels.shape[1])\n",
    "        max_label = labels.shape[1] - 1\n",
    "        \n",
    "        # Perform federated learning\n",
    "        for round in range(num_rounds):\n",
    "            for node in nodes:\n",
    "                node['classifier'].fit(node['X_train'], node['y_train'], epochs=num_epochs, verbose=0)\n",
    "            global_model, nodes = surgical_aggregation(nodes, max_label, global_model)\n",
    "        \n",
    "        # Evaluate the global model\n",
    "        perf = global_model.evaluate(X_test, y_test, verbose=0)\n",
    "        iteration_global_models.append(global_model)\n",
    "        iteration_perf.append(perf)\n",
    "        label_names = [node['label_names'].tolist() for node in nodes]\n",
    "        iteration_label_names.append(label_names)\n",
    "        metrics = get_metrics(global_model, X_test, y_test, labels)\n",
    "        iteration_metrics.append(metrics)\n",
    "    \n",
    "    # Convert data to JSON-serializable format\n",
    "    iteration_perf_serializable = make_serializable(iteration_perf)\n",
    "    iteration_label_names_serializable = make_serializable(iteration_label_names)\n",
    "    iteration_metrics_serializable = make_serializable(iteration_metrics)\n",
    "    \n",
    "    # Store results of this iteration in a specific folder\n",
    "    iteration_dir = os.path.join(output_dir, f'iteration_{iteration + 1}')\n",
    "    os.makedirs(iteration_dir, exist_ok=True)\n",
    "    \n",
    "    # Save performance metrics as JSON\n",
    "    with open(os.path.join(iteration_dir, 'iteration_perf.json'), 'w') as f:\n",
    "        json.dump(iteration_perf_serializable, f)\n",
    "    \n",
    "    # Save label names as JSON\n",
    "    with open(os.path.join(iteration_dir, 'iteration_label_names.json'), 'w') as f:\n",
    "        json.dump(iteration_label_names_serializable, f)\n",
    "    \n",
    "    # Save detailed metrics as JSON\n",
    "    with open(os.path.join(iteration_dir, 'iteration_metrics.json'), 'w') as f:\n",
    "        json.dump(iteration_metrics_serializable, f)\n",
    "    \n",
    "    # Save global models\n",
    "    models_dir = os.path.join(iteration_dir, 'models')\n",
    "    os.makedirs(models_dir, exist_ok=True)\n",
    "    for idx, model in enumerate(iteration_global_models):\n",
    "        # Save model architecture to JSON\n",
    "        model_json = model.to_json()\n",
    "        with open(os.path.join(models_dir, f'global_model_{idx}.json'), 'w') as json_file:\n",
    "            json_file.write(model_json)\n",
    "        # Save model weights (weights cannot be saved as JSON)\n",
    "        model.save_weights(os.path.join(models_dir, f'global_model_{idx}.weights.h5'))\n",
    "    \n",
    "    # Save iteration-level data for comparison\n",
    "    experiment_data = {\n",
    "        'perf': iteration_perf_serializable,\n",
    "        'label_names': iteration_label_names_serializable,\n",
    "        'metrics': iteration_metrics_serializable\n",
    "    }\n",
    "    all_experiment_results.append(experiment_data)\n",
    "\n",
    "# Save all experiment results as JSON\n",
    "all_experiment_results_serializable = make_serializable(all_experiment_results)\n",
    "with open(os.path.join(output_dir, 'all_experiment_results.json'), 'w') as f:\n",
    "    json.dump(all_experiment_results_serializable, f)\n",
    "\n",
    "print(\"All 20 iterations are complete, and results are saved.\")\n"
   ]
  },
  {
   "cell_type": "markdown",
   "metadata": {},
   "source": [
    "## Comparing Results"
   ]
  },
  {
   "cell_type": "code",
   "execution_count": 71,
   "metadata": {},
   "outputs": [
    {
     "name": "stdout",
     "output_type": "stream",
     "text": [
      "[[0.10043995827436447, 0.9704200625419617], [0.09884420782327652, 0.9691283702850342], [0.11903730779886246, 0.9596276879310608], [0.1212288960814476, 0.9520751237869263], [0.14317353069782257, 0.9369339346885681], [0.15374141931533813, 0.9367430806159973], [0.15456616878509521, 0.9306057691574097], [0.16992516815662384, 0.9145715832710266], [0.1790066659450531, 0.9057651162147522]]\n"
     ]
    }
   ],
   "source": [
    "with open('data/Experiment 2/all_experiment_results.json', 'r') as f:\n",
    "    all_experiment_results = json.load(f)\n",
    "\n",
    "# Access specific iteration results, for example, iteration 1:\n",
    "iteration_1_results = all_experiment_results[0]  # Index starts at 0\n",
    "\n",
    "# Print performance metrics for iteration 1\n",
    "print(iteration_1_results['perf'])"
   ]
  },
  {
   "cell_type": "markdown",
   "metadata": {},
   "source": [
    "## Visualisation"
   ]
  },
  {
   "cell_type": "code",
   "execution_count": 72,
   "metadata": {},
   "outputs": [],
   "source": [
    "import os\n",
    "import json\n",
    "import numpy as np\n",
    "import matplotlib.pyplot as plt"
   ]
  },
  {
   "cell_type": "code",
   "execution_count": 73,
   "metadata": {},
   "outputs": [],
   "source": [
    "# Define the directory where the experiment data is stored\n",
    "experiment_dir = 'data/Experiment 2'\n",
    "\n",
    "# Load the overall results of all experiments\n",
    "with open(os.path.join(experiment_dir, 'all_experiment_results.json'), 'r') as f:\n",
    "    all_experiment_results = json.load(f)\n",
    "\n",
    "\n",
    "all_auc = []      # To store AUC values across iterations\n",
    "all_accuracy = [] # To store accuracy values across iterations"
   ]
  },
  {
   "cell_type": "code",
   "execution_count": 74,
   "metadata": {},
   "outputs": [],
   "source": [
    "for experiment in all_experiment_results:\n",
    "    perf_metrics = experiment['perf']\n",
    "    auc_values = [perf[1] for perf in perf_metrics]  # Assuming AUC is at index 1 in 'perf'\n",
    "    # Extract 'Accuracy' from 'metrics' dictionary for each node\n",
    "    accuracy_values = [metric['Overall']['Accuracy'] for metric in experiment['metrics']]\n",
    "    \n",
    "    all_auc.append(auc_values)\n",
    "    all_accuracy.append(accuracy_values)"
   ]
  },
  {
   "cell_type": "code",
   "execution_count": 75,
   "metadata": {},
   "outputs": [],
   "source": [
    "# Convert lists to NumPy arrays for easy calculation of mean and std dev\n",
    "all_auc = np.array(all_auc)\n",
    "all_accuracy = np.array(all_accuracy)\n",
    "\n",
    "# Calculate mean and standard deviation for AUC and Accuracy across all iterations\n",
    "mean_auc = np.mean(all_auc, axis=0)\n",
    "std_auc = np.std(all_auc, axis=0)\n",
    "\n",
    "mean_accuracy = np.mean(all_accuracy, axis=0)\n",
    "std_accuracy = np.std(all_accuracy, axis=0)\n",
    "\n",
    "# Define the number of nodes used during the experiment\n",
    "n_nodes = np.arange(2, 11)  # Node range from 2 to 10 inclusive"
   ]
  },
  {
   "cell_type": "code",
   "execution_count": 76,
   "metadata": {},
   "outputs": [
    {
     "data": {
      "image/png": "[encoded data removed]",
      "text/plain": [
       "<Figure size 1000x500 with 1 Axes>"
      ]
     },
     "metadata": {},
     "output_type": "display_data"
    }
   ],
   "source": [
    "# Plotting Mean AUC with Standard Deviation\n",
    "plt.figure(figsize=(10, 5))\n",
    "plt.errorbar(n_nodes, mean_auc, yerr=std_auc, fmt='-o', capsize=5, label='AUC')\n",
    "# Base model is a constant baseline (no error bars needed):\n",
    "plt.plot(\n",
    "    n_nodes,\n",
    "    [base_perf[1]] * len(n_nodes),\n",
    "    'r--',\n",
    "    label='Base Model'\n",
    ")\n",
    "\n",
    "plt.xlabel('Number of Nodes')\n",
    "plt.ylabel('Mean AUC ± Std Dev')\n",
    "plt.title('Mean AUC vs Number of Nodes with Standard Deviation')\n",
    "plt.ylim(0.0, 1)\n",
    "plt.xticks(n_nodes)\n",
    "plt.legend()\n",
    "plt.grid(True)\n",
    "plt.show()"
   ]
  },
  {
   "cell_type": "code",
   "execution_count": 77,
   "metadata": {},
   "outputs": [
    {
     "data": {
      "image/png": "[encoded data removed]",
      "text/plain": [
       "<Figure size 1000x500 with 1 Axes>"
      ]
     },
     "metadata": {},
     "output_type": "display_data"
    }
   ],
   "source": [
    "# Plotting Mean Accuracy with Standard Deviation\n",
    "plt.figure(figsize=(10, 5))\n",
    "plt.errorbar(n_nodes, mean_accuracy, yerr=std_accuracy, fmt='-o', capsize=5, label='Accuracy')\n",
    "\n",
    "# Base model is a constant baseline (no error bars needed):\n",
    "plt.plot(\n",
    "    n_nodes,\n",
    "    [base_perf[1]] * len(n_nodes),\n",
    "    'r--',\n",
    "    label='Base Model'\n",
    ")\n",
    "\n",
    "plt.xlabel('Number of Nodes')\n",
    "plt.ylabel('Mean Accuracy ± Std Dev')\n",
    "plt.title('Mean Accuracy vs Number of Nodes with Standard Deviation')\n",
    "plt.ylim(0.0, 1)\n",
    "plt.xticks(n_nodes)\n",
    "plt.legend()\n",
    "plt.grid(True)\n",
    "plt.show()"
   ]
  },
  {
   "cell_type": "markdown",
   "metadata": {},
   "source": [
    "# Experiment 3"
   ]
  },
  {
   "cell_type": "code",
   "execution_count": 102,
   "metadata": {},
   "outputs": [],
   "source": [
    "import os\n",
    "import json\n",
    "import numpy as np\n",
    "from sklearn.model_selection import train_test_split\n",
    "from tensorflow.keras.models import model_from_json"
   ]
  },
  {
   "cell_type": "code",
   "execution_count": 103,
   "metadata": {},
   "outputs": [],
   "source": [
    "\n",
    "# Function to make data JSON serializable\n",
    "def make_serializable(obj):\n",
    "    if isinstance(obj, dict):\n",
    "        return {k: make_serializable(v) for k, v in obj.items()}\n",
    "    elif isinstance(obj, list):\n",
    "        return [make_serializable(v) for v in obj]\n",
    "    elif isinstance(obj, np.ndarray):\n",
    "        return obj.tolist()\n",
    "    elif isinstance(obj, np.integer):\n",
    "        return int(obj)\n",
    "    elif isinstance(obj, np.floating):\n",
    "        return float(obj)\n",
    "    else:\n",
    "        return obj"
   ]
  },
  {
   "cell_type": "code",
   "execution_count": 105,
   "metadata": {},
   "outputs": [
    {
     "name": "stdout",
     "output_type": "stream",
     "text": [
      "\n",
      "--- Iteration 1/20 ---\n",
      "  Testing shared_labels=0...\n",
      "\u001b[1m23/23\u001b[0m \u001b[32m━━━━━━━━━━━━━━━━━━━━\u001b[0m\u001b[37m\u001b[0m \u001b[1m0s\u001b[0m 1ms/step \n"
     ]
    },
    {
     "name": "stderr",
     "output_type": "stream",
     "text": [
      "WARNING:absl:You are saving your model as an HDF5 file via `model.save()` or `keras.saving.save_model(model)`. This file format is considered legacy. We recommend using instead the native Keras format, e.g. `model.save('my_model.keras')` or `keras.saving.save_model(model, 'my_model.keras')`. \n"
     ]
    },
    {
     "name": "stdout",
     "output_type": "stream",
     "text": [
      "  Testing shared_labels=1...\n",
      "\u001b[1m23/23\u001b[0m \u001b[32m━━━━━━━━━━━━━━━━━━━━\u001b[0m\u001b[37m\u001b[0m \u001b[1m0s\u001b[0m 1ms/step \n"
     ]
    },
    {
     "name": "stderr",
     "output_type": "stream",
     "text": [
      "WARNING:absl:You are saving your model as an HDF5 file via `model.save()` or `keras.saving.save_model(model)`. This file format is considered legacy. We recommend using instead the native Keras format, e.g. `model.save('my_model.keras')` or `keras.saving.save_model(model, 'my_model.keras')`. \n"
     ]
    },
    {
     "name": "stdout",
     "output_type": "stream",
     "text": [
      "  Testing shared_labels=2...\n",
      "\u001b[1m23/23\u001b[0m \u001b[32m━━━━━━━━━━━━━━━━━━━━\u001b[0m\u001b[37m\u001b[0m \u001b[1m0s\u001b[0m 1ms/step \n"
     ]
    },
    {
     "name": "stderr",
     "output_type": "stream",
     "text": [
      "WARNING:absl:You are saving your model as an HDF5 file via `model.save()` or `keras.saving.save_model(model)`. This file format is considered legacy. We recommend using instead the native Keras format, e.g. `model.save('my_model.keras')` or `keras.saving.save_model(model, 'my_model.keras')`. \n"
     ]
    },
    {
     "name": "stdout",
     "output_type": "stream",
     "text": [
      "  Testing shared_labels=3...\n",
      "\u001b[1m23/23\u001b[0m \u001b[32m━━━━━━━━━━━━━━━━━━━━\u001b[0m\u001b[37m\u001b[0m \u001b[1m0s\u001b[0m 1ms/step \n"
     ]
    },
    {
     "name": "stderr",
     "output_type": "stream",
     "text": [
      "WARNING:absl:You are saving your model as an HDF5 file via `model.save()` or `keras.saving.save_model(model)`. This file format is considered legacy. We recommend using instead the native Keras format, e.g. `model.save('my_model.keras')` or `keras.saving.save_model(model, 'my_model.keras')`. \n"
     ]
    },
    {
     "name": "stdout",
     "output_type": "stream",
     "text": [
      "  Testing shared_labels=4...\n",
      "\u001b[1m23/23\u001b[0m \u001b[32m━━━━━━━━━━━━━━━━━━━━\u001b[0m\u001b[37m\u001b[0m \u001b[1m0s\u001b[0m 1ms/step \n"
     ]
    },
    {
     "name": "stderr",
     "output_type": "stream",
     "text": [
      "WARNING:absl:You are saving your model as an HDF5 file via `model.save()` or `keras.saving.save_model(model)`. This file format is considered legacy. We recommend using instead the native Keras format, e.g. `model.save('my_model.keras')` or `keras.saving.save_model(model, 'my_model.keras')`. \n"
     ]
    },
    {
     "name": "stdout",
     "output_type": "stream",
     "text": [
      "  Testing shared_labels=5...\n",
      "\u001b[1m23/23\u001b[0m \u001b[32m━━━━━━━━━━━━━━━━━━━━\u001b[0m\u001b[37m\u001b[0m \u001b[1m0s\u001b[0m 1ms/step \n"
     ]
    },
    {
     "name": "stderr",
     "output_type": "stream",
     "text": [
      "WARNING:absl:You are saving your model as an HDF5 file via `model.save()` or `keras.saving.save_model(model)`. This file format is considered legacy. We recommend using instead the native Keras format, e.g. `model.save('my_model.keras')` or `keras.saving.save_model(model, 'my_model.keras')`. \n"
     ]
    },
    {
     "name": "stdout",
     "output_type": "stream",
     "text": [
      "  Testing shared_labels=6...\n",
      "\u001b[1m23/23\u001b[0m \u001b[32m━━━━━━━━━━━━━━━━━━━━\u001b[0m\u001b[37m\u001b[0m \u001b[1m0s\u001b[0m 1ms/step \n"
     ]
    },
    {
     "name": "stderr",
     "output_type": "stream",
     "text": [
      "WARNING:absl:You are saving your model as an HDF5 file via `model.save()` or `keras.saving.save_model(model)`. This file format is considered legacy. We recommend using instead the native Keras format, e.g. `model.save('my_model.keras')` or `keras.saving.save_model(model, 'my_model.keras')`. \n"
     ]
    },
    {
     "name": "stdout",
     "output_type": "stream",
     "text": [
      "  Testing shared_labels=7...\n",
      "\u001b[1m23/23\u001b[0m \u001b[32m━━━━━━━━━━━━━━━━━━━━\u001b[0m\u001b[37m\u001b[0m \u001b[1m0s\u001b[0m 1ms/step \n"
     ]
    },
    {
     "name": "stderr",
     "output_type": "stream",
     "text": [
      "WARNING:absl:You are saving your model as an HDF5 file via `model.save()` or `keras.saving.save_model(model)`. This file format is considered legacy. We recommend using instead the native Keras format, e.g. `model.save('my_model.keras')` or `keras.saving.save_model(model, 'my_model.keras')`. \n"
     ]
    },
    {
     "name": "stdout",
     "output_type": "stream",
     "text": [
      "  Testing shared_labels=8...\n",
      "\u001b[1m23/23\u001b[0m \u001b[32m━━━━━━━━━━━━━━━━━━━━\u001b[0m\u001b[37m\u001b[0m \u001b[1m0s\u001b[0m 1ms/step \n"
     ]
    },
    {
     "name": "stderr",
     "output_type": "stream",
     "text": [
      "WARNING:absl:You are saving your model as an HDF5 file via `model.save()` or `keras.saving.save_model(model)`. This file format is considered legacy. We recommend using instead the native Keras format, e.g. `model.save('my_model.keras')` or `keras.saving.save_model(model, 'my_model.keras')`. \n"
     ]
    },
    {
     "name": "stdout",
     "output_type": "stream",
     "text": [
      "  Testing shared_labels=9...\n",
      "\u001b[1m23/23\u001b[0m \u001b[32m━━━━━━━━━━━━━━━━━━━━\u001b[0m\u001b[37m\u001b[0m \u001b[1m0s\u001b[0m 1ms/step \n"
     ]
    },
    {
     "name": "stderr",
     "output_type": "stream",
     "text": [
      "WARNING:absl:You are saving your model as an HDF5 file via `model.save()` or `keras.saving.save_model(model)`. This file format is considered legacy. We recommend using instead the native Keras format, e.g. `model.save('my_model.keras')` or `keras.saving.save_model(model, 'my_model.keras')`. \n"
     ]
    },
    {
     "name": "stdout",
     "output_type": "stream",
     "text": [
      "  Testing shared_labels=10...\n",
      "\u001b[1m23/23\u001b[0m \u001b[32m━━━━━━━━━━━━━━━━━━━━\u001b[0m\u001b[37m\u001b[0m \u001b[1m0s\u001b[0m 1ms/step \n"
     ]
    },
    {
     "name": "stderr",
     "output_type": "stream",
     "text": [
      "WARNING:absl:You are saving your model as an HDF5 file via `model.save()` or `keras.saving.save_model(model)`. This file format is considered legacy. We recommend using instead the native Keras format, e.g. `model.save('my_model.keras')` or `keras.saving.save_model(model, 'my_model.keras')`. \n"
     ]
    },
    {
     "name": "stdout",
     "output_type": "stream",
     "text": [
      "  Testing shared_labels=11...\n",
      "\u001b[1m23/23\u001b[0m \u001b[32m━━━━━━━━━━━━━━━━━━━━\u001b[0m\u001b[37m\u001b[0m \u001b[1m0s\u001b[0m 1ms/step \n"
     ]
    },
    {
     "name": "stderr",
     "output_type": "stream",
     "text": [
      "WARNING:absl:You are saving your model as an HDF5 file via `model.save()` or `keras.saving.save_model(model)`. This file format is considered legacy. We recommend using instead the native Keras format, e.g. `model.save('my_model.keras')` or `keras.saving.save_model(model, 'my_model.keras')`. \n"
     ]
    },
    {
     "name": "stdout",
     "output_type": "stream",
     "text": [
      "  Testing shared_labels=12...\n",
      "\u001b[1m23/23\u001b[0m \u001b[32m━━━━━━━━━━━━━━━━━━━━\u001b[0m\u001b[37m\u001b[0m \u001b[1m0s\u001b[0m 1ms/step \n"
     ]
    },
    {
     "name": "stderr",
     "output_type": "stream",
     "text": [
      "WARNING:absl:You are saving your model as an HDF5 file via `model.save()` or `keras.saving.save_model(model)`. This file format is considered legacy. We recommend using instead the native Keras format, e.g. `model.save('my_model.keras')` or `keras.saving.save_model(model, 'my_model.keras')`. \n"
     ]
    },
    {
     "name": "stdout",
     "output_type": "stream",
     "text": [
      "  Testing shared_labels=13...\n",
      "\u001b[1m23/23\u001b[0m \u001b[32m━━━━━━━━━━━━━━━━━━━━\u001b[0m\u001b[37m\u001b[0m \u001b[1m0s\u001b[0m 1ms/step \n"
     ]
    },
    {
     "name": "stderr",
     "output_type": "stream",
     "text": [
      "WARNING:absl:You are saving your model as an HDF5 file via `model.save()` or `keras.saving.save_model(model)`. This file format is considered legacy. We recommend using instead the native Keras format, e.g. `model.save('my_model.keras')` or `keras.saving.save_model(model, 'my_model.keras')`. \n"
     ]
    },
    {
     "name": "stdout",
     "output_type": "stream",
     "text": [
      "\n",
      "--- Iteration 2/20 ---\n",
      "  Testing shared_labels=0...\n",
      "\u001b[1m23/23\u001b[0m \u001b[32m━━━━━━━━━━━━━━━━━━━━\u001b[0m\u001b[37m\u001b[0m \u001b[1m0s\u001b[0m 1ms/step \n"
     ]
    },
    {
     "name": "stderr",
     "output_type": "stream",
     "text": [
      "WARNING:absl:You are saving your model as an HDF5 file via `model.save()` or `keras.saving.save_model(model)`. This file format is considered legacy. We recommend using instead the native Keras format, e.g. `model.save('my_model.keras')` or `keras.saving.save_model(model, 'my_model.keras')`. \n"
     ]
    },
    {
     "name": "stdout",
     "output_type": "stream",
     "text": [
      "  Testing shared_labels=1...\n",
      "\u001b[1m23/23\u001b[0m \u001b[32m━━━━━━━━━━━━━━━━━━━━\u001b[0m\u001b[37m\u001b[0m \u001b[1m0s\u001b[0m 1ms/step \n"
     ]
    },
    {
     "name": "stderr",
     "output_type": "stream",
     "text": [
      "WARNING:absl:You are saving your model as an HDF5 file via `model.save()` or `keras.saving.save_model(model)`. This file format is considered legacy. We recommend using instead the native Keras format, e.g. `model.save('my_model.keras')` or `keras.saving.save_model(model, 'my_model.keras')`. \n"
     ]
    },
    {
     "name": "stdout",
     "output_type": "stream",
     "text": [
      "  Testing shared_labels=2...\n",
      "\u001b[1m23/23\u001b[0m \u001b[32m━━━━━━━━━━━━━━━━━━━━\u001b[0m\u001b[37m\u001b[0m \u001b[1m0s\u001b[0m 1ms/step \n"
     ]
    },
    {
     "name": "stderr",
     "output_type": "stream",
     "text": [
      "WARNING:absl:You are saving your model as an HDF5 file via `model.save()` or `keras.saving.save_model(model)`. This file format is considered legacy. We recommend using instead the native Keras format, e.g. `model.save('my_model.keras')` or `keras.saving.save_model(model, 'my_model.keras')`. \n"
     ]
    },
    {
     "name": "stdout",
     "output_type": "stream",
     "text": [
      "  Testing shared_labels=3...\n",
      "\u001b[1m23/23\u001b[0m \u001b[32m━━━━━━━━━━━━━━━━━━━━\u001b[0m\u001b[37m\u001b[0m \u001b[1m0s\u001b[0m 1ms/step \n"
     ]
    },
    {
     "name": "stderr",
     "output_type": "stream",
     "text": [
      "WARNING:absl:You are saving your model as an HDF5 file via `model.save()` or `keras.saving.save_model(model)`. This file format is considered legacy. We recommend using instead the native Keras format, e.g. `model.save('my_model.keras')` or `keras.saving.save_model(model, 'my_model.keras')`. \n"
     ]
    },
    {
     "name": "stdout",
     "output_type": "stream",
     "text": [
      "  Testing shared_labels=4...\n",
      "\u001b[1m23/23\u001b[0m \u001b[32m━━━━━━━━━━━━━━━━━━━━\u001b[0m\u001b[37m\u001b[0m \u001b[1m0s\u001b[0m 1ms/step \n"
     ]
    },
    {
     "name": "stderr",
     "output_type": "stream",
     "text": [
      "WARNING:absl:You are saving your model as an HDF5 file via `model.save()` or `keras.saving.save_model(model)`. This file format is considered legacy. We recommend using instead the native Keras format, e.g. `model.save('my_model.keras')` or `keras.saving.save_model(model, 'my_model.keras')`. \n"
     ]
    },
    {
     "name": "stdout",
     "output_type": "stream",
     "text": [
      "  Testing shared_labels=5...\n",
      "\u001b[1m23/23\u001b[0m \u001b[32m━━━━━━━━━━━━━━━━━━━━\u001b[0m\u001b[37m\u001b[0m \u001b[1m0s\u001b[0m 1ms/step \n"
     ]
    },
    {
     "name": "stderr",
     "output_type": "stream",
     "text": [
      "WARNING:absl:You are saving your model as an HDF5 file via `model.save()` or `keras.saving.save_model(model)`. This file format is considered legacy. We recommend using instead the native Keras format, e.g. `model.save('my_model.keras')` or `keras.saving.save_model(model, 'my_model.keras')`. \n"
     ]
    },
    {
     "name": "stdout",
     "output_type": "stream",
     "text": [
      "  Testing shared_labels=6...\n",
      "\u001b[1m23/23\u001b[0m \u001b[32m━━━━━━━━━━━━━━━━━━━━\u001b[0m\u001b[37m\u001b[0m \u001b[1m0s\u001b[0m 1ms/step \n"
     ]
    },
    {
     "name": "stderr",
     "output_type": "stream",
     "text": [
      "WARNING:absl:You are saving your model as an HDF5 file via `model.save()` or `keras.saving.save_model(model)`. This file format is considered legacy. We recommend using instead the native Keras format, e.g. `model.save('my_model.keras')` or `keras.saving.save_model(model, 'my_model.keras')`. \n"
     ]
    },
    {
     "name": "stdout",
     "output_type": "stream",
     "text": [
      "  Testing shared_labels=7...\n",
      "\u001b[1m23/23\u001b[0m \u001b[32m━━━━━━━━━━━━━━━━━━━━\u001b[0m\u001b[37m\u001b[0m \u001b[1m0s\u001b[0m 1ms/step \n"
     ]
    },
    {
     "name": "stderr",
     "output_type": "stream",
     "text": [
      "WARNING:absl:You are saving your model as an HDF5 file via `model.save()` or `keras.saving.save_model(model)`. This file format is considered legacy. We recommend using instead the native Keras format, e.g. `model.save('my_model.keras')` or `keras.saving.save_model(model, 'my_model.keras')`. \n"
     ]
    },
    {
     "name": "stdout",
     "output_type": "stream",
     "text": [
      "  Testing shared_labels=8...\n",
      "\u001b[1m23/23\u001b[0m \u001b[32m━━━━━━━━━━━━━━━━━━━━\u001b[0m\u001b[37m\u001b[0m \u001b[1m0s\u001b[0m 1ms/step \n"
     ]
    },
    {
     "name": "stderr",
     "output_type": "stream",
     "text": [
      "WARNING:absl:You are saving your model as an HDF5 file via `model.save()` or `keras.saving.save_model(model)`. This file format is considered legacy. We recommend using instead the native Keras format, e.g. `model.save('my_model.keras')` or `keras.saving.save_model(model, 'my_model.keras')`. \n"
     ]
    },
    {
     "name": "stdout",
     "output_type": "stream",
     "text": [
      "  Testing shared_labels=9...\n",
      "\u001b[1m23/23\u001b[0m \u001b[32m━━━━━━━━━━━━━━━━━━━━\u001b[0m\u001b[37m\u001b[0m \u001b[1m0s\u001b[0m 1ms/step \n"
     ]
    },
    {
     "name": "stderr",
     "output_type": "stream",
     "text": [
      "WARNING:absl:You are saving your model as an HDF5 file via `model.save()` or `keras.saving.save_model(model)`. This file format is considered legacy. We recommend using instead the native Keras format, e.g. `model.save('my_model.keras')` or `keras.saving.save_model(model, 'my_model.keras')`. \n"
     ]
    },
    {
     "name": "stdout",
     "output_type": "stream",
     "text": [
      "  Testing shared_labels=10...\n",
      "\u001b[1m23/23\u001b[0m \u001b[32m━━━━━━━━━━━━━━━━━━━━\u001b[0m\u001b[37m\u001b[0m \u001b[1m0s\u001b[0m 1ms/step \n"
     ]
    },
    {
     "name": "stderr",
     "output_type": "stream",
     "text": [
      "WARNING:absl:You are saving your model as an HDF5 file via `model.save()` or `keras.saving.save_model(model)`. This file format is considered legacy. We recommend using instead the native Keras format, e.g. `model.save('my_model.keras')` or `keras.saving.save_model(model, 'my_model.keras')`. \n"
     ]
    },
    {
     "name": "stdout",
     "output_type": "stream",
     "text": [
      "  Testing shared_labels=11...\n",
      "\u001b[1m23/23\u001b[0m \u001b[32m━━━━━━━━━━━━━━━━━━━━\u001b[0m\u001b[37m\u001b[0m \u001b[1m0s\u001b[0m 1ms/step \n"
     ]
    },
    {
     "name": "stderr",
     "output_type": "stream",
     "text": [
      "WARNING:absl:You are saving your model as an HDF5 file via `model.save()` or `keras.saving.save_model(model)`. This file format is considered legacy. We recommend using instead the native Keras format, e.g. `model.save('my_model.keras')` or `keras.saving.save_model(model, 'my_model.keras')`. \n"
     ]
    },
    {
     "name": "stdout",
     "output_type": "stream",
     "text": [
      "  Testing shared_labels=12...\n",
      "\u001b[1m23/23\u001b[0m \u001b[32m━━━━━━━━━━━━━━━━━━━━\u001b[0m\u001b[37m\u001b[0m \u001b[1m0s\u001b[0m 1ms/step \n"
     ]
    },
    {
     "name": "stderr",
     "output_type": "stream",
     "text": [
      "WARNING:absl:You are saving your model as an HDF5 file via `model.save()` or `keras.saving.save_model(model)`. This file format is considered legacy. We recommend using instead the native Keras format, e.g. `model.save('my_model.keras')` or `keras.saving.save_model(model, 'my_model.keras')`. \n"
     ]
    },
    {
     "name": "stdout",
     "output_type": "stream",
     "text": [
      "  Testing shared_labels=13...\n",
      "\u001b[1m23/23\u001b[0m \u001b[32m━━━━━━━━━━━━━━━━━━━━\u001b[0m\u001b[37m\u001b[0m \u001b[1m0s\u001b[0m 1ms/step \n"
     ]
    },
    {
     "name": "stderr",
     "output_type": "stream",
     "text": [
      "WARNING:absl:You are saving your model as an HDF5 file via `model.save()` or `keras.saving.save_model(model)`. This file format is considered legacy. We recommend using instead the native Keras format, e.g. `model.save('my_model.keras')` or `keras.saving.save_model(model, 'my_model.keras')`. \n"
     ]
    },
    {
     "name": "stdout",
     "output_type": "stream",
     "text": [
      "\n",
      "--- Iteration 3/20 ---\n",
      "  Testing shared_labels=0...\n",
      "\u001b[1m23/23\u001b[0m \u001b[32m━━━━━━━━━━━━━━━━━━━━\u001b[0m\u001b[37m\u001b[0m \u001b[1m0s\u001b[0m 1ms/step \n"
     ]
    },
    {
     "name": "stderr",
     "output_type": "stream",
     "text": [
      "WARNING:absl:You are saving your model as an HDF5 file via `model.save()` or `keras.saving.save_model(model)`. This file format is considered legacy. We recommend using instead the native Keras format, e.g. `model.save('my_model.keras')` or `keras.saving.save_model(model, 'my_model.keras')`. \n"
     ]
    },
    {
     "name": "stdout",
     "output_type": "stream",
     "text": [
      "  Testing shared_labels=1...\n",
      "\u001b[1m23/23\u001b[0m \u001b[32m━━━━━━━━━━━━━━━━━━━━\u001b[0m\u001b[37m\u001b[0m \u001b[1m0s\u001b[0m 1ms/step \n"
     ]
    },
    {
     "name": "stderr",
     "output_type": "stream",
     "text": [
      "WARNING:absl:You are saving your model as an HDF5 file via `model.save()` or `keras.saving.save_model(model)`. This file format is considered legacy. We recommend using instead the native Keras format, e.g. `model.save('my_model.keras')` or `keras.saving.save_model(model, 'my_model.keras')`. \n"
     ]
    },
    {
     "name": "stdout",
     "output_type": "stream",
     "text": [
      "  Testing shared_labels=2...\n",
      "\u001b[1m23/23\u001b[0m \u001b[32m━━━━━━━━━━━━━━━━━━━━\u001b[0m\u001b[37m\u001b[0m \u001b[1m0s\u001b[0m 1ms/step \n"
     ]
    },
    {
     "name": "stderr",
     "output_type": "stream",
     "text": [
      "WARNING:absl:You are saving your model as an HDF5 file via `model.save()` or `keras.saving.save_model(model)`. This file format is considered legacy. We recommend using instead the native Keras format, e.g. `model.save('my_model.keras')` or `keras.saving.save_model(model, 'my_model.keras')`. \n"
     ]
    },
    {
     "name": "stdout",
     "output_type": "stream",
     "text": [
      "  Testing shared_labels=3...\n",
      "\u001b[1m23/23\u001b[0m \u001b[32m━━━━━━━━━━━━━━━━━━━━\u001b[0m\u001b[37m\u001b[0m \u001b[1m0s\u001b[0m 1ms/step \n"
     ]
    },
    {
     "name": "stderr",
     "output_type": "stream",
     "text": [
      "WARNING:absl:You are saving your model as an HDF5 file via `model.save()` or `keras.saving.save_model(model)`. This file format is considered legacy. We recommend using instead the native Keras format, e.g. `model.save('my_model.keras')` or `keras.saving.save_model(model, 'my_model.keras')`. \n"
     ]
    },
    {
     "name": "stdout",
     "output_type": "stream",
     "text": [
      "  Testing shared_labels=4...\n",
      "\u001b[1m23/23\u001b[0m \u001b[32m━━━━━━━━━━━━━━━━━━━━\u001b[0m\u001b[37m\u001b[0m \u001b[1m0s\u001b[0m 1ms/step \n"
     ]
    },
    {
     "name": "stderr",
     "output_type": "stream",
     "text": [
      "WARNING:absl:You are saving your model as an HDF5 file via `model.save()` or `keras.saving.save_model(model)`. This file format is considered legacy. We recommend using instead the native Keras format, e.g. `model.save('my_model.keras')` or `keras.saving.save_model(model, 'my_model.keras')`. \n"
     ]
    },
    {
     "name": "stdout",
     "output_type": "stream",
     "text": [
      "  Testing shared_labels=5...\n",
      "\u001b[1m23/23\u001b[0m \u001b[32m━━━━━━━━━━━━━━━━━━━━\u001b[0m\u001b[37m\u001b[0m \u001b[1m0s\u001b[0m 1ms/step \n"
     ]
    },
    {
     "name": "stderr",
     "output_type": "stream",
     "text": [
      "WARNING:absl:You are saving your model as an HDF5 file via `model.save()` or `keras.saving.save_model(model)`. This file format is considered legacy. We recommend using instead the native Keras format, e.g. `model.save('my_model.keras')` or `keras.saving.save_model(model, 'my_model.keras')`. \n"
     ]
    },
    {
     "name": "stdout",
     "output_type": "stream",
     "text": [
      "  Testing shared_labels=6...\n",
      "\u001b[1m23/23\u001b[0m \u001b[32m━━━━━━━━━━━━━━━━━━━━\u001b[0m\u001b[37m\u001b[0m \u001b[1m0s\u001b[0m 1ms/step \n"
     ]
    },
    {
     "name": "stderr",
     "output_type": "stream",
     "text": [
      "WARNING:absl:You are saving your model as an HDF5 file via `model.save()` or `keras.saving.save_model(model)`. This file format is considered legacy. We recommend using instead the native Keras format, e.g. `model.save('my_model.keras')` or `keras.saving.save_model(model, 'my_model.keras')`. \n"
     ]
    },
    {
     "name": "stdout",
     "output_type": "stream",
     "text": [
      "  Testing shared_labels=7...\n",
      "\u001b[1m23/23\u001b[0m \u001b[32m━━━━━━━━━━━━━━━━━━━━\u001b[0m\u001b[37m\u001b[0m \u001b[1m0s\u001b[0m 1ms/step \n"
     ]
    },
    {
     "name": "stderr",
     "output_type": "stream",
     "text": [
      "WARNING:absl:You are saving your model as an HDF5 file via `model.save()` or `keras.saving.save_model(model)`. This file format is considered legacy. We recommend using instead the native Keras format, e.g. `model.save('my_model.keras')` or `keras.saving.save_model(model, 'my_model.keras')`. \n"
     ]
    },
    {
     "name": "stdout",
     "output_type": "stream",
     "text": [
      "  Testing shared_labels=8...\n",
      "\u001b[1m23/23\u001b[0m \u001b[32m━━━━━━━━━━━━━━━━━━━━\u001b[0m\u001b[37m\u001b[0m \u001b[1m0s\u001b[0m 1ms/step \n"
     ]
    },
    {
     "name": "stderr",
     "output_type": "stream",
     "text": [
      "WARNING:absl:You are saving your model as an HDF5 file via `model.save()` or `keras.saving.save_model(model)`. This file format is considered legacy. We recommend using instead the native Keras format, e.g. `model.save('my_model.keras')` or `keras.saving.save_model(model, 'my_model.keras')`. \n"
     ]
    },
    {
     "name": "stdout",
     "output_type": "stream",
     "text": [
      "  Testing shared_labels=9...\n",
      "\u001b[1m23/23\u001b[0m \u001b[32m━━━━━━━━━━━━━━━━━━━━\u001b[0m\u001b[37m\u001b[0m \u001b[1m0s\u001b[0m 1ms/step \n"
     ]
    },
    {
     "name": "stderr",
     "output_type": "stream",
     "text": [
      "WARNING:absl:You are saving your model as an HDF5 file via `model.save()` or `keras.saving.save_model(model)`. This file format is considered legacy. We recommend using instead the native Keras format, e.g. `model.save('my_model.keras')` or `keras.saving.save_model(model, 'my_model.keras')`. \n"
     ]
    },
    {
     "name": "stdout",
     "output_type": "stream",
     "text": [
      "  Testing shared_labels=10...\n",
      "\u001b[1m23/23\u001b[0m \u001b[32m━━━━━━━━━━━━━━━━━━━━\u001b[0m\u001b[37m\u001b[0m \u001b[1m0s\u001b[0m 1ms/step \n"
     ]
    },
    {
     "name": "stderr",
     "output_type": "stream",
     "text": [
      "WARNING:absl:You are saving your model as an HDF5 file via `model.save()` or `keras.saving.save_model(model)`. This file format is considered legacy. We recommend using instead the native Keras format, e.g. `model.save('my_model.keras')` or `keras.saving.save_model(model, 'my_model.keras')`. \n"
     ]
    },
    {
     "name": "stdout",
     "output_type": "stream",
     "text": [
      "  Testing shared_labels=11...\n",
      "\u001b[1m23/23\u001b[0m \u001b[32m━━━━━━━━━━━━━━━━━━━━\u001b[0m\u001b[37m\u001b[0m \u001b[1m0s\u001b[0m 1ms/step \n"
     ]
    },
    {
     "name": "stderr",
     "output_type": "stream",
     "text": [
      "WARNING:absl:You are saving your model as an HDF5 file via `model.save()` or `keras.saving.save_model(model)`. This file format is considered legacy. We recommend using instead the native Keras format, e.g. `model.save('my_model.keras')` or `keras.saving.save_model(model, 'my_model.keras')`. \n"
     ]
    },
    {
     "name": "stdout",
     "output_type": "stream",
     "text": [
      "  Testing shared_labels=12...\n",
      "\u001b[1m23/23\u001b[0m \u001b[32m━━━━━━━━━━━━━━━━━━━━\u001b[0m\u001b[37m\u001b[0m \u001b[1m0s\u001b[0m 1ms/step \n"
     ]
    },
    {
     "name": "stderr",
     "output_type": "stream",
     "text": [
      "WARNING:absl:You are saving your model as an HDF5 file via `model.save()` or `keras.saving.save_model(model)`. This file format is considered legacy. We recommend using instead the native Keras format, e.g. `model.save('my_model.keras')` or `keras.saving.save_model(model, 'my_model.keras')`. \n"
     ]
    },
    {
     "name": "stdout",
     "output_type": "stream",
     "text": [
      "  Testing shared_labels=13...\n",
      "\u001b[1m23/23\u001b[0m \u001b[32m━━━━━━━━━━━━━━━━━━━━\u001b[0m\u001b[37m\u001b[0m \u001b[1m0s\u001b[0m 1ms/step \n"
     ]
    },
    {
     "name": "stderr",
     "output_type": "stream",
     "text": [
      "WARNING:absl:You are saving your model as an HDF5 file via `model.save()` or `keras.saving.save_model(model)`. This file format is considered legacy. We recommend using instead the native Keras format, e.g. `model.save('my_model.keras')` or `keras.saving.save_model(model, 'my_model.keras')`. \n"
     ]
    },
    {
     "name": "stdout",
     "output_type": "stream",
     "text": [
      "\n",
      "--- Iteration 4/20 ---\n",
      "  Testing shared_labels=0...\n",
      "\u001b[1m23/23\u001b[0m \u001b[32m━━━━━━━━━━━━━━━━━━━━\u001b[0m\u001b[37m\u001b[0m \u001b[1m0s\u001b[0m 1ms/step \n"
     ]
    },
    {
     "name": "stderr",
     "output_type": "stream",
     "text": [
      "WARNING:absl:You are saving your model as an HDF5 file via `model.save()` or `keras.saving.save_model(model)`. This file format is considered legacy. We recommend using instead the native Keras format, e.g. `model.save('my_model.keras')` or `keras.saving.save_model(model, 'my_model.keras')`. \n"
     ]
    },
    {
     "name": "stdout",
     "output_type": "stream",
     "text": [
      "  Testing shared_labels=1...\n",
      "\u001b[1m23/23\u001b[0m \u001b[32m━━━━━━━━━━━━━━━━━━━━\u001b[0m\u001b[37m\u001b[0m \u001b[1m0s\u001b[0m 1ms/step \n"
     ]
    },
    {
     "name": "stderr",
     "output_type": "stream",
     "text": [
      "WARNING:absl:You are saving your model as an HDF5 file via `model.save()` or `keras.saving.save_model(model)`. This file format is considered legacy. We recommend using instead the native Keras format, e.g. `model.save('my_model.keras')` or `keras.saving.save_model(model, 'my_model.keras')`. \n"
     ]
    },
    {
     "name": "stdout",
     "output_type": "stream",
     "text": [
      "  Testing shared_labels=2...\n",
      "\u001b[1m23/23\u001b[0m \u001b[32m━━━━━━━━━━━━━━━━━━━━\u001b[0m\u001b[37m\u001b[0m \u001b[1m0s\u001b[0m 1ms/step \n"
     ]
    },
    {
     "name": "stderr",
     "output_type": "stream",
     "text": [
      "WARNING:absl:You are saving your model as an HDF5 file via `model.save()` or `keras.saving.save_model(model)`. This file format is considered legacy. We recommend using instead the native Keras format, e.g. `model.save('my_model.keras')` or `keras.saving.save_model(model, 'my_model.keras')`. \n"
     ]
    },
    {
     "name": "stdout",
     "output_type": "stream",
     "text": [
      "  Testing shared_labels=3...\n",
      "\u001b[1m23/23\u001b[0m \u001b[32m━━━━━━━━━━━━━━━━━━━━\u001b[0m\u001b[37m\u001b[0m \u001b[1m0s\u001b[0m 1ms/step \n"
     ]
    },
    {
     "name": "stderr",
     "output_type": "stream",
     "text": [
      "WARNING:absl:You are saving your model as an HDF5 file via `model.save()` or `keras.saving.save_model(model)`. This file format is considered legacy. We recommend using instead the native Keras format, e.g. `model.save('my_model.keras')` or `keras.saving.save_model(model, 'my_model.keras')`. \n"
     ]
    },
    {
     "name": "stdout",
     "output_type": "stream",
     "text": [
      "  Testing shared_labels=4...\n",
      "\u001b[1m23/23\u001b[0m \u001b[32m━━━━━━━━━━━━━━━━━━━━\u001b[0m\u001b[37m\u001b[0m \u001b[1m0s\u001b[0m 1ms/step \n"
     ]
    },
    {
     "name": "stderr",
     "output_type": "stream",
     "text": [
      "WARNING:absl:You are saving your model as an HDF5 file via `model.save()` or `keras.saving.save_model(model)`. This file format is considered legacy. We recommend using instead the native Keras format, e.g. `model.save('my_model.keras')` or `keras.saving.save_model(model, 'my_model.keras')`. \n"
     ]
    },
    {
     "name": "stdout",
     "output_type": "stream",
     "text": [
      "  Testing shared_labels=5...\n",
      "\u001b[1m23/23\u001b[0m \u001b[32m━━━━━━━━━━━━━━━━━━━━\u001b[0m\u001b[37m\u001b[0m \u001b[1m0s\u001b[0m 1ms/step \n"
     ]
    },
    {
     "name": "stderr",
     "output_type": "stream",
     "text": [
      "WARNING:absl:You are saving your model as an HDF5 file via `model.save()` or `keras.saving.save_model(model)`. This file format is considered legacy. We recommend using instead the native Keras format, e.g. `model.save('my_model.keras')` or `keras.saving.save_model(model, 'my_model.keras')`. \n"
     ]
    },
    {
     "name": "stdout",
     "output_type": "stream",
     "text": [
      "  Testing shared_labels=6...\n",
      "\u001b[1m23/23\u001b[0m \u001b[32m━━━━━━━━━━━━━━━━━━━━\u001b[0m\u001b[37m\u001b[0m \u001b[1m0s\u001b[0m 1ms/step \n"
     ]
    },
    {
     "name": "stderr",
     "output_type": "stream",
     "text": [
      "WARNING:absl:You are saving your model as an HDF5 file via `model.save()` or `keras.saving.save_model(model)`. This file format is considered legacy. We recommend using instead the native Keras format, e.g. `model.save('my_model.keras')` or `keras.saving.save_model(model, 'my_model.keras')`. \n"
     ]
    },
    {
     "name": "stdout",
     "output_type": "stream",
     "text": [
      "  Testing shared_labels=7...\n",
      "\u001b[1m23/23\u001b[0m \u001b[32m━━━━━━━━━━━━━━━━━━━━\u001b[0m\u001b[37m\u001b[0m \u001b[1m0s\u001b[0m 1ms/step \n"
     ]
    },
    {
     "name": "stderr",
     "output_type": "stream",
     "text": [
      "WARNING:absl:You are saving your model as an HDF5 file via `model.save()` or `keras.saving.save_model(model)`. This file format is considered legacy. We recommend using instead the native Keras format, e.g. `model.save('my_model.keras')` or `keras.saving.save_model(model, 'my_model.keras')`. \n"
     ]
    },
    {
     "name": "stdout",
     "output_type": "stream",
     "text": [
      "  Testing shared_labels=8...\n",
      "\u001b[1m23/23\u001b[0m \u001b[32m━━━━━━━━━━━━━━━━━━━━\u001b[0m\u001b[37m\u001b[0m \u001b[1m0s\u001b[0m 1ms/step \n"
     ]
    },
    {
     "name": "stderr",
     "output_type": "stream",
     "text": [
      "WARNING:absl:You are saving your model as an HDF5 file via `model.save()` or `keras.saving.save_model(model)`. This file format is considered legacy. We recommend using instead the native Keras format, e.g. `model.save('my_model.keras')` or `keras.saving.save_model(model, 'my_model.keras')`. \n"
     ]
    },
    {
     "name": "stdout",
     "output_type": "stream",
     "text": [
      "  Testing shared_labels=9...\n",
      "\u001b[1m23/23\u001b[0m \u001b[32m━━━━━━━━━━━━━━━━━━━━\u001b[0m\u001b[37m\u001b[0m \u001b[1m0s\u001b[0m 1ms/step \n"
     ]
    },
    {
     "name": "stderr",
     "output_type": "stream",
     "text": [
      "WARNING:absl:You are saving your model as an HDF5 file via `model.save()` or `keras.saving.save_model(model)`. This file format is considered legacy. We recommend using instead the native Keras format, e.g. `model.save('my_model.keras')` or `keras.saving.save_model(model, 'my_model.keras')`. \n"
     ]
    },
    {
     "name": "stdout",
     "output_type": "stream",
     "text": [
      "  Testing shared_labels=10...\n",
      "\u001b[1m23/23\u001b[0m \u001b[32m━━━━━━━━━━━━━━━━━━━━\u001b[0m\u001b[37m\u001b[0m \u001b[1m0s\u001b[0m 1ms/step \n"
     ]
    },
    {
     "name": "stderr",
     "output_type": "stream",
     "text": [
      "WARNING:absl:You are saving your model as an HDF5 file via `model.save()` or `keras.saving.save_model(model)`. This file format is considered legacy. We recommend using instead the native Keras format, e.g. `model.save('my_model.keras')` or `keras.saving.save_model(model, 'my_model.keras')`. \n"
     ]
    },
    {
     "name": "stdout",
     "output_type": "stream",
     "text": [
      "  Testing shared_labels=11...\n",
      "\u001b[1m23/23\u001b[0m \u001b[32m━━━━━━━━━━━━━━━━━━━━\u001b[0m\u001b[37m\u001b[0m \u001b[1m0s\u001b[0m 1ms/step \n"
     ]
    },
    {
     "name": "stderr",
     "output_type": "stream",
     "text": [
      "WARNING:absl:You are saving your model as an HDF5 file via `model.save()` or `keras.saving.save_model(model)`. This file format is considered legacy. We recommend using instead the native Keras format, e.g. `model.save('my_model.keras')` or `keras.saving.save_model(model, 'my_model.keras')`. \n"
     ]
    },
    {
     "name": "stdout",
     "output_type": "stream",
     "text": [
      "  Testing shared_labels=12...\n",
      "\u001b[1m23/23\u001b[0m \u001b[32m━━━━━━━━━━━━━━━━━━━━\u001b[0m\u001b[37m\u001b[0m \u001b[1m0s\u001b[0m 1ms/step \n"
     ]
    },
    {
     "name": "stderr",
     "output_type": "stream",
     "text": [
      "WARNING:absl:You are saving your model as an HDF5 file via `model.save()` or `keras.saving.save_model(model)`. This file format is considered legacy. We recommend using instead the native Keras format, e.g. `model.save('my_model.keras')` or `keras.saving.save_model(model, 'my_model.keras')`. \n"
     ]
    },
    {
     "name": "stdout",
     "output_type": "stream",
     "text": [
      "  Testing shared_labels=13...\n",
      "\u001b[1m23/23\u001b[0m \u001b[32m━━━━━━━━━━━━━━━━━━━━\u001b[0m\u001b[37m\u001b[0m \u001b[1m0s\u001b[0m 1ms/step \n"
     ]
    },
    {
     "name": "stderr",
     "output_type": "stream",
     "text": [
      "WARNING:absl:You are saving your model as an HDF5 file via `model.save()` or `keras.saving.save_model(model)`. This file format is considered legacy. We recommend using instead the native Keras format, e.g. `model.save('my_model.keras')` or `keras.saving.save_model(model, 'my_model.keras')`. \n"
     ]
    },
    {
     "name": "stdout",
     "output_type": "stream",
     "text": [
      "\n",
      "--- Iteration 5/20 ---\n",
      "  Testing shared_labels=0...\n",
      "\u001b[1m23/23\u001b[0m \u001b[32m━━━━━━━━━━━━━━━━━━━━\u001b[0m\u001b[37m\u001b[0m \u001b[1m0s\u001b[0m 1ms/step \n"
     ]
    },
    {
     "name": "stderr",
     "output_type": "stream",
     "text": [
      "WARNING:absl:You are saving your model as an HDF5 file via `model.save()` or `keras.saving.save_model(model)`. This file format is considered legacy. We recommend using instead the native Keras format, e.g. `model.save('my_model.keras')` or `keras.saving.save_model(model, 'my_model.keras')`. \n"
     ]
    },
    {
     "name": "stdout",
     "output_type": "stream",
     "text": [
      "  Testing shared_labels=1...\n",
      "\u001b[1m23/23\u001b[0m \u001b[32m━━━━━━━━━━━━━━━━━━━━\u001b[0m\u001b[37m\u001b[0m \u001b[1m0s\u001b[0m 1ms/step \n"
     ]
    },
    {
     "name": "stderr",
     "output_type": "stream",
     "text": [
      "WARNING:absl:You are saving your model as an HDF5 file via `model.save()` or `keras.saving.save_model(model)`. This file format is considered legacy. We recommend using instead the native Keras format, e.g. `model.save('my_model.keras')` or `keras.saving.save_model(model, 'my_model.keras')`. \n"
     ]
    },
    {
     "name": "stdout",
     "output_type": "stream",
     "text": [
      "  Testing shared_labels=2...\n",
      "\u001b[1m23/23\u001b[0m \u001b[32m━━━━━━━━━━━━━━━━━━━━\u001b[0m\u001b[37m\u001b[0m \u001b[1m0s\u001b[0m 1ms/step \n"
     ]
    },
    {
     "name": "stderr",
     "output_type": "stream",
     "text": [
      "WARNING:absl:You are saving your model as an HDF5 file via `model.save()` or `keras.saving.save_model(model)`. This file format is considered legacy. We recommend using instead the native Keras format, e.g. `model.save('my_model.keras')` or `keras.saving.save_model(model, 'my_model.keras')`. \n"
     ]
    },
    {
     "name": "stdout",
     "output_type": "stream",
     "text": [
      "  Testing shared_labels=3...\n",
      "\u001b[1m23/23\u001b[0m \u001b[32m━━━━━━━━━━━━━━━━━━━━\u001b[0m\u001b[37m\u001b[0m \u001b[1m0s\u001b[0m 1ms/step \n"
     ]
    },
    {
     "name": "stderr",
     "output_type": "stream",
     "text": [
      "WARNING:absl:You are saving your model as an HDF5 file via `model.save()` or `keras.saving.save_model(model)`. This file format is considered legacy. We recommend using instead the native Keras format, e.g. `model.save('my_model.keras')` or `keras.saving.save_model(model, 'my_model.keras')`. \n"
     ]
    },
    {
     "name": "stdout",
     "output_type": "stream",
     "text": [
      "  Testing shared_labels=4...\n",
      "\u001b[1m23/23\u001b[0m \u001b[32m━━━━━━━━━━━━━━━━━━━━\u001b[0m\u001b[37m\u001b[0m \u001b[1m0s\u001b[0m 1ms/step \n"
     ]
    },
    {
     "name": "stderr",
     "output_type": "stream",
     "text": [
      "WARNING:absl:You are saving your model as an HDF5 file via `model.save()` or `keras.saving.save_model(model)`. This file format is considered legacy. We recommend using instead the native Keras format, e.g. `model.save('my_model.keras')` or `keras.saving.save_model(model, 'my_model.keras')`. \n"
     ]
    },
    {
     "name": "stdout",
     "output_type": "stream",
     "text": [
      "  Testing shared_labels=5...\n",
      "\u001b[1m23/23\u001b[0m \u001b[32m━━━━━━━━━━━━━━━━━━━━\u001b[0m\u001b[37m\u001b[0m \u001b[1m0s\u001b[0m 1ms/step \n"
     ]
    },
    {
     "name": "stderr",
     "output_type": "stream",
     "text": [
      "WARNING:absl:You are saving your model as an HDF5 file via `model.save()` or `keras.saving.save_model(model)`. This file format is considered legacy. We recommend using instead the native Keras format, e.g. `model.save('my_model.keras')` or `keras.saving.save_model(model, 'my_model.keras')`. \n"
     ]
    },
    {
     "name": "stdout",
     "output_type": "stream",
     "text": [
      "  Testing shared_labels=6...\n",
      "\u001b[1m23/23\u001b[0m \u001b[32m━━━━━━━━━━━━━━━━━━━━\u001b[0m\u001b[37m\u001b[0m \u001b[1m0s\u001b[0m 1ms/step \n"
     ]
    },
    {
     "name": "stderr",
     "output_type": "stream",
     "text": [
      "WARNING:absl:You are saving your model as an HDF5 file via `model.save()` or `keras.saving.save_model(model)`. This file format is considered legacy. We recommend using instead the native Keras format, e.g. `model.save('my_model.keras')` or `keras.saving.save_model(model, 'my_model.keras')`. \n"
     ]
    },
    {
     "name": "stdout",
     "output_type": "stream",
     "text": [
      "  Testing shared_labels=7...\n",
      "\u001b[1m23/23\u001b[0m \u001b[32m━━━━━━━━━━━━━━━━━━━━\u001b[0m\u001b[37m\u001b[0m \u001b[1m0s\u001b[0m 1ms/step \n"
     ]
    },
    {
     "name": "stderr",
     "output_type": "stream",
     "text": [
      "WARNING:absl:You are saving your model as an HDF5 file via `model.save()` or `keras.saving.save_model(model)`. This file format is considered legacy. We recommend using instead the native Keras format, e.g. `model.save('my_model.keras')` or `keras.saving.save_model(model, 'my_model.keras')`. \n"
     ]
    },
    {
     "name": "stdout",
     "output_type": "stream",
     "text": [
      "  Testing shared_labels=8...\n",
      "\u001b[1m23/23\u001b[0m \u001b[32m━━━━━━━━━━━━━━━━━━━━\u001b[0m\u001b[37m\u001b[0m \u001b[1m0s\u001b[0m 1ms/step \n"
     ]
    },
    {
     "name": "stderr",
     "output_type": "stream",
     "text": [
      "WARNING:absl:You are saving your model as an HDF5 file via `model.save()` or `keras.saving.save_model(model)`. This file format is considered legacy. We recommend using instead the native Keras format, e.g. `model.save('my_model.keras')` or `keras.saving.save_model(model, 'my_model.keras')`. \n"
     ]
    },
    {
     "name": "stdout",
     "output_type": "stream",
     "text": [
      "  Testing shared_labels=9...\n",
      "\u001b[1m23/23\u001b[0m \u001b[32m━━━━━━━━━━━━━━━━━━━━\u001b[0m\u001b[37m\u001b[0m \u001b[1m0s\u001b[0m 1ms/step \n"
     ]
    },
    {
     "name": "stderr",
     "output_type": "stream",
     "text": [
      "WARNING:absl:You are saving your model as an HDF5 file via `model.save()` or `keras.saving.save_model(model)`. This file format is considered legacy. We recommend using instead the native Keras format, e.g. `model.save('my_model.keras')` or `keras.saving.save_model(model, 'my_model.keras')`. \n"
     ]
    },
    {
     "name": "stdout",
     "output_type": "stream",
     "text": [
      "  Testing shared_labels=10...\n",
      "\u001b[1m23/23\u001b[0m \u001b[32m━━━━━━━━━━━━━━━━━━━━\u001b[0m\u001b[37m\u001b[0m \u001b[1m0s\u001b[0m 1ms/step \n"
     ]
    },
    {
     "name": "stderr",
     "output_type": "stream",
     "text": [
      "WARNING:absl:You are saving your model as an HDF5 file via `model.save()` or `keras.saving.save_model(model)`. This file format is considered legacy. We recommend using instead the native Keras format, e.g. `model.save('my_model.keras')` or `keras.saving.save_model(model, 'my_model.keras')`. \n"
     ]
    },
    {
     "name": "stdout",
     "output_type": "stream",
     "text": [
      "  Testing shared_labels=11...\n",
      "\u001b[1m23/23\u001b[0m \u001b[32m━━━━━━━━━━━━━━━━━━━━\u001b[0m\u001b[37m\u001b[0m \u001b[1m0s\u001b[0m 1ms/step \n"
     ]
    },
    {
     "name": "stderr",
     "output_type": "stream",
     "text": [
      "WARNING:absl:You are saving your model as an HDF5 file via `model.save()` or `keras.saving.save_model(model)`. This file format is considered legacy. We recommend using instead the native Keras format, e.g. `model.save('my_model.keras')` or `keras.saving.save_model(model, 'my_model.keras')`. \n"
     ]
    },
    {
     "name": "stdout",
     "output_type": "stream",
     "text": [
      "  Testing shared_labels=12...\n",
      "\u001b[1m23/23\u001b[0m \u001b[32m━━━━━━━━━━━━━━━━━━━━\u001b[0m\u001b[37m\u001b[0m \u001b[1m0s\u001b[0m 1ms/step \n"
     ]
    },
    {
     "name": "stderr",
     "output_type": "stream",
     "text": [
      "WARNING:absl:You are saving your model as an HDF5 file via `model.save()` or `keras.saving.save_model(model)`. This file format is considered legacy. We recommend using instead the native Keras format, e.g. `model.save('my_model.keras')` or `keras.saving.save_model(model, 'my_model.keras')`. \n"
     ]
    },
    {
     "name": "stdout",
     "output_type": "stream",
     "text": [
      "  Testing shared_labels=13...\n",
      "\u001b[1m23/23\u001b[0m \u001b[32m━━━━━━━━━━━━━━━━━━━━\u001b[0m\u001b[37m\u001b[0m \u001b[1m0s\u001b[0m 1ms/step \n"
     ]
    },
    {
     "name": "stderr",
     "output_type": "stream",
     "text": [
      "WARNING:absl:You are saving your model as an HDF5 file via `model.save()` or `keras.saving.save_model(model)`. This file format is considered legacy. We recommend using instead the native Keras format, e.g. `model.save('my_model.keras')` or `keras.saving.save_model(model, 'my_model.keras')`. \n"
     ]
    },
    {
     "name": "stdout",
     "output_type": "stream",
     "text": [
      "\n",
      "--- Iteration 6/20 ---\n",
      "  Testing shared_labels=0...\n",
      "\u001b[1m23/23\u001b[0m \u001b[32m━━━━━━━━━━━━━━━━━━━━\u001b[0m\u001b[37m\u001b[0m \u001b[1m0s\u001b[0m 1ms/step \n"
     ]
    },
    {
     "name": "stderr",
     "output_type": "stream",
     "text": [
      "WARNING:absl:You are saving your model as an HDF5 file via `model.save()` or `keras.saving.save_model(model)`. This file format is considered legacy. We recommend using instead the native Keras format, e.g. `model.save('my_model.keras')` or `keras.saving.save_model(model, 'my_model.keras')`. \n"
     ]
    },
    {
     "name": "stdout",
     "output_type": "stream",
     "text": [
      "  Testing shared_labels=1...\n",
      "\u001b[1m23/23\u001b[0m \u001b[32m━━━━━━━━━━━━━━━━━━━━\u001b[0m\u001b[37m\u001b[0m \u001b[1m0s\u001b[0m 1ms/step \n"
     ]
    },
    {
     "name": "stderr",
     "output_type": "stream",
     "text": [
      "WARNING:absl:You are saving your model as an HDF5 file via `model.save()` or `keras.saving.save_model(model)`. This file format is considered legacy. We recommend using instead the native Keras format, e.g. `model.save('my_model.keras')` or `keras.saving.save_model(model, 'my_model.keras')`. \n"
     ]
    },
    {
     "name": "stdout",
     "output_type": "stream",
     "text": [
      "  Testing shared_labels=2...\n",
      "\u001b[1m23/23\u001b[0m \u001b[32m━━━━━━━━━━━━━━━━━━━━\u001b[0m\u001b[37m\u001b[0m \u001b[1m0s\u001b[0m 1ms/step \n"
     ]
    },
    {
     "name": "stderr",
     "output_type": "stream",
     "text": [
      "WARNING:absl:You are saving your model as an HDF5 file via `model.save()` or `keras.saving.save_model(model)`. This file format is considered legacy. We recommend using instead the native Keras format, e.g. `model.save('my_model.keras')` or `keras.saving.save_model(model, 'my_model.keras')`. \n"
     ]
    },
    {
     "name": "stdout",
     "output_type": "stream",
     "text": [
      "  Testing shared_labels=3...\n",
      "\u001b[1m23/23\u001b[0m \u001b[32m━━━━━━━━━━━━━━━━━━━━\u001b[0m\u001b[37m\u001b[0m \u001b[1m0s\u001b[0m 1ms/step \n"
     ]
    },
    {
     "name": "stderr",
     "output_type": "stream",
     "text": [
      "WARNING:absl:You are saving your model as an HDF5 file via `model.save()` or `keras.saving.save_model(model)`. This file format is considered legacy. We recommend using instead the native Keras format, e.g. `model.save('my_model.keras')` or `keras.saving.save_model(model, 'my_model.keras')`. \n"
     ]
    },
    {
     "name": "stdout",
     "output_type": "stream",
     "text": [
      "  Testing shared_labels=4...\n",
      "\u001b[1m23/23\u001b[0m \u001b[32m━━━━━━━━━━━━━━━━━━━━\u001b[0m\u001b[37m\u001b[0m \u001b[1m0s\u001b[0m 1ms/step \n"
     ]
    },
    {
     "name": "stderr",
     "output_type": "stream",
     "text": [
      "WARNING:absl:You are saving your model as an HDF5 file via `model.save()` or `keras.saving.save_model(model)`. This file format is considered legacy. We recommend using instead the native Keras format, e.g. `model.save('my_model.keras')` or `keras.saving.save_model(model, 'my_model.keras')`. \n"
     ]
    },
    {
     "name": "stdout",
     "output_type": "stream",
     "text": [
      "  Testing shared_labels=5...\n",
      "\u001b[1m23/23\u001b[0m \u001b[32m━━━━━━━━━━━━━━━━━━━━\u001b[0m\u001b[37m\u001b[0m \u001b[1m0s\u001b[0m 1ms/step \n"
     ]
    },
    {
     "name": "stderr",
     "output_type": "stream",
     "text": [
      "WARNING:absl:You are saving your model as an HDF5 file via `model.save()` or `keras.saving.save_model(model)`. This file format is considered legacy. We recommend using instead the native Keras format, e.g. `model.save('my_model.keras')` or `keras.saving.save_model(model, 'my_model.keras')`. \n"
     ]
    },
    {
     "name": "stdout",
     "output_type": "stream",
     "text": [
      "  Testing shared_labels=6...\n",
      "\u001b[1m23/23\u001b[0m \u001b[32m━━━━━━━━━━━━━━━━━━━━\u001b[0m\u001b[37m\u001b[0m \u001b[1m0s\u001b[0m 1ms/step \n"
     ]
    },
    {
     "name": "stderr",
     "output_type": "stream",
     "text": [
      "WARNING:absl:You are saving your model as an HDF5 file via `model.save()` or `keras.saving.save_model(model)`. This file format is considered legacy. We recommend using instead the native Keras format, e.g. `model.save('my_model.keras')` or `keras.saving.save_model(model, 'my_model.keras')`. \n"
     ]
    },
    {
     "name": "stdout",
     "output_type": "stream",
     "text": [
      "  Testing shared_labels=7...\n",
      "\u001b[1m23/23\u001b[0m \u001b[32m━━━━━━━━━━━━━━━━━━━━\u001b[0m\u001b[37m\u001b[0m \u001b[1m0s\u001b[0m 1ms/step \n"
     ]
    },
    {
     "name": "stderr",
     "output_type": "stream",
     "text": [
      "WARNING:absl:You are saving your model as an HDF5 file via `model.save()` or `keras.saving.save_model(model)`. This file format is considered legacy. We recommend using instead the native Keras format, e.g. `model.save('my_model.keras')` or `keras.saving.save_model(model, 'my_model.keras')`. \n"
     ]
    },
    {
     "name": "stdout",
     "output_type": "stream",
     "text": [
      "  Testing shared_labels=8...\n",
      "\u001b[1m23/23\u001b[0m \u001b[32m━━━━━━━━━━━━━━━━━━━━\u001b[0m\u001b[37m\u001b[0m \u001b[1m0s\u001b[0m 1ms/step \n"
     ]
    },
    {
     "name": "stderr",
     "output_type": "stream",
     "text": [
      "WARNING:absl:You are saving your model as an HDF5 file via `model.save()` or `keras.saving.save_model(model)`. This file format is considered legacy. We recommend using instead the native Keras format, e.g. `model.save('my_model.keras')` or `keras.saving.save_model(model, 'my_model.keras')`. \n"
     ]
    },
    {
     "name": "stdout",
     "output_type": "stream",
     "text": [
      "  Testing shared_labels=9...\n",
      "\u001b[1m23/23\u001b[0m \u001b[32m━━━━━━━━━━━━━━━━━━━━\u001b[0m\u001b[37m\u001b[0m \u001b[1m0s\u001b[0m 1ms/step \n"
     ]
    },
    {
     "name": "stderr",
     "output_type": "stream",
     "text": [
      "WARNING:absl:You are saving your model as an HDF5 file via `model.save()` or `keras.saving.save_model(model)`. This file format is considered legacy. We recommend using instead the native Keras format, e.g. `model.save('my_model.keras')` or `keras.saving.save_model(model, 'my_model.keras')`. \n"
     ]
    },
    {
     "name": "stdout",
     "output_type": "stream",
     "text": [
      "  Testing shared_labels=10...\n",
      "\u001b[1m23/23\u001b[0m \u001b[32m━━━━━━━━━━━━━━━━━━━━\u001b[0m\u001b[37m\u001b[0m \u001b[1m0s\u001b[0m 1ms/step \n"
     ]
    },
    {
     "name": "stderr",
     "output_type": "stream",
     "text": [
      "WARNING:absl:You are saving your model as an HDF5 file via `model.save()` or `keras.saving.save_model(model)`. This file format is considered legacy. We recommend using instead the native Keras format, e.g. `model.save('my_model.keras')` or `keras.saving.save_model(model, 'my_model.keras')`. \n"
     ]
    },
    {
     "name": "stdout",
     "output_type": "stream",
     "text": [
      "  Testing shared_labels=11...\n",
      "\u001b[1m23/23\u001b[0m \u001b[32m━━━━━━━━━━━━━━━━━━━━\u001b[0m\u001b[37m\u001b[0m \u001b[1m0s\u001b[0m 1ms/step \n"
     ]
    },
    {
     "name": "stderr",
     "output_type": "stream",
     "text": [
      "WARNING:absl:You are saving your model as an HDF5 file via `model.save()` or `keras.saving.save_model(model)`. This file format is considered legacy. We recommend using instead the native Keras format, e.g. `model.save('my_model.keras')` or `keras.saving.save_model(model, 'my_model.keras')`. \n"
     ]
    },
    {
     "name": "stdout",
     "output_type": "stream",
     "text": [
      "  Testing shared_labels=12...\n",
      "\u001b[1m23/23\u001b[0m \u001b[32m━━━━━━━━━━━━━━━━━━━━\u001b[0m\u001b[37m\u001b[0m \u001b[1m0s\u001b[0m 1ms/step \n"
     ]
    },
    {
     "name": "stderr",
     "output_type": "stream",
     "text": [
      "WARNING:absl:You are saving your model as an HDF5 file via `model.save()` or `keras.saving.save_model(model)`. This file format is considered legacy. We recommend using instead the native Keras format, e.g. `model.save('my_model.keras')` or `keras.saving.save_model(model, 'my_model.keras')`. \n"
     ]
    },
    {
     "name": "stdout",
     "output_type": "stream",
     "text": [
      "  Testing shared_labels=13...\n",
      "\u001b[1m23/23\u001b[0m \u001b[32m━━━━━━━━━━━━━━━━━━━━\u001b[0m\u001b[37m\u001b[0m \u001b[1m0s\u001b[0m 1ms/step \n"
     ]
    },
    {
     "name": "stderr",
     "output_type": "stream",
     "text": [
      "WARNING:absl:You are saving your model as an HDF5 file via `model.save()` or `keras.saving.save_model(model)`. This file format is considered legacy. We recommend using instead the native Keras format, e.g. `model.save('my_model.keras')` or `keras.saving.save_model(model, 'my_model.keras')`. \n"
     ]
    },
    {
     "name": "stdout",
     "output_type": "stream",
     "text": [
      "\n",
      "--- Iteration 7/20 ---\n",
      "  Testing shared_labels=0...\n",
      "\u001b[1m23/23\u001b[0m \u001b[32m━━━━━━━━━━━━━━━━━━━━\u001b[0m\u001b[37m\u001b[0m \u001b[1m0s\u001b[0m 1ms/step \n"
     ]
    },
    {
     "name": "stderr",
     "output_type": "stream",
     "text": [
      "WARNING:absl:You are saving your model as an HDF5 file via `model.save()` or `keras.saving.save_model(model)`. This file format is considered legacy. We recommend using instead the native Keras format, e.g. `model.save('my_model.keras')` or `keras.saving.save_model(model, 'my_model.keras')`. \n"
     ]
    },
    {
     "name": "stdout",
     "output_type": "stream",
     "text": [
      "  Testing shared_labels=1...\n",
      "\u001b[1m23/23\u001b[0m \u001b[32m━━━━━━━━━━━━━━━━━━━━\u001b[0m\u001b[37m\u001b[0m \u001b[1m0s\u001b[0m 1ms/step \n"
     ]
    },
    {
     "name": "stderr",
     "output_type": "stream",
     "text": [
      "WARNING:absl:You are saving your model as an HDF5 file via `model.save()` or `keras.saving.save_model(model)`. This file format is considered legacy. We recommend using instead the native Keras format, e.g. `model.save('my_model.keras')` or `keras.saving.save_model(model, 'my_model.keras')`. \n"
     ]
    },
    {
     "name": "stdout",
     "output_type": "stream",
     "text": [
      "  Testing shared_labels=2...\n",
      "\u001b[1m23/23\u001b[0m \u001b[32m━━━━━━━━━━━━━━━━━━━━\u001b[0m\u001b[37m\u001b[0m \u001b[1m0s\u001b[0m 1ms/step \n"
     ]
    },
    {
     "name": "stderr",
     "output_type": "stream",
     "text": [
      "WARNING:absl:You are saving your model as an HDF5 file via `model.save()` or `keras.saving.save_model(model)`. This file format is considered legacy. We recommend using instead the native Keras format, e.g. `model.save('my_model.keras')` or `keras.saving.save_model(model, 'my_model.keras')`. \n"
     ]
    },
    {
     "name": "stdout",
     "output_type": "stream",
     "text": [
      "  Testing shared_labels=3...\n",
      "\u001b[1m23/23\u001b[0m \u001b[32m━━━━━━━━━━━━━━━━━━━━\u001b[0m\u001b[37m\u001b[0m \u001b[1m0s\u001b[0m 1ms/step \n"
     ]
    },
    {
     "name": "stderr",
     "output_type": "stream",
     "text": [
      "WARNING:absl:You are saving your model as an HDF5 file via `model.save()` or `keras.saving.save_model(model)`. This file format is considered legacy. We recommend using instead the native Keras format, e.g. `model.save('my_model.keras')` or `keras.saving.save_model(model, 'my_model.keras')`. \n"
     ]
    },
    {
     "name": "stdout",
     "output_type": "stream",
     "text": [
      "  Testing shared_labels=4...\n",
      "\u001b[1m23/23\u001b[0m \u001b[32m━━━━━━━━━━━━━━━━━━━━\u001b[0m\u001b[37m\u001b[0m \u001b[1m0s\u001b[0m 1ms/step \n"
     ]
    },
    {
     "name": "stderr",
     "output_type": "stream",
     "text": [
      "WARNING:absl:You are saving your model as an HDF5 file via `model.save()` or `keras.saving.save_model(model)`. This file format is considered legacy. We recommend using instead the native Keras format, e.g. `model.save('my_model.keras')` or `keras.saving.save_model(model, 'my_model.keras')`. \n"
     ]
    },
    {
     "name": "stdout",
     "output_type": "stream",
     "text": [
      "  Testing shared_labels=5...\n",
      "\u001b[1m23/23\u001b[0m \u001b[32m━━━━━━━━━━━━━━━━━━━━\u001b[0m\u001b[37m\u001b[0m \u001b[1m0s\u001b[0m 1ms/step \n"
     ]
    },
    {
     "name": "stderr",
     "output_type": "stream",
     "text": [
      "WARNING:absl:You are saving your model as an HDF5 file via `model.save()` or `keras.saving.save_model(model)`. This file format is considered legacy. We recommend using instead the native Keras format, e.g. `model.save('my_model.keras')` or `keras.saving.save_model(model, 'my_model.keras')`. \n"
     ]
    },
    {
     "name": "stdout",
     "output_type": "stream",
     "text": [
      "  Testing shared_labels=6...\n",
      "\u001b[1m23/23\u001b[0m \u001b[32m━━━━━━━━━━━━━━━━━━━━\u001b[0m\u001b[37m\u001b[0m \u001b[1m0s\u001b[0m 2ms/step \n"
     ]
    },
    {
     "name": "stderr",
     "output_type": "stream",
     "text": [
      "WARNING:absl:You are saving your model as an HDF5 file via `model.save()` or `keras.saving.save_model(model)`. This file format is considered legacy. We recommend using instead the native Keras format, e.g. `model.save('my_model.keras')` or `keras.saving.save_model(model, 'my_model.keras')`. \n"
     ]
    },
    {
     "name": "stdout",
     "output_type": "stream",
     "text": [
      "  Testing shared_labels=7...\n",
      "\u001b[1m23/23\u001b[0m \u001b[32m━━━━━━━━━━━━━━━━━━━━\u001b[0m\u001b[37m\u001b[0m \u001b[1m0s\u001b[0m 1ms/step \n"
     ]
    },
    {
     "name": "stderr",
     "output_type": "stream",
     "text": [
      "WARNING:absl:You are saving your model as an HDF5 file via `model.save()` or `keras.saving.save_model(model)`. This file format is considered legacy. We recommend using instead the native Keras format, e.g. `model.save('my_model.keras')` or `keras.saving.save_model(model, 'my_model.keras')`. \n"
     ]
    },
    {
     "name": "stdout",
     "output_type": "stream",
     "text": [
      "  Testing shared_labels=8...\n",
      "\u001b[1m23/23\u001b[0m \u001b[32m━━━━━━━━━━━━━━━━━━━━\u001b[0m\u001b[37m\u001b[0m \u001b[1m0s\u001b[0m 1ms/step \n"
     ]
    },
    {
     "name": "stderr",
     "output_type": "stream",
     "text": [
      "WARNING:absl:You are saving your model as an HDF5 file via `model.save()` or `keras.saving.save_model(model)`. This file format is considered legacy. We recommend using instead the native Keras format, e.g. `model.save('my_model.keras')` or `keras.saving.save_model(model, 'my_model.keras')`. \n"
     ]
    },
    {
     "name": "stdout",
     "output_type": "stream",
     "text": [
      "  Testing shared_labels=9...\n",
      "\u001b[1m23/23\u001b[0m \u001b[32m━━━━━━━━━━━━━━━━━━━━\u001b[0m\u001b[37m\u001b[0m \u001b[1m0s\u001b[0m 1ms/step \n"
     ]
    },
    {
     "name": "stderr",
     "output_type": "stream",
     "text": [
      "WARNING:absl:You are saving your model as an HDF5 file via `model.save()` or `keras.saving.save_model(model)`. This file format is considered legacy. We recommend using instead the native Keras format, e.g. `model.save('my_model.keras')` or `keras.saving.save_model(model, 'my_model.keras')`. \n"
     ]
    },
    {
     "name": "stdout",
     "output_type": "stream",
     "text": [
      "  Testing shared_labels=10...\n",
      "\u001b[1m23/23\u001b[0m \u001b[32m━━━━━━━━━━━━━━━━━━━━\u001b[0m\u001b[37m\u001b[0m \u001b[1m0s\u001b[0m 1ms/step \n"
     ]
    },
    {
     "name": "stderr",
     "output_type": "stream",
     "text": [
      "WARNING:absl:You are saving your model as an HDF5 file via `model.save()` or `keras.saving.save_model(model)`. This file format is considered legacy. We recommend using instead the native Keras format, e.g. `model.save('my_model.keras')` or `keras.saving.save_model(model, 'my_model.keras')`. \n"
     ]
    },
    {
     "name": "stdout",
     "output_type": "stream",
     "text": [
      "  Testing shared_labels=11...\n",
      "\u001b[1m23/23\u001b[0m \u001b[32m━━━━━━━━━━━━━━━━━━━━\u001b[0m\u001b[37m\u001b[0m \u001b[1m0s\u001b[0m 1ms/step \n"
     ]
    },
    {
     "name": "stderr",
     "output_type": "stream",
     "text": [
      "WARNING:absl:You are saving your model as an HDF5 file via `model.save()` or `keras.saving.save_model(model)`. This file format is considered legacy. We recommend using instead the native Keras format, e.g. `model.save('my_model.keras')` or `keras.saving.save_model(model, 'my_model.keras')`. \n"
     ]
    },
    {
     "name": "stdout",
     "output_type": "stream",
     "text": [
      "  Testing shared_labels=12...\n",
      "\u001b[1m23/23\u001b[0m \u001b[32m━━━━━━━━━━━━━━━━━━━━\u001b[0m\u001b[37m\u001b[0m \u001b[1m0s\u001b[0m 1ms/step \n"
     ]
    },
    {
     "name": "stderr",
     "output_type": "stream",
     "text": [
      "WARNING:absl:You are saving your model as an HDF5 file via `model.save()` or `keras.saving.save_model(model)`. This file format is considered legacy. We recommend using instead the native Keras format, e.g. `model.save('my_model.keras')` or `keras.saving.save_model(model, 'my_model.keras')`. \n"
     ]
    },
    {
     "name": "stdout",
     "output_type": "stream",
     "text": [
      "  Testing shared_labels=13...\n",
      "\u001b[1m23/23\u001b[0m \u001b[32m━━━━━━━━━━━━━━━━━━━━\u001b[0m\u001b[37m\u001b[0m \u001b[1m0s\u001b[0m 1ms/step \n"
     ]
    },
    {
     "name": "stderr",
     "output_type": "stream",
     "text": [
      "WARNING:absl:You are saving your model as an HDF5 file via `model.save()` or `keras.saving.save_model(model)`. This file format is considered legacy. We recommend using instead the native Keras format, e.g. `model.save('my_model.keras')` or `keras.saving.save_model(model, 'my_model.keras')`. \n"
     ]
    },
    {
     "name": "stdout",
     "output_type": "stream",
     "text": [
      "\n",
      "--- Iteration 8/20 ---\n",
      "  Testing shared_labels=0...\n",
      "\u001b[1m23/23\u001b[0m \u001b[32m━━━━━━━━━━━━━━━━━━━━\u001b[0m\u001b[37m\u001b[0m \u001b[1m0s\u001b[0m 1ms/step \n"
     ]
    },
    {
     "name": "stderr",
     "output_type": "stream",
     "text": [
      "WARNING:absl:You are saving your model as an HDF5 file via `model.save()` or `keras.saving.save_model(model)`. This file format is considered legacy. We recommend using instead the native Keras format, e.g. `model.save('my_model.keras')` or `keras.saving.save_model(model, 'my_model.keras')`. \n"
     ]
    },
    {
     "name": "stdout",
     "output_type": "stream",
     "text": [
      "  Testing shared_labels=1...\n",
      "\u001b[1m23/23\u001b[0m \u001b[32m━━━━━━━━━━━━━━━━━━━━\u001b[0m\u001b[37m\u001b[0m \u001b[1m0s\u001b[0m 1ms/step \n"
     ]
    },
    {
     "name": "stderr",
     "output_type": "stream",
     "text": [
      "WARNING:absl:You are saving your model as an HDF5 file via `model.save()` or `keras.saving.save_model(model)`. This file format is considered legacy. We recommend using instead the native Keras format, e.g. `model.save('my_model.keras')` or `keras.saving.save_model(model, 'my_model.keras')`. \n"
     ]
    },
    {
     "name": "stdout",
     "output_type": "stream",
     "text": [
      "  Testing shared_labels=2...\n",
      "\u001b[1m23/23\u001b[0m \u001b[32m━━━━━━━━━━━━━━━━━━━━\u001b[0m\u001b[37m\u001b[0m \u001b[1m0s\u001b[0m 1ms/step \n"
     ]
    },
    {
     "name": "stderr",
     "output_type": "stream",
     "text": [
      "WARNING:absl:You are saving your model as an HDF5 file via `model.save()` or `keras.saving.save_model(model)`. This file format is considered legacy. We recommend using instead the native Keras format, e.g. `model.save('my_model.keras')` or `keras.saving.save_model(model, 'my_model.keras')`. \n"
     ]
    },
    {
     "name": "stdout",
     "output_type": "stream",
     "text": [
      "  Testing shared_labels=3...\n",
      "\u001b[1m23/23\u001b[0m \u001b[32m━━━━━━━━━━━━━━━━━━━━\u001b[0m\u001b[37m\u001b[0m \u001b[1m0s\u001b[0m 1ms/step \n"
     ]
    },
    {
     "name": "stderr",
     "output_type": "stream",
     "text": [
      "WARNING:absl:You are saving your model as an HDF5 file via `model.save()` or `keras.saving.save_model(model)`. This file format is considered legacy. We recommend using instead the native Keras format, e.g. `model.save('my_model.keras')` or `keras.saving.save_model(model, 'my_model.keras')`. \n"
     ]
    },
    {
     "name": "stdout",
     "output_type": "stream",
     "text": [
      "  Testing shared_labels=4...\n",
      "\u001b[1m23/23\u001b[0m \u001b[32m━━━━━━━━━━━━━━━━━━━━\u001b[0m\u001b[37m\u001b[0m \u001b[1m0s\u001b[0m 2ms/step \n"
     ]
    },
    {
     "name": "stderr",
     "output_type": "stream",
     "text": [
      "WARNING:absl:You are saving your model as an HDF5 file via `model.save()` or `keras.saving.save_model(model)`. This file format is considered legacy. We recommend using instead the native Keras format, e.g. `model.save('my_model.keras')` or `keras.saving.save_model(model, 'my_model.keras')`. \n"
     ]
    },
    {
     "name": "stdout",
     "output_type": "stream",
     "text": [
      "  Testing shared_labels=5...\n",
      "\u001b[1m23/23\u001b[0m \u001b[32m━━━━━━━━━━━━━━━━━━━━\u001b[0m\u001b[37m\u001b[0m \u001b[1m0s\u001b[0m 1ms/step \n"
     ]
    },
    {
     "name": "stderr",
     "output_type": "stream",
     "text": [
      "WARNING:absl:You are saving your model as an HDF5 file via `model.save()` or `keras.saving.save_model(model)`. This file format is considered legacy. We recommend using instead the native Keras format, e.g. `model.save('my_model.keras')` or `keras.saving.save_model(model, 'my_model.keras')`. \n"
     ]
    },
    {
     "name": "stdout",
     "output_type": "stream",
     "text": [
      "  Testing shared_labels=6...\n",
      "\u001b[1m23/23\u001b[0m \u001b[32m━━━━━━━━━━━━━━━━━━━━\u001b[0m\u001b[37m\u001b[0m \u001b[1m0s\u001b[0m 1ms/step \n"
     ]
    },
    {
     "name": "stderr",
     "output_type": "stream",
     "text": [
      "WARNING:absl:You are saving your model as an HDF5 file via `model.save()` or `keras.saving.save_model(model)`. This file format is considered legacy. We recommend using instead the native Keras format, e.g. `model.save('my_model.keras')` or `keras.saving.save_model(model, 'my_model.keras')`. \n"
     ]
    },
    {
     "name": "stdout",
     "output_type": "stream",
     "text": [
      "  Testing shared_labels=7...\n",
      "\u001b[1m23/23\u001b[0m \u001b[32m━━━━━━━━━━━━━━━━━━━━\u001b[0m\u001b[37m\u001b[0m \u001b[1m0s\u001b[0m 1ms/step \n"
     ]
    },
    {
     "name": "stderr",
     "output_type": "stream",
     "text": [
      "WARNING:absl:You are saving your model as an HDF5 file via `model.save()` or `keras.saving.save_model(model)`. This file format is considered legacy. We recommend using instead the native Keras format, e.g. `model.save('my_model.keras')` or `keras.saving.save_model(model, 'my_model.keras')`. \n"
     ]
    },
    {
     "name": "stdout",
     "output_type": "stream",
     "text": [
      "  Testing shared_labels=8...\n",
      "\u001b[1m23/23\u001b[0m \u001b[32m━━━━━━━━━━━━━━━━━━━━\u001b[0m\u001b[37m\u001b[0m \u001b[1m0s\u001b[0m 1ms/step \n"
     ]
    },
    {
     "name": "stderr",
     "output_type": "stream",
     "text": [
      "WARNING:absl:You are saving your model as an HDF5 file via `model.save()` or `keras.saving.save_model(model)`. This file format is considered legacy. We recommend using instead the native Keras format, e.g. `model.save('my_model.keras')` or `keras.saving.save_model(model, 'my_model.keras')`. \n"
     ]
    },
    {
     "name": "stdout",
     "output_type": "stream",
     "text": [
      "  Testing shared_labels=9...\n",
      "\u001b[1m23/23\u001b[0m \u001b[32m━━━━━━━━━━━━━━━━━━━━\u001b[0m\u001b[37m\u001b[0m \u001b[1m0s\u001b[0m 1ms/step \n"
     ]
    },
    {
     "name": "stderr",
     "output_type": "stream",
     "text": [
      "WARNING:absl:You are saving your model as an HDF5 file via `model.save()` or `keras.saving.save_model(model)`. This file format is considered legacy. We recommend using instead the native Keras format, e.g. `model.save('my_model.keras')` or `keras.saving.save_model(model, 'my_model.keras')`. \n"
     ]
    },
    {
     "name": "stdout",
     "output_type": "stream",
     "text": [
      "  Testing shared_labels=10...\n",
      "\u001b[1m23/23\u001b[0m \u001b[32m━━━━━━━━━━━━━━━━━━━━\u001b[0m\u001b[37m\u001b[0m \u001b[1m0s\u001b[0m 1ms/step \n"
     ]
    },
    {
     "name": "stderr",
     "output_type": "stream",
     "text": [
      "WARNING:absl:You are saving your model as an HDF5 file via `model.save()` or `keras.saving.save_model(model)`. This file format is considered legacy. We recommend using instead the native Keras format, e.g. `model.save('my_model.keras')` or `keras.saving.save_model(model, 'my_model.keras')`. \n"
     ]
    },
    {
     "name": "stdout",
     "output_type": "stream",
     "text": [
      "  Testing shared_labels=11...\n",
      "\u001b[1m23/23\u001b[0m \u001b[32m━━━━━━━━━━━━━━━━━━━━\u001b[0m\u001b[37m\u001b[0m \u001b[1m0s\u001b[0m 1ms/step \n"
     ]
    },
    {
     "name": "stderr",
     "output_type": "stream",
     "text": [
      "WARNING:absl:You are saving your model as an HDF5 file via `model.save()` or `keras.saving.save_model(model)`. This file format is considered legacy. We recommend using instead the native Keras format, e.g. `model.save('my_model.keras')` or `keras.saving.save_model(model, 'my_model.keras')`. \n"
     ]
    },
    {
     "name": "stdout",
     "output_type": "stream",
     "text": [
      "  Testing shared_labels=12...\n",
      "\u001b[1m23/23\u001b[0m \u001b[32m━━━━━━━━━━━━━━━━━━━━\u001b[0m\u001b[37m\u001b[0m \u001b[1m0s\u001b[0m 1ms/step \n"
     ]
    },
    {
     "name": "stderr",
     "output_type": "stream",
     "text": [
      "WARNING:absl:You are saving your model as an HDF5 file via `model.save()` or `keras.saving.save_model(model)`. This file format is considered legacy. We recommend using instead the native Keras format, e.g. `model.save('my_model.keras')` or `keras.saving.save_model(model, 'my_model.keras')`. \n"
     ]
    },
    {
     "name": "stdout",
     "output_type": "stream",
     "text": [
      "  Testing shared_labels=13...\n",
      "\u001b[1m23/23\u001b[0m \u001b[32m━━━━━━━━━━━━━━━━━━━━\u001b[0m\u001b[37m\u001b[0m \u001b[1m0s\u001b[0m 1ms/step \n"
     ]
    },
    {
     "name": "stderr",
     "output_type": "stream",
     "text": [
      "WARNING:absl:You are saving your model as an HDF5 file via `model.save()` or `keras.saving.save_model(model)`. This file format is considered legacy. We recommend using instead the native Keras format, e.g. `model.save('my_model.keras')` or `keras.saving.save_model(model, 'my_model.keras')`. \n"
     ]
    },
    {
     "name": "stdout",
     "output_type": "stream",
     "text": [
      "\n",
      "--- Iteration 9/20 ---\n",
      "  Testing shared_labels=0...\n",
      "\u001b[1m23/23\u001b[0m \u001b[32m━━━━━━━━━━━━━━━━━━━━\u001b[0m\u001b[37m\u001b[0m \u001b[1m0s\u001b[0m 1ms/step \n"
     ]
    },
    {
     "name": "stderr",
     "output_type": "stream",
     "text": [
      "WARNING:absl:You are saving your model as an HDF5 file via `model.save()` or `keras.saving.save_model(model)`. This file format is considered legacy. We recommend using instead the native Keras format, e.g. `model.save('my_model.keras')` or `keras.saving.save_model(model, 'my_model.keras')`. \n"
     ]
    },
    {
     "name": "stdout",
     "output_type": "stream",
     "text": [
      "  Testing shared_labels=1...\n",
      "\u001b[1m23/23\u001b[0m \u001b[32m━━━━━━━━━━━━━━━━━━━━\u001b[0m\u001b[37m\u001b[0m \u001b[1m0s\u001b[0m 1ms/step \n"
     ]
    },
    {
     "name": "stderr",
     "output_type": "stream",
     "text": [
      "WARNING:absl:You are saving your model as an HDF5 file via `model.save()` or `keras.saving.save_model(model)`. This file format is considered legacy. We recommend using instead the native Keras format, e.g. `model.save('my_model.keras')` or `keras.saving.save_model(model, 'my_model.keras')`. \n"
     ]
    },
    {
     "name": "stdout",
     "output_type": "stream",
     "text": [
      "  Testing shared_labels=2...\n",
      "\u001b[1m23/23\u001b[0m \u001b[32m━━━━━━━━━━━━━━━━━━━━\u001b[0m\u001b[37m\u001b[0m \u001b[1m0s\u001b[0m 1ms/step \n"
     ]
    },
    {
     "name": "stderr",
     "output_type": "stream",
     "text": [
      "WARNING:absl:You are saving your model as an HDF5 file via `model.save()` or `keras.saving.save_model(model)`. This file format is considered legacy. We recommend using instead the native Keras format, e.g. `model.save('my_model.keras')` or `keras.saving.save_model(model, 'my_model.keras')`. \n"
     ]
    },
    {
     "name": "stdout",
     "output_type": "stream",
     "text": [
      "  Testing shared_labels=3...\n",
      "\u001b[1m23/23\u001b[0m \u001b[32m━━━━━━━━━━━━━━━━━━━━\u001b[0m\u001b[37m\u001b[0m \u001b[1m0s\u001b[0m 1ms/step \n"
     ]
    },
    {
     "name": "stderr",
     "output_type": "stream",
     "text": [
      "WARNING:absl:You are saving your model as an HDF5 file via `model.save()` or `keras.saving.save_model(model)`. This file format is considered legacy. We recommend using instead the native Keras format, e.g. `model.save('my_model.keras')` or `keras.saving.save_model(model, 'my_model.keras')`. \n"
     ]
    },
    {
     "name": "stdout",
     "output_type": "stream",
     "text": [
      "  Testing shared_labels=4...\n",
      "\u001b[1m23/23\u001b[0m \u001b[32m━━━━━━━━━━━━━━━━━━━━\u001b[0m\u001b[37m\u001b[0m \u001b[1m0s\u001b[0m 1ms/step \n"
     ]
    },
    {
     "name": "stderr",
     "output_type": "stream",
     "text": [
      "WARNING:absl:You are saving your model as an HDF5 file via `model.save()` or `keras.saving.save_model(model)`. This file format is considered legacy. We recommend using instead the native Keras format, e.g. `model.save('my_model.keras')` or `keras.saving.save_model(model, 'my_model.keras')`. \n"
     ]
    },
    {
     "name": "stdout",
     "output_type": "stream",
     "text": [
      "  Testing shared_labels=5...\n",
      "\u001b[1m23/23\u001b[0m \u001b[32m━━━━━━━━━━━━━━━━━━━━\u001b[0m\u001b[37m\u001b[0m \u001b[1m0s\u001b[0m 1ms/step \n"
     ]
    },
    {
     "name": "stderr",
     "output_type": "stream",
     "text": [
      "WARNING:absl:You are saving your model as an HDF5 file via `model.save()` or `keras.saving.save_model(model)`. This file format is considered legacy. We recommend using instead the native Keras format, e.g. `model.save('my_model.keras')` or `keras.saving.save_model(model, 'my_model.keras')`. \n"
     ]
    },
    {
     "name": "stdout",
     "output_type": "stream",
     "text": [
      "  Testing shared_labels=6...\n",
      "\u001b[1m23/23\u001b[0m \u001b[32m━━━━━━━━━━━━━━━━━━━━\u001b[0m\u001b[37m\u001b[0m \u001b[1m0s\u001b[0m 1ms/step \n"
     ]
    },
    {
     "name": "stderr",
     "output_type": "stream",
     "text": [
      "WARNING:absl:You are saving your model as an HDF5 file via `model.save()` or `keras.saving.save_model(model)`. This file format is considered legacy. We recommend using instead the native Keras format, e.g. `model.save('my_model.keras')` or `keras.saving.save_model(model, 'my_model.keras')`. \n"
     ]
    },
    {
     "name": "stdout",
     "output_type": "stream",
     "text": [
      "  Testing shared_labels=7...\n",
      "\u001b[1m23/23\u001b[0m \u001b[32m━━━━━━━━━━━━━━━━━━━━\u001b[0m\u001b[37m\u001b[0m \u001b[1m0s\u001b[0m 2ms/step \n"
     ]
    },
    {
     "name": "stderr",
     "output_type": "stream",
     "text": [
      "WARNING:absl:You are saving your model as an HDF5 file via `model.save()` or `keras.saving.save_model(model)`. This file format is considered legacy. We recommend using instead the native Keras format, e.g. `model.save('my_model.keras')` or `keras.saving.save_model(model, 'my_model.keras')`. \n"
     ]
    },
    {
     "name": "stdout",
     "output_type": "stream",
     "text": [
      "  Testing shared_labels=8...\n",
      "\u001b[1m23/23\u001b[0m \u001b[32m━━━━━━━━━━━━━━━━━━━━\u001b[0m\u001b[37m\u001b[0m \u001b[1m0s\u001b[0m 1ms/step \n"
     ]
    },
    {
     "name": "stderr",
     "output_type": "stream",
     "text": [
      "WARNING:absl:You are saving your model as an HDF5 file via `model.save()` or `keras.saving.save_model(model)`. This file format is considered legacy. We recommend using instead the native Keras format, e.g. `model.save('my_model.keras')` or `keras.saving.save_model(model, 'my_model.keras')`. \n"
     ]
    },
    {
     "name": "stdout",
     "output_type": "stream",
     "text": [
      "  Testing shared_labels=9...\n",
      "\u001b[1m23/23\u001b[0m \u001b[32m━━━━━━━━━━━━━━━━━━━━\u001b[0m\u001b[37m\u001b[0m \u001b[1m0s\u001b[0m 1ms/step \n"
     ]
    },
    {
     "name": "stderr",
     "output_type": "stream",
     "text": [
      "WARNING:absl:You are saving your model as an HDF5 file via `model.save()` or `keras.saving.save_model(model)`. This file format is considered legacy. We recommend using instead the native Keras format, e.g. `model.save('my_model.keras')` or `keras.saving.save_model(model, 'my_model.keras')`. \n"
     ]
    },
    {
     "name": "stdout",
     "output_type": "stream",
     "text": [
      "  Testing shared_labels=10...\n",
      "\u001b[1m23/23\u001b[0m \u001b[32m━━━━━━━━━━━━━━━━━━━━\u001b[0m\u001b[37m\u001b[0m \u001b[1m0s\u001b[0m 2ms/step \n"
     ]
    },
    {
     "name": "stderr",
     "output_type": "stream",
     "text": [
      "WARNING:absl:You are saving your model as an HDF5 file via `model.save()` or `keras.saving.save_model(model)`. This file format is considered legacy. We recommend using instead the native Keras format, e.g. `model.save('my_model.keras')` or `keras.saving.save_model(model, 'my_model.keras')`. \n"
     ]
    },
    {
     "name": "stdout",
     "output_type": "stream",
     "text": [
      "  Testing shared_labels=11...\n",
      "\u001b[1m23/23\u001b[0m \u001b[32m━━━━━━━━━━━━━━━━━━━━\u001b[0m\u001b[37m\u001b[0m \u001b[1m0s\u001b[0m 1ms/step \n"
     ]
    },
    {
     "name": "stderr",
     "output_type": "stream",
     "text": [
      "WARNING:absl:You are saving your model as an HDF5 file via `model.save()` or `keras.saving.save_model(model)`. This file format is considered legacy. We recommend using instead the native Keras format, e.g. `model.save('my_model.keras')` or `keras.saving.save_model(model, 'my_model.keras')`. \n"
     ]
    },
    {
     "name": "stdout",
     "output_type": "stream",
     "text": [
      "  Testing shared_labels=12...\n",
      "\u001b[1m23/23\u001b[0m \u001b[32m━━━━━━━━━━━━━━━━━━━━\u001b[0m\u001b[37m\u001b[0m \u001b[1m0s\u001b[0m 1ms/step \n"
     ]
    },
    {
     "name": "stderr",
     "output_type": "stream",
     "text": [
      "WARNING:absl:You are saving your model as an HDF5 file via `model.save()` or `keras.saving.save_model(model)`. This file format is considered legacy. We recommend using instead the native Keras format, e.g. `model.save('my_model.keras')` or `keras.saving.save_model(model, 'my_model.keras')`. \n"
     ]
    },
    {
     "name": "stdout",
     "output_type": "stream",
     "text": [
      "  Testing shared_labels=13...\n",
      "\u001b[1m23/23\u001b[0m \u001b[32m━━━━━━━━━━━━━━━━━━━━\u001b[0m\u001b[37m\u001b[0m \u001b[1m0s\u001b[0m 1ms/step \n"
     ]
    },
    {
     "name": "stderr",
     "output_type": "stream",
     "text": [
      "WARNING:absl:You are saving your model as an HDF5 file via `model.save()` or `keras.saving.save_model(model)`. This file format is considered legacy. We recommend using instead the native Keras format, e.g. `model.save('my_model.keras')` or `keras.saving.save_model(model, 'my_model.keras')`. \n"
     ]
    },
    {
     "name": "stdout",
     "output_type": "stream",
     "text": [
      "\n",
      "--- Iteration 10/20 ---\n",
      "  Testing shared_labels=0...\n",
      "\u001b[1m23/23\u001b[0m \u001b[32m━━━━━━━━━━━━━━━━━━━━\u001b[0m\u001b[37m\u001b[0m \u001b[1m0s\u001b[0m 1ms/step \n"
     ]
    },
    {
     "name": "stderr",
     "output_type": "stream",
     "text": [
      "WARNING:absl:You are saving your model as an HDF5 file via `model.save()` or `keras.saving.save_model(model)`. This file format is considered legacy. We recommend using instead the native Keras format, e.g. `model.save('my_model.keras')` or `keras.saving.save_model(model, 'my_model.keras')`. \n"
     ]
    },
    {
     "name": "stdout",
     "output_type": "stream",
     "text": [
      "  Testing shared_labels=1...\n",
      "\u001b[1m23/23\u001b[0m \u001b[32m━━━━━━━━━━━━━━━━━━━━\u001b[0m\u001b[37m\u001b[0m \u001b[1m0s\u001b[0m 2ms/step \n"
     ]
    },
    {
     "name": "stderr",
     "output_type": "stream",
     "text": [
      "WARNING:absl:You are saving your model as an HDF5 file via `model.save()` or `keras.saving.save_model(model)`. This file format is considered legacy. We recommend using instead the native Keras format, e.g. `model.save('my_model.keras')` or `keras.saving.save_model(model, 'my_model.keras')`. \n"
     ]
    },
    {
     "name": "stdout",
     "output_type": "stream",
     "text": [
      "  Testing shared_labels=2...\n",
      "\u001b[1m23/23\u001b[0m \u001b[32m━━━━━━━━━━━━━━━━━━━━\u001b[0m\u001b[37m\u001b[0m \u001b[1m0s\u001b[0m 2ms/step \n"
     ]
    },
    {
     "name": "stderr",
     "output_type": "stream",
     "text": [
      "WARNING:absl:You are saving your model as an HDF5 file via `model.save()` or `keras.saving.save_model(model)`. This file format is considered legacy. We recommend using instead the native Keras format, e.g. `model.save('my_model.keras')` or `keras.saving.save_model(model, 'my_model.keras')`. \n"
     ]
    },
    {
     "name": "stdout",
     "output_type": "stream",
     "text": [
      "  Testing shared_labels=3...\n",
      "\u001b[1m23/23\u001b[0m \u001b[32m━━━━━━━━━━━━━━━━━━━━\u001b[0m\u001b[37m\u001b[0m \u001b[1m0s\u001b[0m 2ms/step \n"
     ]
    },
    {
     "name": "stderr",
     "output_type": "stream",
     "text": [
      "WARNING:absl:You are saving your model as an HDF5 file via `model.save()` or `keras.saving.save_model(model)`. This file format is considered legacy. We recommend using instead the native Keras format, e.g. `model.save('my_model.keras')` or `keras.saving.save_model(model, 'my_model.keras')`. \n"
     ]
    },
    {
     "name": "stdout",
     "output_type": "stream",
     "text": [
      "  Testing shared_labels=4...\n",
      "\u001b[1m23/23\u001b[0m \u001b[32m━━━━━━━━━━━━━━━━━━━━\u001b[0m\u001b[37m\u001b[0m \u001b[1m0s\u001b[0m 2ms/step \n"
     ]
    },
    {
     "name": "stderr",
     "output_type": "stream",
     "text": [
      "WARNING:absl:You are saving your model as an HDF5 file via `model.save()` or `keras.saving.save_model(model)`. This file format is considered legacy. We recommend using instead the native Keras format, e.g. `model.save('my_model.keras')` or `keras.saving.save_model(model, 'my_model.keras')`. \n"
     ]
    },
    {
     "name": "stdout",
     "output_type": "stream",
     "text": [
      "  Testing shared_labels=5...\n",
      "\u001b[1m23/23\u001b[0m \u001b[32m━━━━━━━━━━━━━━━━━━━━\u001b[0m\u001b[37m\u001b[0m \u001b[1m0s\u001b[0m 2ms/step \n"
     ]
    },
    {
     "name": "stderr",
     "output_type": "stream",
     "text": [
      "WARNING:absl:You are saving your model as an HDF5 file via `model.save()` or `keras.saving.save_model(model)`. This file format is considered legacy. We recommend using instead the native Keras format, e.g. `model.save('my_model.keras')` or `keras.saving.save_model(model, 'my_model.keras')`. \n"
     ]
    },
    {
     "name": "stdout",
     "output_type": "stream",
     "text": [
      "  Testing shared_labels=6...\n",
      "\u001b[1m23/23\u001b[0m \u001b[32m━━━━━━━━━━━━━━━━━━━━\u001b[0m\u001b[37m\u001b[0m \u001b[1m0s\u001b[0m 2ms/step \n"
     ]
    },
    {
     "name": "stderr",
     "output_type": "stream",
     "text": [
      "WARNING:absl:You are saving your model as an HDF5 file via `model.save()` or `keras.saving.save_model(model)`. This file format is considered legacy. We recommend using instead the native Keras format, e.g. `model.save('my_model.keras')` or `keras.saving.save_model(model, 'my_model.keras')`. \n"
     ]
    },
    {
     "name": "stdout",
     "output_type": "stream",
     "text": [
      "  Testing shared_labels=7...\n",
      "\u001b[1m23/23\u001b[0m \u001b[32m━━━━━━━━━━━━━━━━━━━━\u001b[0m\u001b[37m\u001b[0m \u001b[1m0s\u001b[0m 2ms/step \n"
     ]
    },
    {
     "name": "stderr",
     "output_type": "stream",
     "text": [
      "WARNING:absl:You are saving your model as an HDF5 file via `model.save()` or `keras.saving.save_model(model)`. This file format is considered legacy. We recommend using instead the native Keras format, e.g. `model.save('my_model.keras')` or `keras.saving.save_model(model, 'my_model.keras')`. \n"
     ]
    },
    {
     "name": "stdout",
     "output_type": "stream",
     "text": [
      "  Testing shared_labels=8...\n",
      "\u001b[1m23/23\u001b[0m \u001b[32m━━━━━━━━━━━━━━━━━━━━\u001b[0m\u001b[37m\u001b[0m \u001b[1m0s\u001b[0m 2ms/step \n"
     ]
    },
    {
     "name": "stderr",
     "output_type": "stream",
     "text": [
      "WARNING:absl:You are saving your model as an HDF5 file via `model.save()` or `keras.saving.save_model(model)`. This file format is considered legacy. We recommend using instead the native Keras format, e.g. `model.save('my_model.keras')` or `keras.saving.save_model(model, 'my_model.keras')`. \n"
     ]
    },
    {
     "name": "stdout",
     "output_type": "stream",
     "text": [
      "  Testing shared_labels=9...\n",
      "\u001b[1m23/23\u001b[0m \u001b[32m━━━━━━━━━━━━━━━━━━━━\u001b[0m\u001b[37m\u001b[0m \u001b[1m0s\u001b[0m 2ms/step \n"
     ]
    },
    {
     "name": "stderr",
     "output_type": "stream",
     "text": [
      "WARNING:absl:You are saving your model as an HDF5 file via `model.save()` or `keras.saving.save_model(model)`. This file format is considered legacy. We recommend using instead the native Keras format, e.g. `model.save('my_model.keras')` or `keras.saving.save_model(model, 'my_model.keras')`. \n"
     ]
    },
    {
     "name": "stdout",
     "output_type": "stream",
     "text": [
      "  Testing shared_labels=10...\n",
      "\u001b[1m23/23\u001b[0m \u001b[32m━━━━━━━━━━━━━━━━━━━━\u001b[0m\u001b[37m\u001b[0m \u001b[1m0s\u001b[0m 2ms/step \n"
     ]
    },
    {
     "name": "stderr",
     "output_type": "stream",
     "text": [
      "WARNING:absl:You are saving your model as an HDF5 file via `model.save()` or `keras.saving.save_model(model)`. This file format is considered legacy. We recommend using instead the native Keras format, e.g. `model.save('my_model.keras')` or `keras.saving.save_model(model, 'my_model.keras')`. \n"
     ]
    },
    {
     "name": "stdout",
     "output_type": "stream",
     "text": [
      "  Testing shared_labels=11...\n",
      "\u001b[1m23/23\u001b[0m \u001b[32m━━━━━━━━━━━━━━━━━━━━\u001b[0m\u001b[37m\u001b[0m \u001b[1m0s\u001b[0m 2ms/step \n"
     ]
    },
    {
     "name": "stderr",
     "output_type": "stream",
     "text": [
      "WARNING:absl:You are saving your model as an HDF5 file via `model.save()` or `keras.saving.save_model(model)`. This file format is considered legacy. We recommend using instead the native Keras format, e.g. `model.save('my_model.keras')` or `keras.saving.save_model(model, 'my_model.keras')`. \n"
     ]
    },
    {
     "name": "stdout",
     "output_type": "stream",
     "text": [
      "  Testing shared_labels=12...\n",
      "\u001b[1m23/23\u001b[0m \u001b[32m━━━━━━━━━━━━━━━━━━━━\u001b[0m\u001b[37m\u001b[0m \u001b[1m0s\u001b[0m 1ms/step \n"
     ]
    },
    {
     "name": "stderr",
     "output_type": "stream",
     "text": [
      "WARNING:absl:You are saving your model as an HDF5 file via `model.save()` or `keras.saving.save_model(model)`. This file format is considered legacy. We recommend using instead the native Keras format, e.g. `model.save('my_model.keras')` or `keras.saving.save_model(model, 'my_model.keras')`. \n"
     ]
    },
    {
     "name": "stdout",
     "output_type": "stream",
     "text": [
      "  Testing shared_labels=13...\n",
      "\u001b[1m23/23\u001b[0m \u001b[32m━━━━━━━━━━━━━━━━━━━━\u001b[0m\u001b[37m\u001b[0m \u001b[1m0s\u001b[0m 1ms/step \n"
     ]
    },
    {
     "name": "stderr",
     "output_type": "stream",
     "text": [
      "WARNING:absl:You are saving your model as an HDF5 file via `model.save()` or `keras.saving.save_model(model)`. This file format is considered legacy. We recommend using instead the native Keras format, e.g. `model.save('my_model.keras')` or `keras.saving.save_model(model, 'my_model.keras')`. \n"
     ]
    },
    {
     "name": "stdout",
     "output_type": "stream",
     "text": [
      "\n",
      "--- Iteration 11/20 ---\n",
      "  Testing shared_labels=0...\n",
      "\u001b[1m23/23\u001b[0m \u001b[32m━━━━━━━━━━━━━━━━━━━━\u001b[0m\u001b[37m\u001b[0m \u001b[1m0s\u001b[0m 2ms/step \n"
     ]
    },
    {
     "name": "stderr",
     "output_type": "stream",
     "text": [
      "WARNING:absl:You are saving your model as an HDF5 file via `model.save()` or `keras.saving.save_model(model)`. This file format is considered legacy. We recommend using instead the native Keras format, e.g. `model.save('my_model.keras')` or `keras.saving.save_model(model, 'my_model.keras')`. \n"
     ]
    },
    {
     "name": "stdout",
     "output_type": "stream",
     "text": [
      "  Testing shared_labels=1...\n",
      "\u001b[1m23/23\u001b[0m \u001b[32m━━━━━━━━━━━━━━━━━━━━\u001b[0m\u001b[37m\u001b[0m \u001b[1m0s\u001b[0m 1ms/step \n"
     ]
    },
    {
     "name": "stderr",
     "output_type": "stream",
     "text": [
      "WARNING:absl:You are saving your model as an HDF5 file via `model.save()` or `keras.saving.save_model(model)`. This file format is considered legacy. We recommend using instead the native Keras format, e.g. `model.save('my_model.keras')` or `keras.saving.save_model(model, 'my_model.keras')`. \n"
     ]
    },
    {
     "name": "stdout",
     "output_type": "stream",
     "text": [
      "  Testing shared_labels=2...\n",
      "\u001b[1m23/23\u001b[0m \u001b[32m━━━━━━━━━━━━━━━━━━━━\u001b[0m\u001b[37m\u001b[0m \u001b[1m0s\u001b[0m 2ms/step \n"
     ]
    },
    {
     "name": "stderr",
     "output_type": "stream",
     "text": [
      "WARNING:absl:You are saving your model as an HDF5 file via `model.save()` or `keras.saving.save_model(model)`. This file format is considered legacy. We recommend using instead the native Keras format, e.g. `model.save('my_model.keras')` or `keras.saving.save_model(model, 'my_model.keras')`. \n"
     ]
    },
    {
     "name": "stdout",
     "output_type": "stream",
     "text": [
      "  Testing shared_labels=3...\n",
      "\u001b[1m23/23\u001b[0m \u001b[32m━━━━━━━━━━━━━━━━━━━━\u001b[0m\u001b[37m\u001b[0m \u001b[1m0s\u001b[0m 2ms/step \n"
     ]
    },
    {
     "name": "stderr",
     "output_type": "stream",
     "text": [
      "WARNING:absl:You are saving your model as an HDF5 file via `model.save()` or `keras.saving.save_model(model)`. This file format is considered legacy. We recommend using instead the native Keras format, e.g. `model.save('my_model.keras')` or `keras.saving.save_model(model, 'my_model.keras')`. \n"
     ]
    },
    {
     "name": "stdout",
     "output_type": "stream",
     "text": [
      "  Testing shared_labels=4...\n",
      "\u001b[1m23/23\u001b[0m \u001b[32m━━━━━━━━━━━━━━━━━━━━\u001b[0m\u001b[37m\u001b[0m \u001b[1m0s\u001b[0m 1ms/step \n"
     ]
    },
    {
     "name": "stderr",
     "output_type": "stream",
     "text": [
      "WARNING:absl:You are saving your model as an HDF5 file via `model.save()` or `keras.saving.save_model(model)`. This file format is considered legacy. We recommend using instead the native Keras format, e.g. `model.save('my_model.keras')` or `keras.saving.save_model(model, 'my_model.keras')`. \n"
     ]
    },
    {
     "name": "stdout",
     "output_type": "stream",
     "text": [
      "  Testing shared_labels=5...\n",
      "\u001b[1m23/23\u001b[0m \u001b[32m━━━━━━━━━━━━━━━━━━━━\u001b[0m\u001b[37m\u001b[0m \u001b[1m0s\u001b[0m 2ms/step \n"
     ]
    },
    {
     "name": "stderr",
     "output_type": "stream",
     "text": [
      "WARNING:absl:You are saving your model as an HDF5 file via `model.save()` or `keras.saving.save_model(model)`. This file format is considered legacy. We recommend using instead the native Keras format, e.g. `model.save('my_model.keras')` or `keras.saving.save_model(model, 'my_model.keras')`. \n"
     ]
    },
    {
     "name": "stdout",
     "output_type": "stream",
     "text": [
      "  Testing shared_labels=6...\n",
      "\u001b[1m23/23\u001b[0m \u001b[32m━━━━━━━━━━━━━━━━━━━━\u001b[0m\u001b[37m\u001b[0m \u001b[1m0s\u001b[0m 2ms/step \n"
     ]
    },
    {
     "name": "stderr",
     "output_type": "stream",
     "text": [
      "WARNING:absl:You are saving your model as an HDF5 file via `model.save()` or `keras.saving.save_model(model)`. This file format is considered legacy. We recommend using instead the native Keras format, e.g. `model.save('my_model.keras')` or `keras.saving.save_model(model, 'my_model.keras')`. \n"
     ]
    },
    {
     "name": "stdout",
     "output_type": "stream",
     "text": [
      "  Testing shared_labels=7...\n",
      "\u001b[1m23/23\u001b[0m \u001b[32m━━━━━━━━━━━━━━━━━━━━\u001b[0m\u001b[37m\u001b[0m \u001b[1m0s\u001b[0m 1ms/step \n"
     ]
    },
    {
     "name": "stderr",
     "output_type": "stream",
     "text": [
      "WARNING:absl:You are saving your model as an HDF5 file via `model.save()` or `keras.saving.save_model(model)`. This file format is considered legacy. We recommend using instead the native Keras format, e.g. `model.save('my_model.keras')` or `keras.saving.save_model(model, 'my_model.keras')`. \n"
     ]
    },
    {
     "name": "stdout",
     "output_type": "stream",
     "text": [
      "  Testing shared_labels=8...\n",
      "\u001b[1m23/23\u001b[0m \u001b[32m━━━━━━━━━━━━━━━━━━━━\u001b[0m\u001b[37m\u001b[0m \u001b[1m0s\u001b[0m 1ms/step \n"
     ]
    },
    {
     "name": "stderr",
     "output_type": "stream",
     "text": [
      "WARNING:absl:You are saving your model as an HDF5 file via `model.save()` or `keras.saving.save_model(model)`. This file format is considered legacy. We recommend using instead the native Keras format, e.g. `model.save('my_model.keras')` or `keras.saving.save_model(model, 'my_model.keras')`. \n"
     ]
    },
    {
     "name": "stdout",
     "output_type": "stream",
     "text": [
      "  Testing shared_labels=9...\n",
      "\u001b[1m23/23\u001b[0m \u001b[32m━━━━━━━━━━━━━━━━━━━━\u001b[0m\u001b[37m\u001b[0m \u001b[1m0s\u001b[0m 1ms/step \n"
     ]
    },
    {
     "name": "stderr",
     "output_type": "stream",
     "text": [
      "WARNING:absl:You are saving your model as an HDF5 file via `model.save()` or `keras.saving.save_model(model)`. This file format is considered legacy. We recommend using instead the native Keras format, e.g. `model.save('my_model.keras')` or `keras.saving.save_model(model, 'my_model.keras')`. \n"
     ]
    },
    {
     "name": "stdout",
     "output_type": "stream",
     "text": [
      "  Testing shared_labels=10...\n",
      "\u001b[1m23/23\u001b[0m \u001b[32m━━━━━━━━━━━━━━━━━━━━\u001b[0m\u001b[37m\u001b[0m \u001b[1m0s\u001b[0m 1ms/step \n"
     ]
    },
    {
     "name": "stderr",
     "output_type": "stream",
     "text": [
      "WARNING:absl:You are saving your model as an HDF5 file via `model.save()` or `keras.saving.save_model(model)`. This file format is considered legacy. We recommend using instead the native Keras format, e.g. `model.save('my_model.keras')` or `keras.saving.save_model(model, 'my_model.keras')`. \n"
     ]
    },
    {
     "name": "stdout",
     "output_type": "stream",
     "text": [
      "  Testing shared_labels=11...\n",
      "\u001b[1m23/23\u001b[0m \u001b[32m━━━━━━━━━━━━━━━━━━━━\u001b[0m\u001b[37m\u001b[0m \u001b[1m0s\u001b[0m 1ms/step \n"
     ]
    },
    {
     "name": "stderr",
     "output_type": "stream",
     "text": [
      "WARNING:absl:You are saving your model as an HDF5 file via `model.save()` or `keras.saving.save_model(model)`. This file format is considered legacy. We recommend using instead the native Keras format, e.g. `model.save('my_model.keras')` or `keras.saving.save_model(model, 'my_model.keras')`. \n"
     ]
    },
    {
     "name": "stdout",
     "output_type": "stream",
     "text": [
      "  Testing shared_labels=12...\n",
      "\u001b[1m23/23\u001b[0m \u001b[32m━━━━━━━━━━━━━━━━━━━━\u001b[0m\u001b[37m\u001b[0m \u001b[1m0s\u001b[0m 2ms/step \n"
     ]
    },
    {
     "name": "stderr",
     "output_type": "stream",
     "text": [
      "WARNING:absl:You are saving your model as an HDF5 file via `model.save()` or `keras.saving.save_model(model)`. This file format is considered legacy. We recommend using instead the native Keras format, e.g. `model.save('my_model.keras')` or `keras.saving.save_model(model, 'my_model.keras')`. \n"
     ]
    },
    {
     "name": "stdout",
     "output_type": "stream",
     "text": [
      "  Testing shared_labels=13...\n",
      "\u001b[1m23/23\u001b[0m \u001b[32m━━━━━━━━━━━━━━━━━━━━\u001b[0m\u001b[37m\u001b[0m \u001b[1m0s\u001b[0m 1ms/step \n"
     ]
    },
    {
     "name": "stderr",
     "output_type": "stream",
     "text": [
      "WARNING:absl:You are saving your model as an HDF5 file via `model.save()` or `keras.saving.save_model(model)`. This file format is considered legacy. We recommend using instead the native Keras format, e.g. `model.save('my_model.keras')` or `keras.saving.save_model(model, 'my_model.keras')`. \n"
     ]
    },
    {
     "name": "stdout",
     "output_type": "stream",
     "text": [
      "\n",
      "--- Iteration 12/20 ---\n",
      "  Testing shared_labels=0...\n",
      "\u001b[1m23/23\u001b[0m \u001b[32m━━━━━━━━━━━━━━━━━━━━\u001b[0m\u001b[37m\u001b[0m \u001b[1m0s\u001b[0m 1ms/step \n"
     ]
    },
    {
     "name": "stderr",
     "output_type": "stream",
     "text": [
      "WARNING:absl:You are saving your model as an HDF5 file via `model.save()` or `keras.saving.save_model(model)`. This file format is considered legacy. We recommend using instead the native Keras format, e.g. `model.save('my_model.keras')` or `keras.saving.save_model(model, 'my_model.keras')`. \n"
     ]
    },
    {
     "name": "stdout",
     "output_type": "stream",
     "text": [
      "  Testing shared_labels=1...\n",
      "\u001b[1m23/23\u001b[0m \u001b[32m━━━━━━━━━━━━━━━━━━━━\u001b[0m\u001b[37m\u001b[0m \u001b[1m0s\u001b[0m 1ms/step \n"
     ]
    },
    {
     "name": "stderr",
     "output_type": "stream",
     "text": [
      "WARNING:absl:You are saving your model as an HDF5 file via `model.save()` or `keras.saving.save_model(model)`. This file format is considered legacy. We recommend using instead the native Keras format, e.g. `model.save('my_model.keras')` or `keras.saving.save_model(model, 'my_model.keras')`. \n"
     ]
    },
    {
     "name": "stdout",
     "output_type": "stream",
     "text": [
      "  Testing shared_labels=2...\n",
      "\u001b[1m23/23\u001b[0m \u001b[32m━━━━━━━━━━━━━━━━━━━━\u001b[0m\u001b[37m\u001b[0m \u001b[1m0s\u001b[0m 1ms/step \n"
     ]
    },
    {
     "name": "stderr",
     "output_type": "stream",
     "text": [
      "WARNING:absl:You are saving your model as an HDF5 file via `model.save()` or `keras.saving.save_model(model)`. This file format is considered legacy. We recommend using instead the native Keras format, e.g. `model.save('my_model.keras')` or `keras.saving.save_model(model, 'my_model.keras')`. \n"
     ]
    },
    {
     "name": "stdout",
     "output_type": "stream",
     "text": [
      "  Testing shared_labels=3...\n",
      "\u001b[1m23/23\u001b[0m \u001b[32m━━━━━━━━━━━━━━━━━━━━\u001b[0m\u001b[37m\u001b[0m \u001b[1m0s\u001b[0m 1ms/step \n"
     ]
    },
    {
     "name": "stderr",
     "output_type": "stream",
     "text": [
      "WARNING:absl:You are saving your model as an HDF5 file via `model.save()` or `keras.saving.save_model(model)`. This file format is considered legacy. We recommend using instead the native Keras format, e.g. `model.save('my_model.keras')` or `keras.saving.save_model(model, 'my_model.keras')`. \n"
     ]
    },
    {
     "name": "stdout",
     "output_type": "stream",
     "text": [
      "  Testing shared_labels=4...\n",
      "\u001b[1m23/23\u001b[0m \u001b[32m━━━━━━━━━━━━━━━━━━━━\u001b[0m\u001b[37m\u001b[0m \u001b[1m0s\u001b[0m 1ms/step \n"
     ]
    },
    {
     "name": "stderr",
     "output_type": "stream",
     "text": [
      "WARNING:absl:You are saving your model as an HDF5 file via `model.save()` or `keras.saving.save_model(model)`. This file format is considered legacy. We recommend using instead the native Keras format, e.g. `model.save('my_model.keras')` or `keras.saving.save_model(model, 'my_model.keras')`. \n"
     ]
    },
    {
     "name": "stdout",
     "output_type": "stream",
     "text": [
      "  Testing shared_labels=5...\n",
      "\u001b[1m23/23\u001b[0m \u001b[32m━━━━━━━━━━━━━━━━━━━━\u001b[0m\u001b[37m\u001b[0m \u001b[1m0s\u001b[0m 2ms/step \n"
     ]
    },
    {
     "name": "stderr",
     "output_type": "stream",
     "text": [
      "WARNING:absl:You are saving your model as an HDF5 file via `model.save()` or `keras.saving.save_model(model)`. This file format is considered legacy. We recommend using instead the native Keras format, e.g. `model.save('my_model.keras')` or `keras.saving.save_model(model, 'my_model.keras')`. \n"
     ]
    },
    {
     "name": "stdout",
     "output_type": "stream",
     "text": [
      "  Testing shared_labels=6...\n",
      "\u001b[1m23/23\u001b[0m \u001b[32m━━━━━━━━━━━━━━━━━━━━\u001b[0m\u001b[37m\u001b[0m \u001b[1m0s\u001b[0m 1ms/step \n"
     ]
    },
    {
     "name": "stderr",
     "output_type": "stream",
     "text": [
      "WARNING:absl:You are saving your model as an HDF5 file via `model.save()` or `keras.saving.save_model(model)`. This file format is considered legacy. We recommend using instead the native Keras format, e.g. `model.save('my_model.keras')` or `keras.saving.save_model(model, 'my_model.keras')`. \n"
     ]
    },
    {
     "name": "stdout",
     "output_type": "stream",
     "text": [
      "  Testing shared_labels=7...\n",
      "\u001b[1m23/23\u001b[0m \u001b[32m━━━━━━━━━━━━━━━━━━━━\u001b[0m\u001b[37m\u001b[0m \u001b[1m0s\u001b[0m 1ms/step \n"
     ]
    },
    {
     "name": "stderr",
     "output_type": "stream",
     "text": [
      "WARNING:absl:You are saving your model as an HDF5 file via `model.save()` or `keras.saving.save_model(model)`. This file format is considered legacy. We recommend using instead the native Keras format, e.g. `model.save('my_model.keras')` or `keras.saving.save_model(model, 'my_model.keras')`. \n"
     ]
    },
    {
     "name": "stdout",
     "output_type": "stream",
     "text": [
      "  Testing shared_labels=8...\n",
      "\u001b[1m23/23\u001b[0m \u001b[32m━━━━━━━━━━━━━━━━━━━━\u001b[0m\u001b[37m\u001b[0m \u001b[1m0s\u001b[0m 1ms/step \n"
     ]
    },
    {
     "name": "stderr",
     "output_type": "stream",
     "text": [
      "WARNING:absl:You are saving your model as an HDF5 file via `model.save()` or `keras.saving.save_model(model)`. This file format is considered legacy. We recommend using instead the native Keras format, e.g. `model.save('my_model.keras')` or `keras.saving.save_model(model, 'my_model.keras')`. \n"
     ]
    },
    {
     "name": "stdout",
     "output_type": "stream",
     "text": [
      "  Testing shared_labels=9...\n",
      "\u001b[1m23/23\u001b[0m \u001b[32m━━━━━━━━━━━━━━━━━━━━\u001b[0m\u001b[37m\u001b[0m \u001b[1m0s\u001b[0m 1ms/step \n"
     ]
    },
    {
     "name": "stderr",
     "output_type": "stream",
     "text": [
      "WARNING:absl:You are saving your model as an HDF5 file via `model.save()` or `keras.saving.save_model(model)`. This file format is considered legacy. We recommend using instead the native Keras format, e.g. `model.save('my_model.keras')` or `keras.saving.save_model(model, 'my_model.keras')`. \n"
     ]
    },
    {
     "name": "stdout",
     "output_type": "stream",
     "text": [
      "  Testing shared_labels=10...\n",
      "\u001b[1m23/23\u001b[0m \u001b[32m━━━━━━━━━━━━━━━━━━━━\u001b[0m\u001b[37m\u001b[0m \u001b[1m0s\u001b[0m 1ms/step \n"
     ]
    },
    {
     "name": "stderr",
     "output_type": "stream",
     "text": [
      "WARNING:absl:You are saving your model as an HDF5 file via `model.save()` or `keras.saving.save_model(model)`. This file format is considered legacy. We recommend using instead the native Keras format, e.g. `model.save('my_model.keras')` or `keras.saving.save_model(model, 'my_model.keras')`. \n"
     ]
    },
    {
     "name": "stdout",
     "output_type": "stream",
     "text": [
      "  Testing shared_labels=11...\n",
      "\u001b[1m23/23\u001b[0m \u001b[32m━━━━━━━━━━━━━━━━━━━━\u001b[0m\u001b[37m\u001b[0m \u001b[1m0s\u001b[0m 1ms/step \n"
     ]
    },
    {
     "name": "stderr",
     "output_type": "stream",
     "text": [
      "WARNING:absl:You are saving your model as an HDF5 file via `model.save()` or `keras.saving.save_model(model)`. This file format is considered legacy. We recommend using instead the native Keras format, e.g. `model.save('my_model.keras')` or `keras.saving.save_model(model, 'my_model.keras')`. \n"
     ]
    },
    {
     "name": "stdout",
     "output_type": "stream",
     "text": [
      "  Testing shared_labels=12...\n",
      "\u001b[1m23/23\u001b[0m \u001b[32m━━━━━━━━━━━━━━━━━━━━\u001b[0m\u001b[37m\u001b[0m \u001b[1m0s\u001b[0m 1ms/step \n"
     ]
    },
    {
     "name": "stderr",
     "output_type": "stream",
     "text": [
      "WARNING:absl:You are saving your model as an HDF5 file via `model.save()` or `keras.saving.save_model(model)`. This file format is considered legacy. We recommend using instead the native Keras format, e.g. `model.save('my_model.keras')` or `keras.saving.save_model(model, 'my_model.keras')`. \n"
     ]
    },
    {
     "name": "stdout",
     "output_type": "stream",
     "text": [
      "  Testing shared_labels=13...\n",
      "\u001b[1m23/23\u001b[0m \u001b[32m━━━━━━━━━━━━━━━━━━━━\u001b[0m\u001b[37m\u001b[0m \u001b[1m0s\u001b[0m 2ms/step\n"
     ]
    },
    {
     "name": "stderr",
     "output_type": "stream",
     "text": [
      "WARNING:absl:You are saving your model as an HDF5 file via `model.save()` or `keras.saving.save_model(model)`. This file format is considered legacy. We recommend using instead the native Keras format, e.g. `model.save('my_model.keras')` or `keras.saving.save_model(model, 'my_model.keras')`. \n"
     ]
    },
    {
     "name": "stdout",
     "output_type": "stream",
     "text": [
      "\n",
      "--- Iteration 13/20 ---\n",
      "  Testing shared_labels=0...\n",
      "\u001b[1m23/23\u001b[0m \u001b[32m━━━━━━━━━━━━━━━━━━━━\u001b[0m\u001b[37m\u001b[0m \u001b[1m0s\u001b[0m 2ms/step \n"
     ]
    },
    {
     "name": "stderr",
     "output_type": "stream",
     "text": [
      "WARNING:absl:You are saving your model as an HDF5 file via `model.save()` or `keras.saving.save_model(model)`. This file format is considered legacy. We recommend using instead the native Keras format, e.g. `model.save('my_model.keras')` or `keras.saving.save_model(model, 'my_model.keras')`. \n"
     ]
    },
    {
     "name": "stdout",
     "output_type": "stream",
     "text": [
      "  Testing shared_labels=1...\n",
      "\u001b[1m23/23\u001b[0m \u001b[32m━━━━━━━━━━━━━━━━━━━━\u001b[0m\u001b[37m\u001b[0m \u001b[1m0s\u001b[0m 1ms/step \n"
     ]
    },
    {
     "name": "stderr",
     "output_type": "stream",
     "text": [
      "WARNING:absl:You are saving your model as an HDF5 file via `model.save()` or `keras.saving.save_model(model)`. This file format is considered legacy. We recommend using instead the native Keras format, e.g. `model.save('my_model.keras')` or `keras.saving.save_model(model, 'my_model.keras')`. \n"
     ]
    },
    {
     "name": "stdout",
     "output_type": "stream",
     "text": [
      "  Testing shared_labels=2...\n",
      "\u001b[1m23/23\u001b[0m \u001b[32m━━━━━━━━━━━━━━━━━━━━\u001b[0m\u001b[37m\u001b[0m \u001b[1m0s\u001b[0m 2ms/step\n"
     ]
    },
    {
     "name": "stderr",
     "output_type": "stream",
     "text": [
      "WARNING:absl:You are saving your model as an HDF5 file via `model.save()` or `keras.saving.save_model(model)`. This file format is considered legacy. We recommend using instead the native Keras format, e.g. `model.save('my_model.keras')` or `keras.saving.save_model(model, 'my_model.keras')`. \n"
     ]
    },
    {
     "name": "stdout",
     "output_type": "stream",
     "text": [
      "  Testing shared_labels=3...\n",
      "\u001b[1m23/23\u001b[0m \u001b[32m━━━━━━━━━━━━━━━━━━━━\u001b[0m\u001b[37m\u001b[0m \u001b[1m0s\u001b[0m 1ms/step \n"
     ]
    },
    {
     "name": "stderr",
     "output_type": "stream",
     "text": [
      "WARNING:absl:You are saving your model as an HDF5 file via `model.save()` or `keras.saving.save_model(model)`. This file format is considered legacy. We recommend using instead the native Keras format, e.g. `model.save('my_model.keras')` or `keras.saving.save_model(model, 'my_model.keras')`. \n"
     ]
    },
    {
     "name": "stdout",
     "output_type": "stream",
     "text": [
      "  Testing shared_labels=4...\n",
      "\u001b[1m23/23\u001b[0m \u001b[32m━━━━━━━━━━━━━━━━━━━━\u001b[0m\u001b[37m\u001b[0m \u001b[1m0s\u001b[0m 1ms/step \n"
     ]
    },
    {
     "name": "stderr",
     "output_type": "stream",
     "text": [
      "WARNING:absl:You are saving your model as an HDF5 file via `model.save()` or `keras.saving.save_model(model)`. This file format is considered legacy. We recommend using instead the native Keras format, e.g. `model.save('my_model.keras')` or `keras.saving.save_model(model, 'my_model.keras')`. \n"
     ]
    },
    {
     "name": "stdout",
     "output_type": "stream",
     "text": [
      "  Testing shared_labels=5...\n",
      "\u001b[1m23/23\u001b[0m \u001b[32m━━━━━━━━━━━━━━━━━━━━\u001b[0m\u001b[37m\u001b[0m \u001b[1m0s\u001b[0m 3ms/step\n"
     ]
    },
    {
     "name": "stderr",
     "output_type": "stream",
     "text": [
      "WARNING:absl:You are saving your model as an HDF5 file via `model.save()` or `keras.saving.save_model(model)`. This file format is considered legacy. We recommend using instead the native Keras format, e.g. `model.save('my_model.keras')` or `keras.saving.save_model(model, 'my_model.keras')`. \n"
     ]
    },
    {
     "name": "stdout",
     "output_type": "stream",
     "text": [
      "  Testing shared_labels=6...\n",
      "\u001b[1m23/23\u001b[0m \u001b[32m━━━━━━━━━━━━━━━━━━━━\u001b[0m\u001b[37m\u001b[0m \u001b[1m0s\u001b[0m 1ms/step \n"
     ]
    },
    {
     "name": "stderr",
     "output_type": "stream",
     "text": [
      "WARNING:absl:You are saving your model as an HDF5 file via `model.save()` or `keras.saving.save_model(model)`. This file format is considered legacy. We recommend using instead the native Keras format, e.g. `model.save('my_model.keras')` or `keras.saving.save_model(model, 'my_model.keras')`. \n"
     ]
    },
    {
     "name": "stdout",
     "output_type": "stream",
     "text": [
      "  Testing shared_labels=7...\n",
      "\u001b[1m23/23\u001b[0m \u001b[32m━━━━━━━━━━━━━━━━━━━━\u001b[0m\u001b[37m\u001b[0m \u001b[1m0s\u001b[0m 1ms/step \n"
     ]
    },
    {
     "name": "stderr",
     "output_type": "stream",
     "text": [
      "WARNING:absl:You are saving your model as an HDF5 file via `model.save()` or `keras.saving.save_model(model)`. This file format is considered legacy. We recommend using instead the native Keras format, e.g. `model.save('my_model.keras')` or `keras.saving.save_model(model, 'my_model.keras')`. \n"
     ]
    },
    {
     "name": "stdout",
     "output_type": "stream",
     "text": [
      "  Testing shared_labels=8...\n",
      "\u001b[1m23/23\u001b[0m \u001b[32m━━━━━━━━━━━━━━━━━━━━\u001b[0m\u001b[37m\u001b[0m \u001b[1m0s\u001b[0m 1ms/step \n"
     ]
    },
    {
     "name": "stderr",
     "output_type": "stream",
     "text": [
      "WARNING:absl:You are saving your model as an HDF5 file via `model.save()` or `keras.saving.save_model(model)`. This file format is considered legacy. We recommend using instead the native Keras format, e.g. `model.save('my_model.keras')` or `keras.saving.save_model(model, 'my_model.keras')`. \n"
     ]
    },
    {
     "name": "stdout",
     "output_type": "stream",
     "text": [
      "  Testing shared_labels=9...\n",
      "\u001b[1m23/23\u001b[0m \u001b[32m━━━━━━━━━━━━━━━━━━━━\u001b[0m\u001b[37m\u001b[0m \u001b[1m0s\u001b[0m 1ms/step \n"
     ]
    },
    {
     "name": "stderr",
     "output_type": "stream",
     "text": [
      "WARNING:absl:You are saving your model as an HDF5 file via `model.save()` or `keras.saving.save_model(model)`. This file format is considered legacy. We recommend using instead the native Keras format, e.g. `model.save('my_model.keras')` or `keras.saving.save_model(model, 'my_model.keras')`. \n"
     ]
    },
    {
     "name": "stdout",
     "output_type": "stream",
     "text": [
      "  Testing shared_labels=10...\n",
      "\u001b[1m23/23\u001b[0m \u001b[32m━━━━━━━━━━━━━━━━━━━━\u001b[0m\u001b[37m\u001b[0m \u001b[1m0s\u001b[0m 2ms/step \n"
     ]
    },
    {
     "name": "stderr",
     "output_type": "stream",
     "text": [
      "WARNING:absl:You are saving your model as an HDF5 file via `model.save()` or `keras.saving.save_model(model)`. This file format is considered legacy. We recommend using instead the native Keras format, e.g. `model.save('my_model.keras')` or `keras.saving.save_model(model, 'my_model.keras')`. \n"
     ]
    },
    {
     "name": "stdout",
     "output_type": "stream",
     "text": [
      "  Testing shared_labels=11...\n",
      "\u001b[1m23/23\u001b[0m \u001b[32m━━━━━━━━━━━━━━━━━━━━\u001b[0m\u001b[37m\u001b[0m \u001b[1m0s\u001b[0m 1ms/step \n"
     ]
    },
    {
     "name": "stderr",
     "output_type": "stream",
     "text": [
      "WARNING:absl:You are saving your model as an HDF5 file via `model.save()` or `keras.saving.save_model(model)`. This file format is considered legacy. We recommend using instead the native Keras format, e.g. `model.save('my_model.keras')` or `keras.saving.save_model(model, 'my_model.keras')`. \n"
     ]
    },
    {
     "name": "stdout",
     "output_type": "stream",
     "text": [
      "  Testing shared_labels=12...\n",
      "\u001b[1m23/23\u001b[0m \u001b[32m━━━━━━━━━━━━━━━━━━━━\u001b[0m\u001b[37m\u001b[0m \u001b[1m0s\u001b[0m 1ms/step \n"
     ]
    },
    {
     "name": "stderr",
     "output_type": "stream",
     "text": [
      "WARNING:absl:You are saving your model as an HDF5 file via `model.save()` or `keras.saving.save_model(model)`. This file format is considered legacy. We recommend using instead the native Keras format, e.g. `model.save('my_model.keras')` or `keras.saving.save_model(model, 'my_model.keras')`. \n"
     ]
    },
    {
     "name": "stdout",
     "output_type": "stream",
     "text": [
      "  Testing shared_labels=13...\n",
      "\u001b[1m23/23\u001b[0m \u001b[32m━━━━━━━━━━━━━━━━━━━━\u001b[0m\u001b[37m\u001b[0m \u001b[1m0s\u001b[0m 2ms/step \n"
     ]
    },
    {
     "name": "stderr",
     "output_type": "stream",
     "text": [
      "WARNING:absl:You are saving your model as an HDF5 file via `model.save()` or `keras.saving.save_model(model)`. This file format is considered legacy. We recommend using instead the native Keras format, e.g. `model.save('my_model.keras')` or `keras.saving.save_model(model, 'my_model.keras')`. \n"
     ]
    },
    {
     "name": "stdout",
     "output_type": "stream",
     "text": [
      "\n",
      "--- Iteration 14/20 ---\n",
      "  Testing shared_labels=0...\n",
      "\u001b[1m23/23\u001b[0m \u001b[32m━━━━━━━━━━━━━━━━━━━━\u001b[0m\u001b[37m\u001b[0m \u001b[1m0s\u001b[0m 1ms/step \n"
     ]
    },
    {
     "name": "stderr",
     "output_type": "stream",
     "text": [
      "WARNING:absl:You are saving your model as an HDF5 file via `model.save()` or `keras.saving.save_model(model)`. This file format is considered legacy. We recommend using instead the native Keras format, e.g. `model.save('my_model.keras')` or `keras.saving.save_model(model, 'my_model.keras')`. \n"
     ]
    },
    {
     "name": "stdout",
     "output_type": "stream",
     "text": [
      "  Testing shared_labels=1...\n",
      "\u001b[1m23/23\u001b[0m \u001b[32m━━━━━━━━━━━━━━━━━━━━\u001b[0m\u001b[37m\u001b[0m \u001b[1m0s\u001b[0m 1ms/step \n"
     ]
    },
    {
     "name": "stderr",
     "output_type": "stream",
     "text": [
      "WARNING:absl:You are saving your model as an HDF5 file via `model.save()` or `keras.saving.save_model(model)`. This file format is considered legacy. We recommend using instead the native Keras format, e.g. `model.save('my_model.keras')` or `keras.saving.save_model(model, 'my_model.keras')`. \n"
     ]
    },
    {
     "name": "stdout",
     "output_type": "stream",
     "text": [
      "  Testing shared_labels=2...\n",
      "\u001b[1m23/23\u001b[0m \u001b[32m━━━━━━━━━━━━━━━━━━━━\u001b[0m\u001b[37m\u001b[0m \u001b[1m0s\u001b[0m 2ms/step \n"
     ]
    },
    {
     "name": "stderr",
     "output_type": "stream",
     "text": [
      "WARNING:absl:You are saving your model as an HDF5 file via `model.save()` or `keras.saving.save_model(model)`. This file format is considered legacy. We recommend using instead the native Keras format, e.g. `model.save('my_model.keras')` or `keras.saving.save_model(model, 'my_model.keras')`. \n"
     ]
    },
    {
     "name": "stdout",
     "output_type": "stream",
     "text": [
      "  Testing shared_labels=3...\n",
      "\u001b[1m23/23\u001b[0m \u001b[32m━━━━━━━━━━━━━━━━━━━━\u001b[0m\u001b[37m\u001b[0m \u001b[1m0s\u001b[0m 1ms/step \n"
     ]
    },
    {
     "name": "stderr",
     "output_type": "stream",
     "text": [
      "WARNING:absl:You are saving your model as an HDF5 file via `model.save()` or `keras.saving.save_model(model)`. This file format is considered legacy. We recommend using instead the native Keras format, e.g. `model.save('my_model.keras')` or `keras.saving.save_model(model, 'my_model.keras')`. \n"
     ]
    },
    {
     "name": "stdout",
     "output_type": "stream",
     "text": [
      "  Testing shared_labels=4...\n",
      "\u001b[1m23/23\u001b[0m \u001b[32m━━━━━━━━━━━━━━━━━━━━\u001b[0m\u001b[37m\u001b[0m \u001b[1m0s\u001b[0m 1ms/step \n"
     ]
    },
    {
     "name": "stderr",
     "output_type": "stream",
     "text": [
      "WARNING:absl:You are saving your model as an HDF5 file via `model.save()` or `keras.saving.save_model(model)`. This file format is considered legacy. We recommend using instead the native Keras format, e.g. `model.save('my_model.keras')` or `keras.saving.save_model(model, 'my_model.keras')`. \n"
     ]
    },
    {
     "name": "stdout",
     "output_type": "stream",
     "text": [
      "  Testing shared_labels=5...\n",
      "\u001b[1m23/23\u001b[0m \u001b[32m━━━━━━━━━━━━━━━━━━━━\u001b[0m\u001b[37m\u001b[0m \u001b[1m0s\u001b[0m 1ms/step \n"
     ]
    },
    {
     "name": "stderr",
     "output_type": "stream",
     "text": [
      "WARNING:absl:You are saving your model as an HDF5 file via `model.save()` or `keras.saving.save_model(model)`. This file format is considered legacy. We recommend using instead the native Keras format, e.g. `model.save('my_model.keras')` or `keras.saving.save_model(model, 'my_model.keras')`. \n"
     ]
    },
    {
     "name": "stdout",
     "output_type": "stream",
     "text": [
      "  Testing shared_labels=6...\n",
      "\u001b[1m23/23\u001b[0m \u001b[32m━━━━━━━━━━━━━━━━━━━━\u001b[0m\u001b[37m\u001b[0m \u001b[1m0s\u001b[0m 1ms/step \n"
     ]
    },
    {
     "name": "stderr",
     "output_type": "stream",
     "text": [
      "WARNING:absl:You are saving your model as an HDF5 file via `model.save()` or `keras.saving.save_model(model)`. This file format is considered legacy. We recommend using instead the native Keras format, e.g. `model.save('my_model.keras')` or `keras.saving.save_model(model, 'my_model.keras')`. \n"
     ]
    },
    {
     "name": "stdout",
     "output_type": "stream",
     "text": [
      "  Testing shared_labels=7...\n",
      "\u001b[1m23/23\u001b[0m \u001b[32m━━━━━━━━━━━━━━━━━━━━\u001b[0m\u001b[37m\u001b[0m \u001b[1m0s\u001b[0m 2ms/step\n"
     ]
    },
    {
     "name": "stderr",
     "output_type": "stream",
     "text": [
      "WARNING:absl:You are saving your model as an HDF5 file via `model.save()` or `keras.saving.save_model(model)`. This file format is considered legacy. We recommend using instead the native Keras format, e.g. `model.save('my_model.keras')` or `keras.saving.save_model(model, 'my_model.keras')`. \n"
     ]
    },
    {
     "name": "stdout",
     "output_type": "stream",
     "text": [
      "  Testing shared_labels=8...\n",
      "\u001b[1m23/23\u001b[0m \u001b[32m━━━━━━━━━━━━━━━━━━━━\u001b[0m\u001b[37m\u001b[0m \u001b[1m0s\u001b[0m 1ms/step \n"
     ]
    },
    {
     "name": "stderr",
     "output_type": "stream",
     "text": [
      "WARNING:absl:You are saving your model as an HDF5 file via `model.save()` or `keras.saving.save_model(model)`. This file format is considered legacy. We recommend using instead the native Keras format, e.g. `model.save('my_model.keras')` or `keras.saving.save_model(model, 'my_model.keras')`. \n"
     ]
    },
    {
     "name": "stdout",
     "output_type": "stream",
     "text": [
      "  Testing shared_labels=9...\n",
      "\u001b[1m23/23\u001b[0m \u001b[32m━━━━━━━━━━━━━━━━━━━━\u001b[0m\u001b[37m\u001b[0m \u001b[1m0s\u001b[0m 1ms/step \n"
     ]
    },
    {
     "name": "stderr",
     "output_type": "stream",
     "text": [
      "WARNING:absl:You are saving your model as an HDF5 file via `model.save()` or `keras.saving.save_model(model)`. This file format is considered legacy. We recommend using instead the native Keras format, e.g. `model.save('my_model.keras')` or `keras.saving.save_model(model, 'my_model.keras')`. \n"
     ]
    },
    {
     "name": "stdout",
     "output_type": "stream",
     "text": [
      "  Testing shared_labels=10...\n",
      "\u001b[1m23/23\u001b[0m \u001b[32m━━━━━━━━━━━━━━━━━━━━\u001b[0m\u001b[37m\u001b[0m \u001b[1m0s\u001b[0m 2ms/step \n"
     ]
    },
    {
     "name": "stderr",
     "output_type": "stream",
     "text": [
      "WARNING:absl:You are saving your model as an HDF5 file via `model.save()` or `keras.saving.save_model(model)`. This file format is considered legacy. We recommend using instead the native Keras format, e.g. `model.save('my_model.keras')` or `keras.saving.save_model(model, 'my_model.keras')`. \n"
     ]
    },
    {
     "name": "stdout",
     "output_type": "stream",
     "text": [
      "  Testing shared_labels=11...\n",
      "\u001b[1m23/23\u001b[0m \u001b[32m━━━━━━━━━━━━━━━━━━━━\u001b[0m\u001b[37m\u001b[0m \u001b[1m0s\u001b[0m 1ms/step \n"
     ]
    },
    {
     "name": "stderr",
     "output_type": "stream",
     "text": [
      "WARNING:absl:You are saving your model as an HDF5 file via `model.save()` or `keras.saving.save_model(model)`. This file format is considered legacy. We recommend using instead the native Keras format, e.g. `model.save('my_model.keras')` or `keras.saving.save_model(model, 'my_model.keras')`. \n"
     ]
    },
    {
     "name": "stdout",
     "output_type": "stream",
     "text": [
      "  Testing shared_labels=12...\n",
      "\u001b[1m23/23\u001b[0m \u001b[32m━━━━━━━━━━━━━━━━━━━━\u001b[0m\u001b[37m\u001b[0m \u001b[1m0s\u001b[0m 1ms/step \n"
     ]
    },
    {
     "name": "stderr",
     "output_type": "stream",
     "text": [
      "WARNING:absl:You are saving your model as an HDF5 file via `model.save()` or `keras.saving.save_model(model)`. This file format is considered legacy. We recommend using instead the native Keras format, e.g. `model.save('my_model.keras')` or `keras.saving.save_model(model, 'my_model.keras')`. \n"
     ]
    },
    {
     "name": "stdout",
     "output_type": "stream",
     "text": [
      "  Testing shared_labels=13...\n",
      "\u001b[1m23/23\u001b[0m \u001b[32m━━━━━━━━━━━━━━━━━━━━\u001b[0m\u001b[37m\u001b[0m \u001b[1m0s\u001b[0m 1ms/step \n"
     ]
    },
    {
     "name": "stderr",
     "output_type": "stream",
     "text": [
      "WARNING:absl:You are saving your model as an HDF5 file via `model.save()` or `keras.saving.save_model(model)`. This file format is considered legacy. We recommend using instead the native Keras format, e.g. `model.save('my_model.keras')` or `keras.saving.save_model(model, 'my_model.keras')`. \n"
     ]
    },
    {
     "name": "stdout",
     "output_type": "stream",
     "text": [
      "\n",
      "--- Iteration 15/20 ---\n",
      "  Testing shared_labels=0...\n",
      "\u001b[1m23/23\u001b[0m \u001b[32m━━━━━━━━━━━━━━━━━━━━\u001b[0m\u001b[37m\u001b[0m \u001b[1m0s\u001b[0m 1ms/step \n"
     ]
    },
    {
     "name": "stderr",
     "output_type": "stream",
     "text": [
      "WARNING:absl:You are saving your model as an HDF5 file via `model.save()` or `keras.saving.save_model(model)`. This file format is considered legacy. We recommend using instead the native Keras format, e.g. `model.save('my_model.keras')` or `keras.saving.save_model(model, 'my_model.keras')`. \n"
     ]
    },
    {
     "name": "stdout",
     "output_type": "stream",
     "text": [
      "  Testing shared_labels=1...\n",
      "\u001b[1m23/23\u001b[0m \u001b[32m━━━━━━━━━━━━━━━━━━━━\u001b[0m\u001b[37m\u001b[0m \u001b[1m0s\u001b[0m 1ms/step \n"
     ]
    },
    {
     "name": "stderr",
     "output_type": "stream",
     "text": [
      "WARNING:absl:You are saving your model as an HDF5 file via `model.save()` or `keras.saving.save_model(model)`. This file format is considered legacy. We recommend using instead the native Keras format, e.g. `model.save('my_model.keras')` or `keras.saving.save_model(model, 'my_model.keras')`. \n"
     ]
    },
    {
     "name": "stdout",
     "output_type": "stream",
     "text": [
      "  Testing shared_labels=2...\n",
      "\u001b[1m23/23\u001b[0m \u001b[32m━━━━━━━━━━━━━━━━━━━━\u001b[0m\u001b[37m\u001b[0m \u001b[1m0s\u001b[0m 1ms/step \n"
     ]
    },
    {
     "name": "stderr",
     "output_type": "stream",
     "text": [
      "WARNING:absl:You are saving your model as an HDF5 file via `model.save()` or `keras.saving.save_model(model)`. This file format is considered legacy. We recommend using instead the native Keras format, e.g. `model.save('my_model.keras')` or `keras.saving.save_model(model, 'my_model.keras')`. \n"
     ]
    },
    {
     "name": "stdout",
     "output_type": "stream",
     "text": [
      "  Testing shared_labels=3...\n",
      "\u001b[1m23/23\u001b[0m \u001b[32m━━━━━━━━━━━━━━━━━━━━\u001b[0m\u001b[37m\u001b[0m \u001b[1m0s\u001b[0m 1ms/step \n"
     ]
    },
    {
     "name": "stderr",
     "output_type": "stream",
     "text": [
      "WARNING:absl:You are saving your model as an HDF5 file via `model.save()` or `keras.saving.save_model(model)`. This file format is considered legacy. We recommend using instead the native Keras format, e.g. `model.save('my_model.keras')` or `keras.saving.save_model(model, 'my_model.keras')`. \n"
     ]
    },
    {
     "name": "stdout",
     "output_type": "stream",
     "text": [
      "  Testing shared_labels=4...\n",
      "\u001b[1m23/23\u001b[0m \u001b[32m━━━━━━━━━━━━━━━━━━━━\u001b[0m\u001b[37m\u001b[0m \u001b[1m0s\u001b[0m 1ms/step \n"
     ]
    },
    {
     "name": "stderr",
     "output_type": "stream",
     "text": [
      "WARNING:absl:You are saving your model as an HDF5 file via `model.save()` or `keras.saving.save_model(model)`. This file format is considered legacy. We recommend using instead the native Keras format, e.g. `model.save('my_model.keras')` or `keras.saving.save_model(model, 'my_model.keras')`. \n"
     ]
    },
    {
     "name": "stdout",
     "output_type": "stream",
     "text": [
      "  Testing shared_labels=5...\n",
      "\u001b[1m23/23\u001b[0m \u001b[32m━━━━━━━━━━━━━━━━━━━━\u001b[0m\u001b[37m\u001b[0m \u001b[1m0s\u001b[0m 1ms/step \n"
     ]
    },
    {
     "name": "stderr",
     "output_type": "stream",
     "text": [
      "WARNING:absl:You are saving your model as an HDF5 file via `model.save()` or `keras.saving.save_model(model)`. This file format is considered legacy. We recommend using instead the native Keras format, e.g. `model.save('my_model.keras')` or `keras.saving.save_model(model, 'my_model.keras')`. \n"
     ]
    },
    {
     "name": "stdout",
     "output_type": "stream",
     "text": [
      "  Testing shared_labels=6...\n",
      "\u001b[1m23/23\u001b[0m \u001b[32m━━━━━━━━━━━━━━━━━━━━\u001b[0m\u001b[37m\u001b[0m \u001b[1m0s\u001b[0m 1ms/step \n"
     ]
    },
    {
     "name": "stderr",
     "output_type": "stream",
     "text": [
      "WARNING:absl:You are saving your model as an HDF5 file via `model.save()` or `keras.saving.save_model(model)`. This file format is considered legacy. We recommend using instead the native Keras format, e.g. `model.save('my_model.keras')` or `keras.saving.save_model(model, 'my_model.keras')`. \n"
     ]
    },
    {
     "name": "stdout",
     "output_type": "stream",
     "text": [
      "  Testing shared_labels=7...\n",
      "\u001b[1m23/23\u001b[0m \u001b[32m━━━━━━━━━━━━━━━━━━━━\u001b[0m\u001b[37m\u001b[0m \u001b[1m0s\u001b[0m 1ms/step \n"
     ]
    },
    {
     "name": "stderr",
     "output_type": "stream",
     "text": [
      "WARNING:absl:You are saving your model as an HDF5 file via `model.save()` or `keras.saving.save_model(model)`. This file format is considered legacy. We recommend using instead the native Keras format, e.g. `model.save('my_model.keras')` or `keras.saving.save_model(model, 'my_model.keras')`. \n"
     ]
    },
    {
     "name": "stdout",
     "output_type": "stream",
     "text": [
      "  Testing shared_labels=8...\n",
      "\u001b[1m23/23\u001b[0m \u001b[32m━━━━━━━━━━━━━━━━━━━━\u001b[0m\u001b[37m\u001b[0m \u001b[1m0s\u001b[0m 2ms/step \n"
     ]
    },
    {
     "name": "stderr",
     "output_type": "stream",
     "text": [
      "WARNING:absl:You are saving your model as an HDF5 file via `model.save()` or `keras.saving.save_model(model)`. This file format is considered legacy. We recommend using instead the native Keras format, e.g. `model.save('my_model.keras')` or `keras.saving.save_model(model, 'my_model.keras')`. \n"
     ]
    },
    {
     "name": "stdout",
     "output_type": "stream",
     "text": [
      "  Testing shared_labels=9...\n",
      "\u001b[1m23/23\u001b[0m \u001b[32m━━━━━━━━━━━━━━━━━━━━\u001b[0m\u001b[37m\u001b[0m \u001b[1m0s\u001b[0m 1ms/step \n"
     ]
    },
    {
     "name": "stderr",
     "output_type": "stream",
     "text": [
      "WARNING:absl:You are saving your model as an HDF5 file via `model.save()` or `keras.saving.save_model(model)`. This file format is considered legacy. We recommend using instead the native Keras format, e.g. `model.save('my_model.keras')` or `keras.saving.save_model(model, 'my_model.keras')`. \n"
     ]
    },
    {
     "name": "stdout",
     "output_type": "stream",
     "text": [
      "  Testing shared_labels=10...\n",
      "\u001b[1m23/23\u001b[0m \u001b[32m━━━━━━━━━━━━━━━━━━━━\u001b[0m\u001b[37m\u001b[0m \u001b[1m0s\u001b[0m 1ms/step \n"
     ]
    },
    {
     "name": "stderr",
     "output_type": "stream",
     "text": [
      "WARNING:absl:You are saving your model as an HDF5 file via `model.save()` or `keras.saving.save_model(model)`. This file format is considered legacy. We recommend using instead the native Keras format, e.g. `model.save('my_model.keras')` or `keras.saving.save_model(model, 'my_model.keras')`. \n"
     ]
    },
    {
     "name": "stdout",
     "output_type": "stream",
     "text": [
      "  Testing shared_labels=11...\n",
      "\u001b[1m23/23\u001b[0m \u001b[32m━━━━━━━━━━━━━━━━━━━━\u001b[0m\u001b[37m\u001b[0m \u001b[1m0s\u001b[0m 1ms/step \n"
     ]
    },
    {
     "name": "stderr",
     "output_type": "stream",
     "text": [
      "WARNING:absl:You are saving your model as an HDF5 file via `model.save()` or `keras.saving.save_model(model)`. This file format is considered legacy. We recommend using instead the native Keras format, e.g. `model.save('my_model.keras')` or `keras.saving.save_model(model, 'my_model.keras')`. \n"
     ]
    },
    {
     "name": "stdout",
     "output_type": "stream",
     "text": [
      "  Testing shared_labels=12...\n",
      "\u001b[1m23/23\u001b[0m \u001b[32m━━━━━━━━━━━━━━━━━━━━\u001b[0m\u001b[37m\u001b[0m \u001b[1m0s\u001b[0m 1ms/step \n"
     ]
    },
    {
     "name": "stderr",
     "output_type": "stream",
     "text": [
      "WARNING:absl:You are saving your model as an HDF5 file via `model.save()` or `keras.saving.save_model(model)`. This file format is considered legacy. We recommend using instead the native Keras format, e.g. `model.save('my_model.keras')` or `keras.saving.save_model(model, 'my_model.keras')`. \n"
     ]
    },
    {
     "name": "stdout",
     "output_type": "stream",
     "text": [
      "  Testing shared_labels=13...\n",
      "\u001b[1m23/23\u001b[0m \u001b[32m━━━━━━━━━━━━━━━━━━━━\u001b[0m\u001b[37m\u001b[0m \u001b[1m0s\u001b[0m 1ms/step \n"
     ]
    },
    {
     "name": "stderr",
     "output_type": "stream",
     "text": [
      "WARNING:absl:You are saving your model as an HDF5 file via `model.save()` or `keras.saving.save_model(model)`. This file format is considered legacy. We recommend using instead the native Keras format, e.g. `model.save('my_model.keras')` or `keras.saving.save_model(model, 'my_model.keras')`. \n"
     ]
    },
    {
     "name": "stdout",
     "output_type": "stream",
     "text": [
      "\n",
      "--- Iteration 16/20 ---\n",
      "  Testing shared_labels=0...\n",
      "\u001b[1m23/23\u001b[0m \u001b[32m━━━━━━━━━━━━━━━━━━━━\u001b[0m\u001b[37m\u001b[0m \u001b[1m0s\u001b[0m 1ms/step \n"
     ]
    },
    {
     "name": "stderr",
     "output_type": "stream",
     "text": [
      "WARNING:absl:You are saving your model as an HDF5 file via `model.save()` or `keras.saving.save_model(model)`. This file format is considered legacy. We recommend using instead the native Keras format, e.g. `model.save('my_model.keras')` or `keras.saving.save_model(model, 'my_model.keras')`. \n"
     ]
    },
    {
     "name": "stdout",
     "output_type": "stream",
     "text": [
      "  Testing shared_labels=1...\n",
      "\u001b[1m23/23\u001b[0m \u001b[32m━━━━━━━━━━━━━━━━━━━━\u001b[0m\u001b[37m\u001b[0m \u001b[1m0s\u001b[0m 1ms/step \n"
     ]
    },
    {
     "name": "stderr",
     "output_type": "stream",
     "text": [
      "WARNING:absl:You are saving your model as an HDF5 file via `model.save()` or `keras.saving.save_model(model)`. This file format is considered legacy. We recommend using instead the native Keras format, e.g. `model.save('my_model.keras')` or `keras.saving.save_model(model, 'my_model.keras')`. \n"
     ]
    },
    {
     "name": "stdout",
     "output_type": "stream",
     "text": [
      "  Testing shared_labels=2...\n",
      "\u001b[1m23/23\u001b[0m \u001b[32m━━━━━━━━━━━━━━━━━━━━\u001b[0m\u001b[37m\u001b[0m \u001b[1m0s\u001b[0m 1ms/step \n"
     ]
    },
    {
     "name": "stderr",
     "output_type": "stream",
     "text": [
      "WARNING:absl:You are saving your model as an HDF5 file via `model.save()` or `keras.saving.save_model(model)`. This file format is considered legacy. We recommend using instead the native Keras format, e.g. `model.save('my_model.keras')` or `keras.saving.save_model(model, 'my_model.keras')`. \n"
     ]
    },
    {
     "name": "stdout",
     "output_type": "stream",
     "text": [
      "  Testing shared_labels=3...\n",
      "\u001b[1m23/23\u001b[0m \u001b[32m━━━━━━━━━━━━━━━━━━━━\u001b[0m\u001b[37m\u001b[0m \u001b[1m0s\u001b[0m 1ms/step \n"
     ]
    },
    {
     "name": "stderr",
     "output_type": "stream",
     "text": [
      "WARNING:absl:You are saving your model as an HDF5 file via `model.save()` or `keras.saving.save_model(model)`. This file format is considered legacy. We recommend using instead the native Keras format, e.g. `model.save('my_model.keras')` or `keras.saving.save_model(model, 'my_model.keras')`. \n"
     ]
    },
    {
     "name": "stdout",
     "output_type": "stream",
     "text": [
      "  Testing shared_labels=4...\n",
      "\u001b[1m23/23\u001b[0m \u001b[32m━━━━━━━━━━━━━━━━━━━━\u001b[0m\u001b[37m\u001b[0m \u001b[1m0s\u001b[0m 2ms/step \n"
     ]
    },
    {
     "name": "stderr",
     "output_type": "stream",
     "text": [
      "WARNING:absl:You are saving your model as an HDF5 file via `model.save()` or `keras.saving.save_model(model)`. This file format is considered legacy. We recommend using instead the native Keras format, e.g. `model.save('my_model.keras')` or `keras.saving.save_model(model, 'my_model.keras')`. \n"
     ]
    },
    {
     "name": "stdout",
     "output_type": "stream",
     "text": [
      "  Testing shared_labels=5...\n",
      "\u001b[1m23/23\u001b[0m \u001b[32m━━━━━━━━━━━━━━━━━━━━\u001b[0m\u001b[37m\u001b[0m \u001b[1m0s\u001b[0m 1ms/step \n"
     ]
    },
    {
     "name": "stderr",
     "output_type": "stream",
     "text": [
      "WARNING:absl:You are saving your model as an HDF5 file via `model.save()` or `keras.saving.save_model(model)`. This file format is considered legacy. We recommend using instead the native Keras format, e.g. `model.save('my_model.keras')` or `keras.saving.save_model(model, 'my_model.keras')`. \n"
     ]
    },
    {
     "name": "stdout",
     "output_type": "stream",
     "text": [
      "  Testing shared_labels=6...\n",
      "\u001b[1m23/23\u001b[0m \u001b[32m━━━━━━━━━━━━━━━━━━━━\u001b[0m\u001b[37m\u001b[0m \u001b[1m0s\u001b[0m 1ms/step \n"
     ]
    },
    {
     "name": "stderr",
     "output_type": "stream",
     "text": [
      "WARNING:absl:You are saving your model as an HDF5 file via `model.save()` or `keras.saving.save_model(model)`. This file format is considered legacy. We recommend using instead the native Keras format, e.g. `model.save('my_model.keras')` or `keras.saving.save_model(model, 'my_model.keras')`. \n"
     ]
    },
    {
     "name": "stdout",
     "output_type": "stream",
     "text": [
      "  Testing shared_labels=7...\n",
      "\u001b[1m23/23\u001b[0m \u001b[32m━━━━━━━━━━━━━━━━━━━━\u001b[0m\u001b[37m\u001b[0m \u001b[1m0s\u001b[0m 1ms/step \n"
     ]
    },
    {
     "name": "stderr",
     "output_type": "stream",
     "text": [
      "WARNING:absl:You are saving your model as an HDF5 file via `model.save()` or `keras.saving.save_model(model)`. This file format is considered legacy. We recommend using instead the native Keras format, e.g. `model.save('my_model.keras')` or `keras.saving.save_model(model, 'my_model.keras')`. \n"
     ]
    },
    {
     "name": "stdout",
     "output_type": "stream",
     "text": [
      "  Testing shared_labels=8...\n",
      "\u001b[1m23/23\u001b[0m \u001b[32m━━━━━━━━━━━━━━━━━━━━\u001b[0m\u001b[37m\u001b[0m \u001b[1m0s\u001b[0m 1ms/step \n"
     ]
    },
    {
     "name": "stderr",
     "output_type": "stream",
     "text": [
      "WARNING:absl:You are saving your model as an HDF5 file via `model.save()` or `keras.saving.save_model(model)`. This file format is considered legacy. We recommend using instead the native Keras format, e.g. `model.save('my_model.keras')` or `keras.saving.save_model(model, 'my_model.keras')`. \n"
     ]
    },
    {
     "name": "stdout",
     "output_type": "stream",
     "text": [
      "  Testing shared_labels=9...\n",
      "\u001b[1m23/23\u001b[0m \u001b[32m━━━━━━━━━━━━━━━━━━━━\u001b[0m\u001b[37m\u001b[0m \u001b[1m0s\u001b[0m 1ms/step \n"
     ]
    },
    {
     "name": "stderr",
     "output_type": "stream",
     "text": [
      "WARNING:absl:You are saving your model as an HDF5 file via `model.save()` or `keras.saving.save_model(model)`. This file format is considered legacy. We recommend using instead the native Keras format, e.g. `model.save('my_model.keras')` or `keras.saving.save_model(model, 'my_model.keras')`. \n"
     ]
    },
    {
     "name": "stdout",
     "output_type": "stream",
     "text": [
      "  Testing shared_labels=10...\n",
      "\u001b[1m23/23\u001b[0m \u001b[32m━━━━━━━━━━━━━━━━━━━━\u001b[0m\u001b[37m\u001b[0m \u001b[1m0s\u001b[0m 1ms/step \n"
     ]
    },
    {
     "name": "stderr",
     "output_type": "stream",
     "text": [
      "WARNING:absl:You are saving your model as an HDF5 file via `model.save()` or `keras.saving.save_model(model)`. This file format is considered legacy. We recommend using instead the native Keras format, e.g. `model.save('my_model.keras')` or `keras.saving.save_model(model, 'my_model.keras')`. \n"
     ]
    },
    {
     "name": "stdout",
     "output_type": "stream",
     "text": [
      "  Testing shared_labels=11...\n",
      "\u001b[1m23/23\u001b[0m \u001b[32m━━━━━━━━━━━━━━━━━━━━\u001b[0m\u001b[37m\u001b[0m \u001b[1m0s\u001b[0m 1ms/step \n"
     ]
    },
    {
     "name": "stderr",
     "output_type": "stream",
     "text": [
      "WARNING:absl:You are saving your model as an HDF5 file via `model.save()` or `keras.saving.save_model(model)`. This file format is considered legacy. We recommend using instead the native Keras format, e.g. `model.save('my_model.keras')` or `keras.saving.save_model(model, 'my_model.keras')`. \n"
     ]
    },
    {
     "name": "stdout",
     "output_type": "stream",
     "text": [
      "  Testing shared_labels=12...\n",
      "\u001b[1m23/23\u001b[0m \u001b[32m━━━━━━━━━━━━━━━━━━━━\u001b[0m\u001b[37m\u001b[0m \u001b[1m0s\u001b[0m 1ms/step \n"
     ]
    },
    {
     "name": "stderr",
     "output_type": "stream",
     "text": [
      "WARNING:absl:You are saving your model as an HDF5 file via `model.save()` or `keras.saving.save_model(model)`. This file format is considered legacy. We recommend using instead the native Keras format, e.g. `model.save('my_model.keras')` or `keras.saving.save_model(model, 'my_model.keras')`. \n"
     ]
    },
    {
     "name": "stdout",
     "output_type": "stream",
     "text": [
      "  Testing shared_labels=13...\n",
      "\u001b[1m23/23\u001b[0m \u001b[32m━━━━━━━━━━━━━━━━━━━━\u001b[0m\u001b[37m\u001b[0m \u001b[1m0s\u001b[0m 1ms/step \n"
     ]
    },
    {
     "name": "stderr",
     "output_type": "stream",
     "text": [
      "WARNING:absl:You are saving your model as an HDF5 file via `model.save()` or `keras.saving.save_model(model)`. This file format is considered legacy. We recommend using instead the native Keras format, e.g. `model.save('my_model.keras')` or `keras.saving.save_model(model, 'my_model.keras')`. \n"
     ]
    },
    {
     "name": "stdout",
     "output_type": "stream",
     "text": [
      "\n",
      "--- Iteration 17/20 ---\n",
      "  Testing shared_labels=0...\n",
      "\u001b[1m23/23\u001b[0m \u001b[32m━━━━━━━━━━━━━━━━━━━━\u001b[0m\u001b[37m\u001b[0m \u001b[1m0s\u001b[0m 1ms/step \n"
     ]
    },
    {
     "name": "stderr",
     "output_type": "stream",
     "text": [
      "WARNING:absl:You are saving your model as an HDF5 file via `model.save()` or `keras.saving.save_model(model)`. This file format is considered legacy. We recommend using instead the native Keras format, e.g. `model.save('my_model.keras')` or `keras.saving.save_model(model, 'my_model.keras')`. \n"
     ]
    },
    {
     "name": "stdout",
     "output_type": "stream",
     "text": [
      "  Testing shared_labels=1...\n",
      "\u001b[1m23/23\u001b[0m \u001b[32m━━━━━━━━━━━━━━━━━━━━\u001b[0m\u001b[37m\u001b[0m \u001b[1m0s\u001b[0m 1ms/step \n"
     ]
    },
    {
     "name": "stderr",
     "output_type": "stream",
     "text": [
      "WARNING:absl:You are saving your model as an HDF5 file via `model.save()` or `keras.saving.save_model(model)`. This file format is considered legacy. We recommend using instead the native Keras format, e.g. `model.save('my_model.keras')` or `keras.saving.save_model(model, 'my_model.keras')`. \n"
     ]
    },
    {
     "name": "stdout",
     "output_type": "stream",
     "text": [
      "  Testing shared_labels=2...\n",
      "\u001b[1m23/23\u001b[0m \u001b[32m━━━━━━━━━━━━━━━━━━━━\u001b[0m\u001b[37m\u001b[0m \u001b[1m0s\u001b[0m 1ms/step \n"
     ]
    },
    {
     "name": "stderr",
     "output_type": "stream",
     "text": [
      "WARNING:absl:You are saving your model as an HDF5 file via `model.save()` or `keras.saving.save_model(model)`. This file format is considered legacy. We recommend using instead the native Keras format, e.g. `model.save('my_model.keras')` or `keras.saving.save_model(model, 'my_model.keras')`. \n"
     ]
    },
    {
     "name": "stdout",
     "output_type": "stream",
     "text": [
      "  Testing shared_labels=3...\n",
      "\u001b[1m23/23\u001b[0m \u001b[32m━━━━━━━━━━━━━━━━━━━━\u001b[0m\u001b[37m\u001b[0m \u001b[1m0s\u001b[0m 2ms/step \n"
     ]
    },
    {
     "name": "stderr",
     "output_type": "stream",
     "text": [
      "WARNING:absl:You are saving your model as an HDF5 file via `model.save()` or `keras.saving.save_model(model)`. This file format is considered legacy. We recommend using instead the native Keras format, e.g. `model.save('my_model.keras')` or `keras.saving.save_model(model, 'my_model.keras')`. \n"
     ]
    },
    {
     "name": "stdout",
     "output_type": "stream",
     "text": [
      "  Testing shared_labels=4...\n",
      "\u001b[1m23/23\u001b[0m \u001b[32m━━━━━━━━━━━━━━━━━━━━\u001b[0m\u001b[37m\u001b[0m \u001b[1m0s\u001b[0m 1ms/step \n"
     ]
    },
    {
     "name": "stderr",
     "output_type": "stream",
     "text": [
      "WARNING:absl:You are saving your model as an HDF5 file via `model.save()` or `keras.saving.save_model(model)`. This file format is considered legacy. We recommend using instead the native Keras format, e.g. `model.save('my_model.keras')` or `keras.saving.save_model(model, 'my_model.keras')`. \n"
     ]
    },
    {
     "name": "stdout",
     "output_type": "stream",
     "text": [
      "  Testing shared_labels=5...\n",
      "\u001b[1m23/23\u001b[0m \u001b[32m━━━━━━━━━━━━━━━━━━━━\u001b[0m\u001b[37m\u001b[0m \u001b[1m0s\u001b[0m 1ms/step \n"
     ]
    },
    {
     "name": "stderr",
     "output_type": "stream",
     "text": [
      "WARNING:absl:You are saving your model as an HDF5 file via `model.save()` or `keras.saving.save_model(model)`. This file format is considered legacy. We recommend using instead the native Keras format, e.g. `model.save('my_model.keras')` or `keras.saving.save_model(model, 'my_model.keras')`. \n"
     ]
    },
    {
     "name": "stdout",
     "output_type": "stream",
     "text": [
      "  Testing shared_labels=6...\n",
      "\u001b[1m23/23\u001b[0m \u001b[32m━━━━━━━━━━━━━━━━━━━━\u001b[0m\u001b[37m\u001b[0m \u001b[1m0s\u001b[0m 1ms/step \n"
     ]
    },
    {
     "name": "stderr",
     "output_type": "stream",
     "text": [
      "WARNING:absl:You are saving your model as an HDF5 file via `model.save()` or `keras.saving.save_model(model)`. This file format is considered legacy. We recommend using instead the native Keras format, e.g. `model.save('my_model.keras')` or `keras.saving.save_model(model, 'my_model.keras')`. \n"
     ]
    },
    {
     "name": "stdout",
     "output_type": "stream",
     "text": [
      "  Testing shared_labels=7...\n",
      "\u001b[1m23/23\u001b[0m \u001b[32m━━━━━━━━━━━━━━━━━━━━\u001b[0m\u001b[37m\u001b[0m \u001b[1m0s\u001b[0m 2ms/step \n"
     ]
    },
    {
     "name": "stderr",
     "output_type": "stream",
     "text": [
      "WARNING:absl:You are saving your model as an HDF5 file via `model.save()` or `keras.saving.save_model(model)`. This file format is considered legacy. We recommend using instead the native Keras format, e.g. `model.save('my_model.keras')` or `keras.saving.save_model(model, 'my_model.keras')`. \n"
     ]
    },
    {
     "name": "stdout",
     "output_type": "stream",
     "text": [
      "  Testing shared_labels=8...\n",
      "\u001b[1m23/23\u001b[0m \u001b[32m━━━━━━━━━━━━━━━━━━━━\u001b[0m\u001b[37m\u001b[0m \u001b[1m0s\u001b[0m 1ms/step \n"
     ]
    },
    {
     "name": "stderr",
     "output_type": "stream",
     "text": [
      "WARNING:absl:You are saving your model as an HDF5 file via `model.save()` or `keras.saving.save_model(model)`. This file format is considered legacy. We recommend using instead the native Keras format, e.g. `model.save('my_model.keras')` or `keras.saving.save_model(model, 'my_model.keras')`. \n"
     ]
    },
    {
     "name": "stdout",
     "output_type": "stream",
     "text": [
      "  Testing shared_labels=9...\n",
      "\u001b[1m23/23\u001b[0m \u001b[32m━━━━━━━━━━━━━━━━━━━━\u001b[0m\u001b[37m\u001b[0m \u001b[1m0s\u001b[0m 1ms/step \n"
     ]
    },
    {
     "name": "stderr",
     "output_type": "stream",
     "text": [
      "WARNING:absl:You are saving your model as an HDF5 file via `model.save()` or `keras.saving.save_model(model)`. This file format is considered legacy. We recommend using instead the native Keras format, e.g. `model.save('my_model.keras')` or `keras.saving.save_model(model, 'my_model.keras')`. \n"
     ]
    },
    {
     "name": "stdout",
     "output_type": "stream",
     "text": [
      "  Testing shared_labels=10...\n",
      "\u001b[1m23/23\u001b[0m \u001b[32m━━━━━━━━━━━━━━━━━━━━\u001b[0m\u001b[37m\u001b[0m \u001b[1m0s\u001b[0m 1ms/step \n"
     ]
    },
    {
     "name": "stderr",
     "output_type": "stream",
     "text": [
      "WARNING:absl:You are saving your model as an HDF5 file via `model.save()` or `keras.saving.save_model(model)`. This file format is considered legacy. We recommend using instead the native Keras format, e.g. `model.save('my_model.keras')` or `keras.saving.save_model(model, 'my_model.keras')`. \n"
     ]
    },
    {
     "name": "stdout",
     "output_type": "stream",
     "text": [
      "  Testing shared_labels=11...\n",
      "\u001b[1m23/23\u001b[0m \u001b[32m━━━━━━━━━━━━━━━━━━━━\u001b[0m\u001b[37m\u001b[0m \u001b[1m0s\u001b[0m 1ms/step \n"
     ]
    },
    {
     "name": "stderr",
     "output_type": "stream",
     "text": [
      "WARNING:absl:You are saving your model as an HDF5 file via `model.save()` or `keras.saving.save_model(model)`. This file format is considered legacy. We recommend using instead the native Keras format, e.g. `model.save('my_model.keras')` or `keras.saving.save_model(model, 'my_model.keras')`. \n"
     ]
    },
    {
     "name": "stdout",
     "output_type": "stream",
     "text": [
      "  Testing shared_labels=12...\n",
      "\u001b[1m23/23\u001b[0m \u001b[32m━━━━━━━━━━━━━━━━━━━━\u001b[0m\u001b[37m\u001b[0m \u001b[1m0s\u001b[0m 1ms/step \n"
     ]
    },
    {
     "name": "stderr",
     "output_type": "stream",
     "text": [
      "WARNING:absl:You are saving your model as an HDF5 file via `model.save()` or `keras.saving.save_model(model)`. This file format is considered legacy. We recommend using instead the native Keras format, e.g. `model.save('my_model.keras')` or `keras.saving.save_model(model, 'my_model.keras')`. \n"
     ]
    },
    {
     "name": "stdout",
     "output_type": "stream",
     "text": [
      "  Testing shared_labels=13...\n",
      "\u001b[1m23/23\u001b[0m \u001b[32m━━━━━━━━━━━━━━━━━━━━\u001b[0m\u001b[37m\u001b[0m \u001b[1m0s\u001b[0m 1ms/step \n"
     ]
    },
    {
     "name": "stderr",
     "output_type": "stream",
     "text": [
      "WARNING:absl:You are saving your model as an HDF5 file via `model.save()` or `keras.saving.save_model(model)`. This file format is considered legacy. We recommend using instead the native Keras format, e.g. `model.save('my_model.keras')` or `keras.saving.save_model(model, 'my_model.keras')`. \n"
     ]
    },
    {
     "name": "stdout",
     "output_type": "stream",
     "text": [
      "\n",
      "--- Iteration 18/20 ---\n",
      "  Testing shared_labels=0...\n",
      "\u001b[1m23/23\u001b[0m \u001b[32m━━━━━━━━━━━━━━━━━━━━\u001b[0m\u001b[37m\u001b[0m \u001b[1m0s\u001b[0m 2ms/step \n"
     ]
    },
    {
     "name": "stderr",
     "output_type": "stream",
     "text": [
      "WARNING:absl:You are saving your model as an HDF5 file via `model.save()` or `keras.saving.save_model(model)`. This file format is considered legacy. We recommend using instead the native Keras format, e.g. `model.save('my_model.keras')` or `keras.saving.save_model(model, 'my_model.keras')`. \n"
     ]
    },
    {
     "name": "stdout",
     "output_type": "stream",
     "text": [
      "  Testing shared_labels=1...\n",
      "\u001b[1m23/23\u001b[0m \u001b[32m━━━━━━━━━━━━━━━━━━━━\u001b[0m\u001b[37m\u001b[0m \u001b[1m0s\u001b[0m 1ms/step \n"
     ]
    },
    {
     "name": "stderr",
     "output_type": "stream",
     "text": [
      "WARNING:absl:You are saving your model as an HDF5 file via `model.save()` or `keras.saving.save_model(model)`. This file format is considered legacy. We recommend using instead the native Keras format, e.g. `model.save('my_model.keras')` or `keras.saving.save_model(model, 'my_model.keras')`. \n"
     ]
    },
    {
     "name": "stdout",
     "output_type": "stream",
     "text": [
      "  Testing shared_labels=2...\n",
      "\u001b[1m23/23\u001b[0m \u001b[32m━━━━━━━━━━━━━━━━━━━━\u001b[0m\u001b[37m\u001b[0m \u001b[1m0s\u001b[0m 1ms/step \n"
     ]
    },
    {
     "name": "stderr",
     "output_type": "stream",
     "text": [
      "WARNING:absl:You are saving your model as an HDF5 file via `model.save()` or `keras.saving.save_model(model)`. This file format is considered legacy. We recommend using instead the native Keras format, e.g. `model.save('my_model.keras')` or `keras.saving.save_model(model, 'my_model.keras')`. \n"
     ]
    },
    {
     "name": "stdout",
     "output_type": "stream",
     "text": [
      "  Testing shared_labels=3...\n",
      "\u001b[1m23/23\u001b[0m \u001b[32m━━━━━━━━━━━━━━━━━━━━\u001b[0m\u001b[37m\u001b[0m \u001b[1m0s\u001b[0m 1ms/step \n"
     ]
    },
    {
     "name": "stderr",
     "output_type": "stream",
     "text": [
      "WARNING:absl:You are saving your model as an HDF5 file via `model.save()` or `keras.saving.save_model(model)`. This file format is considered legacy. We recommend using instead the native Keras format, e.g. `model.save('my_model.keras')` or `keras.saving.save_model(model, 'my_model.keras')`. \n"
     ]
    },
    {
     "name": "stdout",
     "output_type": "stream",
     "text": [
      "  Testing shared_labels=4...\n",
      "\u001b[1m23/23\u001b[0m \u001b[32m━━━━━━━━━━━━━━━━━━━━\u001b[0m\u001b[37m\u001b[0m \u001b[1m0s\u001b[0m 1ms/step \n"
     ]
    },
    {
     "name": "stderr",
     "output_type": "stream",
     "text": [
      "WARNING:absl:You are saving your model as an HDF5 file via `model.save()` or `keras.saving.save_model(model)`. This file format is considered legacy. We recommend using instead the native Keras format, e.g. `model.save('my_model.keras')` or `keras.saving.save_model(model, 'my_model.keras')`. \n"
     ]
    },
    {
     "name": "stdout",
     "output_type": "stream",
     "text": [
      "  Testing shared_labels=5...\n",
      "\u001b[1m23/23\u001b[0m \u001b[32m━━━━━━━━━━━━━━━━━━━━\u001b[0m\u001b[37m\u001b[0m \u001b[1m0s\u001b[0m 1ms/step \n"
     ]
    },
    {
     "name": "stderr",
     "output_type": "stream",
     "text": [
      "WARNING:absl:You are saving your model as an HDF5 file via `model.save()` or `keras.saving.save_model(model)`. This file format is considered legacy. We recommend using instead the native Keras format, e.g. `model.save('my_model.keras')` or `keras.saving.save_model(model, 'my_model.keras')`. \n"
     ]
    },
    {
     "name": "stdout",
     "output_type": "stream",
     "text": [
      "  Testing shared_labels=6...\n",
      "\u001b[1m23/23\u001b[0m \u001b[32m━━━━━━━━━━━━━━━━━━━━\u001b[0m\u001b[37m\u001b[0m \u001b[1m0s\u001b[0m 1ms/step \n"
     ]
    },
    {
     "name": "stderr",
     "output_type": "stream",
     "text": [
      "WARNING:absl:You are saving your model as an HDF5 file via `model.save()` or `keras.saving.save_model(model)`. This file format is considered legacy. We recommend using instead the native Keras format, e.g. `model.save('my_model.keras')` or `keras.saving.save_model(model, 'my_model.keras')`. \n"
     ]
    },
    {
     "name": "stdout",
     "output_type": "stream",
     "text": [
      "  Testing shared_labels=7...\n",
      "\u001b[1m23/23\u001b[0m \u001b[32m━━━━━━━━━━━━━━━━━━━━\u001b[0m\u001b[37m\u001b[0m \u001b[1m0s\u001b[0m 1ms/step \n"
     ]
    },
    {
     "name": "stderr",
     "output_type": "stream",
     "text": [
      "WARNING:absl:You are saving your model as an HDF5 file via `model.save()` or `keras.saving.save_model(model)`. This file format is considered legacy. We recommend using instead the native Keras format, e.g. `model.save('my_model.keras')` or `keras.saving.save_model(model, 'my_model.keras')`. \n"
     ]
    },
    {
     "name": "stdout",
     "output_type": "stream",
     "text": [
      "  Testing shared_labels=8...\n",
      "\u001b[1m23/23\u001b[0m \u001b[32m━━━━━━━━━━━━━━━━━━━━\u001b[0m\u001b[37m\u001b[0m \u001b[1m0s\u001b[0m 1ms/step \n"
     ]
    },
    {
     "name": "stderr",
     "output_type": "stream",
     "text": [
      "WARNING:absl:You are saving your model as an HDF5 file via `model.save()` or `keras.saving.save_model(model)`. This file format is considered legacy. We recommend using instead the native Keras format, e.g. `model.save('my_model.keras')` or `keras.saving.save_model(model, 'my_model.keras')`. \n"
     ]
    },
    {
     "name": "stdout",
     "output_type": "stream",
     "text": [
      "  Testing shared_labels=9...\n",
      "\u001b[1m23/23\u001b[0m \u001b[32m━━━━━━━━━━━━━━━━━━━━\u001b[0m\u001b[37m\u001b[0m \u001b[1m0s\u001b[0m 1ms/step \n"
     ]
    },
    {
     "name": "stderr",
     "output_type": "stream",
     "text": [
      "WARNING:absl:You are saving your model as an HDF5 file via `model.save()` or `keras.saving.save_model(model)`. This file format is considered legacy. We recommend using instead the native Keras format, e.g. `model.save('my_model.keras')` or `keras.saving.save_model(model, 'my_model.keras')`. \n"
     ]
    },
    {
     "name": "stdout",
     "output_type": "stream",
     "text": [
      "  Testing shared_labels=10...\n",
      "\u001b[1m23/23\u001b[0m \u001b[32m━━━━━━━━━━━━━━━━━━━━\u001b[0m\u001b[37m\u001b[0m \u001b[1m0s\u001b[0m 3ms/step\n"
     ]
    },
    {
     "name": "stderr",
     "output_type": "stream",
     "text": [
      "WARNING:absl:You are saving your model as an HDF5 file via `model.save()` or `keras.saving.save_model(model)`. This file format is considered legacy. We recommend using instead the native Keras format, e.g. `model.save('my_model.keras')` or `keras.saving.save_model(model, 'my_model.keras')`. \n"
     ]
    },
    {
     "name": "stdout",
     "output_type": "stream",
     "text": [
      "  Testing shared_labels=11...\n",
      "\u001b[1m23/23\u001b[0m \u001b[32m━━━━━━━━━━━━━━━━━━━━\u001b[0m\u001b[37m\u001b[0m \u001b[1m0s\u001b[0m 1ms/step \n"
     ]
    },
    {
     "name": "stderr",
     "output_type": "stream",
     "text": [
      "WARNING:absl:You are saving your model as an HDF5 file via `model.save()` or `keras.saving.save_model(model)`. This file format is considered legacy. We recommend using instead the native Keras format, e.g. `model.save('my_model.keras')` or `keras.saving.save_model(model, 'my_model.keras')`. \n"
     ]
    },
    {
     "name": "stdout",
     "output_type": "stream",
     "text": [
      "  Testing shared_labels=12...\n",
      "\u001b[1m23/23\u001b[0m \u001b[32m━━━━━━━━━━━━━━━━━━━━\u001b[0m\u001b[37m\u001b[0m \u001b[1m0s\u001b[0m 1ms/step \n"
     ]
    },
    {
     "name": "stderr",
     "output_type": "stream",
     "text": [
      "WARNING:absl:You are saving your model as an HDF5 file via `model.save()` or `keras.saving.save_model(model)`. This file format is considered legacy. We recommend using instead the native Keras format, e.g. `model.save('my_model.keras')` or `keras.saving.save_model(model, 'my_model.keras')`. \n"
     ]
    },
    {
     "name": "stdout",
     "output_type": "stream",
     "text": [
      "  Testing shared_labels=13...\n",
      "\u001b[1m23/23\u001b[0m \u001b[32m━━━━━━━━━━━━━━━━━━━━\u001b[0m\u001b[37m\u001b[0m \u001b[1m0s\u001b[0m 1ms/step \n"
     ]
    },
    {
     "name": "stderr",
     "output_type": "stream",
     "text": [
      "WARNING:absl:You are saving your model as an HDF5 file via `model.save()` or `keras.saving.save_model(model)`. This file format is considered legacy. We recommend using instead the native Keras format, e.g. `model.save('my_model.keras')` or `keras.saving.save_model(model, 'my_model.keras')`. \n"
     ]
    },
    {
     "name": "stdout",
     "output_type": "stream",
     "text": [
      "\n",
      "--- Iteration 19/20 ---\n",
      "  Testing shared_labels=0...\n",
      "\u001b[1m23/23\u001b[0m \u001b[32m━━━━━━━━━━━━━━━━━━━━\u001b[0m\u001b[37m\u001b[0m \u001b[1m0s\u001b[0m 2ms/step \n"
     ]
    },
    {
     "name": "stderr",
     "output_type": "stream",
     "text": [
      "WARNING:absl:You are saving your model as an HDF5 file via `model.save()` or `keras.saving.save_model(model)`. This file format is considered legacy. We recommend using instead the native Keras format, e.g. `model.save('my_model.keras')` or `keras.saving.save_model(model, 'my_model.keras')`. \n"
     ]
    },
    {
     "name": "stdout",
     "output_type": "stream",
     "text": [
      "  Testing shared_labels=1...\n",
      "\u001b[1m23/23\u001b[0m \u001b[32m━━━━━━━━━━━━━━━━━━━━\u001b[0m\u001b[37m\u001b[0m \u001b[1m0s\u001b[0m 2ms/step \n"
     ]
    },
    {
     "name": "stderr",
     "output_type": "stream",
     "text": [
      "WARNING:absl:You are saving your model as an HDF5 file via `model.save()` or `keras.saving.save_model(model)`. This file format is considered legacy. We recommend using instead the native Keras format, e.g. `model.save('my_model.keras')` or `keras.saving.save_model(model, 'my_model.keras')`. \n"
     ]
    },
    {
     "name": "stdout",
     "output_type": "stream",
     "text": [
      "  Testing shared_labels=2...\n",
      "\u001b[1m23/23\u001b[0m \u001b[32m━━━━━━━━━━━━━━━━━━━━\u001b[0m\u001b[37m\u001b[0m \u001b[1m0s\u001b[0m 1ms/step \n"
     ]
    },
    {
     "name": "stderr",
     "output_type": "stream",
     "text": [
      "WARNING:absl:You are saving your model as an HDF5 file via `model.save()` or `keras.saving.save_model(model)`. This file format is considered legacy. We recommend using instead the native Keras format, e.g. `model.save('my_model.keras')` or `keras.saving.save_model(model, 'my_model.keras')`. \n"
     ]
    },
    {
     "name": "stdout",
     "output_type": "stream",
     "text": [
      "  Testing shared_labels=3...\n",
      "\u001b[1m23/23\u001b[0m \u001b[32m━━━━━━━━━━━━━━━━━━━━\u001b[0m\u001b[37m\u001b[0m \u001b[1m0s\u001b[0m 1ms/step \n"
     ]
    },
    {
     "name": "stderr",
     "output_type": "stream",
     "text": [
      "WARNING:absl:You are saving your model as an HDF5 file via `model.save()` or `keras.saving.save_model(model)`. This file format is considered legacy. We recommend using instead the native Keras format, e.g. `model.save('my_model.keras')` or `keras.saving.save_model(model, 'my_model.keras')`. \n"
     ]
    },
    {
     "name": "stdout",
     "output_type": "stream",
     "text": [
      "  Testing shared_labels=4...\n",
      "\u001b[1m23/23\u001b[0m \u001b[32m━━━━━━━━━━━━━━━━━━━━\u001b[0m\u001b[37m\u001b[0m \u001b[1m0s\u001b[0m 1ms/step \n"
     ]
    },
    {
     "name": "stderr",
     "output_type": "stream",
     "text": [
      "WARNING:absl:You are saving your model as an HDF5 file via `model.save()` or `keras.saving.save_model(model)`. This file format is considered legacy. We recommend using instead the native Keras format, e.g. `model.save('my_model.keras')` or `keras.saving.save_model(model, 'my_model.keras')`. \n"
     ]
    },
    {
     "name": "stdout",
     "output_type": "stream",
     "text": [
      "  Testing shared_labels=5...\n",
      "\u001b[1m23/23\u001b[0m \u001b[32m━━━━━━━━━━━━━━━━━━━━\u001b[0m\u001b[37m\u001b[0m \u001b[1m0s\u001b[0m 1ms/step \n"
     ]
    },
    {
     "name": "stderr",
     "output_type": "stream",
     "text": [
      "WARNING:absl:You are saving your model as an HDF5 file via `model.save()` or `keras.saving.save_model(model)`. This file format is considered legacy. We recommend using instead the native Keras format, e.g. `model.save('my_model.keras')` or `keras.saving.save_model(model, 'my_model.keras')`. \n"
     ]
    },
    {
     "name": "stdout",
     "output_type": "stream",
     "text": [
      "  Testing shared_labels=6...\n",
      "\u001b[1m23/23\u001b[0m \u001b[32m━━━━━━━━━━━━━━━━━━━━\u001b[0m\u001b[37m\u001b[0m \u001b[1m0s\u001b[0m 1ms/step \n"
     ]
    },
    {
     "name": "stderr",
     "output_type": "stream",
     "text": [
      "WARNING:absl:You are saving your model as an HDF5 file via `model.save()` or `keras.saving.save_model(model)`. This file format is considered legacy. We recommend using instead the native Keras format, e.g. `model.save('my_model.keras')` or `keras.saving.save_model(model, 'my_model.keras')`. \n"
     ]
    },
    {
     "name": "stdout",
     "output_type": "stream",
     "text": [
      "  Testing shared_labels=7...\n",
      "\u001b[1m23/23\u001b[0m \u001b[32m━━━━━━━━━━━━━━━━━━━━\u001b[0m\u001b[37m\u001b[0m \u001b[1m0s\u001b[0m 1ms/step \n"
     ]
    },
    {
     "name": "stderr",
     "output_type": "stream",
     "text": [
      "WARNING:absl:You are saving your model as an HDF5 file via `model.save()` or `keras.saving.save_model(model)`. This file format is considered legacy. We recommend using instead the native Keras format, e.g. `model.save('my_model.keras')` or `keras.saving.save_model(model, 'my_model.keras')`. \n"
     ]
    },
    {
     "name": "stdout",
     "output_type": "stream",
     "text": [
      "  Testing shared_labels=8...\n",
      "\u001b[1m23/23\u001b[0m \u001b[32m━━━━━━━━━━━━━━━━━━━━\u001b[0m\u001b[37m\u001b[0m \u001b[1m0s\u001b[0m 1ms/step \n"
     ]
    },
    {
     "name": "stderr",
     "output_type": "stream",
     "text": [
      "WARNING:absl:You are saving your model as an HDF5 file via `model.save()` or `keras.saving.save_model(model)`. This file format is considered legacy. We recommend using instead the native Keras format, e.g. `model.save('my_model.keras')` or `keras.saving.save_model(model, 'my_model.keras')`. \n"
     ]
    },
    {
     "name": "stdout",
     "output_type": "stream",
     "text": [
      "  Testing shared_labels=9...\n",
      "\u001b[1m23/23\u001b[0m \u001b[32m━━━━━━━━━━━━━━━━━━━━\u001b[0m\u001b[37m\u001b[0m \u001b[1m0s\u001b[0m 1ms/step \n"
     ]
    },
    {
     "name": "stderr",
     "output_type": "stream",
     "text": [
      "WARNING:absl:You are saving your model as an HDF5 file via `model.save()` or `keras.saving.save_model(model)`. This file format is considered legacy. We recommend using instead the native Keras format, e.g. `model.save('my_model.keras')` or `keras.saving.save_model(model, 'my_model.keras')`. \n"
     ]
    },
    {
     "name": "stdout",
     "output_type": "stream",
     "text": [
      "  Testing shared_labels=10...\n",
      "\u001b[1m23/23\u001b[0m \u001b[32m━━━━━━━━━━━━━━━━━━━━\u001b[0m\u001b[37m\u001b[0m \u001b[1m0s\u001b[0m 1ms/step \n"
     ]
    },
    {
     "name": "stderr",
     "output_type": "stream",
     "text": [
      "WARNING:absl:You are saving your model as an HDF5 file via `model.save()` or `keras.saving.save_model(model)`. This file format is considered legacy. We recommend using instead the native Keras format, e.g. `model.save('my_model.keras')` or `keras.saving.save_model(model, 'my_model.keras')`. \n"
     ]
    },
    {
     "name": "stdout",
     "output_type": "stream",
     "text": [
      "  Testing shared_labels=11...\n",
      "\u001b[1m23/23\u001b[0m \u001b[32m━━━━━━━━━━━━━━━━━━━━\u001b[0m\u001b[37m\u001b[0m \u001b[1m0s\u001b[0m 1ms/step \n"
     ]
    },
    {
     "name": "stderr",
     "output_type": "stream",
     "text": [
      "WARNING:absl:You are saving your model as an HDF5 file via `model.save()` or `keras.saving.save_model(model)`. This file format is considered legacy. We recommend using instead the native Keras format, e.g. `model.save('my_model.keras')` or `keras.saving.save_model(model, 'my_model.keras')`. \n"
     ]
    },
    {
     "name": "stdout",
     "output_type": "stream",
     "text": [
      "  Testing shared_labels=12...\n",
      "\u001b[1m23/23\u001b[0m \u001b[32m━━━━━━━━━━━━━━━━━━━━\u001b[0m\u001b[37m\u001b[0m \u001b[1m0s\u001b[0m 1ms/step \n"
     ]
    },
    {
     "name": "stderr",
     "output_type": "stream",
     "text": [
      "WARNING:absl:You are saving your model as an HDF5 file via `model.save()` or `keras.saving.save_model(model)`. This file format is considered legacy. We recommend using instead the native Keras format, e.g. `model.save('my_model.keras')` or `keras.saving.save_model(model, 'my_model.keras')`. \n"
     ]
    },
    {
     "name": "stdout",
     "output_type": "stream",
     "text": [
      "  Testing shared_labels=13...\n",
      "\u001b[1m23/23\u001b[0m \u001b[32m━━━━━━━━━━━━━━━━━━━━\u001b[0m\u001b[37m\u001b[0m \u001b[1m0s\u001b[0m 1ms/step \n"
     ]
    },
    {
     "name": "stderr",
     "output_type": "stream",
     "text": [
      "WARNING:absl:You are saving your model as an HDF5 file via `model.save()` or `keras.saving.save_model(model)`. This file format is considered legacy. We recommend using instead the native Keras format, e.g. `model.save('my_model.keras')` or `keras.saving.save_model(model, 'my_model.keras')`. \n"
     ]
    },
    {
     "name": "stdout",
     "output_type": "stream",
     "text": [
      "\n",
      "--- Iteration 20/20 ---\n",
      "  Testing shared_labels=0...\n",
      "\u001b[1m23/23\u001b[0m \u001b[32m━━━━━━━━━━━━━━━━━━━━\u001b[0m\u001b[37m\u001b[0m \u001b[1m0s\u001b[0m 1ms/step \n"
     ]
    },
    {
     "name": "stderr",
     "output_type": "stream",
     "text": [
      "WARNING:absl:You are saving your model as an HDF5 file via `model.save()` or `keras.saving.save_model(model)`. This file format is considered legacy. We recommend using instead the native Keras format, e.g. `model.save('my_model.keras')` or `keras.saving.save_model(model, 'my_model.keras')`. \n"
     ]
    },
    {
     "name": "stdout",
     "output_type": "stream",
     "text": [
      "  Testing shared_labels=1...\n",
      "\u001b[1m23/23\u001b[0m \u001b[32m━━━━━━━━━━━━━━━━━━━━\u001b[0m\u001b[37m\u001b[0m \u001b[1m0s\u001b[0m 1ms/step \n"
     ]
    },
    {
     "name": "stderr",
     "output_type": "stream",
     "text": [
      "WARNING:absl:You are saving your model as an HDF5 file via `model.save()` or `keras.saving.save_model(model)`. This file format is considered legacy. We recommend using instead the native Keras format, e.g. `model.save('my_model.keras')` or `keras.saving.save_model(model, 'my_model.keras')`. \n"
     ]
    },
    {
     "name": "stdout",
     "output_type": "stream",
     "text": [
      "  Testing shared_labels=2...\n",
      "\u001b[1m23/23\u001b[0m \u001b[32m━━━━━━━━━━━━━━━━━━━━\u001b[0m\u001b[37m\u001b[0m \u001b[1m0s\u001b[0m 1ms/step \n"
     ]
    },
    {
     "name": "stderr",
     "output_type": "stream",
     "text": [
      "WARNING:absl:You are saving your model as an HDF5 file via `model.save()` or `keras.saving.save_model(model)`. This file format is considered legacy. We recommend using instead the native Keras format, e.g. `model.save('my_model.keras')` or `keras.saving.save_model(model, 'my_model.keras')`. \n"
     ]
    },
    {
     "name": "stdout",
     "output_type": "stream",
     "text": [
      "  Testing shared_labels=3...\n",
      "\u001b[1m23/23\u001b[0m \u001b[32m━━━━━━━━━━━━━━━━━━━━\u001b[0m\u001b[37m\u001b[0m \u001b[1m0s\u001b[0m 1ms/step \n"
     ]
    },
    {
     "name": "stderr",
     "output_type": "stream",
     "text": [
      "WARNING:absl:You are saving your model as an HDF5 file via `model.save()` or `keras.saving.save_model(model)`. This file format is considered legacy. We recommend using instead the native Keras format, e.g. `model.save('my_model.keras')` or `keras.saving.save_model(model, 'my_model.keras')`. \n"
     ]
    },
    {
     "name": "stdout",
     "output_type": "stream",
     "text": [
      "  Testing shared_labels=4...\n",
      "\u001b[1m23/23\u001b[0m \u001b[32m━━━━━━━━━━━━━━━━━━━━\u001b[0m\u001b[37m\u001b[0m \u001b[1m0s\u001b[0m 1ms/step \n"
     ]
    },
    {
     "name": "stderr",
     "output_type": "stream",
     "text": [
      "WARNING:absl:You are saving your model as an HDF5 file via `model.save()` or `keras.saving.save_model(model)`. This file format is considered legacy. We recommend using instead the native Keras format, e.g. `model.save('my_model.keras')` or `keras.saving.save_model(model, 'my_model.keras')`. \n"
     ]
    },
    {
     "name": "stdout",
     "output_type": "stream",
     "text": [
      "  Testing shared_labels=5...\n",
      "\u001b[1m23/23\u001b[0m \u001b[32m━━━━━━━━━━━━━━━━━━━━\u001b[0m\u001b[37m\u001b[0m \u001b[1m0s\u001b[0m 1ms/step \n"
     ]
    },
    {
     "name": "stderr",
     "output_type": "stream",
     "text": [
      "WARNING:absl:You are saving your model as an HDF5 file via `model.save()` or `keras.saving.save_model(model)`. This file format is considered legacy. We recommend using instead the native Keras format, e.g. `model.save('my_model.keras')` or `keras.saving.save_model(model, 'my_model.keras')`. \n"
     ]
    },
    {
     "name": "stdout",
     "output_type": "stream",
     "text": [
      "  Testing shared_labels=6...\n",
      "\u001b[1m23/23\u001b[0m \u001b[32m━━━━━━━━━━━━━━━━━━━━\u001b[0m\u001b[37m\u001b[0m \u001b[1m0s\u001b[0m 1ms/step \n"
     ]
    },
    {
     "name": "stderr",
     "output_type": "stream",
     "text": [
      "WARNING:absl:You are saving your model as an HDF5 file via `model.save()` or `keras.saving.save_model(model)`. This file format is considered legacy. We recommend using instead the native Keras format, e.g. `model.save('my_model.keras')` or `keras.saving.save_model(model, 'my_model.keras')`. \n"
     ]
    },
    {
     "name": "stdout",
     "output_type": "stream",
     "text": [
      "  Testing shared_labels=7...\n",
      "\u001b[1m23/23\u001b[0m \u001b[32m━━━━━━━━━━━━━━━━━━━━\u001b[0m\u001b[37m\u001b[0m \u001b[1m0s\u001b[0m 1ms/step \n"
     ]
    },
    {
     "name": "stderr",
     "output_type": "stream",
     "text": [
      "WARNING:absl:You are saving your model as an HDF5 file via `model.save()` or `keras.saving.save_model(model)`. This file format is considered legacy. We recommend using instead the native Keras format, e.g. `model.save('my_model.keras')` or `keras.saving.save_model(model, 'my_model.keras')`. \n"
     ]
    },
    {
     "name": "stdout",
     "output_type": "stream",
     "text": [
      "  Testing shared_labels=8...\n",
      "\u001b[1m23/23\u001b[0m \u001b[32m━━━━━━━━━━━━━━━━━━━━\u001b[0m\u001b[37m\u001b[0m \u001b[1m0s\u001b[0m 1ms/step \n"
     ]
    },
    {
     "name": "stderr",
     "output_type": "stream",
     "text": [
      "WARNING:absl:You are saving your model as an HDF5 file via `model.save()` or `keras.saving.save_model(model)`. This file format is considered legacy. We recommend using instead the native Keras format, e.g. `model.save('my_model.keras')` or `keras.saving.save_model(model, 'my_model.keras')`. \n"
     ]
    },
    {
     "name": "stdout",
     "output_type": "stream",
     "text": [
      "  Testing shared_labels=9...\n",
      "\u001b[1m23/23\u001b[0m \u001b[32m━━━━━━━━━━━━━━━━━━━━\u001b[0m\u001b[37m\u001b[0m \u001b[1m0s\u001b[0m 1ms/step \n"
     ]
    },
    {
     "name": "stderr",
     "output_type": "stream",
     "text": [
      "WARNING:absl:You are saving your model as an HDF5 file via `model.save()` or `keras.saving.save_model(model)`. This file format is considered legacy. We recommend using instead the native Keras format, e.g. `model.save('my_model.keras')` or `keras.saving.save_model(model, 'my_model.keras')`. \n"
     ]
    },
    {
     "name": "stdout",
     "output_type": "stream",
     "text": [
      "  Testing shared_labels=10...\n",
      "\u001b[1m23/23\u001b[0m \u001b[32m━━━━━━━━━━━━━━━━━━━━\u001b[0m\u001b[37m\u001b[0m \u001b[1m0s\u001b[0m 1ms/step \n"
     ]
    },
    {
     "name": "stderr",
     "output_type": "stream",
     "text": [
      "WARNING:absl:You are saving your model as an HDF5 file via `model.save()` or `keras.saving.save_model(model)`. This file format is considered legacy. We recommend using instead the native Keras format, e.g. `model.save('my_model.keras')` or `keras.saving.save_model(model, 'my_model.keras')`. \n"
     ]
    },
    {
     "name": "stdout",
     "output_type": "stream",
     "text": [
      "  Testing shared_labels=11...\n",
      "\u001b[1m23/23\u001b[0m \u001b[32m━━━━━━━━━━━━━━━━━━━━\u001b[0m\u001b[37m\u001b[0m \u001b[1m0s\u001b[0m 1ms/step \n"
     ]
    },
    {
     "name": "stderr",
     "output_type": "stream",
     "text": [
      "WARNING:absl:You are saving your model as an HDF5 file via `model.save()` or `keras.saving.save_model(model)`. This file format is considered legacy. We recommend using instead the native Keras format, e.g. `model.save('my_model.keras')` or `keras.saving.save_model(model, 'my_model.keras')`. \n"
     ]
    },
    {
     "name": "stdout",
     "output_type": "stream",
     "text": [
      "  Testing shared_labels=12...\n",
      "\u001b[1m23/23\u001b[0m \u001b[32m━━━━━━━━━━━━━━━━━━━━\u001b[0m\u001b[37m\u001b[0m \u001b[1m0s\u001b[0m 1ms/step \n"
     ]
    },
    {
     "name": "stderr",
     "output_type": "stream",
     "text": [
      "WARNING:absl:You are saving your model as an HDF5 file via `model.save()` or `keras.saving.save_model(model)`. This file format is considered legacy. We recommend using instead the native Keras format, e.g. `model.save('my_model.keras')` or `keras.saving.save_model(model, 'my_model.keras')`. \n"
     ]
    },
    {
     "name": "stdout",
     "output_type": "stream",
     "text": [
      "  Testing shared_labels=13...\n",
      "\u001b[1m23/23\u001b[0m \u001b[32m━━━━━━━━━━━━━━━━━━━━\u001b[0m\u001b[37m\u001b[0m \u001b[1m0s\u001b[0m 1ms/step \n"
     ]
    },
    {
     "name": "stderr",
     "output_type": "stream",
     "text": [
      "WARNING:absl:You are saving your model as an HDF5 file via `model.save()` or `keras.saving.save_model(model)`. This file format is considered legacy. We recommend using instead the native Keras format, e.g. `model.save('my_model.keras')` or `keras.saving.save_model(model, 'my_model.keras')`. \n"
     ]
    },
    {
     "name": "stdout",
     "output_type": "stream",
     "text": [
      "\n",
      "Experiment complete! Results saved to: data\\Experiment 3\n"
     ]
    }
   ],
   "source": [
    "# Define the output directory for Experiment 3\n",
    "experiment_dir = os.path.join('data', 'Experiment 3')\n",
    "os.makedirs(experiment_dir, exist_ok=True)\n",
    "\n",
    "# Initialize a list to hold all experiment results\n",
    "all_experiment_results = []\n",
    "num_iterations = 20\n",
    "num_shared_labels_range = range(0, 14)  # 0-13\n",
    "n_nodes = 2\n",
    "\n",
    "for iteration in range(num_iterations):\n",
    "    print(f\"\\n--- Iteration {iteration+1}/{num_iterations} ---\")\n",
    "    \n",
    "    # Per-iteration storage\n",
    "    iteration_results = []\n",
    "    \n",
    "    # Create iteration directory\n",
    "    iteration_dir = os.path.join(experiment_dir, f'iteration_{iteration+1}')\n",
    "    os.makedirs(iteration_dir, exist_ok=True)\n",
    "\n",
    "    for shared_labels in num_shared_labels_range:\n",
    "        print(f\"  Testing shared_labels={shared_labels}...\")\n",
    "        \n",
    "        # Initialize nodes and model\n",
    "        nodes = create_FL_Datasets(X_train, y_train, n_nodes, shared_labels)\n",
    "        global_model = create_mlp_model(allEmbeddings.shape[1], labels.shape[1])\n",
    "        max_label = labels.shape[1] - 1\n",
    "\n",
    "        # Federated training\n",
    "        for round in range(num_rounds):\n",
    "            for node in nodes:\n",
    "                node['classifier'].fit(node['X_train'], node['y_train'], \n",
    "                                      epochs=num_epochs, verbose=0)\n",
    "            global_model, nodes = surgical_aggregation(nodes, max_label, global_model)\n",
    "\n",
    "        # Evaluation\n",
    "        perf = global_model.evaluate(X_test, y_test, verbose=0)\n",
    "        metrics = get_metrics(global_model, X_test, y_test, labels)\n",
    "        label_names = [node['label_names'].tolist() for node in nodes]\n",
    "\n",
    "        # Create result entry\n",
    "        result = {\n",
    "            'shared_labels': shared_labels,\n",
    "            'perf': make_serializable(perf),\n",
    "            'metrics': make_serializable(metrics),\n",
    "            'label_names': make_serializable(label_names)\n",
    "        }\n",
    "        \n",
    "        # Save per-configuration files\n",
    "        config_dir = os.path.join(iteration_dir, f'shared_labels_{shared_labels}')\n",
    "        os.makedirs(config_dir, exist_ok=True)\n",
    "        \n",
    "        # Save metrics\n",
    "        with open(os.path.join(config_dir, 'metrics.json'), 'w') as f:\n",
    "            json.dump(result, f)\n",
    "        \n",
    "        # Save model\n",
    "        model_path = os.path.join(config_dir, 'global_model')\n",
    "        global_model.save(model_path+'.h5')  # Saves both architecture and weights\n",
    "        \n",
    "        iteration_results.append(result)\n",
    "\n",
    "    # Save iteration-level aggregation\n",
    "    with open(os.path.join(iteration_dir, 'iteration_summary.json'), 'w') as f:\n",
    "        json.dump(make_serializable(iteration_results), f)\n",
    "    \n",
    "    all_experiment_results.extend(iteration_results)\n",
    "\n",
    "# Save global results\n",
    "with open(os.path.join(experiment_dir, 'all_experiment_results.json'), 'w') as f:\n",
    "    json.dump(make_serializable(all_experiment_results), f)\n",
    "\n",
    "print(\"\\nExperiment complete! Results saved to:\", experiment_dir)"
   ]
  },
  {
   "cell_type": "code",
   "execution_count": 81,
   "metadata": {},
   "outputs": [
    {
     "name": "stdout",
     "output_type": "stream",
     "text": [
      "Running iteration 1...\n",
      "  Running with 0 shared labels...\n",
      "\u001b[1m23/23\u001b[0m \u001b[32m━━━━━━━━━━━━━━━━━━━━\u001b[0m\u001b[37m\u001b[0m \u001b[1m0s\u001b[0m 1ms/step \n",
      "  Running with 1 shared labels...\n",
      "\u001b[1m23/23\u001b[0m \u001b[32m━━━━━━━━━━━━━━━━━━━━\u001b[0m\u001b[37m\u001b[0m \u001b[1m0s\u001b[0m 2ms/step\n",
      "  Running with 2 shared labels...\n",
      "\u001b[1m23/23\u001b[0m \u001b[32m━━━━━━━━━━━━━━━━━━━━\u001b[0m\u001b[37m\u001b[0m \u001b[1m0s\u001b[0m 2ms/step\n",
      "  Running with 3 shared labels...\n",
      "\u001b[1m23/23\u001b[0m \u001b[32m━━━━━━━━━━━━━━━━━━━━\u001b[0m\u001b[37m\u001b[0m \u001b[1m0s\u001b[0m 1ms/step \n",
      "  Running with 4 shared labels...\n",
      "\u001b[1m23/23\u001b[0m \u001b[32m━━━━━━━━━━━━━━━━━━━━\u001b[0m\u001b[37m\u001b[0m \u001b[1m0s\u001b[0m 1ms/step \n",
      "  Running with 5 shared labels...\n",
      "\u001b[1m23/23\u001b[0m \u001b[32m━━━━━━━━━━━━━━━━━━━━\u001b[0m\u001b[37m\u001b[0m \u001b[1m0s\u001b[0m 1ms/step \n",
      "  Running with 6 shared labels...\n",
      "\u001b[1m23/23\u001b[0m \u001b[32m━━━━━━━━━━━━━━━━━━━━\u001b[0m\u001b[37m\u001b[0m \u001b[1m0s\u001b[0m 1ms/step \n",
      "  Running with 7 shared labels...\n",
      "\u001b[1m23/23\u001b[0m \u001b[32m━━━━━━━━━━━━━━━━━━━━\u001b[0m\u001b[37m\u001b[0m \u001b[1m0s\u001b[0m 2ms/step\n",
      "  Running with 8 shared labels...\n",
      "\u001b[1m23/23\u001b[0m \u001b[32m━━━━━━━━━━━━━━━━━━━━\u001b[0m\u001b[37m\u001b[0m \u001b[1m0s\u001b[0m 1ms/step \n",
      "  Running with 9 shared labels...\n",
      "\u001b[1m23/23\u001b[0m \u001b[32m━━━━━━━━━━━━━━━━━━━━\u001b[0m\u001b[37m\u001b[0m \u001b[1m0s\u001b[0m 1ms/step \n",
      "  Running with 10 shared labels...\n",
      "\u001b[1m23/23\u001b[0m \u001b[32m━━━━━━━━━━━━━━━━━━━━\u001b[0m\u001b[37m\u001b[0m \u001b[1m0s\u001b[0m 1ms/step \n",
      "  Running with 11 shared labels...\n",
      "\u001b[1m23/23\u001b[0m \u001b[32m━━━━━━━━━━━━━━━━━━━━\u001b[0m\u001b[37m\u001b[0m \u001b[1m0s\u001b[0m 1ms/step \n",
      "  Running with 12 shared labels...\n",
      "\u001b[1m23/23\u001b[0m \u001b[32m━━━━━━━━━━━━━━━━━━━━\u001b[0m\u001b[37m\u001b[0m \u001b[1m0s\u001b[0m 1ms/step \n",
      "  Running with 13 shared labels...\n",
      "\u001b[1m23/23\u001b[0m \u001b[32m━━━━━━━━━━━━━━━━━━━━\u001b[0m\u001b[37m\u001b[0m \u001b[1m0s\u001b[0m 1ms/step \n",
      "Running iteration 2...\n",
      "  Running with 0 shared labels...\n",
      "\u001b[1m23/23\u001b[0m \u001b[32m━━━━━━━━━━━━━━━━━━━━\u001b[0m\u001b[37m\u001b[0m \u001b[1m0s\u001b[0m 1ms/step \n",
      "  Running with 1 shared labels...\n",
      "\u001b[1m23/23\u001b[0m \u001b[32m━━━━━━━━━━━━━━━━━━━━\u001b[0m\u001b[37m\u001b[0m \u001b[1m0s\u001b[0m 2ms/step \n",
      "  Running with 2 shared labels...\n",
      "\u001b[1m23/23\u001b[0m \u001b[32m━━━━━━━━━━━━━━━━━━━━\u001b[0m\u001b[37m\u001b[0m \u001b[1m0s\u001b[0m 2ms/step \n",
      "  Running with 3 shared labels...\n",
      "\u001b[1m23/23\u001b[0m \u001b[32m━━━━━━━━━━━━━━━━━━━━\u001b[0m\u001b[37m\u001b[0m \u001b[1m0s\u001b[0m 1ms/step \n",
      "  Running with 4 shared labels...\n",
      "\u001b[1m23/23\u001b[0m \u001b[32m━━━━━━━━━━━━━━━━━━━━\u001b[0m\u001b[37m\u001b[0m \u001b[1m0s\u001b[0m 1ms/step \n",
      "  Running with 5 shared labels...\n",
      "\u001b[1m23/23\u001b[0m \u001b[32m━━━━━━━━━━━━━━━━━━━━\u001b[0m\u001b[37m\u001b[0m \u001b[1m0s\u001b[0m 1ms/step \n",
      "  Running with 6 shared labels...\n",
      "\u001b[1m23/23\u001b[0m \u001b[32m━━━━━━━━━━━━━━━━━━━━\u001b[0m\u001b[37m\u001b[0m \u001b[1m0s\u001b[0m 1ms/step \n",
      "  Running with 7 shared labels...\n",
      "\u001b[1m23/23\u001b[0m \u001b[32m━━━━━━━━━━━━━━━━━━━━\u001b[0m\u001b[37m\u001b[0m \u001b[1m0s\u001b[0m 2ms/step\n",
      "  Running with 8 shared labels...\n",
      "\u001b[1m23/23\u001b[0m \u001b[32m━━━━━━━━━━━━━━━━━━━━\u001b[0m\u001b[37m\u001b[0m \u001b[1m0s\u001b[0m 2ms/step \n",
      "  Running with 9 shared labels...\n",
      "\u001b[1m23/23\u001b[0m \u001b[32m━━━━━━━━━━━━━━━━━━━━\u001b[0m\u001b[37m\u001b[0m \u001b[1m0s\u001b[0m 2ms/step\n",
      "  Running with 10 shared labels...\n",
      "\u001b[1m23/23\u001b[0m \u001b[32m━━━━━━━━━━━━━━━━━━━━\u001b[0m\u001b[37m\u001b[0m \u001b[1m0s\u001b[0m 3ms/step\n",
      "  Running with 11 shared labels...\n",
      "\u001b[1m23/23\u001b[0m \u001b[32m━━━━━━━━━━━━━━━━━━━━\u001b[0m\u001b[37m\u001b[0m \u001b[1m0s\u001b[0m 2ms/step \n",
      "  Running with 12 shared labels...\n",
      "\u001b[1m23/23\u001b[0m \u001b[32m━━━━━━━━━━━━━━━━━━━━\u001b[0m\u001b[37m\u001b[0m \u001b[1m0s\u001b[0m 2ms/step \n",
      "  Running with 13 shared labels...\n",
      "\u001b[1m23/23\u001b[0m \u001b[32m━━━━━━━━━━━━━━━━━━━━\u001b[0m\u001b[37m\u001b[0m \u001b[1m0s\u001b[0m 2ms/step \n",
      "Running iteration 3...\n",
      "  Running with 0 shared labels...\n",
      "\u001b[1m23/23\u001b[0m \u001b[32m━━━━━━━━━━━━━━━━━━━━\u001b[0m\u001b[37m\u001b[0m \u001b[1m0s\u001b[0m 2ms/step \n",
      "  Running with 1 shared labels...\n",
      "\u001b[1m23/23\u001b[0m \u001b[32m━━━━━━━━━━━━━━━━━━━━\u001b[0m\u001b[37m\u001b[0m \u001b[1m0s\u001b[0m 2ms/step \n",
      "  Running with 2 shared labels...\n",
      "\u001b[1m23/23\u001b[0m \u001b[32m━━━━━━━━━━━━━━━━━━━━\u001b[0m\u001b[37m\u001b[0m \u001b[1m0s\u001b[0m 2ms/step \n",
      "  Running with 3 shared labels...\n",
      "\u001b[1m23/23\u001b[0m \u001b[32m━━━━━━━━━━━━━━━━━━━━\u001b[0m\u001b[37m\u001b[0m \u001b[1m0s\u001b[0m 2ms/step\n",
      "  Running with 4 shared labels...\n",
      "\u001b[1m23/23\u001b[0m \u001b[32m━━━━━━━━━━━━━━━━━━━━\u001b[0m\u001b[37m\u001b[0m \u001b[1m0s\u001b[0m 1ms/step \n",
      "  Running with 5 shared labels...\n",
      "\u001b[1m23/23\u001b[0m \u001b[32m━━━━━━━━━━━━━━━━━━━━\u001b[0m\u001b[37m\u001b[0m \u001b[1m0s\u001b[0m 1ms/step \n",
      "  Running with 6 shared labels...\n",
      "\u001b[1m23/23\u001b[0m \u001b[32m━━━━━━━━━━━━━━━━━━━━\u001b[0m\u001b[37m\u001b[0m \u001b[1m0s\u001b[0m 1ms/step \n",
      "  Running with 7 shared labels...\n",
      "\u001b[1m23/23\u001b[0m \u001b[32m━━━━━━━━━━━━━━━━━━━━\u001b[0m\u001b[37m\u001b[0m \u001b[1m0s\u001b[0m 1ms/step \n",
      "  Running with 8 shared labels...\n",
      "\u001b[1m23/23\u001b[0m \u001b[32m━━━━━━━━━━━━━━━━━━━━\u001b[0m\u001b[37m\u001b[0m \u001b[1m0s\u001b[0m 1ms/step \n",
      "  Running with 9 shared labels...\n",
      "\u001b[1m23/23\u001b[0m \u001b[32m━━━━━━━━━━━━━━━━━━━━\u001b[0m\u001b[37m\u001b[0m \u001b[1m0s\u001b[0m 1ms/step \n",
      "  Running with 10 shared labels...\n",
      "\u001b[1m23/23\u001b[0m \u001b[32m━━━━━━━━━━━━━━━━━━━━\u001b[0m\u001b[37m\u001b[0m \u001b[1m0s\u001b[0m 1ms/step \n",
      "  Running with 11 shared labels...\n",
      "\u001b[1m23/23\u001b[0m \u001b[32m━━━━━━━━━━━━━━━━━━━━\u001b[0m\u001b[37m\u001b[0m \u001b[1m0s\u001b[0m 1ms/step \n",
      "  Running with 12 shared labels...\n",
      "\u001b[1m23/23\u001b[0m \u001b[32m━━━━━━━━━━━━━━━━━━━━\u001b[0m\u001b[37m\u001b[0m \u001b[1m0s\u001b[0m 1ms/step \n",
      "  Running with 13 shared labels...\n",
      "\u001b[1m23/23\u001b[0m \u001b[32m━━━━━━━━━━━━━━━━━━━━\u001b[0m\u001b[37m\u001b[0m \u001b[1m0s\u001b[0m 1ms/step \n",
      "Running iteration 4...\n",
      "  Running with 0 shared labels...\n",
      "\u001b[1m23/23\u001b[0m \u001b[32m━━━━━━━━━━━━━━━━━━━━\u001b[0m\u001b[37m\u001b[0m \u001b[1m0s\u001b[0m 1ms/step \n",
      "  Running with 1 shared labels...\n",
      "\u001b[1m23/23\u001b[0m \u001b[32m━━━━━━━━━━━━━━━━━━━━\u001b[0m\u001b[37m\u001b[0m \u001b[1m0s\u001b[0m 1ms/step \n",
      "  Running with 2 shared labels...\n",
      "\u001b[1m23/23\u001b[0m \u001b[32m━━━━━━━━━━━━━━━━━━━━\u001b[0m\u001b[37m\u001b[0m \u001b[1m0s\u001b[0m 1ms/step \n",
      "  Running with 3 shared labels...\n",
      "\u001b[1m23/23\u001b[0m \u001b[32m━━━━━━━━━━━━━━━━━━━━\u001b[0m\u001b[37m\u001b[0m \u001b[1m0s\u001b[0m 1ms/step \n",
      "  Running with 4 shared labels...\n",
      "\u001b[1m23/23\u001b[0m \u001b[32m━━━━━━━━━━━━━━━━━━━━\u001b[0m\u001b[37m\u001b[0m \u001b[1m0s\u001b[0m 1ms/step \n",
      "  Running with 5 shared labels...\n",
      "\u001b[1m23/23\u001b[0m \u001b[32m━━━━━━━━━━━━━━━━━━━━\u001b[0m\u001b[37m\u001b[0m \u001b[1m0s\u001b[0m 1ms/step \n",
      "  Running with 6 shared labels...\n",
      "\u001b[1m23/23\u001b[0m \u001b[32m━━━━━━━━━━━━━━━━━━━━\u001b[0m\u001b[37m\u001b[0m \u001b[1m0s\u001b[0m 1ms/step \n",
      "  Running with 7 shared labels...\n",
      "\u001b[1m23/23\u001b[0m \u001b[32m━━━━━━━━━━━━━━━━━━━━\u001b[0m\u001b[37m\u001b[0m \u001b[1m0s\u001b[0m 1ms/step \n",
      "  Running with 8 shared labels...\n",
      "\u001b[1m23/23\u001b[0m \u001b[32m━━━━━━━━━━━━━━━━━━━━\u001b[0m\u001b[37m\u001b[0m \u001b[1m0s\u001b[0m 1ms/step \n",
      "  Running with 9 shared labels...\n",
      "\u001b[1m23/23\u001b[0m \u001b[32m━━━━━━━━━━━━━━━━━━━━\u001b[0m\u001b[37m\u001b[0m \u001b[1m0s\u001b[0m 1ms/step \n",
      "  Running with 10 shared labels...\n",
      "\u001b[1m23/23\u001b[0m \u001b[32m━━━━━━━━━━━━━━━━━━━━\u001b[0m\u001b[37m\u001b[0m \u001b[1m0s\u001b[0m 2ms/step \n",
      "  Running with 11 shared labels...\n",
      "\u001b[1m23/23\u001b[0m \u001b[32m━━━━━━━━━━━━━━━━━━━━\u001b[0m\u001b[37m\u001b[0m \u001b[1m0s\u001b[0m 1ms/step \n",
      "  Running with 12 shared labels...\n",
      "\u001b[1m23/23\u001b[0m \u001b[32m━━━━━━━━━━━━━━━━━━━━\u001b[0m\u001b[37m\u001b[0m \u001b[1m0s\u001b[0m 1ms/step \n",
      "  Running with 13 shared labels...\n",
      "\u001b[1m23/23\u001b[0m \u001b[32m━━━━━━━━━━━━━━━━━━━━\u001b[0m\u001b[37m\u001b[0m \u001b[1m0s\u001b[0m 1ms/step \n",
      "Running iteration 5...\n",
      "  Running with 0 shared labels...\n",
      "\u001b[1m23/23\u001b[0m \u001b[32m━━━━━━━━━━━━━━━━━━━━\u001b[0m\u001b[37m\u001b[0m \u001b[1m0s\u001b[0m 1ms/step \n",
      "  Running with 1 shared labels...\n",
      "\u001b[1m23/23\u001b[0m \u001b[32m━━━━━━━━━━━━━━━━━━━━\u001b[0m\u001b[37m\u001b[0m \u001b[1m0s\u001b[0m 1ms/step \n",
      "  Running with 2 shared labels...\n",
      "\u001b[1m23/23\u001b[0m \u001b[32m━━━━━━━━━━━━━━━━━━━━\u001b[0m\u001b[37m\u001b[0m \u001b[1m0s\u001b[0m 1ms/step \n",
      "  Running with 3 shared labels...\n",
      "\u001b[1m23/23\u001b[0m \u001b[32m━━━━━━━━━━━━━━━━━━━━\u001b[0m\u001b[37m\u001b[0m \u001b[1m0s\u001b[0m 1ms/step \n",
      "  Running with 4 shared labels...\n",
      "\u001b[1m23/23\u001b[0m \u001b[32m━━━━━━━━━━━━━━━━━━━━\u001b[0m\u001b[37m\u001b[0m \u001b[1m0s\u001b[0m 1ms/step \n",
      "  Running with 5 shared labels...\n",
      "\u001b[1m23/23\u001b[0m \u001b[32m━━━━━━━━━━━━━━━━━━━━\u001b[0m\u001b[37m\u001b[0m \u001b[1m0s\u001b[0m 1ms/step \n",
      "  Running with 6 shared labels...\n",
      "\u001b[1m23/23\u001b[0m \u001b[32m━━━━━━━━━━━━━━━━━━━━\u001b[0m\u001b[37m\u001b[0m \u001b[1m0s\u001b[0m 1ms/step \n",
      "  Running with 7 shared labels...\n",
      "\u001b[1m23/23\u001b[0m \u001b[32m━━━━━━━━━━━━━━━━━━━━\u001b[0m\u001b[37m\u001b[0m \u001b[1m0s\u001b[0m 1ms/step \n",
      "  Running with 8 shared labels...\n",
      "\u001b[1m23/23\u001b[0m \u001b[32m━━━━━━━━━━━━━━━━━━━━\u001b[0m\u001b[37m\u001b[0m \u001b[1m0s\u001b[0m 1ms/step \n",
      "  Running with 9 shared labels...\n",
      "\u001b[1m23/23\u001b[0m \u001b[32m━━━━━━━━━━━━━━━━━━━━\u001b[0m\u001b[37m\u001b[0m \u001b[1m0s\u001b[0m 1ms/step \n",
      "  Running with 10 shared labels...\n",
      "\u001b[1m23/23\u001b[0m \u001b[32m━━━━━━━━━━━━━━━━━━━━\u001b[0m\u001b[37m\u001b[0m \u001b[1m0s\u001b[0m 1ms/step \n",
      "  Running with 11 shared labels...\n",
      "\u001b[1m23/23\u001b[0m \u001b[32m━━━━━━━━━━━━━━━━━━━━\u001b[0m\u001b[37m\u001b[0m \u001b[1m0s\u001b[0m 1ms/step \n",
      "  Running with 12 shared labels...\n",
      "\u001b[1m23/23\u001b[0m \u001b[32m━━━━━━━━━━━━━━━━━━━━\u001b[0m\u001b[37m\u001b[0m \u001b[1m0s\u001b[0m 1ms/step \n",
      "  Running with 13 shared labels...\n",
      "\u001b[1m23/23\u001b[0m \u001b[32m━━━━━━━━━━━━━━━━━━━━\u001b[0m\u001b[37m\u001b[0m \u001b[1m0s\u001b[0m 2ms/step \n",
      "Running iteration 6...\n",
      "  Running with 0 shared labels...\n",
      "\u001b[1m23/23\u001b[0m \u001b[32m━━━━━━━━━━━━━━━━━━━━\u001b[0m\u001b[37m\u001b[0m \u001b[1m0s\u001b[0m 1ms/step \n",
      "  Running with 1 shared labels...\n",
      "\u001b[1m23/23\u001b[0m \u001b[32m━━━━━━━━━━━━━━━━━━━━\u001b[0m\u001b[37m\u001b[0m \u001b[1m0s\u001b[0m 1ms/step \n",
      "  Running with 2 shared labels...\n",
      "\u001b[1m23/23\u001b[0m \u001b[32m━━━━━━━━━━━━━━━━━━━━\u001b[0m\u001b[37m\u001b[0m \u001b[1m0s\u001b[0m 1ms/step \n",
      "  Running with 3 shared labels...\n",
      "\u001b[1m23/23\u001b[0m \u001b[32m━━━━━━━━━━━━━━━━━━━━\u001b[0m\u001b[37m\u001b[0m \u001b[1m0s\u001b[0m 1ms/step \n",
      "  Running with 4 shared labels...\n",
      "\u001b[1m23/23\u001b[0m \u001b[32m━━━━━━━━━━━━━━━━━━━━\u001b[0m\u001b[37m\u001b[0m \u001b[1m0s\u001b[0m 3ms/step\n",
      "  Running with 5 shared labels...\n",
      "\u001b[1m23/23\u001b[0m \u001b[32m━━━━━━━━━━━━━━━━━━━━\u001b[0m\u001b[37m\u001b[0m \u001b[1m0s\u001b[0m 2ms/step\n",
      "  Running with 6 shared labels...\n",
      "\u001b[1m23/23\u001b[0m \u001b[32m━━━━━━━━━━━━━━━━━━━━\u001b[0m\u001b[37m\u001b[0m \u001b[1m0s\u001b[0m 3ms/step\n",
      "  Running with 7 shared labels...\n",
      "\u001b[1m23/23\u001b[0m \u001b[32m━━━━━━━━━━━━━━━━━━━━\u001b[0m\u001b[37m\u001b[0m \u001b[1m0s\u001b[0m 1ms/step \n",
      "  Running with 8 shared labels...\n",
      "\u001b[1m23/23\u001b[0m \u001b[32m━━━━━━━━━━━━━━━━━━━━\u001b[0m\u001b[37m\u001b[0m \u001b[1m0s\u001b[0m 1ms/step \n",
      "  Running with 9 shared labels...\n",
      "\u001b[1m23/23\u001b[0m \u001b[32m━━━━━━━━━━━━━━━━━━━━\u001b[0m\u001b[37m\u001b[0m \u001b[1m0s\u001b[0m 1ms/step \n",
      "  Running with 10 shared labels...\n",
      "\u001b[1m23/23\u001b[0m \u001b[32m━━━━━━━━━━━━━━━━━━━━\u001b[0m\u001b[37m\u001b[0m \u001b[1m0s\u001b[0m 1ms/step \n",
      "  Running with 11 shared labels...\n",
      "\u001b[1m23/23\u001b[0m \u001b[32m━━━━━━━━━━━━━━━━━━━━\u001b[0m\u001b[37m\u001b[0m \u001b[1m0s\u001b[0m 1ms/step \n",
      "  Running with 12 shared labels...\n",
      "\u001b[1m23/23\u001b[0m \u001b[32m━━━━━━━━━━━━━━━━━━━━\u001b[0m\u001b[37m\u001b[0m \u001b[1m0s\u001b[0m 1ms/step \n",
      "  Running with 13 shared labels...\n",
      "\u001b[1m23/23\u001b[0m \u001b[32m━━━━━━━━━━━━━━━━━━━━\u001b[0m\u001b[37m\u001b[0m \u001b[1m0s\u001b[0m 1ms/step \n",
      "Running iteration 7...\n",
      "  Running with 0 shared labels...\n",
      "\u001b[1m23/23\u001b[0m \u001b[32m━━━━━━━━━━━━━━━━━━━━\u001b[0m\u001b[37m\u001b[0m \u001b[1m0s\u001b[0m 2ms/step\n",
      "  Running with 1 shared labels...\n",
      "\u001b[1m23/23\u001b[0m \u001b[32m━━━━━━━━━━━━━━━━━━━━\u001b[0m\u001b[37m\u001b[0m \u001b[1m0s\u001b[0m 2ms/step\n",
      "  Running with 2 shared labels...\n",
      "\u001b[1m23/23\u001b[0m \u001b[32m━━━━━━━━━━━━━━━━━━━━\u001b[0m\u001b[37m\u001b[0m \u001b[1m0s\u001b[0m 1ms/step \n",
      "  Running with 3 shared labels...\n",
      "\u001b[1m23/23\u001b[0m \u001b[32m━━━━━━━━━━━━━━━━━━━━\u001b[0m\u001b[37m\u001b[0m \u001b[1m0s\u001b[0m 2ms/step\n",
      "  Running with 4 shared labels...\n",
      "\u001b[1m23/23\u001b[0m \u001b[32m━━━━━━━━━━━━━━━━━━━━\u001b[0m\u001b[37m\u001b[0m \u001b[1m0s\u001b[0m 1ms/step \n",
      "  Running with 5 shared labels...\n",
      "\u001b[1m23/23\u001b[0m \u001b[32m━━━━━━━━━━━━━━━━━━━━\u001b[0m\u001b[37m\u001b[0m \u001b[1m0s\u001b[0m 1ms/step \n",
      "  Running with 6 shared labels...\n",
      "\u001b[1m23/23\u001b[0m \u001b[32m━━━━━━━━━━━━━━━━━━━━\u001b[0m\u001b[37m\u001b[0m \u001b[1m0s\u001b[0m 1ms/step \n",
      "  Running with 7 shared labels...\n",
      "\u001b[1m23/23\u001b[0m \u001b[32m━━━━━━━━━━━━━━━━━━━━\u001b[0m\u001b[37m\u001b[0m \u001b[1m0s\u001b[0m 1ms/step \n",
      "  Running with 8 shared labels...\n",
      "\u001b[1m23/23\u001b[0m \u001b[32m━━━━━━━━━━━━━━━━━━━━\u001b[0m\u001b[37m\u001b[0m \u001b[1m0s\u001b[0m 1ms/step \n",
      "  Running with 9 shared labels...\n",
      "\u001b[1m23/23\u001b[0m \u001b[32m━━━━━━━━━━━━━━━━━━━━\u001b[0m\u001b[37m\u001b[0m \u001b[1m0s\u001b[0m 1ms/step \n",
      "  Running with 10 shared labels...\n",
      "\u001b[1m23/23\u001b[0m \u001b[32m━━━━━━━━━━━━━━━━━━━━\u001b[0m\u001b[37m\u001b[0m \u001b[1m0s\u001b[0m 1ms/step \n",
      "  Running with 11 shared labels...\n",
      "\u001b[1m23/23\u001b[0m \u001b[32m━━━━━━━━━━━━━━━━━━━━\u001b[0m\u001b[37m\u001b[0m \u001b[1m0s\u001b[0m 1ms/step \n",
      "  Running with 12 shared labels...\n",
      "\u001b[1m23/23\u001b[0m \u001b[32m━━━━━━━━━━━━━━━━━━━━\u001b[0m\u001b[37m\u001b[0m \u001b[1m0s\u001b[0m 1ms/step \n",
      "  Running with 13 shared labels...\n",
      "\u001b[1m23/23\u001b[0m \u001b[32m━━━━━━━━━━━━━━━━━━━━\u001b[0m\u001b[37m\u001b[0m \u001b[1m0s\u001b[0m 1ms/step \n",
      "Running iteration 8...\n",
      "  Running with 0 shared labels...\n",
      "\u001b[1m23/23\u001b[0m \u001b[32m━━━━━━━━━━━━━━━━━━━━\u001b[0m\u001b[37m\u001b[0m \u001b[1m0s\u001b[0m 1ms/step \n",
      "  Running with 1 shared labels...\n",
      "\u001b[1m23/23\u001b[0m \u001b[32m━━━━━━━━━━━━━━━━━━━━\u001b[0m\u001b[37m\u001b[0m \u001b[1m0s\u001b[0m 1ms/step \n",
      "  Running with 2 shared labels...\n",
      "\u001b[1m23/23\u001b[0m \u001b[32m━━━━━━━━━━━━━━━━━━━━\u001b[0m\u001b[37m\u001b[0m \u001b[1m0s\u001b[0m 1ms/step \n",
      "  Running with 3 shared labels...\n",
      "\u001b[1m23/23\u001b[0m \u001b[32m━━━━━━━━━━━━━━━━━━━━\u001b[0m\u001b[37m\u001b[0m \u001b[1m0s\u001b[0m 1ms/step \n",
      "  Running with 4 shared labels...\n",
      "\u001b[1m23/23\u001b[0m \u001b[32m━━━━━━━━━━━━━━━━━━━━\u001b[0m\u001b[37m\u001b[0m \u001b[1m0s\u001b[0m 1ms/step \n",
      "  Running with 5 shared labels...\n",
      "\u001b[1m23/23\u001b[0m \u001b[32m━━━━━━━━━━━━━━━━━━━━\u001b[0m\u001b[37m\u001b[0m \u001b[1m0s\u001b[0m 1ms/step \n",
      "  Running with 6 shared labels...\n",
      "\u001b[1m23/23\u001b[0m \u001b[32m━━━━━━━━━━━━━━━━━━━━\u001b[0m\u001b[37m\u001b[0m \u001b[1m0s\u001b[0m 1ms/step \n",
      "  Running with 7 shared labels...\n",
      "\u001b[1m23/23\u001b[0m \u001b[32m━━━━━━━━━━━━━━━━━━━━\u001b[0m\u001b[37m\u001b[0m \u001b[1m0s\u001b[0m 1ms/step \n",
      "  Running with 8 shared labels...\n",
      "\u001b[1m23/23\u001b[0m \u001b[32m━━━━━━━━━━━━━━━━━━━━\u001b[0m\u001b[37m\u001b[0m \u001b[1m0s\u001b[0m 1ms/step \n",
      "  Running with 9 shared labels...\n",
      "\u001b[1m23/23\u001b[0m \u001b[32m━━━━━━━━━━━━━━━━━━━━\u001b[0m\u001b[37m\u001b[0m \u001b[1m0s\u001b[0m 1ms/step \n",
      "  Running with 10 shared labels...\n",
      "\u001b[1m23/23\u001b[0m \u001b[32m━━━━━━━━━━━━━━━━━━━━\u001b[0m\u001b[37m\u001b[0m \u001b[1m0s\u001b[0m 1ms/step \n",
      "  Running with 11 shared labels...\n",
      "\u001b[1m23/23\u001b[0m \u001b[32m━━━━━━━━━━━━━━━━━━━━\u001b[0m\u001b[37m\u001b[0m \u001b[1m0s\u001b[0m 1ms/step \n",
      "  Running with 12 shared labels...\n",
      "\u001b[1m23/23\u001b[0m \u001b[32m━━━━━━━━━━━━━━━━━━━━\u001b[0m\u001b[37m\u001b[0m \u001b[1m0s\u001b[0m 1ms/step \n",
      "  Running with 13 shared labels...\n",
      "\u001b[1m23/23\u001b[0m \u001b[32m━━━━━━━━━━━━━━━━━━━━\u001b[0m\u001b[37m\u001b[0m \u001b[1m0s\u001b[0m 1ms/step \n",
      "Running iteration 9...\n",
      "  Running with 0 shared labels...\n",
      "\u001b[1m23/23\u001b[0m \u001b[32m━━━━━━━━━━━━━━━━━━━━\u001b[0m\u001b[37m\u001b[0m \u001b[1m0s\u001b[0m 1ms/step \n",
      "  Running with 1 shared labels...\n",
      "\u001b[1m23/23\u001b[0m \u001b[32m━━━━━━━━━━━━━━━━━━━━\u001b[0m\u001b[37m\u001b[0m \u001b[1m0s\u001b[0m 1ms/step \n",
      "  Running with 2 shared labels...\n",
      "\u001b[1m23/23\u001b[0m \u001b[32m━━━━━━━━━━━━━━━━━━━━\u001b[0m\u001b[37m\u001b[0m \u001b[1m0s\u001b[0m 1ms/step \n",
      "  Running with 3 shared labels...\n",
      "\u001b[1m23/23\u001b[0m \u001b[32m━━━━━━━━━━━━━━━━━━━━\u001b[0m\u001b[37m\u001b[0m \u001b[1m0s\u001b[0m 1ms/step \n",
      "  Running with 4 shared labels...\n",
      "\u001b[1m23/23\u001b[0m \u001b[32m━━━━━━━━━━━━━━━━━━━━\u001b[0m\u001b[37m\u001b[0m \u001b[1m0s\u001b[0m 1ms/step \n",
      "  Running with 5 shared labels...\n",
      "\u001b[1m23/23\u001b[0m \u001b[32m━━━━━━━━━━━━━━━━━━━━\u001b[0m\u001b[37m\u001b[0m \u001b[1m0s\u001b[0m 1ms/step \n",
      "  Running with 6 shared labels...\n",
      "\u001b[1m23/23\u001b[0m \u001b[32m━━━━━━━━━━━━━━━━━━━━\u001b[0m\u001b[37m\u001b[0m \u001b[1m0s\u001b[0m 1ms/step \n",
      "  Running with 7 shared labels...\n",
      "\u001b[1m23/23\u001b[0m \u001b[32m━━━━━━━━━━━━━━━━━━━━\u001b[0m\u001b[37m\u001b[0m \u001b[1m0s\u001b[0m 1ms/step \n",
      "  Running with 8 shared labels...\n",
      "\u001b[1m23/23\u001b[0m \u001b[32m━━━━━━━━━━━━━━━━━━━━\u001b[0m\u001b[37m\u001b[0m \u001b[1m0s\u001b[0m 1ms/step \n",
      "  Running with 9 shared labels...\n",
      "\u001b[1m23/23\u001b[0m \u001b[32m━━━━━━━━━━━━━━━━━━━━\u001b[0m\u001b[37m\u001b[0m \u001b[1m0s\u001b[0m 1ms/step \n",
      "  Running with 10 shared labels...\n",
      "\u001b[1m23/23\u001b[0m \u001b[32m━━━━━━━━━━━━━━━━━━━━\u001b[0m\u001b[37m\u001b[0m \u001b[1m0s\u001b[0m 1ms/step \n",
      "  Running with 11 shared labels...\n",
      "\u001b[1m23/23\u001b[0m \u001b[32m━━━━━━━━━━━━━━━━━━━━\u001b[0m\u001b[37m\u001b[0m \u001b[1m0s\u001b[0m 2ms/step \n",
      "  Running with 12 shared labels...\n",
      "\u001b[1m23/23\u001b[0m \u001b[32m━━━━━━━━━━━━━━━━━━━━\u001b[0m\u001b[37m\u001b[0m \u001b[1m0s\u001b[0m 2ms/step \n",
      "  Running with 13 shared labels...\n",
      "\u001b[1m23/23\u001b[0m \u001b[32m━━━━━━━━━━━━━━━━━━━━\u001b[0m\u001b[37m\u001b[0m \u001b[1m0s\u001b[0m 1ms/step \n",
      "Running iteration 10...\n",
      "  Running with 0 shared labels...\n",
      "\u001b[1m23/23\u001b[0m \u001b[32m━━━━━━━━━━━━━━━━━━━━\u001b[0m\u001b[37m\u001b[0m \u001b[1m0s\u001b[0m 1ms/step \n",
      "  Running with 1 shared labels...\n",
      "\u001b[1m23/23\u001b[0m \u001b[32m━━━━━━━━━━━━━━━━━━━━\u001b[0m\u001b[37m\u001b[0m \u001b[1m0s\u001b[0m 1ms/step \n",
      "  Running with 2 shared labels...\n",
      "\u001b[1m23/23\u001b[0m \u001b[32m━━━━━━━━━━━━━━━━━━━━\u001b[0m\u001b[37m\u001b[0m \u001b[1m0s\u001b[0m 1ms/step \n",
      "  Running with 3 shared labels...\n",
      "\u001b[1m23/23\u001b[0m \u001b[32m━━━━━━━━━━━━━━━━━━━━\u001b[0m\u001b[37m\u001b[0m \u001b[1m0s\u001b[0m 1ms/step \n",
      "  Running with 4 shared labels...\n",
      "\u001b[1m23/23\u001b[0m \u001b[32m━━━━━━━━━━━━━━━━━━━━\u001b[0m\u001b[37m\u001b[0m \u001b[1m0s\u001b[0m 1ms/step \n",
      "  Running with 5 shared labels...\n",
      "\u001b[1m23/23\u001b[0m \u001b[32m━━━━━━━━━━━━━━━━━━━━\u001b[0m\u001b[37m\u001b[0m \u001b[1m0s\u001b[0m 1ms/step \n",
      "  Running with 6 shared labels...\n",
      "\u001b[1m23/23\u001b[0m \u001b[32m━━━━━━━━━━━━━━━━━━━━\u001b[0m\u001b[37m\u001b[0m \u001b[1m0s\u001b[0m 1ms/step \n",
      "  Running with 7 shared labels...\n",
      "\u001b[1m23/23\u001b[0m \u001b[32m━━━━━━━━━━━━━━━━━━━━\u001b[0m\u001b[37m\u001b[0m \u001b[1m0s\u001b[0m 1ms/step \n",
      "  Running with 8 shared labels...\n",
      "\u001b[1m23/23\u001b[0m \u001b[32m━━━━━━━━━━━━━━━━━━━━\u001b[0m\u001b[37m\u001b[0m \u001b[1m0s\u001b[0m 1ms/step \n",
      "  Running with 9 shared labels...\n",
      "\u001b[1m23/23\u001b[0m \u001b[32m━━━━━━━━━━━━━━━━━━━━\u001b[0m\u001b[37m\u001b[0m \u001b[1m0s\u001b[0m 1ms/step \n",
      "  Running with 10 shared labels...\n",
      "\u001b[1m23/23\u001b[0m \u001b[32m━━━━━━━━━━━━━━━━━━━━\u001b[0m\u001b[37m\u001b[0m \u001b[1m0s\u001b[0m 1ms/step \n",
      "  Running with 11 shared labels...\n",
      "\u001b[1m23/23\u001b[0m \u001b[32m━━━━━━━━━━━━━━━━━━━━\u001b[0m\u001b[37m\u001b[0m \u001b[1m0s\u001b[0m 1ms/step \n",
      "  Running with 12 shared labels...\n",
      "\u001b[1m23/23\u001b[0m \u001b[32m━━━━━━━━━━━━━━━━━━━━\u001b[0m\u001b[37m\u001b[0m \u001b[1m0s\u001b[0m 1ms/step \n",
      "  Running with 13 shared labels...\n",
      "\u001b[1m23/23\u001b[0m \u001b[32m━━━━━━━━━━━━━━━━━━━━\u001b[0m\u001b[37m\u001b[0m \u001b[1m0s\u001b[0m 1ms/step \n",
      "Running iteration 11...\n",
      "  Running with 0 shared labels...\n",
      "\u001b[1m23/23\u001b[0m \u001b[32m━━━━━━━━━━━━━━━━━━━━\u001b[0m\u001b[37m\u001b[0m \u001b[1m0s\u001b[0m 1ms/step \n",
      "  Running with 1 shared labels...\n",
      "\u001b[1m23/23\u001b[0m \u001b[32m━━━━━━━━━━━━━━━━━━━━\u001b[0m\u001b[37m\u001b[0m \u001b[1m0s\u001b[0m 1ms/step \n",
      "  Running with 2 shared labels...\n",
      "\u001b[1m23/23\u001b[0m \u001b[32m━━━━━━━━━━━━━━━━━━━━\u001b[0m\u001b[37m\u001b[0m \u001b[1m0s\u001b[0m 1ms/step \n",
      "  Running with 3 shared labels...\n",
      "\u001b[1m23/23\u001b[0m \u001b[32m━━━━━━━━━━━━━━━━━━━━\u001b[0m\u001b[37m\u001b[0m \u001b[1m0s\u001b[0m 1ms/step \n",
      "  Running with 4 shared labels...\n",
      "\u001b[1m23/23\u001b[0m \u001b[32m━━━━━━━━━━━━━━━━━━━━\u001b[0m\u001b[37m\u001b[0m \u001b[1m0s\u001b[0m 1ms/step \n",
      "  Running with 5 shared labels...\n",
      "\u001b[1m23/23\u001b[0m \u001b[32m━━━━━━━━━━━━━━━━━━━━\u001b[0m\u001b[37m\u001b[0m \u001b[1m0s\u001b[0m 1ms/step \n",
      "  Running with 6 shared labels...\n",
      "\u001b[1m23/23\u001b[0m \u001b[32m━━━━━━━━━━━━━━━━━━━━\u001b[0m\u001b[37m\u001b[0m \u001b[1m0s\u001b[0m 1ms/step \n",
      "  Running with 7 shared labels...\n",
      "\u001b[1m23/23\u001b[0m \u001b[32m━━━━━━━━━━━━━━━━━━━━\u001b[0m\u001b[37m\u001b[0m \u001b[1m0s\u001b[0m 1ms/step \n",
      "  Running with 8 shared labels...\n",
      "\u001b[1m23/23\u001b[0m \u001b[32m━━━━━━━━━━━━━━━━━━━━\u001b[0m\u001b[37m\u001b[0m \u001b[1m0s\u001b[0m 2ms/step \n",
      "  Running with 9 shared labels...\n",
      "\u001b[1m23/23\u001b[0m \u001b[32m━━━━━━━━━━━━━━━━━━━━\u001b[0m\u001b[37m\u001b[0m \u001b[1m0s\u001b[0m 2ms/step \n",
      "  Running with 10 shared labels...\n",
      "\u001b[1m23/23\u001b[0m \u001b[32m━━━━━━━━━━━━━━━━━━━━\u001b[0m\u001b[37m\u001b[0m \u001b[1m0s\u001b[0m 1ms/step \n",
      "  Running with 11 shared labels...\n",
      "\u001b[1m23/23\u001b[0m \u001b[32m━━━━━━━━━━━━━━━━━━━━\u001b[0m\u001b[37m\u001b[0m \u001b[1m0s\u001b[0m 1ms/step \n",
      "  Running with 12 shared labels...\n",
      "\u001b[1m23/23\u001b[0m \u001b[32m━━━━━━━━━━━━━━━━━━━━\u001b[0m\u001b[37m\u001b[0m \u001b[1m0s\u001b[0m 2ms/step \n",
      "  Running with 13 shared labels...\n",
      "\u001b[1m23/23\u001b[0m \u001b[32m━━━━━━━━━━━━━━━━━━━━\u001b[0m\u001b[37m\u001b[0m \u001b[1m0s\u001b[0m 2ms/step \n",
      "Running iteration 12...\n",
      "  Running with 0 shared labels...\n",
      "\u001b[1m23/23\u001b[0m \u001b[32m━━━━━━━━━━━━━━━━━━━━\u001b[0m\u001b[37m\u001b[0m \u001b[1m0s\u001b[0m 2ms/step \n",
      "  Running with 1 shared labels...\n",
      "\u001b[1m23/23\u001b[0m \u001b[32m━━━━━━━━━━━━━━━━━━━━\u001b[0m\u001b[37m\u001b[0m \u001b[1m0s\u001b[0m 2ms/step \n",
      "  Running with 2 shared labels...\n",
      "\u001b[1m23/23\u001b[0m \u001b[32m━━━━━━━━━━━━━━━━━━━━\u001b[0m\u001b[37m\u001b[0m \u001b[1m0s\u001b[0m 2ms/step \n",
      "  Running with 3 shared labels...\n",
      "\u001b[1m23/23\u001b[0m \u001b[32m━━━━━━━━━━━━━━━━━━━━\u001b[0m\u001b[37m\u001b[0m \u001b[1m0s\u001b[0m 1ms/step \n",
      "  Running with 4 shared labels...\n",
      "\u001b[1m23/23\u001b[0m \u001b[32m━━━━━━━━━━━━━━━━━━━━\u001b[0m\u001b[37m\u001b[0m \u001b[1m0s\u001b[0m 1ms/step \n",
      "  Running with 5 shared labels...\n",
      "\u001b[1m23/23\u001b[0m \u001b[32m━━━━━━━━━━━━━━━━━━━━\u001b[0m\u001b[37m\u001b[0m \u001b[1m0s\u001b[0m 2ms/step \n",
      "  Running with 6 shared labels...\n",
      "\u001b[1m23/23\u001b[0m \u001b[32m━━━━━━━━━━━━━━━━━━━━\u001b[0m\u001b[37m\u001b[0m \u001b[1m0s\u001b[0m 2ms/step\n",
      "  Running with 7 shared labels...\n",
      "\u001b[1m23/23\u001b[0m \u001b[32m━━━━━━━━━━━━━━━━━━━━\u001b[0m\u001b[37m\u001b[0m \u001b[1m0s\u001b[0m 1ms/step \n",
      "  Running with 8 shared labels...\n",
      "\u001b[1m23/23\u001b[0m \u001b[32m━━━━━━━━━━━━━━━━━━━━\u001b[0m\u001b[37m\u001b[0m \u001b[1m0s\u001b[0m 1ms/step \n",
      "  Running with 9 shared labels...\n",
      "\u001b[1m23/23\u001b[0m \u001b[32m━━━━━━━━━━━━━━━━━━━━\u001b[0m\u001b[37m\u001b[0m \u001b[1m0s\u001b[0m 2ms/step \n",
      "  Running with 10 shared labels...\n",
      "\u001b[1m23/23\u001b[0m \u001b[32m━━━━━━━━━━━━━━━━━━━━\u001b[0m\u001b[37m\u001b[0m \u001b[1m0s\u001b[0m 2ms/step\n",
      "  Running with 11 shared labels...\n",
      "\u001b[1m23/23\u001b[0m \u001b[32m━━━━━━━━━━━━━━━━━━━━\u001b[0m\u001b[37m\u001b[0m \u001b[1m0s\u001b[0m 2ms/step \n",
      "  Running with 12 shared labels...\n",
      "\u001b[1m23/23\u001b[0m \u001b[32m━━━━━━━━━━━━━━━━━━━━\u001b[0m\u001b[37m\u001b[0m \u001b[1m0s\u001b[0m 1ms/step \n",
      "  Running with 13 shared labels...\n",
      "\u001b[1m23/23\u001b[0m \u001b[32m━━━━━━━━━━━━━━━━━━━━\u001b[0m\u001b[37m\u001b[0m \u001b[1m0s\u001b[0m 1ms/step \n",
      "Running iteration 13...\n",
      "  Running with 0 shared labels...\n",
      "\u001b[1m23/23\u001b[0m \u001b[32m━━━━━━━━━━━━━━━━━━━━\u001b[0m\u001b[37m\u001b[0m \u001b[1m0s\u001b[0m 1ms/step \n",
      "  Running with 1 shared labels...\n",
      "\u001b[1m23/23\u001b[0m \u001b[32m━━━━━━━━━━━━━━━━━━━━\u001b[0m\u001b[37m\u001b[0m \u001b[1m0s\u001b[0m 2ms/step \n",
      "  Running with 2 shared labels...\n",
      "\u001b[1m23/23\u001b[0m \u001b[32m━━━━━━━━━━━━━━━━━━━━\u001b[0m\u001b[37m\u001b[0m \u001b[1m0s\u001b[0m 1ms/step \n",
      "  Running with 3 shared labels...\n",
      "\u001b[1m23/23\u001b[0m \u001b[32m━━━━━━━━━━━━━━━━━━━━\u001b[0m\u001b[37m\u001b[0m \u001b[1m0s\u001b[0m 1ms/step \n",
      "  Running with 4 shared labels...\n",
      "\u001b[1m23/23\u001b[0m \u001b[32m━━━━━━━━━━━━━━━━━━━━\u001b[0m\u001b[37m\u001b[0m \u001b[1m0s\u001b[0m 2ms/step \n",
      "  Running with 5 shared labels...\n",
      "\u001b[1m23/23\u001b[0m \u001b[32m━━━━━━━━━━━━━━━━━━━━\u001b[0m\u001b[37m\u001b[0m \u001b[1m0s\u001b[0m 2ms/step \n",
      "  Running with 6 shared labels...\n",
      "\u001b[1m23/23\u001b[0m \u001b[32m━━━━━━━━━━━━━━━━━━━━\u001b[0m\u001b[37m\u001b[0m \u001b[1m0s\u001b[0m 3ms/step\n",
      "  Running with 7 shared labels...\n",
      "\u001b[1m23/23\u001b[0m \u001b[32m━━━━━━━━━━━━━━━━━━━━\u001b[0m\u001b[37m\u001b[0m \u001b[1m0s\u001b[0m 1ms/step \n",
      "  Running with 8 shared labels...\n",
      "\u001b[1m23/23\u001b[0m \u001b[32m━━━━━━━━━━━━━━━━━━━━\u001b[0m\u001b[37m\u001b[0m \u001b[1m0s\u001b[0m 1ms/step \n",
      "  Running with 9 shared labels...\n",
      "\u001b[1m23/23\u001b[0m \u001b[32m━━━━━━━━━━━━━━━━━━━━\u001b[0m\u001b[37m\u001b[0m \u001b[1m0s\u001b[0m 1ms/step \n",
      "  Running with 10 shared labels...\n",
      "\u001b[1m23/23\u001b[0m \u001b[32m━━━━━━━━━━━━━━━━━━━━\u001b[0m\u001b[37m\u001b[0m \u001b[1m0s\u001b[0m 2ms/step \n",
      "  Running with 11 shared labels...\n",
      "\u001b[1m23/23\u001b[0m \u001b[32m━━━━━━━━━━━━━━━━━━━━\u001b[0m\u001b[37m\u001b[0m \u001b[1m0s\u001b[0m 1ms/step \n",
      "  Running with 12 shared labels...\n",
      "\u001b[1m23/23\u001b[0m \u001b[32m━━━━━━━━━━━━━━━━━━━━\u001b[0m\u001b[37m\u001b[0m \u001b[1m0s\u001b[0m 1ms/step \n",
      "  Running with 13 shared labels...\n",
      "\u001b[1m23/23\u001b[0m \u001b[32m━━━━━━━━━━━━━━━━━━━━\u001b[0m\u001b[37m\u001b[0m \u001b[1m0s\u001b[0m 1ms/step \n",
      "Running iteration 14...\n",
      "  Running with 0 shared labels...\n",
      "\u001b[1m23/23\u001b[0m \u001b[32m━━━━━━━━━━━━━━━━━━━━\u001b[0m\u001b[37m\u001b[0m \u001b[1m0s\u001b[0m 2ms/step \n",
      "  Running with 1 shared labels...\n",
      "\u001b[1m23/23\u001b[0m \u001b[32m━━━━━━━━━━━━━━━━━━━━\u001b[0m\u001b[37m\u001b[0m \u001b[1m0s\u001b[0m 1ms/step \n",
      "  Running with 2 shared labels...\n",
      "\u001b[1m23/23\u001b[0m \u001b[32m━━━━━━━━━━━━━━━━━━━━\u001b[0m\u001b[37m\u001b[0m \u001b[1m0s\u001b[0m 1ms/step \n",
      "  Running with 3 shared labels...\n",
      "\u001b[1m23/23\u001b[0m \u001b[32m━━━━━━━━━━━━━━━━━━━━\u001b[0m\u001b[37m\u001b[0m \u001b[1m0s\u001b[0m 1ms/step \n",
      "  Running with 4 shared labels...\n",
      "\u001b[1m23/23\u001b[0m \u001b[32m━━━━━━━━━━━━━━━━━━━━\u001b[0m\u001b[37m\u001b[0m \u001b[1m0s\u001b[0m 1ms/step \n",
      "  Running with 5 shared labels...\n",
      "\u001b[1m23/23\u001b[0m \u001b[32m━━━━━━━━━━━━━━━━━━━━\u001b[0m\u001b[37m\u001b[0m \u001b[1m0s\u001b[0m 1ms/step \n",
      "  Running with 6 shared labels...\n",
      "\u001b[1m23/23\u001b[0m \u001b[32m━━━━━━━━━━━━━━━━━━━━\u001b[0m\u001b[37m\u001b[0m \u001b[1m0s\u001b[0m 1ms/step \n",
      "  Running with 7 shared labels...\n",
      "\u001b[1m23/23\u001b[0m \u001b[32m━━━━━━━━━━━━━━━━━━━━\u001b[0m\u001b[37m\u001b[0m \u001b[1m0s\u001b[0m 2ms/step \n",
      "  Running with 8 shared labels...\n",
      "\u001b[1m23/23\u001b[0m \u001b[32m━━━━━━━━━━━━━━━━━━━━\u001b[0m\u001b[37m\u001b[0m \u001b[1m0s\u001b[0m 2ms/step \n",
      "  Running with 9 shared labels...\n",
      "\u001b[1m23/23\u001b[0m \u001b[32m━━━━━━━━━━━━━━━━━━━━\u001b[0m\u001b[37m\u001b[0m \u001b[1m0s\u001b[0m 1ms/step \n",
      "  Running with 10 shared labels...\n",
      "\u001b[1m23/23\u001b[0m \u001b[32m━━━━━━━━━━━━━━━━━━━━\u001b[0m\u001b[37m\u001b[0m \u001b[1m0s\u001b[0m 2ms/step\n",
      "  Running with 11 shared labels...\n",
      "\u001b[1m23/23\u001b[0m \u001b[32m━━━━━━━━━━━━━━━━━━━━\u001b[0m\u001b[37m\u001b[0m \u001b[1m0s\u001b[0m 1ms/step \n",
      "  Running with 12 shared labels...\n",
      "\u001b[1m23/23\u001b[0m \u001b[32m━━━━━━━━━━━━━━━━━━━━\u001b[0m\u001b[37m\u001b[0m \u001b[1m0s\u001b[0m 1ms/step \n",
      "  Running with 13 shared labels...\n",
      "\u001b[1m23/23\u001b[0m \u001b[32m━━━━━━━━━━━━━━━━━━━━\u001b[0m\u001b[37m\u001b[0m \u001b[1m0s\u001b[0m 2ms/step \n",
      "Running iteration 15...\n",
      "  Running with 0 shared labels...\n",
      "\u001b[1m23/23\u001b[0m \u001b[32m━━━━━━━━━━━━━━━━━━━━\u001b[0m\u001b[37m\u001b[0m \u001b[1m0s\u001b[0m 1ms/step \n",
      "  Running with 1 shared labels...\n",
      "\u001b[1m23/23\u001b[0m \u001b[32m━━━━━━━━━━━━━━━━━━━━\u001b[0m\u001b[37m\u001b[0m \u001b[1m0s\u001b[0m 2ms/step \n",
      "  Running with 2 shared labels...\n",
      "\u001b[1m23/23\u001b[0m \u001b[32m━━━━━━━━━━━━━━━━━━━━\u001b[0m\u001b[37m\u001b[0m \u001b[1m0s\u001b[0m 1ms/step \n",
      "  Running with 3 shared labels...\n",
      "\u001b[1m23/23\u001b[0m \u001b[32m━━━━━━━━━━━━━━━━━━━━\u001b[0m\u001b[37m\u001b[0m \u001b[1m0s\u001b[0m 1ms/step \n",
      "  Running with 4 shared labels...\n",
      "\u001b[1m23/23\u001b[0m \u001b[32m━━━━━━━━━━━━━━━━━━━━\u001b[0m\u001b[37m\u001b[0m \u001b[1m0s\u001b[0m 2ms/step \n",
      "  Running with 5 shared labels...\n",
      "\u001b[1m23/23\u001b[0m \u001b[32m━━━━━━━━━━━━━━━━━━━━\u001b[0m\u001b[37m\u001b[0m \u001b[1m0s\u001b[0m 1ms/step \n",
      "  Running with 6 shared labels...\n",
      "\u001b[1m23/23\u001b[0m \u001b[32m━━━━━━━━━━━━━━━━━━━━\u001b[0m\u001b[37m\u001b[0m \u001b[1m0s\u001b[0m 2ms/step \n",
      "  Running with 7 shared labels...\n",
      "\u001b[1m23/23\u001b[0m \u001b[32m━━━━━━━━━━━━━━━━━━━━\u001b[0m\u001b[37m\u001b[0m \u001b[1m0s\u001b[0m 1ms/step \n",
      "  Running with 8 shared labels...\n",
      "\u001b[1m23/23\u001b[0m \u001b[32m━━━━━━━━━━━━━━━━━━━━\u001b[0m\u001b[37m\u001b[0m \u001b[1m0s\u001b[0m 1ms/step \n",
      "  Running with 9 shared labels...\n",
      "\u001b[1m23/23\u001b[0m \u001b[32m━━━━━━━━━━━━━━━━━━━━\u001b[0m\u001b[37m\u001b[0m \u001b[1m0s\u001b[0m 2ms/step \n",
      "  Running with 10 shared labels...\n",
      "\u001b[1m23/23\u001b[0m \u001b[32m━━━━━━━━━━━━━━━━━━━━\u001b[0m\u001b[37m\u001b[0m \u001b[1m0s\u001b[0m 1ms/step \n",
      "  Running with 11 shared labels...\n",
      "\u001b[1m23/23\u001b[0m \u001b[32m━━━━━━━━━━━━━━━━━━━━\u001b[0m\u001b[37m\u001b[0m \u001b[1m0s\u001b[0m 2ms/step \n",
      "  Running with 12 shared labels...\n",
      "\u001b[1m23/23\u001b[0m \u001b[32m━━━━━━━━━━━━━━━━━━━━\u001b[0m\u001b[37m\u001b[0m \u001b[1m0s\u001b[0m 2ms/step \n",
      "  Running with 13 shared labels...\n",
      "\u001b[1m23/23\u001b[0m \u001b[32m━━━━━━━━━━━━━━━━━━━━\u001b[0m\u001b[37m\u001b[0m \u001b[1m0s\u001b[0m 1ms/step \n",
      "Running iteration 16...\n",
      "  Running with 0 shared labels...\n",
      "\u001b[1m23/23\u001b[0m \u001b[32m━━━━━━━━━━━━━━━━━━━━\u001b[0m\u001b[37m\u001b[0m \u001b[1m0s\u001b[0m 2ms/step \n",
      "  Running with 1 shared labels...\n",
      "\u001b[1m23/23\u001b[0m \u001b[32m━━━━━━━━━━━━━━━━━━━━\u001b[0m\u001b[37m\u001b[0m \u001b[1m0s\u001b[0m 2ms/step \n",
      "  Running with 2 shared labels...\n",
      "\u001b[1m23/23\u001b[0m \u001b[32m━━━━━━━━━━━━━━━━━━━━\u001b[0m\u001b[37m\u001b[0m \u001b[1m0s\u001b[0m 1ms/step \n",
      "  Running with 3 shared labels...\n",
      "\u001b[1m23/23\u001b[0m \u001b[32m━━━━━━━━━━━━━━━━━━━━\u001b[0m\u001b[37m\u001b[0m \u001b[1m0s\u001b[0m 1ms/step \n",
      "  Running with 4 shared labels...\n",
      "\u001b[1m23/23\u001b[0m \u001b[32m━━━━━━━━━━━━━━━━━━━━\u001b[0m\u001b[37m\u001b[0m \u001b[1m0s\u001b[0m 1ms/step \n",
      "  Running with 5 shared labels...\n",
      "\u001b[1m23/23\u001b[0m \u001b[32m━━━━━━━━━━━━━━━━━━━━\u001b[0m\u001b[37m\u001b[0m \u001b[1m0s\u001b[0m 2ms/step \n",
      "  Running with 6 shared labels...\n",
      "\u001b[1m23/23\u001b[0m \u001b[32m━━━━━━━━━━━━━━━━━━━━\u001b[0m\u001b[37m\u001b[0m \u001b[1m0s\u001b[0m 1ms/step \n",
      "  Running with 7 shared labels...\n",
      "\u001b[1m23/23\u001b[0m \u001b[32m━━━━━━━━━━━━━━━━━━━━\u001b[0m\u001b[37m\u001b[0m \u001b[1m0s\u001b[0m 1ms/step \n",
      "  Running with 8 shared labels...\n",
      "\u001b[1m23/23\u001b[0m \u001b[32m━━━━━━━━━━━━━━━━━━━━\u001b[0m\u001b[37m\u001b[0m \u001b[1m0s\u001b[0m 1ms/step \n",
      "  Running with 9 shared labels...\n",
      "\u001b[1m23/23\u001b[0m \u001b[32m━━━━━━━━━━━━━━━━━━━━\u001b[0m\u001b[37m\u001b[0m \u001b[1m0s\u001b[0m 1ms/step \n",
      "  Running with 10 shared labels...\n",
      "\u001b[1m23/23\u001b[0m \u001b[32m━━━━━━━━━━━━━━━━━━━━\u001b[0m\u001b[37m\u001b[0m \u001b[1m0s\u001b[0m 1ms/step \n",
      "  Running with 11 shared labels...\n",
      "\u001b[1m23/23\u001b[0m \u001b[32m━━━━━━━━━━━━━━━━━━━━\u001b[0m\u001b[37m\u001b[0m \u001b[1m0s\u001b[0m 1ms/step \n",
      "  Running with 12 shared labels...\n",
      "\u001b[1m23/23\u001b[0m \u001b[32m━━━━━━━━━━━━━━━━━━━━\u001b[0m\u001b[37m\u001b[0m \u001b[1m0s\u001b[0m 1ms/step \n",
      "  Running with 13 shared labels...\n",
      "\u001b[1m23/23\u001b[0m \u001b[32m━━━━━━━━━━━━━━━━━━━━\u001b[0m\u001b[37m\u001b[0m \u001b[1m0s\u001b[0m 1ms/step \n",
      "Running iteration 17...\n",
      "  Running with 0 shared labels...\n",
      "\u001b[1m23/23\u001b[0m \u001b[32m━━━━━━━━━━━━━━━━━━━━\u001b[0m\u001b[37m\u001b[0m \u001b[1m0s\u001b[0m 1ms/step \n",
      "  Running with 1 shared labels...\n",
      "\u001b[1m23/23\u001b[0m \u001b[32m━━━━━━━━━━━━━━━━━━━━\u001b[0m\u001b[37m\u001b[0m \u001b[1m0s\u001b[0m 2ms/step \n",
      "  Running with 2 shared labels...\n",
      "\u001b[1m23/23\u001b[0m \u001b[32m━━━━━━━━━━━━━━━━━━━━\u001b[0m\u001b[37m\u001b[0m \u001b[1m0s\u001b[0m 1ms/step \n",
      "  Running with 3 shared labels...\n",
      "\u001b[1m23/23\u001b[0m \u001b[32m━━━━━━━━━━━━━━━━━━━━\u001b[0m\u001b[37m\u001b[0m \u001b[1m0s\u001b[0m 1ms/step \n",
      "  Running with 4 shared labels...\n",
      "\u001b[1m23/23\u001b[0m \u001b[32m━━━━━━━━━━━━━━━━━━━━\u001b[0m\u001b[37m\u001b[0m \u001b[1m0s\u001b[0m 1ms/step \n",
      "  Running with 5 shared labels...\n",
      "\u001b[1m23/23\u001b[0m \u001b[32m━━━━━━━━━━━━━━━━━━━━\u001b[0m\u001b[37m\u001b[0m \u001b[1m0s\u001b[0m 1ms/step \n",
      "  Running with 6 shared labels...\n",
      "\u001b[1m23/23\u001b[0m \u001b[32m━━━━━━━━━━━━━━━━━━━━\u001b[0m\u001b[37m\u001b[0m \u001b[1m0s\u001b[0m 2ms/step \n",
      "  Running with 7 shared labels...\n",
      "\u001b[1m23/23\u001b[0m \u001b[32m━━━━━━━━━━━━━━━━━━━━\u001b[0m\u001b[37m\u001b[0m \u001b[1m0s\u001b[0m 1ms/step \n",
      "  Running with 8 shared labels...\n",
      "\u001b[1m23/23\u001b[0m \u001b[32m━━━━━━━━━━━━━━━━━━━━\u001b[0m\u001b[37m\u001b[0m \u001b[1m0s\u001b[0m 1ms/step \n",
      "  Running with 9 shared labels...\n",
      "\u001b[1m23/23\u001b[0m \u001b[32m━━━━━━━━━━━━━━━━━━━━\u001b[0m\u001b[37m\u001b[0m \u001b[1m0s\u001b[0m 1ms/step \n",
      "  Running with 10 shared labels...\n",
      "\u001b[1m23/23\u001b[0m \u001b[32m━━━━━━━━━━━━━━━━━━━━\u001b[0m\u001b[37m\u001b[0m \u001b[1m0s\u001b[0m 1ms/step \n",
      "  Running with 11 shared labels...\n",
      "\u001b[1m23/23\u001b[0m \u001b[32m━━━━━━━━━━━━━━━━━━━━\u001b[0m\u001b[37m\u001b[0m \u001b[1m0s\u001b[0m 1ms/step \n",
      "  Running with 12 shared labels...\n",
      "\u001b[1m23/23\u001b[0m \u001b[32m━━━━━━━━━━━━━━━━━━━━\u001b[0m\u001b[37m\u001b[0m \u001b[1m0s\u001b[0m 1ms/step \n",
      "  Running with 13 shared labels...\n",
      "\u001b[1m23/23\u001b[0m \u001b[32m━━━━━━━━━━━━━━━━━━━━\u001b[0m\u001b[37m\u001b[0m \u001b[1m0s\u001b[0m 1ms/step \n",
      "Running iteration 18...\n",
      "  Running with 0 shared labels...\n",
      "\u001b[1m23/23\u001b[0m \u001b[32m━━━━━━━━━━━━━━━━━━━━\u001b[0m\u001b[37m\u001b[0m \u001b[1m0s\u001b[0m 2ms/step \n",
      "  Running with 1 shared labels...\n",
      "\u001b[1m23/23\u001b[0m \u001b[32m━━━━━━━━━━━━━━━━━━━━\u001b[0m\u001b[37m\u001b[0m \u001b[1m0s\u001b[0m 1ms/step \n",
      "  Running with 2 shared labels...\n",
      "\u001b[1m23/23\u001b[0m \u001b[32m━━━━━━━━━━━━━━━━━━━━\u001b[0m\u001b[37m\u001b[0m \u001b[1m0s\u001b[0m 1ms/step \n",
      "  Running with 3 shared labels...\n",
      "\u001b[1m23/23\u001b[0m \u001b[32m━━━━━━━━━━━━━━━━━━━━\u001b[0m\u001b[37m\u001b[0m \u001b[1m0s\u001b[0m 1ms/step \n",
      "  Running with 4 shared labels...\n",
      "\u001b[1m23/23\u001b[0m \u001b[32m━━━━━━━━━━━━━━━━━━━━\u001b[0m\u001b[37m\u001b[0m \u001b[1m0s\u001b[0m 1ms/step \n",
      "  Running with 5 shared labels...\n",
      "\u001b[1m23/23\u001b[0m \u001b[32m━━━━━━━━━━━━━━━━━━━━\u001b[0m\u001b[37m\u001b[0m \u001b[1m0s\u001b[0m 1ms/step \n",
      "  Running with 6 shared labels...\n",
      "\u001b[1m23/23\u001b[0m \u001b[32m━━━━━━━━━━━━━━━━━━━━\u001b[0m\u001b[37m\u001b[0m \u001b[1m0s\u001b[0m 2ms/step\n",
      "  Running with 7 shared labels...\n",
      "\u001b[1m23/23\u001b[0m \u001b[32m━━━━━━━━━━━━━━━━━━━━\u001b[0m\u001b[37m\u001b[0m \u001b[1m0s\u001b[0m 1ms/step \n",
      "  Running with 8 shared labels...\n",
      "\u001b[1m23/23\u001b[0m \u001b[32m━━━━━━━━━━━━━━━━━━━━\u001b[0m\u001b[37m\u001b[0m \u001b[1m0s\u001b[0m 1ms/step \n",
      "  Running with 9 shared labels...\n",
      "\u001b[1m23/23\u001b[0m \u001b[32m━━━━━━━━━━━━━━━━━━━━\u001b[0m\u001b[37m\u001b[0m \u001b[1m0s\u001b[0m 1ms/step \n",
      "  Running with 10 shared labels...\n",
      "\u001b[1m23/23\u001b[0m \u001b[32m━━━━━━━━━━━━━━━━━━━━\u001b[0m\u001b[37m\u001b[0m \u001b[1m0s\u001b[0m 1ms/step \n",
      "  Running with 11 shared labels...\n",
      "\u001b[1m23/23\u001b[0m \u001b[32m━━━━━━━━━━━━━━━━━━━━\u001b[0m\u001b[37m\u001b[0m \u001b[1m0s\u001b[0m 1ms/step \n",
      "  Running with 12 shared labels...\n",
      "\u001b[1m23/23\u001b[0m \u001b[32m━━━━━━━━━━━━━━━━━━━━\u001b[0m\u001b[37m\u001b[0m \u001b[1m0s\u001b[0m 2ms/step \n",
      "  Running with 13 shared labels...\n",
      "\u001b[1m23/23\u001b[0m \u001b[32m━━━━━━━━━━━━━━━━━━━━\u001b[0m\u001b[37m\u001b[0m \u001b[1m0s\u001b[0m 1ms/step \n",
      "Running iteration 19...\n",
      "  Running with 0 shared labels...\n",
      "\u001b[1m23/23\u001b[0m \u001b[32m━━━━━━━━━━━━━━━━━━━━\u001b[0m\u001b[37m\u001b[0m \u001b[1m0s\u001b[0m 1ms/step \n",
      "  Running with 1 shared labels...\n",
      "\u001b[1m23/23\u001b[0m \u001b[32m━━━━━━━━━━━━━━━━━━━━\u001b[0m\u001b[37m\u001b[0m \u001b[1m0s\u001b[0m 1ms/step \n",
      "  Running with 2 shared labels...\n",
      "\u001b[1m23/23\u001b[0m \u001b[32m━━━━━━━━━━━━━━━━━━━━\u001b[0m\u001b[37m\u001b[0m \u001b[1m0s\u001b[0m 1ms/step \n",
      "  Running with 3 shared labels...\n",
      "\u001b[1m23/23\u001b[0m \u001b[32m━━━━━━━━━━━━━━━━━━━━\u001b[0m\u001b[37m\u001b[0m \u001b[1m0s\u001b[0m 1ms/step \n",
      "  Running with 4 shared labels...\n",
      "\u001b[1m23/23\u001b[0m \u001b[32m━━━━━━━━━━━━━━━━━━━━\u001b[0m\u001b[37m\u001b[0m \u001b[1m0s\u001b[0m 2ms/step\n",
      "  Running with 5 shared labels...\n",
      "\u001b[1m23/23\u001b[0m \u001b[32m━━━━━━━━━━━━━━━━━━━━\u001b[0m\u001b[37m\u001b[0m \u001b[1m0s\u001b[0m 2ms/step \n",
      "  Running with 6 shared labels...\n",
      "\u001b[1m23/23\u001b[0m \u001b[32m━━━━━━━━━━━━━━━━━━━━\u001b[0m\u001b[37m\u001b[0m \u001b[1m0s\u001b[0m 1ms/step \n",
      "  Running with 7 shared labels...\n",
      "\u001b[1m23/23\u001b[0m \u001b[32m━━━━━━━━━━━━━━━━━━━━\u001b[0m\u001b[37m\u001b[0m \u001b[1m0s\u001b[0m 1ms/step \n",
      "  Running with 8 shared labels...\n",
      "\u001b[1m23/23\u001b[0m \u001b[32m━━━━━━━━━━━━━━━━━━━━\u001b[0m\u001b[37m\u001b[0m \u001b[1m0s\u001b[0m 1ms/step \n",
      "  Running with 9 shared labels...\n",
      "\u001b[1m23/23\u001b[0m \u001b[32m━━━━━━━━━━━━━━━━━━━━\u001b[0m\u001b[37m\u001b[0m \u001b[1m0s\u001b[0m 2ms/step \n",
      "  Running with 10 shared labels...\n",
      "\u001b[1m23/23\u001b[0m \u001b[32m━━━━━━━━━━━━━━━━━━━━\u001b[0m\u001b[37m\u001b[0m \u001b[1m0s\u001b[0m 1ms/step \n",
      "  Running with 11 shared labels...\n",
      "\u001b[1m23/23\u001b[0m \u001b[32m━━━━━━━━━━━━━━━━━━━━\u001b[0m\u001b[37m\u001b[0m \u001b[1m0s\u001b[0m 1ms/step \n",
      "  Running with 12 shared labels...\n",
      "\u001b[1m23/23\u001b[0m \u001b[32m━━━━━━━━━━━━━━━━━━━━\u001b[0m\u001b[37m\u001b[0m \u001b[1m0s\u001b[0m 1ms/step \n",
      "  Running with 13 shared labels...\n",
      "\u001b[1m23/23\u001b[0m \u001b[32m━━━━━━━━━━━━━━━━━━━━\u001b[0m\u001b[37m\u001b[0m \u001b[1m0s\u001b[0m 1ms/step \n",
      "Running iteration 20...\n",
      "  Running with 0 shared labels...\n",
      "\u001b[1m23/23\u001b[0m \u001b[32m━━━━━━━━━━━━━━━━━━━━\u001b[0m\u001b[37m\u001b[0m \u001b[1m0s\u001b[0m 1ms/step \n",
      "  Running with 1 shared labels...\n",
      "\u001b[1m23/23\u001b[0m \u001b[32m━━━━━━━━━━━━━━━━━━━━\u001b[0m\u001b[37m\u001b[0m \u001b[1m0s\u001b[0m 1ms/step \n",
      "  Running with 2 shared labels...\n",
      "\u001b[1m23/23\u001b[0m \u001b[32m━━━━━━━━━━━━━━━━━━━━\u001b[0m\u001b[37m\u001b[0m \u001b[1m0s\u001b[0m 1ms/step \n",
      "  Running with 3 shared labels...\n",
      "\u001b[1m23/23\u001b[0m \u001b[32m━━━━━━━━━━━━━━━━━━━━\u001b[0m\u001b[37m\u001b[0m \u001b[1m0s\u001b[0m 1ms/step \n",
      "  Running with 4 shared labels...\n",
      "\u001b[1m23/23\u001b[0m \u001b[32m━━━━━━━━━━━━━━━━━━━━\u001b[0m\u001b[37m\u001b[0m \u001b[1m0s\u001b[0m 1ms/step \n",
      "  Running with 5 shared labels...\n",
      "\u001b[1m23/23\u001b[0m \u001b[32m━━━━━━━━━━━━━━━━━━━━\u001b[0m\u001b[37m\u001b[0m \u001b[1m0s\u001b[0m 1ms/step \n",
      "  Running with 6 shared labels...\n",
      "\u001b[1m23/23\u001b[0m \u001b[32m━━━━━━━━━━━━━━━━━━━━\u001b[0m\u001b[37m\u001b[0m \u001b[1m0s\u001b[0m 1ms/step \n",
      "  Running with 7 shared labels...\n",
      "\u001b[1m23/23\u001b[0m \u001b[32m━━━━━━━━━━━━━━━━━━━━\u001b[0m\u001b[37m\u001b[0m \u001b[1m0s\u001b[0m 1ms/step \n",
      "  Running with 8 shared labels...\n",
      "\u001b[1m23/23\u001b[0m \u001b[32m━━━━━━━━━━━━━━━━━━━━\u001b[0m\u001b[37m\u001b[0m \u001b[1m0s\u001b[0m 1ms/step \n",
      "  Running with 9 shared labels...\n",
      "\u001b[1m23/23\u001b[0m \u001b[32m━━━━━━━━━━━━━━━━━━━━\u001b[0m\u001b[37m\u001b[0m \u001b[1m0s\u001b[0m 1ms/step \n",
      "  Running with 10 shared labels...\n",
      "\u001b[1m23/23\u001b[0m \u001b[32m━━━━━━━━━━━━━━━━━━━━\u001b[0m\u001b[37m\u001b[0m \u001b[1m0s\u001b[0m 1ms/step \n",
      "  Running with 11 shared labels...\n",
      "\u001b[1m23/23\u001b[0m \u001b[32m━━━━━━━━━━━━━━━━━━━━\u001b[0m\u001b[37m\u001b[0m \u001b[1m0s\u001b[0m 1ms/step \n",
      "  Running with 12 shared labels...\n",
      "\u001b[1m23/23\u001b[0m \u001b[32m━━━━━━━━━━━━━━━━━━━━\u001b[0m\u001b[37m\u001b[0m \u001b[1m0s\u001b[0m 2ms/step \n",
      "  Running with 13 shared labels...\n",
      "\u001b[1m23/23\u001b[0m \u001b[32m━━━━━━━━━━━━━━━━━━━━\u001b[0m\u001b[37m\u001b[0m \u001b[1m0s\u001b[0m 1ms/step \n",
      "All experiments with varying shared labels are complete and results are saved.\n"
     ]
    }
   ],
   "source": [
    "# Define the output directory for Experiment 3\n",
    "experiment_dir = os.path.join('data', 'Experiment 3')\n",
    "if not os.path.exists(experiment_dir):\n",
    "    os.makedirs(experiment_dir)\n",
    "\n",
    "# Initialize a list to hold all experiment results\n",
    "all_experiment_results = []\n",
    "num_iterations = 20\n",
    "num_shared_labels_range = range(0, 14)  # From 0 to 13\n",
    "n_nodes = 2  # Number of nodes fixed at 2\n",
    "test_size = 0.2\n",
    "num_rounds = 20\n",
    "num_epochs = 1\n",
    "\n",
    "for iteration in range(num_iterations):\n",
    "    print(f\"Running iteration {iteration + 1}...\")\n",
    "    \n",
    "    # Initialize containers to store results for this iteration\n",
    "    iteration_global_models = []\n",
    "    iteration_perf = []\n",
    "    iteration_label_names = []\n",
    "    iteration_metrics = []\n",
    "    \n",
    "    # Loop over shared labels\n",
    "    for shared_labels in num_shared_labels_range:\n",
    "        print(f\"  Running with {shared_labels} shared labels...\")\n",
    "        \n",
    "        # Initialize nodes and model\n",
    "        nodes = create_FL_Datasets(X_train, y_train, n_nodes, shared_labels)\n",
    "        global_model = create_mlp_model(allEmbeddings.shape[1], labels.shape[1])\n",
    "        max_label = labels.shape[1] - 1\n",
    "        \n",
    "        # Perform federated learning\n",
    "        for round in range(num_rounds):\n",
    "            for node in nodes:\n",
    "                node['classifier'].fit(node['X_train'], node['y_train'], epochs=num_epochs, verbose=0)\n",
    "            global_model, nodes = surgical_aggregation(nodes, max_label, global_model)\n",
    "        \n",
    "        perf = global_model.evaluate(X_test, y_test, verbose=0)\n",
    "        iteration_global_models.append(global_model)\n",
    "        iteration_perf.append(perf)\n",
    "        label_names = [node['label_names'].tolist() for node in nodes]\n",
    "        iteration_label_names.append(label_names)\n",
    "        metrics = get_metrics(global_model, X_test, y_test, labels)\n",
    "        iteration_metrics.append(metrics)\n",
    "        \n",
    "    # Convert data to JSON-serializable format\n",
    "    iteration_perf_serializable = make_serializable(iteration_perf)\n",
    "    iteration_label_names_serializable = make_serializable(iteration_label_names)\n",
    "    iteration_metrics_serializable = make_serializable(iteration_metrics)\n",
    "        \n",
    "    # Store results of this iteration in a specific folder\n",
    "    iteration_dir = os.path.join(output_dir, f'iteration_{iteration + 1}')\n",
    "    os.makedirs(iteration_dir, exist_ok=True)\n",
    "    \n",
    "    # Save performance metrics as JSON\n",
    "    with open(os.path.join(iteration_dir, 'iteration_perf.json'), 'w') as f:\n",
    "        json.dump(iteration_perf_serializable, f)\n",
    "    \n",
    "    # Save label names as JSON\n",
    "    with open(os.path.join(iteration_dir, 'iteration_label_names.json'), 'w') as f:\n",
    "        json.dump(iteration_label_names_serializable, f)\n",
    "    \n",
    "    # Save detailed metrics as JSON\n",
    "    with open(os.path.join(iteration_dir, 'iteration_metrics.json'), 'w') as f:\n",
    "        json.dump(iteration_metrics_serializable, f)\n",
    "    \n",
    "    # Save global models\n",
    "    models_dir = os.path.join(iteration_dir, 'models')\n",
    "    os.makedirs(models_dir, exist_ok=True)\n",
    "    for idx, model in enumerate(iteration_global_models):\n",
    "        # Save model architecture to JSON\n",
    "        model_json = model.to_json()\n",
    "        with open(os.path.join(models_dir, f'global_model_{idx}.json'), 'w') as json_file:\n",
    "            json_file.write(model_json)\n",
    "        # Save model weights (weights cannot be saved as JSON)\n",
    "        model.save_weights(os.path.join(models_dir, f'global_model_{idx}.weights.h5'))\n",
    "    \n",
    "    # Save iteration-level data for comparison\n",
    "    experiment_data = {\n",
    "        'perf': iteration_perf_serializable,\n",
    "        'label_names': iteration_label_names_serializable,\n",
    "        'metrics': iteration_metrics_serializable\n",
    "    }\n",
    "    all_experiment_results.append(experiment_data)\n",
    "\n",
    "# Save all experiment results as JSON\n",
    "all_experiment_results_serializable = make_serializable(all_experiment_results)\n",
    "with open(os.path.join(output_dir, 'all_experiment_results.json'), 'w') as f:\n",
    "    json.dump(all_experiment_results_serializable, f)\n",
    "\n",
    "print(\"All 20 iterations are complete, and results are saved.\")\n"
   ]
  },
  {
   "cell_type": "markdown",
   "metadata": {},
   "source": [
    "## Visualisation"
   ]
  },
  {
   "cell_type": "code",
   "execution_count": 106,
   "metadata": {},
   "outputs": [
    {
     "ename": "KeyError",
     "evalue": "'results'",
     "output_type": "error",
     "traceback": [
      "\u001b[1;31m---------------------------------------------------------------------------\u001b[0m",
      "\u001b[1;31mKeyError\u001b[0m                                  Traceback (most recent call last)",
      "Cell \u001b[1;32mIn[106], line 17\u001b[0m\n\u001b[0;32m     14\u001b[0m accuracy_values \u001b[38;5;241m=\u001b[39m []\n\u001b[0;32m     15\u001b[0m \u001b[38;5;28;01mfor\u001b[39;00m iteration_data \u001b[38;5;129;01min\u001b[39;00m all_experiment_results:\n\u001b[0;32m     16\u001b[0m     \u001b[38;5;66;03m# Find the result for this shared_labels value\u001b[39;00m\n\u001b[1;32m---> 17\u001b[0m     shared_labels_result \u001b[38;5;241m=\u001b[39m \u001b[38;5;28mnext\u001b[39m((res \u001b[38;5;28;01mfor\u001b[39;00m res \u001b[38;5;129;01min\u001b[39;00m \u001b[43miteration_data\u001b[49m\u001b[43m[\u001b[49m\u001b[38;5;124;43m'\u001b[39;49m\u001b[38;5;124;43mresults\u001b[39;49m\u001b[38;5;124;43m'\u001b[39;49m\u001b[43m]\u001b[49m \u001b[38;5;28;01mif\u001b[39;00m res[\u001b[38;5;124m'\u001b[39m\u001b[38;5;124mshared_labels\u001b[39m\u001b[38;5;124m'\u001b[39m] \u001b[38;5;241m==\u001b[39m shared_labels), \u001b[38;5;28;01mNone\u001b[39;00m)\n\u001b[0;32m     18\u001b[0m     \u001b[38;5;28;01mif\u001b[39;00m shared_labels_result:\n\u001b[0;32m     19\u001b[0m         perf \u001b[38;5;241m=\u001b[39m shared_labels_result[\u001b[38;5;124m'\u001b[39m\u001b[38;5;124mperf\u001b[39m\u001b[38;5;124m'\u001b[39m]\n",
      "\u001b[1;31mKeyError\u001b[0m: 'results'"
     ]
    }
   ],
   "source": [
    "import numpy as np\n",
    "import matplotlib.pyplot as plt\n",
    "\n",
    "# Initialize containers for metrics\n",
    "shared_labels_list = list(range(0, 14))\n",
    "mean_auc_list = []\n",
    "std_auc_list = []\n",
    "mean_accuracy_list = []\n",
    "std_accuracy_list = []\n",
    "\n",
    "# For each shared_labels value, collect metrics across iterations\n",
    "for shared_labels in shared_labels_list:\n",
    "    auc_values = []\n",
    "    accuracy_values = []\n",
    "    for iteration_data in all_experiment_results:\n",
    "        # Find the result for this shared_labels value\n",
    "        shared_labels_result = next((res for res in iteration_data['results'] if res['shared_labels'] == shared_labels), None)\n",
    "        if shared_labels_result:\n",
    "            perf = shared_labels_result['perf']\n",
    "            metrics = shared_labels_result['metrics']\n",
    "            # Assuming perf[1] is AUC\n",
    "            auc_values.append(perf[1])\n",
    "            # Assuming overall accuracy is available in metrics\n",
    "            accuracy_values.append(metrics['Overall']['Accuracy'])\n",
    "    # Calculate mean and std dev for this shared_labels value\n",
    "    mean_auc_list.append(np.mean(auc_values))\n",
    "    std_auc_list.append(np.std(auc_values))\n",
    "    mean_accuracy_list.append(np.mean(accuracy_values))\n",
    "    std_accuracy_list.append(np.std(accuracy_values))\n",
    "\n",
    "# Convert lists to NumPy arrays\n",
    "mean_auc_array = np.array(mean_auc_list)\n",
    "std_auc_array = np.array(std_auc_list)\n",
    "mean_accuracy_array = np.array(mean_accuracy_list)\n",
    "std_accuracy_array = np.array(std_accuracy_list)\n",
    "\n",
    "\n",
    "\n",
    "\n"
   ]
  },
  {
   "cell_type": "code",
   "execution_count": 107,
   "metadata": {},
   "outputs": [
    {
     "data": {
      "image/png": "[encoded data removed]",
      "text/plain": [
       "<Figure size 1000x500 with 1 Axes>"
      ]
     },
     "metadata": {},
     "output_type": "display_data"
    }
   ],
   "source": [
    "# Plotting Mean AUC with Standard Deviation\n",
    "plt.figure(figsize=(10, 5))\n",
    "plt.errorbar(shared_labels_list, mean_auc_array, yerr=std_auc_array, fmt='-o', capsize=5)\n",
    "plt.xlabel('Number of Shared Labels')\n",
    "plt.ylabel('Mean AUC ± Std Dev')\n",
    "plt.title('Mean AUC vs Number of Shared Labels')\n",
    "plt.plot(\n",
    "    shared_labels_list,\n",
    "    [base_perf[1]] * len(shared_labels_list),\n",
    "    'r--',\n",
    "    label='Base Model'\n",
    ")\n",
    "plt.ylim(0.0, 1)\n",
    "plt.xticks(shared_labels_list)\n",
    "plt.grid(True)\n",
    "plt.show()"
   ]
  },
  {
   "cell_type": "code",
   "execution_count": 108,
   "metadata": {},
   "outputs": [
    {
     "data": {
      "image/png": "[encoded data removed]",
      "text/plain": [
       "<Figure size 1000x500 with 1 Axes>"
      ]
     },
     "metadata": {},
     "output_type": "display_data"
    }
   ],
   "source": [
    "# Plotting Mean Accuracy with Standard Deviation\n",
    "plt.figure(figsize=(10, 5))\n",
    "plt.errorbar(shared_labels_list, mean_accuracy_array, yerr=std_accuracy_array, fmt='-o', capsize=5)\n",
    "plt.xlabel('Number of Shared Labels')\n",
    "plt.ylabel('Mean Accuracy ± Std Dev')\n",
    "plt.title('Mean Accuracy vs Number of Shared Labels')\n",
    "plt.plot(\n",
    "    shared_labels_list,\n",
    "    [base_perf[1]] * len(shared_labels_list),\n",
    "    'r--',\n",
    "    label='Base Model'\n",
    ")\n",
    "plt.xticks(shared_labels_list)\n",
    "plt.ylim(0.0, 1)\n",
    "plt.grid(True)\n",
    "plt.show()"
   ]
  },
  {
   "cell_type": "markdown",
   "metadata": {},
   "source": [
    "# T-Tests"
   ]
  },
  {
   "cell_type": "code",
   "execution_count": 3,
   "metadata": {},
   "outputs": [],
   "source": [
    "from scipy.stats import ttest_rel\n",
    "def perform_t_tests(results, label_columns, metrics=['Accuracy', 'Sensitivity', 'Specificity', 'AUC']):\n",
    "    t_test_results = {}\n",
    "\n",
    "    configs = list(results.keys())\n",
    "    for i in range(len(configs)):\n",
    "        for j in range(i + 1, len(configs)):\n",
    "            config_1 = configs[i]\n",
    "            config_2 = configs[j]\n",
    "            comparison_key = f'{config_1} vs {config_2}'\n",
    "            t_test_results[comparison_key] = {}\n",
    "\n",
    "            for metric in metrics:\n",
    "                data_config_1 = results[config_1][metric]\n",
    "                data_config_2 = results[config_2][metric]\n",
    "\n",
    "                # Perform the paired t-test\n",
    "                t_stat, p_value = ttest_rel(data_config_1, data_config_2)\n",
    "                t_test_results[comparison_key][metric] = {'t_stat': t_stat, 'p_value': p_value}\n",
    "\n",
    "    return t_test_results"
   ]
  },
  {
   "cell_type": "markdown",
   "metadata": {},
   "source": [
    "## Experiment 2"
   ]
  },
  {
   "cell_type": "code",
   "execution_count": 43,
   "metadata": {},
   "outputs": [
    {
     "name": "stdout",
     "output_type": "stream",
     "text": [
      "{'Two Shared': {'Accuracy': [0.892433623675097, 0.8964214503095813, 0.8968412215342638, 0.901353762199601, 0.885507398467835, 0.8633644663658304, 0.8972609927589463, 0.8923286808689265, 0.8760625459124778, 0.8950571938293629, 0.8819393430580333, 0.8882359114282715, 0.8887606254591248, 0.9055514744464267, 0.8710252912162872, 0.8914891384195615, 0.8877111973974183, 0.8731241473396998, 0.890964424388708, 0.9199286388918041], 'Sensitivity': [0.9378099499395649, 0.9235591419024142, 0.941121337735055, 0.92075340068386, 0.944749419597518, 0.9591368609620484, 0.9440224273551165, 0.9507758713308877, 0.967628509734425, 0.9062729892013178, 0.9515158814758509, 0.9216943514145511, 0.9409067893172813, 0.9268378880853103, 0.964732527389402, 0.9304474371074354, 0.9265614751839296, 0.9592588097766659, 0.9245955635191361, 0.892225436283137], 'Specificity': [0.8934184184999743, 0.8971827793386191, 0.8935053034102024, 0.9020159541047073, 0.8845338481919411, 0.8602276776738418, 0.8967926220195265, 0.8917359800733137, 0.8734383480356145, 0.8940973137889267, 0.8801584868746745, 0.888847250079393, 0.8854902911634934, 0.9042560795254544, 0.8649094950014462, 0.890275054782163, 0.8873260098032694, 0.8700476397837283, 0.891964398169762, 0.9214836284123229], 'AUC': [0.9556712027025677, 0.9500730730458635, 0.9507563424629681, 0.9501663411565845, 0.9471425985987505, 0.9508261984501606, 0.9583633357799548, 0.9588851364095413, 0.9557062494292101, 0.9399811046921892, 0.9445890376553033, 0.9441485474336649, 0.9523086096563151, 0.9527198154128189, 0.9475020372379984, 0.9415934017353227, 0.9428633284859931, 0.9395558217837174, 0.9496687913435101, 0.9460528835808998]}, 'Three Shared': {'Accuracy': [0.8923286808689265, 0.8860321124986883, 0.8916990240319026, 0.8601112393745409, 0.9030328470983314, 0.8695560919298984, 0.8608458390177353, 0.8781614020358904, 0.8626298667226362, 0.8995697344947001, 0.8752230034631125, 0.8870815405603947, 0.895057193829363, 0.8827788855073985, 0.8871864833665654, 0.911848042816665, 0.8958967362787281, 0.8819393430580335, 0.8843530275999583, 0.8906495959701962], 'Sensitivity': [0.915124074891306, 0.9216861242789857, 0.9006258487504117, 0.9104628026898219, 0.913342863075119, 0.9303580774224689, 0.9287187888720912, 0.9152174224208312, 0.9116398311751774, 0.8858680221504301, 0.9268019797517232, 0.9193296784148336, 0.9127675953328944, 0.9254235343065441, 0.9299325050894445, 0.9190984736784155, 0.905455098345511, 0.9130170508161891, 0.922454455513554, 0.9094641213184377], 'Specificity': [0.8895159470060078, 0.887591842179588, 0.8911510452642102, 0.8575060556158335, 0.9031633321106864, 0.866902193921483, 0.85953864768711, 0.8778347227060546, 0.8645233946119719, 0.9014551404921272, 0.8780949942358149, 0.8873979305927863, 0.8952031382998302, 0.880593583175142, 0.8894843702468869, 0.9132045576164801, 0.8938682599263493, 0.8810434636699921, 0.8842237819193056, 0.8909849414415703], 'AUC': [0.9452083339042192, 0.9464113457270348, 0.9310201323824547, 0.9282967428703918, 0.9487300878308644, 0.9380972199615706, 0.9330930630931946, 0.9392937036666468, 0.9323868213353824, 0.9290531116543822, 0.9358000113562291, 0.9421833279731285, 0.9427773852403719, 0.9402468957801529, 0.9491955661454751, 0.9533437145568643, 0.9428134378673154, 0.9377580781662613, 0.9451059074982319, 0.9428552024859667]}, 'Four Shared': {'Accuracy': [0.8806800293839857, 0.8408017630391438, 0.8762724315248189, 0.8778465736173786, 0.8705005771854339, 0.8867667121418827, 0.8604260677930529, 0.8642040088151959, 0.8782663448420611, 0.8135166334347782, 0.8885507398467835, 0.8731241473397, 0.85664812677091, 0.8306223108405919, 0.8394375065589255, 0.8713401196347991, 0.8665127505509498, 0.8559135271277155, 0.8743834610137475, 0.8781614020358905], 'Sensitivity': [0.9179708237879461, 0.9194258324427474, 0.9000653777043415, 0.9064828834870509, 0.9199959981790052, 0.9176827319912534, 0.900025933266346, 0.8904902112119835, 0.9006728230632517, 0.9368498084892375, 0.8886546165685504, 0.9187466097826557, 0.9191060349399556, 0.9293152425685675, 0.9120078996299348, 0.8791066295803145, 0.8666339867840627, 0.9406029798741502, 0.888929441124476, 0.9012585234602231], 'Specificity': [0.8793514894060371, 0.838907796070454, 0.876549604150511, 0.8759393439286236, 0.8698136583386943, 0.8864503874280937, 0.8595422742065526, 0.865077723419059, 0.8790732826333241, 0.8076580449043903, 0.8884957459241665, 0.8704862578099163, 0.8547843182858296, 0.8273811685772338, 0.838080442151581, 0.8719633260610731, 0.8677519703482421, 0.8522066942864739, 0.8760400071423942, 0.8779268914975419], 'AUC': [0.9336750162896446, 0.9224551832887619, 0.9252223923785995, 0.9276840849779714, 0.9381122629735029, 0.9352088607536462, 0.9199183193610287, 0.9249917792600301, 0.9335605002386719, 0.9136950320452972, 0.9197757066705456, 0.933321916417223, 0.926591287853226, 0.920939478813841, 0.9175347057909763, 0.9204663557670476, 0.9046356318579113, 0.9281264683734967, 0.9167514114346427, 0.9234046247948279]}, 'Five Shared': {'Accuracy': [0.824535628082695, 0.8969461643404344, 0.8620002098856123, 0.8525553573302549, 0.8579074404449576, 0.8410116486514849, 0.8287333403295205, 0.8433203903872388, 0.8484625878896003, 0.8631545807534894, 0.8516108720747193, 0.8445797040612866, 0.8346101374750762, 0.8206527442543814, 0.8359743939552943, 0.8225417147654528, 0.8268443698184489, 0.8451044180921398, 0.8582222688634695, 0.8462587889600168], 'Sensitivity': [0.916149288112281, 0.8452222606204163, 0.869253817013732, 0.8859252431532768, 0.9120335527000502, 0.8869961849146778, 0.9192277804317072, 0.8853344086456949, 0.8849196954286351, 0.8955621914154258, 0.9034652967058965, 0.8845500818755343, 0.904975257772137, 0.8935856839349471, 0.8856011437983766, 0.910067003591653, 0.897166733566178, 0.901308619537829, 0.8846312447244616, 0.9208729562023906], 'Specificity': [0.8229443574384111, 0.8990577168915265, 0.8623233759547387, 0.8550292895038741, 0.8584520537674531, 0.8408145142348906, 0.8278860545022214, 0.8429638923214366, 0.8486004225766803, 0.8641121369938431, 0.8514982695035076, 0.844677638095212, 0.8327701845518155, 0.8165201834300753, 0.833696285412758, 0.8189128815611851, 0.8251446006285927, 0.8452383596388768, 0.8602344648203809, 0.8441507436871886], 'AUC': [0.9030926447027726, 0.9079578837477229, 0.9072466924028274, 0.9086374940991854, 0.9253847610924683, 0.9002612424779739, 0.9121094202443506, 0.8980949269563154, 0.909038346161528, 0.9139446964225544, 0.9160455857500385, 0.9016116746548538, 0.9060051028319067, 0.8933771239801029, 0.8944813511049872, 0.9053320955538322, 0.8996954865669811, 0.9131171559310899, 0.9104009527572484, 0.9111956203114505]}, 'Six Shared': {'Accuracy': [0.8087942071570994, 0.8154056039458494, 0.837233707629342, 0.8231713716024766, 0.7925280722006505, 0.835764508342953, 0.7702801972924755, 0.8055409801658094, 0.8041767236855913, 0.8059607513904923, 0.8122573197607303, 0.7892748452093609, 0.8142512330779724, 0.7957812991919404, 0.8137265190471192, 0.8409067058453144, 0.7922132437821389, 0.8113128345051948, 0.7998740686325951, 0.8220170007345995], 'Sensitivity': [0.8738385172900188, 0.9135688986444115, 0.9073359451076117, 0.8972659253599093, 0.9072844898741893, 0.8828598611759129, 0.907970879603011, 0.8964281987593048, 0.9085378842044436, 0.8997540651600118, 0.9119100386027094, 0.8970960358517678, 0.9072423694632004, 0.9159776480808481, 0.9171913071490642, 0.8829082793361919, 0.9337006500119573, 0.9055961311606746, 0.9347705845013571, 0.8832687524389681], 'Specificity': [0.8056876968066722, 0.8138413263970734, 0.835149110627577, 0.8234065746889633, 0.7908050394534482, 0.8358250552951257, 0.7678250943311453, 0.8035376436327559, 0.802397152210244, 0.8062797877567776, 0.810966881431596, 0.7852191907828168, 0.8088060192753018, 0.7922176442070821, 0.8125180405239697, 0.8403835265001873, 0.7875434143103686, 0.8104082115673168, 0.7951692192164199, 0.8243672029520562], 'AUC': [0.8756754859870026, 0.9014478158173476, 0.9090532104595747, 0.8944047591517511, 0.8846374624856058, 0.8937852252898227, 0.8634195050228435, 0.8957044788483307, 0.8915030183743264, 0.8862900846946099, 0.8991678480828362, 0.8809595519881833, 0.8968735883154028, 0.888604683000658, 0.9028387592511995, 0.8990842403651294, 0.8982036228540443, 0.8921245788570649, 0.9020286716313216, 0.8905193998826187]}, 'Seven Shared': {'Accuracy': [0.7823486200020989, 0.7585266030013643, 0.7614650015741421, 0.7889600167908489, 0.7865463322489243, 0.7598908594815824, 0.7933676146500157, 0.7674467415258683, 0.782873334032952, 0.7651379997901142, 0.7975653268968413, 0.7638786861160669, 0.7960961276104523, 0.7636688005037254, 0.7549585475915627, 0.7954664707734284, 0.7700703116801342, 0.760940287543289, 0.7589463742260467, 0.7725889390282297], 'Sensitivity': [0.9358632156097622, 0.9092343271276727, 0.9101209682910186, 0.8909477822206189, 0.912316820481992, 0.9295116315928506, 0.9026544095300341, 0.894466936794925, 0.883785334693055, 0.9097671447636723, 0.8985660397995867, 0.916706938964274, 0.8775790460304631, 0.9201535238356696, 0.9257041286049102, 0.8622030108474117, 0.9149925094133552, 0.9223630031050566, 0.9219129163705495, 0.8825851503276734], 'Specificity': [0.7726972912987592, 0.7534724467609102, 0.7554270683813011, 0.7873956055976769, 0.7810420389021236, 0.7507686256308136, 0.7912289755128223, 0.761535896377475, 0.7811122980558326, 0.759721761719399, 0.7948462267282619, 0.7563145410046553, 0.795882390474456, 0.7558287517202728, 0.7483260124717895, 0.7959256523943222, 0.7667365777163042, 0.7550452196580173, 0.7512597792091816, 0.7660963136054793], 'AUC': [0.8832153432448739, 0.8682407426490127, 0.8627980339782202, 0.8703974752204205, 0.878956673236422, 0.8719914126798649, 0.8804777108245283, 0.8610495513653187, 0.8630802937089569, 0.8709910494846113, 0.8759617574161737, 0.8679713641880008, 0.8740643043490983, 0.8771054882308111, 0.8701781225041997, 0.8657721104119862, 0.8756283655716559, 0.8702875971597432, 0.8713591044467421, 0.8649309807605042]}, 'Eight Shared': {'Accuracy': [0.8129919194039249, 0.7995592402140832, 0.7944170427117221, 0.7713296253541821, 0.7742680239269597, 0.7487669220274952, 0.7888550739846785, 0.7640885717284079, 0.774477909539301, 0.7802497638786863, 0.788645188372337, 0.7829782768391228, 0.7789904502046385, 0.8002938398572778, 0.7628292580543603, 0.7562178612656104, 0.7645083429530906, 0.7501311785077133, 0.757162346521146, 0.7684961695875748], 'Sensitivity': [0.8679812252313469, 0.8875996368075476, 0.8811336439804001, 0.8902423547533744, 0.8821959178740586, 0.8889674806346723, 0.8936530650765653, 0.9189223011752528, 0.9089089409420571, 0.8824742780897256, 0.8718917564613449, 0.9169558503827963, 0.8873106553931235, 0.8824910354837251, 0.8864483731693624, 0.9106203096464482, 0.9157378438539335, 0.9144520778385611, 0.9086245327665089, 0.9123796316014409], 'Specificity': [0.808556726659073, 0.7978590685290909, 0.7904874852737152, 0.768499212280176, 0.7683874716768094, 0.7453852053814138, 0.7859505740382488, 0.7551770290367515, 0.7699422387802737, 0.7749144988299798, 0.7877318201222773, 0.7757647400448432, 0.7745441169614871, 0.7989276074346113, 0.7561304153553406, 0.7501220641819984, 0.759416436870472, 0.7417875986674434, 0.7522255598261494, 0.7627896260233679], 'AUC': [0.8751044957458146, 0.8761374648926616, 0.8713820822792722, 0.8663104814689814, 0.8638971150767342, 0.8590943199300931, 0.8750474558132975, 0.8721799041766604, 0.8705901276595279, 0.8637807224774908, 0.8670993314367114, 0.8833937282417692, 0.8733245168703879, 0.8711850111033178, 0.866615327065258, 0.85706421122798, 0.8679260968355996, 0.8610315254801838, 0.865006487150664, 0.872826192581123]}, 'Nine Shared': {'Accuracy': [0.7404764403400146, 0.7635638576975547, 0.741525868401721, 0.7529646342743205, 0.7723790534158883, 0.7793052786231505, 0.77594710882569, 0.7524399202434674, 0.7546437191730508, 0.7563228040717808, 0.7816140203589043, 0.7651379997901143, 0.7380627557980901, 0.7551684332039037, 0.7373281561548957, 0.7075243992024346, 0.746773008710253, 0.7385874698289433, 0.758001888970511, 0.7660824850456501], 'Sensitivity': [0.8932962444995448, 0.9009003203575023, 0.9068788803500643, 0.9128515663535494, 0.8915887613502278, 0.9092479281213349, 0.8975764504184607, 0.9031801129068392, 0.8848141359313767, 0.8974617378573323, 0.8600361645986685, 0.8979950552241509, 0.9002663072928596, 0.900143428093452, 0.9134772409406909, 0.9298842590740856, 0.881482338031848, 0.9126238879408329, 0.9139446317145344, 0.9094945644181771], 'Specificity': [0.7350308624686615, 0.7608001095239032, 0.7358425629983762, 0.7463704353384256, 0.7663827099960986, 0.7741687194869536, 0.770683472069909, 0.747095959651372, 0.7466895935955017, 0.74855816303166, 0.779847470897175, 0.7595051243504225, 0.731406112804214, 0.7508840804327253, 0.7318074770327119, 0.697730073959026, 0.7423553235209762, 0.7311705091109951, 0.7514246849565887, 0.7579562754249498], 'AUC': [0.8439376728575139, 0.8600222887091871, 0.8546203885010204, 0.8661553365104893, 0.8612658848170249, 0.8723154029887443, 0.8627127051065899, 0.8526570013244305, 0.8534287744532179, 0.8549514736300471, 0.8519942672508717, 0.8561478724721113, 0.851588940213406, 0.8516589337722874, 0.8548837342554374, 0.8480046298396722, 0.8447743941742382, 0.8513394338924993, 0.8629268878264246, 0.8644244459105898]}, 'Ten Shared': {'Accuracy': [0.7376429845734076, 0.745303809423864, 0.7432049533004513, 0.7592612026445587, 0.7181236226256692, 0.7659775422394794, 0.7353342428376537, 0.7530695770804912, 0.7330255011018996, 0.7274635323748556, 0.7436247245251337, 0.7518102634064435, 0.7483471508028126, 0.7433098961066218, 0.7478224367719591, 0.7542239479483681, 0.7398467835029909, 0.7044810578234864, 0.7278833035995381, 0.7142407387973554], 'Sensitivity': [0.9001399102414818, 0.9019566869640541, 0.9206674390872968, 0.9193606504895185, 0.9301270717302021, 0.897935784973659, 0.9052544243708799, 0.8939003676047246, 0.8811847975012482, 0.8999662928914506, 0.9015761749555402, 0.8674977244521778, 0.8809274241913504, 0.8892935420636886, 0.8779608834353163, 0.9027578797991341, 0.8967634829816817, 0.9348383073878721, 0.8981286814279806, 0.9207081801234108], 'Specificity': [0.7327522790873775, 0.7419607715432662, 0.7353120515351994, 0.7504595341911198, 0.7063496128255795, 0.7594263253374275, 0.7288809915000443, 0.7491019035303428, 0.7273600296999432, 0.7202253141717953, 0.734885408615744, 0.7497990491410749, 0.742635874501395, 0.7380059932370135, 0.7406390105415444, 0.7480258775091195, 0.7333658583130435, 0.6948093551096698, 0.7199453380885276, 0.7040728131793176], 'AUC': [0.843731149440781, 0.8557672609978151, 0.8588665353409972, 0.8619958944819094, 0.8508210401733535, 0.853436323698181, 0.8505326023744951, 0.8514867544471579, 0.8420465910818886, 0.8385894739917416, 0.846560038955761, 0.8453212687849703, 0.8451440241578643, 0.8506032673712565, 0.8428672999329211, 0.8550852368973929, 0.8524249442318373, 0.8502099847137128, 0.8462821904110822, 0.8460667626554375]}}\n"
     ]
    }
   ],
   "source": [
    "import glob\n",
    "import os\n",
    "import json\n",
    "experiment_dir='data\\Experiment 2'\n",
    "results={}\n",
    "metrics=['Accuracy', 'Sensitivity', 'Specificity', 'AUC']\n",
    "label_list= ['Two Shared', 'Three Shared', 'Four Shared', 'Five Shared', 'Six Shared', 'Seven Shared', 'Eight Shared', 'Nine Shared', 'Ten Shared']\n",
    "results = {\n",
    "    label: {\n",
    "        \"Accuracy\": [],\n",
    "        \"Sensitivity\": [],\n",
    "        \"Specificity\": [],\n",
    "        \"AUC\": []\n",
    "    } for label in label_list\n",
    "}\n",
    "for count in range(1,21):\n",
    "    with open(experiment_dir+'\\iteration_'+str(count)+'\\iteration_metrics.json', 'r') as f:\n",
    "        data = json.load(f)\n",
    "    for item,label_name in zip(data,label_list):\n",
    "        for metrics, value in item['Overall'].items():\n",
    "            results[label_name][metrics].append(value)\n",
    "print(results)"
   ]
  },
  {
   "cell_type": "code",
   "execution_count": 46,
   "metadata": {},
   "outputs": [],
   "source": [
    "with open(r'data\\Experiment 2\\experiment_2_results.json', 'w') as f:\n",
    "     json.dump(results, f, indent=4)"
   ]
  },
  {
   "cell_type": "code",
   "execution_count": 33,
   "metadata": {},
   "outputs": [],
   "source": [
    "t_test_result=perform_t_tests(results,label_list)"
   ]
  },
  {
   "cell_type": "code",
   "execution_count": 34,
   "metadata": {},
   "outputs": [
    {
     "name": "stdout",
     "output_type": "stream",
     "text": [
      "{'Two Shared vs Three Shared': {'Accuracy': {'t_stat': 1.2784566867664902, 'p_value': 0.2164854245184164}, 'Sensitivity': {'t_stat': 5.242067823508331, 'p_value': 4.6431086177186416e-05}, 'Specificity': {'t_stat': 0.9244677644459829, 'p_value': 0.3668358476161716}, 'AUC': {'t_stat': 4.002568305478893, 'p_value': 0.0007617104967921659}}, 'Two Shared vs Four Shared': {'Accuracy': {'t_stat': 4.589967383332662, 'p_value': 0.00019995346316883177}, 'Sensitivity': {'t_stat': 4.797012740535205, 'p_value': 0.0001253056467799864}, 'Specificity': {'t_stat': 4.292183162912646, 'p_value': 0.00039332069656421387}, 'AUC': {'t_stat': 13.080113079581533, 'p_value': 5.963605871725464e-11}}, 'Two Shared vs Five Shared': {'Accuracy': {'t_stat': 9.332261922838738, 'p_value': 1.5830759546064837e-08}, 'Sensitivity': {'t_stat': 6.84332719447678, 'p_value': 1.5696705150902417e-06}, 'Specificity': {'t_stat': 8.457630107057449, 'p_value': 7.264725432814266e-08}, 'AUC': {'t_stat': 17.478560085703396, 'p_value': 3.6332410578324134e-13}}, 'Two Shared vs Six Shared': {'Accuracy': {'t_stat': 16.026743828643195, 'p_value': 1.7080409405520174e-12}, 'Sensitivity': {'t_stat': 6.090806909852947, 'p_value': 7.4088421771601054e-06}, 'Specificity': {'t_stat': 14.933474852909436, 'p_value': 5.951483923741002e-12}, 'AUC': {'t_stat': 19.142025261292844, 'p_value': 7.056302475289395e-14}}, 'Two Shared vs Seven Shared': {'Accuracy': {'t_stat': 28.58746397054934, 'p_value': 4.4397911680196393e-17}, 'Sensitivity': {'t_stat': 5.508241059302397, 'p_value': 2.5880464719644093e-05}, 'Specificity': {'t_stat': 25.97308061072535, 'p_value': 2.6297809974316344e-16}, 'AUC': {'t_stat': 43.091886014074795, 'p_value': 2.0487761036548698e-20}}, 'Two Shared vs Eight Shared': {'Accuracy': {'t_stat': 30.41757877555025, 'p_value': 1.3988330193527566e-17}, 'Sensitivity': {'t_stat': 6.918526697469211, 'p_value': 1.3497784573939856e-06}, 'Specificity': {'t_stat': 28.774008125653435, 'p_value': 3.93411226069046e-17}, 'AUC': {'t_stat': 55.33383834834334, 'p_value': 1.8360199270584253e-22}}, 'Two Shared vs Nine Shared': {'Accuracy': {'t_stat': 27.8867636802859, 'p_value': 7.040356638872137e-17}, 'Sensitivity': {'t_stat': 6.085166086170002, 'p_value': 7.4976193623625375e-06}, 'Specificity': {'t_stat': 27.12226093181623, 'p_value': 1.179268391583531e-16}, 'AUC': {'t_stat': 48.24825139055419, 'p_value': 2.4373595393660655e-21}}, 'Two Shared vs Ten Shared': {'Accuracy': {'t_stat': 31.090978100261196, 'p_value': 9.299731759710495e-18}, 'Sensitivity': {'t_stat': 5.72151973104836, 'p_value': 1.629470993226752e-05}, 'Specificity': {'t_stat': 29.47615209785746, 'p_value': 2.5122378156480834e-17}, 'AUC': {'t_stat': 56.42970649195879, 'p_value': 1.2676130393288463e-22}}, 'Three Shared vs Four Shared': {'Accuracy': {'t_stat': 3.4270322753177576, 'p_value': 0.002826184129469092}, 'Sensitivity': {'t_stat': 1.5900351581828767, 'p_value': 0.12832846349120539}, 'Specificity': {'t_stat': 3.3745991356961844, 'p_value': 0.0031820503516441978}, 'AUC': {'t_stat': 6.570122480652032, 'p_value': 2.7335099362196816e-06}}, 'Three Shared vs Five Shared': {'Accuracy': {'t_stat': 7.614359930525394, 'p_value': 3.4633724167840686e-07}, 'Sensitivity': {'t_stat': 4.543508923131013, 'p_value': 0.00022214545986260628}, 'Specificity': {'t_stat': 7.287570065742025, 'p_value': 6.507375303394381e-07}, 'AUC': {'t_stat': 13.18541068933124, 'p_value': 5.195214348931049e-11}}, 'Three Shared vs Six Shared': {'Accuracy': {'t_stat': 16.808690126005715, 'p_value': 7.312980502074557e-13}, 'Sensitivity': {'t_stat': 2.7933093063145638, 'p_value': 0.011591334055845427}, 'Specificity': {'t_stat': 16.201955267026705, 'p_value': 1.408009628362128e-12}, 'AUC': {'t_stat': 18.25447398779406, 'p_value': 1.6637136535713415e-13}}, 'Three Shared vs Seven Shared': {'Accuracy': {'t_stat': 23.82977414926104, 'p_value': 1.289445823102183e-15}, 'Sensitivity': {'t_stat': 2.15139511945987, 'p_value': 0.04452032695294726}, 'Specificity': {'t_stat': 22.84212193474213, 'p_value': 2.808437186649369e-15}, 'AUC': {'t_stat': 35.447502227613555, 'p_value': 8.015134298829651e-19}}, 'Three Shared vs Eight Shared': {'Accuracy': {'t_stat': 21.637315145324397, 'p_value': 7.582623292365236e-15}, 'Sensitivity': {'t_stat': 4.563469475287138, 'p_value': 0.00021232067240029882}, 'Specificity': {'t_stat': 20.869403941002535, 'p_value': 1.4673113252849774e-14}, 'AUC': {'t_stat': 32.44485039833443, 'p_value': 4.197095407048202e-18}}, 'Three Shared vs Nine Shared': {'Accuracy': {'t_stat': 21.23291217863658, 'p_value': 1.0705628933272147e-14}, 'Sensitivity': {'t_stat': 3.7411852441329465, 'p_value': 0.001383518766920489}, 'Specificity': {'t_stat': 21.220852322605776, 'p_value': 1.0817317279282916e-14}, 'AUC': {'t_stat': 33.68130178398641, 'p_value': 2.0861934851356702e-18}}, 'Three Shared vs Ten Shared': {'Accuracy': {'t_stat': 28.39557626074008, 'p_value': 5.031828790037864e-17}, 'Sensitivity': {'t_stat': 2.874525377621296, 'p_value': 0.009706557649019208}, 'Specificity': {'t_stat': 27.792544117451207, 'p_value': 7.496950214792772e-17}, 'AUC': {'t_stat': 42.646728947934356, 'p_value': 2.4908359747004935e-20}}, 'Four Shared vs Five Shared': {'Accuracy': {'t_stat': 3.001825832147594, 'p_value': 0.007332021515727286}, 'Sensitivity': {'t_stat': 2.1957128406973525, 'p_value': 0.04073152259814725}, 'Specificity': {'t_stat': 2.738636243237341, 'p_value': 0.0130524431708196}, 'AUC': {'t_stat': 7.781223877864389, 'p_value': 2.523724462278997e-07}}, 'Four Shared vs Six Shared': {'Accuracy': {'t_stat': 10.659852052037124, 'p_value': 1.8621442679069373e-09}, 'Sensitivity': {'t_stat': 0.5664861983016394, 'p_value': 0.5776943077097061}, 'Specificity': {'t_stat': 10.074655062516099, 'p_value': 4.66813459778053e-09}, 'AUC': {'t_stat': 9.553784615095102, 'p_value': 1.0922842664598603e-08}}, 'Four Shared vs Seven Shared': {'Accuracy': {'t_stat': 20.38940802844854, 'p_value': 2.2423702438995865e-14}, 'Sensitivity': {'t_stat': 0.3456403133364327, 'p_value': 0.733410555342886}, 'Specificity': {'t_stat': 18.868308419317483, 'p_value': 9.157199687711959e-14}, 'AUC': {'t_stat': 23.04981780668462, 'p_value': 2.3782237377889944e-15}}, 'Four Shared vs Eight Shared': {'Accuracy': {'t_stat': 13.820960472383153, 'p_value': 2.3020276066264534e-11}, 'Sensitivity': {'t_stat': 1.8881338756972232, 'p_value': 0.07437569260633817}, 'Specificity': {'t_stat': 13.47745867172462, 'p_value': 3.56015229732005e-11}, 'AUC': {'t_stat': 25.43833731408976, 'p_value': 3.8637490248458404e-16}}, 'Four Shared vs Nine Shared': {'Accuracy': {'t_stat': 20.42017386312015, 'p_value': 2.1816395169046465e-14}, 'Sensitivity': {'t_stat': 1.3557888933987947, 'p_value': 0.19106333220590077}, 'Specificity': {'t_stat': 19.787875586480446, 'p_value': 3.865656495462741e-14}, 'AUC': {'t_stat': 32.9651353072805, 'p_value': 3.1178744425987156e-18}}, 'Four Shared vs Ten Shared': {'Accuracy': {'t_stat': 24.091634154721, 'p_value': 1.0543251471895539e-15}, 'Sensitivity': {'t_stat': 1.2056237539628665, 'p_value': 0.2427630064256306}, 'Specificity': {'t_stat': 22.985373095691763, 'p_value': 2.503765787991752e-15}, 'AUC': {'t_stat': 34.05160645457456, 'p_value': 1.7003136788406581e-18}}, 'Five Shared vs Six Shared': {'Accuracy': {'t_stat': 6.954758294964782, 'p_value': 1.2554526802630638e-06}, 'Sensitivity': {'t_stat': -1.5887790147451064, 'p_value': 0.12861233830479613}, 'Specificity': {'t_stat': 6.760020088098229, 'p_value': 1.8569821955071142e-06}, 'AUC': {'t_stat': 4.601064557054545, 'p_value': 0.00019499310924611914}}, 'Five Shared vs Seven Shared': {'Accuracy': {'t_stat': 12.036267104944661, 'p_value': 2.462109413367934e-10}, 'Sensitivity': {'t_stat': -1.8173247314691487, 'p_value': 0.08497427406051611}, 'Specificity': {'t_stat': 11.677969056817872, 'p_value': 4.096137204317223e-10}, 'AUC': {'t_stat': 17.558239139734866, 'p_value': 3.3484807200863877e-13}}, 'Five Shared vs Eight Shared': {'Accuracy': {'t_stat': 13.077977525737667, 'p_value': 5.980368231355872e-11}, 'Sensitivity': {'t_stat': -0.20281786094393628, 'p_value': 0.8414335239260433}, 'Specificity': {'t_stat': 12.877593623216617, 'p_value': 7.795276985853947e-11}, 'AUC': {'t_stat': 15.379800980334558, 'p_value': 3.542494087386535e-12}}, 'Five Shared vs Nine Shared': {'Accuracy': {'t_stat': 20.036983077210955, 'p_value': 3.07956969699218e-14}, 'Sensitivity': {'t_stat': -1.195594939922362, 'p_value': 0.246563982624503}, 'Specificity': {'t_stat': 20.01552656309564, 'p_value': 3.1401473426440425e-14}, 'AUC': {'t_stat': 24.75826736358884, 'p_value': 6.37341521819141e-16}}, 'Five Shared vs Ten Shared': {'Accuracy': {'t_stat': 18.62492417909373, 'p_value': 1.1578668669655967e-13}, 'Sensitivity': {'t_stat': -1.3483889656292467, 'p_value': 0.19338867428799766}, 'Specificity': {'t_stat': 18.187461370269972, 'p_value': 1.7777113592777135e-13}, 'AUC': {'t_stat': 25.84407748923037, 'p_value': 2.8835567907346187e-16}}, 'Six Shared vs Seven Shared': {'Accuracy': {'t_stat': 6.76914293437545, 'p_value': 1.823030432902028e-06}, 'Sensitivity': {'t_stat': -0.36831189273092646, 'p_value': 0.716712299042848}, 'Specificity': {'t_stat': 6.760642948782318, 'p_value': 1.8546435054134109e-06}, 'AUC': {'t_stat': 6.393716928730341, 'p_value': 3.931627029384367e-06}}, 'Six Shared vs Eight Shared': {'Accuracy': {'t_stat': 5.4153401716927, 'p_value': 3.1709671974073666e-05}, 'Sensitivity': {'t_stat': 1.8298233010446108, 'p_value': 0.08301256963244869}, 'Specificity': {'t_stat': 5.523971991541181, 'p_value': 2.500777253962343e-05}, 'AUC': {'t_stat': 7.455044681379492, 'p_value': 4.7016695100194054e-07}}, 'Six Shared vs Nine Shared': {'Accuracy': {'t_stat': 8.418576159036634, 'p_value': 7.793642678048776e-08}, 'Sensitivity': {'t_stat': 0.6168558668331691, 'p_value': 0.5446513900947434}, 'Specificity': {'t_stat': 8.606336244064664, 'p_value': 5.5690274039024746e-08}, 'AUC': {'t_stat': 12.366037804670565, 'p_value': 1.5571534648421214e-10}}, 'Six Shared vs Ten Shared': {'Accuracy': {'t_stat': 16.242618315562936, 'p_value': 1.3466318284006402e-12}, 'Sensitivity': {'t_stat': 0.5635253056584568, 'p_value': 0.5796680406521493}, 'Specificity': {'t_stat': 15.274741721405935, 'p_value': 3.997947779420137e-12}, 'AUC': {'t_stat': 18.405652915586657, 'p_value': 1.4338124871925802e-13}}, 'Seven Shared vs Eight Shared': {'Accuracy': {'t_stat': -0.4096150385571789, 'p_value': 0.6866695351746939}, 'Sensitivity': {'t_stat': 1.6629760846190702, 'p_value': 0.1127255605245118}, 'Specificity': {'t_stat': -0.41790068488834187, 'p_value': 0.6807047106132033}, 'AUC': {'t_stat': 1.1603217810015822, 'p_value': 0.26029053901309934}}, 'Seven Shared vs Nine Shared': {'Accuracy': {'t_stat': 3.792767179416148, 'p_value': 0.0012299089794971163}, 'Sensitivity': {'t_stat': 0.912559553813155, 'p_value': 0.3729086795297484}, 'Specificity': {'t_stat': 3.520907813364756, 'p_value': 0.0022843172030263103}, 'AUC': {'t_stat': 6.806666440826974, 'p_value': 1.6899860012331882e-06}}, 'Seven Shared vs Ten Shared': {'Accuracy': {'t_stat': 7.494207348058794, 'p_value': 4.359949396445928e-07}, 'Sensitivity': {'t_stat': 0.8592918107752548, 'p_value': 0.400891483144026}, 'Specificity': {'t_stat': 6.958974633853299, 'p_value': 1.2449274474938904e-06}, 'AUC': {'t_stat': 10.680146629842461, 'p_value': 1.8049193491611551e-09}}, 'Eight Shared vs Nine Shared': {'Accuracy': {'t_stat': 4.250409933108494, 'p_value': 0.0004326094229795481}, 'Sensitivity': {'t_stat': -1.3313360094634816, 'p_value': 0.19883283496898946}, 'Specificity': {'t_stat': 4.395927990428624, 'p_value': 0.0003105821314781036}, 'AUC': {'t_stat': 5.663839138165907, 'p_value': 1.845696371975429e-05}}, 'Eight Shared vs Ten Shared': {'Accuracy': {'t_stat': 7.09203373462121, 'p_value': 9.556407832800708e-07}, 'Sensitivity': {'t_stat': -1.0070598713310148, 'p_value': 0.3265599514700753}, 'Specificity': {'t_stat': 7.183715629983714, 'p_value': 7.975632360430204e-07}, 'AUC': {'t_stat': 9.282760411575728, 'p_value': 1.7213251890728985e-08}}, 'Nine Shared vs Ten Shared': {'Accuracy': {'t_stat': 2.6672809387592586, 'p_value': 0.01522515789304235}, 'Sensitivity': {'t_stat': -0.04066036849777171, 'p_value': 0.9679908860550455}, 'Specificity': {'t_stat': 2.660688599322416, 'p_value': 0.01544239390419751}, 'AUC': {'t_stat': 3.6339371362396853, 'p_value': 0.0017665848173671614}}}\n"
     ]
    }
   ],
   "source": [
    "print(t_test_result)"
   ]
  },
  {
   "cell_type": "code",
   "execution_count": 35,
   "metadata": {},
   "outputs": [
    {
     "name": "stdout",
     "output_type": "stream",
     "text": [
      "Two Shared vs Three Shared\n",
      "{'t_stat': 1.2784566867664902, 'p_value': 0.2164854245184164}\n",
      "Two Shared vs Four Shared\n",
      "{'t_stat': 4.589967383332662, 'p_value': 0.00019995346316883177}\n",
      "Two Shared vs Five Shared\n",
      "{'t_stat': 9.332261922838738, 'p_value': 1.5830759546064837e-08}\n",
      "Two Shared vs Six Shared\n",
      "{'t_stat': 16.026743828643195, 'p_value': 1.7080409405520174e-12}\n",
      "Two Shared vs Seven Shared\n",
      "{'t_stat': 28.58746397054934, 'p_value': 4.4397911680196393e-17}\n",
      "Two Shared vs Eight Shared\n",
      "{'t_stat': 30.41757877555025, 'p_value': 1.3988330193527566e-17}\n",
      "Two Shared vs Nine Shared\n",
      "{'t_stat': 27.8867636802859, 'p_value': 7.040356638872137e-17}\n",
      "Two Shared vs Ten Shared\n",
      "{'t_stat': 31.090978100261196, 'p_value': 9.299731759710495e-18}\n",
      "Three Shared vs Four Shared\n",
      "{'t_stat': 3.4270322753177576, 'p_value': 0.002826184129469092}\n",
      "Three Shared vs Five Shared\n",
      "{'t_stat': 7.614359930525394, 'p_value': 3.4633724167840686e-07}\n",
      "Three Shared vs Six Shared\n",
      "{'t_stat': 16.808690126005715, 'p_value': 7.312980502074557e-13}\n",
      "Three Shared vs Seven Shared\n",
      "{'t_stat': 23.82977414926104, 'p_value': 1.289445823102183e-15}\n",
      "Three Shared vs Eight Shared\n",
      "{'t_stat': 21.637315145324397, 'p_value': 7.582623292365236e-15}\n",
      "Three Shared vs Nine Shared\n",
      "{'t_stat': 21.23291217863658, 'p_value': 1.0705628933272147e-14}\n",
      "Three Shared vs Ten Shared\n",
      "{'t_stat': 28.39557626074008, 'p_value': 5.031828790037864e-17}\n",
      "Four Shared vs Five Shared\n",
      "{'t_stat': 3.001825832147594, 'p_value': 0.007332021515727286}\n",
      "Four Shared vs Six Shared\n",
      "{'t_stat': 10.659852052037124, 'p_value': 1.8621442679069373e-09}\n",
      "Four Shared vs Seven Shared\n",
      "{'t_stat': 20.38940802844854, 'p_value': 2.2423702438995865e-14}\n",
      "Four Shared vs Eight Shared\n",
      "{'t_stat': 13.820960472383153, 'p_value': 2.3020276066264534e-11}\n",
      "Four Shared vs Nine Shared\n",
      "{'t_stat': 20.42017386312015, 'p_value': 2.1816395169046465e-14}\n",
      "Four Shared vs Ten Shared\n",
      "{'t_stat': 24.091634154721, 'p_value': 1.0543251471895539e-15}\n",
      "Five Shared vs Six Shared\n",
      "{'t_stat': 6.954758294964782, 'p_value': 1.2554526802630638e-06}\n",
      "Five Shared vs Seven Shared\n",
      "{'t_stat': 12.036267104944661, 'p_value': 2.462109413367934e-10}\n",
      "Five Shared vs Eight Shared\n",
      "{'t_stat': 13.077977525737667, 'p_value': 5.980368231355872e-11}\n",
      "Five Shared vs Nine Shared\n",
      "{'t_stat': 20.036983077210955, 'p_value': 3.07956969699218e-14}\n",
      "Five Shared vs Ten Shared\n",
      "{'t_stat': 18.62492417909373, 'p_value': 1.1578668669655967e-13}\n",
      "Six Shared vs Seven Shared\n",
      "{'t_stat': 6.76914293437545, 'p_value': 1.823030432902028e-06}\n",
      "Six Shared vs Eight Shared\n",
      "{'t_stat': 5.4153401716927, 'p_value': 3.1709671974073666e-05}\n",
      "Six Shared vs Nine Shared\n",
      "{'t_stat': 8.418576159036634, 'p_value': 7.793642678048776e-08}\n",
      "Six Shared vs Ten Shared\n",
      "{'t_stat': 16.242618315562936, 'p_value': 1.3466318284006402e-12}\n",
      "Seven Shared vs Eight Shared\n",
      "{'t_stat': -0.4096150385571789, 'p_value': 0.6866695351746939}\n",
      "Seven Shared vs Nine Shared\n",
      "{'t_stat': 3.792767179416148, 'p_value': 0.0012299089794971163}\n",
      "Seven Shared vs Ten Shared\n",
      "{'t_stat': 7.494207348058794, 'p_value': 4.359949396445928e-07}\n",
      "Eight Shared vs Nine Shared\n",
      "{'t_stat': 4.250409933108494, 'p_value': 0.0004326094229795481}\n",
      "Eight Shared vs Ten Shared\n",
      "{'t_stat': 7.09203373462121, 'p_value': 9.556407832800708e-07}\n",
      "Nine Shared vs Ten Shared\n",
      "{'t_stat': 2.6672809387592586, 'p_value': 0.01522515789304235}\n",
      "Data successfully exported\n"
     ]
    }
   ],
   "source": [
    "import pandas as pd\n",
    "import openpyxl\n",
    "\n",
    "# Create a list of rows, where each row is a dict that will become one row in the final DataFrame\n",
    "rows = []\n",
    "\n",
    "for shared_label, metrics_dict in t_test_result.items():\n",
    "    print(shared_label)\n",
    "    print(metrics_dict['Accuracy'])\n",
    "    # Each \"metrics_dict\" has keys like 'Accuracy', 'Sensitivity', 'Specificity', 'AUC'.\n",
    "    # Each of these keys corresponds to a list of 20 floats (in your example).\n",
    "    for metric_name, metric_values in metrics_dict.items():\n",
    "        # metric_values should be {\"t_stat\": X, \"p_value\": Y}\n",
    "        row = {\n",
    "            \"Shared Label\": shared_label,\n",
    "            \"Metric\": metric_name,\n",
    "            \"t_stat\": metric_values[\"t_stat\"],\n",
    "            \"p_value\": metric_values[\"p_value\"]\n",
    "        }\n",
    "        rows.append(row)\n",
    "# Convert the list of dicts into a pandas DataFrame\n",
    "df = pd.DataFrame(rows)\n",
    "\n",
    "# Now export this DataFrame to Excel\n",
    "df.to_excel(r\"data\\t-tests\\Experiment 2 Result.xlsx\", index=False)\n",
    "\n",
    "print(\"Data successfully exported\")"
   ]
  },
  {
   "cell_type": "markdown",
   "metadata": {},
   "source": [
    "## Experiment 3"
   ]
  },
  {
   "cell_type": "code",
   "execution_count": 47,
   "metadata": {},
   "outputs": [
    {
     "name": "stdout",
     "output_type": "stream",
     "text": [
      "{'Two Shared': {'Accuracy': [0.9024031902613076, 0.9007241053625774, 0.8848777416308112, 0.9051317032217441, 0.8851925700493232, 0.8964214503095813, 0.8733340329520412, 0.8933781089306329, 0.8788960016790848, 0.8749081750446007, 0.897365935565117, 0.8957917934725574, 0.9116381572043237, 0.9025081330674781, 0.8790009444852553, 0.889285339489978, 0.8975758211774582, 0.9059712456711093, 0.9086997586315457, 0.8870815405603948], 'Sensitivity': [0.9345180286342989, 0.9408234960848667, 0.941616720702582, 0.919558907341566, 0.9444555657317684, 0.9381085766389147, 0.9418909458483251, 0.9445012153922978, 0.9581669392866252, 0.9458206644314644, 0.907829633929924, 0.9408646429068628, 0.9133968980460216, 0.9341083675817701, 0.9342175537419828, 0.9141553277132741, 0.9344311609760473, 0.9189536563435803, 0.9285495788110505, 0.9601261745742165], 'Specificity': [0.9036786480061214, 0.8999972452231698, 0.8825219927237993, 0.9040043462854899, 0.8837449288800223, 0.8935996502369475, 0.8730181470183251, 0.8946482519131433, 0.8761513161795326, 0.8740199209444166, 0.8988075017908661, 0.8939362658107542, 0.9121439222701981, 0.9030292380637991, 0.8768675106637182, 0.8867597593339014, 0.8970709872320727, 0.9051542513780532, 0.9067498733798443, 0.8857268263653046], 'AUC': [0.9548049127490686, 0.9505250183500061, 0.9480162352728047, 0.9527820876276809, 0.9466761546468097, 0.9527033363674271, 0.9395147407603752, 0.950902087796792, 0.9496881177003521, 0.9422444647129353, 0.9402527162474706, 0.9554777131047482, 0.9436332447719871, 0.9505776798324317, 0.9488230848834813, 0.9441604040655865, 0.9515416922773988, 0.9478949088321691, 0.9559306079978694, 0.9540733606411249]}, 'Three Shared': {'Accuracy': [0.8782663448420611, 0.8951621366355338, 0.9091195298562282, 0.8732290901458707, 0.8939028229614858, 0.8873963689789066, 0.8720747192779934, 0.866407807744779, 0.9109035575611292, 0.8992549060761886, 0.9006191625564066, 0.9052366460279148, 0.8940077657676564, 0.9125826424598594, 0.9039773323538671, 0.8788960016790848, 0.890439710357855, 0.8856123412740057, 0.9203484101164865, 0.862944695141148], 'Sensitivity': [0.9505979543542662, 0.9413079247748535, 0.9038938172980203, 0.9558036824843664, 0.9505300263489326, 0.9455583840008538, 0.9549291677377768, 0.9437289785348, 0.9212113243423127, 0.935771196364796, 0.9519174944978767, 0.9189459486925297, 0.9309929813910943, 0.9132860138304226, 0.9223782174505928, 0.9450840679500216, 0.9276503099231388, 0.95611007452142, 0.9121697511560474, 0.9496719939585325], 'Specificity': [0.8776414090572106, 0.8930774041619186, 0.9098849203755874, 0.8722383658819305, 0.8916544140961822, 0.8849852584601088, 0.8713950746296965, 0.8660237071585066, 0.9116977844233117, 0.8969378298771853, 0.9020249505935425, 0.9065720435907048, 0.892772867337196, 0.9145427882382313, 0.9035728627119676, 0.876102793662464, 0.8888156332526738, 0.882929348836182, 0.9218350757496273, 0.8621443969707069], 'AUC': [0.9499006328202626, 0.9506427752521862, 0.9438205877939254, 0.9432622086970616, 0.9531519919231618, 0.952819872416274, 0.951641652775, 0.9392546974484755, 0.9465299186688169, 0.9572724085038549, 0.9608742119154238, 0.9501869807307632, 0.9502317967832704, 0.9515209342811092, 0.9506649992971585, 0.9465051624881932, 0.9401802350876578, 0.9514132413520026, 0.9558959269723929, 0.9479870063970727]}, 'Four Shared': {'Accuracy': [0.891908909644244, 0.9170951831251967, 0.9067058453143036, 0.891594081225732, 0.890964424388708, 0.8802602581593031, 0.8837233707629341, 0.9029279042921607, 0.8956868506663869, 0.8969461643404345, 0.9128974708783713, 0.8864518837233708, 0.897365935565117, 0.8934830517368035, 0.9053415888340854, 0.8896001679084898, 0.9106936719487879, 0.8780564592297199, 0.8898100535208312, 0.8875013117850773], 'Sensitivity': [0.9375937997730088, 0.9182568762773571, 0.9300115933407268, 0.9309648757216552, 0.9348451031337307, 0.9327283276513154, 0.9519346425957459, 0.9425962786379661, 0.9265969171992144, 0.938951971390359, 0.91701842162986, 0.9434050665053143, 0.9417299811548724, 0.9442676462990364, 0.9131768215175805, 0.9307660391716824, 0.9254390571541453, 0.9656392356372483, 0.9369329372157248, 0.9158363977636447], 'Specificity': [0.8918209705207999, 0.9164688628370992, 0.9057413459565503, 0.8938273615632386, 0.8904879335651661, 0.8769630887045577, 0.882617090239919, 0.90138821504766, 0.8934619155596236, 0.8960563268325725, 0.9141524222539711, 0.8845772423361752, 0.8941995474466241, 0.8907077163873276, 0.906278342726291, 0.8913211844339792, 0.9129022616395347, 0.8759727352867844, 0.8884940399172551, 0.8889490464240211], 'AUC': [0.9547984334130857, 0.9548711710604727, 0.9562129816745883, 0.9501576333061018, 0.9431545807939208, 0.9402188857700976, 0.9521815516615675, 0.959223890005886, 0.9488270192230183, 0.9539729849567812, 0.9498440137286196, 0.9444099964336723, 0.9515708122134984, 0.9495608043752196, 0.9481611666270247, 0.9482326386080935, 0.9547934118167963, 0.9474876211252644, 0.952880708156823, 0.9386485689610964]}, 'Five Shared': {'Accuracy': [0.9163605834820022, 0.8905446531640255, 0.8969461643404344, 0.8950571938293629, 0.8949522510231923, 0.8824640570888865, 0.9052366460279148, 0.8934830517368033, 0.9043971035785496, 0.8869765977542241, 0.9036625039353553, 0.884353027599958, 0.8657781509077555, 0.8925385664812678, 0.9221324378213873, 0.903977332353867, 0.8936929373491448, 0.8658830937139259, 0.8689264350928744, 0.9028229614859904], 'Sensitivity': [0.9187438305575308, 0.9353738775401047, 0.9249348420999245, 0.9446492107198993, 0.9339415753830347, 0.941434412571801, 0.9328965437660466, 0.9513971393618169, 0.9153649503336202, 0.9458400831007686, 0.9113950020437872, 0.9646077534785559, 0.9437715363612599, 0.9304986450385575, 0.9140771197834519, 0.9360513370574868, 0.9240552041111686, 0.9515070004081386, 0.9736060337318745, 0.9415701125971415], 'Specificity': [0.9172633975955673, 0.8893739258397642, 0.8957884006348567, 0.8942177182457793, 0.8938910799162335, 0.8809412748472162, 0.9043907007035433, 0.8930679336116533, 0.9054044265602547, 0.8864900850946091, 0.9046371391167974, 0.8826956112880538, 0.8654069106351633, 0.8903577253210355, 0.9229550024214134, 0.9062746766454209, 0.8914062804610124, 0.8649206656728592, 0.864396069664934, 0.901574019243874], 'AUC': [0.9540319670515532, 0.9504728883367507, 0.9472481631542007, 0.9563278916703866, 0.9487848369941485, 0.94463493868403, 0.9524478208552865, 0.9558222534376619, 0.9505947602041147, 0.9482436226929412, 0.9431074159162611, 0.9548853600169207, 0.9392267348078192, 0.9496030856872187, 0.9539314559424071, 0.950490983965463, 0.9507135063827035, 0.9449853978473477, 0.9564992774519236, 0.9543925443572228]}, 'Six Shared': {'Accuracy': [0.89127925280722, 0.8925385664812677, 0.9104837863364467, 0.8803652009654738, 0.8788960016790848, 0.8821492286703747, 0.8741735754014065, 0.8936929373491446, 0.8905446531640255, 0.8949522510231923, 0.9101689579179347, 0.8840381991814462, 0.9009339909749188, 0.8882359114282715, 0.9017735334242837, 0.905761360058768, 0.8941127085738272, 0.9136320705215658, 0.9006191625564066, 0.8887606254591247], 'Sensitivity': [0.9322585140684525, 0.9196291622952049, 0.9262474266929731, 0.9571652579183934, 0.9454199321012872, 0.9383566708632483, 0.9550310811928083, 0.9502046063499842, 0.9378886654250083, 0.9463700459279341, 0.9279397686894872, 0.9345734853739298, 0.9501636483794302, 0.9563257723999778, 0.9153352034197135, 0.9409575051118868, 0.9436081201701957, 0.9267464321067298, 0.9401659345368992, 0.926986206791355], 'Specificity': [0.8921980164371122, 0.8905046127822515, 0.9093961105269307, 0.8768905830003555, 0.8792318397222763, 0.8825796475521209, 0.8734184165752701, 0.8930998533106311, 0.8895236656358982, 0.8947522474312688, 0.9089437308301149, 0.8811333447486303, 0.8974811515499889, 0.886573339792174, 0.9024840756995528, 0.905064310187452, 0.8934717505331071, 0.9112305237557441, 0.8980279786019781, 0.88782956914922], 'AUC': [0.9481379465060082, 0.9472251893733125, 0.9586656507978032, 0.952446128964917, 0.9471279032914078, 0.9470237881873907, 0.9492954493444903, 0.9560138836653839, 0.9541932933000072, 0.9525978467870337, 0.9543095863802477, 0.9450508907603752, 0.9605834083103206, 0.9577287926239642, 0.9482797114789956, 0.9564724549160198, 0.9553774070940543, 0.9564390183933386, 0.9572192105221412, 0.9397538066412794]}, 'Seven Shared': {'Accuracy': [0.9192989820547802, 0.8865568265295416, 0.8925385664812675, 0.880889914996327, 0.8936929373491446, 0.8761674887186484, 0.9148913841956136, 0.8960016790848987, 0.8882359114282716, 0.9017735334242837, 0.9017735334242839, 0.8601112393745407, 0.8871864833665654, 0.8957917934725574, 0.9154160982264666, 0.8964214503095813, 0.8822541714765454, 0.8934830517368033, 0.8665127505509497, 0.8489873019204535], 'Sensitivity': [0.9266793889319426, 0.9350340695969948, 0.948029681666577, 0.962356019264347, 0.9235552010762488, 0.9405964289334151, 0.9247684092582513, 0.9230534792658847, 0.9424433939595243, 0.9310347279439768, 0.9302501691332251, 0.9247355116505308, 0.9318214547795631, 0.9334379576999031, 0.944267273495227, 0.921683631254666, 0.9512814387668802, 0.9527573014039844, 0.9587539545640135, 0.9540888465483234], 'Specificity': [0.920737630149739, 0.8861239780259248, 0.8931156966802196, 0.8790506062168345, 0.8939305288118551, 0.8757473827376869, 0.91459148314711, 0.8959720167214381, 0.8861653077858471, 0.9042484942115627, 0.8999595178938283, 0.861296569213115, 0.8892377676986977, 0.893158320473288, 0.9144033538064673, 0.8967376757567139, 0.8832569621025704, 0.8916919279045911, 0.8645522396110542, 0.8454221454120648], 'AUC': [0.9543636880974015, 0.945854344815358, 0.95382995719127, 0.9457032141640176, 0.946344512609439, 0.9414209055511313, 0.9543552854433864, 0.9450206181552393, 0.9502789822428634, 0.9501856638848233, 0.95400527733806, 0.929749791325679, 0.9451676994115685, 0.9475429850965654, 0.9605728126464134, 0.9455784303099364, 0.9527179248489227, 0.9597333945931795, 0.9416585385937501, 0.9379393388531946]}, 'Eight Shared': {'Accuracy': [0.9051317032217442, 0.8521355861055725, 0.8644138944275371, 0.9090145870500577, 0.890439710357855, 0.8956868506663868, 0.8865568265295415, 0.8746982894322594, 0.8931682233182916, 0.8834085423444222, 0.893902822961486, 0.8795256585161089, 0.8884457970406129, 0.9041872179662084, 0.8913841956133909, 0.8956868506663866, 0.911848042816665, 0.9019834190366249, 0.8868716549480534, 0.8989400776576766], 'Sensitivity': [0.9122418209916622, 0.9707612896170364, 0.9479225048454827, 0.9283200638573688, 0.9230135224434685, 0.9321516939598684, 0.9141548141595184, 0.9581593428017214, 0.9309132482767525, 0.9487684480595378, 0.9364175250093597, 0.9381090100982448, 0.9444517103613177, 0.9340179842378888, 0.9280075010725858, 0.9150628624060266, 0.9282700463066506, 0.9061439501796925, 0.9401718163121282, 0.9222811274638467], 'Specificity': [0.9035065530144918, 0.8486860741295119, 0.8633209984298111, 0.9091655425297009, 0.889930154113896, 0.8965760695630808, 0.8879873154816429, 0.8718801053246659, 0.8915267765633271, 0.8813402325890939, 0.8914193612483334, 0.8797847519210548, 0.8879557948653183, 0.9035457767240469, 0.8905822876839028, 0.8961601983382785, 0.9129798329860059, 0.9032235438034643, 0.885070957014379, 0.8964160584792386], 'AUC': [0.9411583496261143, 0.9477360014616572, 0.94318352184465, 0.9545312037125372, 0.9463445782514742, 0.950021047598373, 0.939703226093434, 0.9481687599528874, 0.9442372726472202, 0.9517713557675053, 0.9460160598658203, 0.9456225349068349, 0.9540028367365625, 0.9563611408018236, 0.9517611051982884, 0.9438452532078637, 0.9578972722207175, 0.9452001781388676, 0.9488528022775689, 0.9451456754880869]}, 'Nine Shared': {'Accuracy': [0.8870815405603947, 0.8856123412740057, 0.8867667121418827, 0.9147864413894429, 0.8759576031063071, 0.8982054780144821, 0.8933781089306329, 0.8928533948997794, 0.8957917934725573, 0.8718648336656524, 0.870185748766922, 0.8863469409172002, 0.8778465736173786, 0.8998845629132123, 0.8915940812257319, 0.8974708783712876, 0.9030328470983316, 0.9009339909749186, 0.8607408962115646, 0.8904397103578551], 'Sensitivity': [0.9428528335947439, 0.9532134668532333, 0.9266227605385537, 0.9152988080329757, 0.9632407499432696, 0.9197535018831556, 0.9360566402980768, 0.9511073412539641, 0.9307688261405065, 0.9491262027441285, 0.9487444950156074, 0.9287506861151914, 0.9453488776265997, 0.9365786375832167, 0.9291178149454274, 0.9478848249184376, 0.9277106304925675, 0.9231877452829835, 0.9498188648216851, 0.9445561501459306], 'Specificity': [0.88438994867061, 0.8845489504322194, 0.8853190170054437, 0.9146802150606811, 0.8731973828081439, 0.8979152271513429, 0.8908145396036395, 0.8912528268417204, 0.8945525096643541, 0.8719822510919529, 0.8680705954044743, 0.8849897242587019, 0.8767756473854527, 0.8986863991015278, 0.8907071198086125, 0.8946536114128679, 0.9020025380579183, 0.8988045496681908, 0.8581393431071866, 0.8896423172833406], 'AUC': [0.9466123191360014, 0.9549990265342756, 0.9392155603208351, 0.9528465391226386, 0.9531403959116448, 0.9507536203080029, 0.9515654736548667, 0.9548625397813731, 0.9470803534036197, 0.9505821734864557, 0.9467610601551836, 0.9487648130466885, 0.9513071146525675, 0.9529971598022585, 0.9461406023679128, 0.9554216389957665, 0.9539119688884738, 0.9507744086166111, 0.9461457327943728, 0.9510780595004745]}, 'Ten Shared': {'Accuracy': [0.883198656732081, 0.9018784762304544, 0.8911743100010495, 0.8976807639836288, 0.8849826844369819, 0.8931682233182916, 0.8919089096442439, 0.8776366880050372, 0.8790009444852557, 0.8923286808689264, 0.8770070311680135, 0.8842480847937874, 0.9200335816979746, 0.8859271696925174, 0.883198656732081, 0.9045020463847202, 0.8953720222478748, 0.8899149963270018, 0.9021933046489665, 0.8992549060761886], 'Sensitivity': [0.945613138829455, 0.9524921080756085, 0.965553607584127, 0.9206682642412057, 0.9174113057972592, 0.9318135183143603, 0.9280464671847598, 0.9457288953087241, 0.9535610975637681, 0.9171319123633772, 0.9568597667682912, 0.9276207344768592, 0.9100273870579583, 0.9459025927701205, 0.9487003864738528, 0.9363875915108152, 0.9444854612747424, 0.939261750525222, 0.9355237189118467, 0.9431891686893548], 'Specificity': [0.8827012572022959, 0.8979218889198317, 0.8871735896044254, 0.8969091411674022, 0.8833502055661803, 0.8914851889912119, 0.8913192054216754, 0.878180219575656, 0.8767293378422898, 0.892301214782094, 0.876881607039055, 0.8835437183248024, 0.9208668195924485, 0.8848819644757208, 0.8814208795162847, 0.9024708157170879, 0.8947358130599171, 0.8871978656234742, 0.9011598929478308, 0.8989715676002205], 'AUC': [0.9522828348262085, 0.9576658831913651, 0.9572911675856204, 0.9464060025832806, 0.9391888059306566, 0.9514708770357613, 0.9474490566433824, 0.9487979450340995, 0.9487549167728754, 0.9424065512684232, 0.9541166661396553, 0.9413046142515622, 0.9510670829643176, 0.949454933851499, 0.9568174054297669, 0.9561127260058618, 0.9553271593785991, 0.9491875956667811, 0.953434280410682, 0.9526356723502943]}, 'Eleven Shared': {'Accuracy': [0.8914891384195615, 0.9013537621996013, 0.8604260677930528, 0.892748452093609, 0.8752230034631127, 0.8937978801553151, 0.8997796201070416, 0.9126875852660299, 0.9073355021513275, 0.8691363207052155, 0.8821492286703747, 0.899674677300871, 0.8756427746877951, 0.9093294154685695, 0.8924336236750972, 0.8570678979955925, 0.8798404869346205, 0.8740686325952358, 0.8995697344947005, 0.8628397523349775], 'Sensitivity': [0.939212194762561, 0.9432863101291977, 0.9572887946983453, 0.9295476399916828, 0.9524526739544537, 0.9479952859089902, 0.9375319877913463, 0.9201635679713852, 0.9207467909341602, 0.9701618049364983, 0.9438749604190156, 0.9042965290479825, 0.9500561891786016, 0.9265299307670515, 0.9154277461576323, 0.9618759726753889, 0.9591209435592473, 0.9403311664745994, 0.9156976202772161, 0.959095640354205], 'Specificity': [0.8899829171732254, 0.8992791883724293, 0.8594296368382195, 0.8919094292531209, 0.8744130732369837, 0.8938533327188488, 0.898212670692497, 0.9154823087652268, 0.9082080658173114, 0.8664309281457974, 0.8803061466900771, 0.899138773478368, 0.8744391800388255, 0.9101533735877344, 0.8914614541326606, 0.8553650316843574, 0.8781404288133225, 0.8724285405462202, 0.8985959927051493, 0.8601217188843785], 'AUC': [0.9498397640049436, 0.9541827578210437, 0.9428649915387781, 0.9468147561604435, 0.9528739781437707, 0.9580653490702282, 0.9536136715198853, 0.9543676487194488, 0.9492526521821502, 0.9516741391592548, 0.9467734330477142, 0.9416858686916701, 0.950952123877578, 0.9559620951750966, 0.9366223673015365, 0.9460830976785957, 0.9549174898713152, 0.9388229507987931, 0.9477312259303937, 0.9452849608064098]}, 'Twelve Shared': {'Accuracy': [0.8903347675516844, 0.9031377899045021, 0.8998845629132123, 0.8883408542344422, 0.8883408542344421, 0.8697659775422395, 0.8867667121418825, 0.9004092769440655, 0.8876062545912478, 0.8730192045335291, 0.8921187952565851, 0.8887606254591247, 0.8729142617273588, 0.8925385664812678, 0.8797355441284501, 0.8677720642249974, 0.9003043341378949, 0.8910693671948787, 0.8634694091720012, 0.9011438765872598], 'Sensitivity': [0.9353441535873711, 0.9276184805072399, 0.9308087180172854, 0.9398872472599288, 0.92461710428937, 0.9607675222955445, 0.9407607114458951, 0.9361692191903894, 0.9257149388984185, 0.9640389448635518, 0.9192503880346471, 0.9380207010739737, 0.9513243424675941, 0.9275854910130763, 0.9381752935213092, 0.9709298962718738, 0.9152255292555931, 0.9318056591732697, 0.9656619315886936, 0.9294491573613014], 'Specificity': [0.8893131875802518, 0.902689047677521, 0.8996187126160872, 0.885114883636144, 0.8874581554256514, 0.8677295317706117, 0.8870794122170078, 0.8992223380176689, 0.8881533817051958, 0.870594877813952, 0.8922455581441116, 0.8876857209804933, 0.8719888523526069, 0.8933633561236669, 0.8806588132526113, 0.8637338660997707, 0.9005413064239612, 0.8898219064121063, 0.8603127194835091, 0.9008684197972077], 'AUC': [0.9508848467465577, 0.9521620169894434, 0.9520162420971894, 0.9526694028858602, 0.9463779855634661, 0.9507195201622527, 0.9503662521185938, 0.952606946387725, 0.9427960800366014, 0.9539773802347694, 0.942205496548758, 0.9513407794387022, 0.9500725358095541, 0.9455260768245755, 0.9480301073169143, 0.9526200352158744, 0.9475075240937484, 0.9484599936466912, 0.9508738779531168, 0.9529032014981783]}, 'Thirteen Shared': {'Accuracy': [0.8968412215342638, 0.877636688005037, 0.887816140203589, 0.8944275369923391, 0.8703956343792633, 0.8798404869346205, 0.8840381991814461, 0.8946374226046804, 0.884353027599958, 0.8772169167803546, 0.877426802392696, 0.8650435512645609, 0.882359114282716, 0.8978906495959702, 0.8714450624409698, 0.8718648336656523, 0.9071256165389864, 0.8933781089306329, 0.9010389337810893, 0.8992549060761886], 'Sensitivity': [0.9226591720983524, 0.9451425460910344, 0.9319870109972425, 0.9279580355230284, 0.9608929087133877, 0.9452374877800338, 0.9324393459536942, 0.9248056210059997, 0.9486690058507553, 0.9481296737369634, 0.9398006116941102, 0.9622124198165877, 0.9519497485504108, 0.9355023262385416, 0.9620394311053082, 0.9641792200518234, 0.934062536829846, 0.9490616805821477, 0.9202440035498783, 0.9319463849359283], 'Specificity': [0.8961638953844943, 0.8759807050859164, 0.8875552325134747, 0.8944456061967805, 0.8688375852862694, 0.8778721618587026, 0.8842242371815848, 0.8957432504959797, 0.884053081330189, 0.8769820754373102, 0.8761268855199561, 0.8639680947651769, 0.8808461026345765, 0.897506807313328, 0.8699699301901058, 0.8689889671103507, 0.9058030610326366, 0.8917743867424236, 0.9008939180071973, 0.8989755821312695], 'AUC': [0.9478534009527682, 0.9497813710581842, 0.9503620004969154, 0.949491279849915, 0.9506135927086048, 0.9528813422896699, 0.9479097695527747, 0.949561683613832, 0.9528381844773512, 0.948990712444031, 0.9464188032124061, 0.9462181915798682, 0.9545169658239326, 0.956182131640369, 0.9545365017475962, 0.9517179170388973, 0.9554970502340399, 0.9540939588329184, 0.9459649712364041, 0.9517384917825825]}}\n"
     ]
    }
   ],
   "source": [
    "import glob\n",
    "import os\n",
    "import json\n",
    "experiment_dir='data\\Experiment 3'\n",
    "results={}\n",
    "metrics=['Accuracy', 'Sensitivity', 'Specificity', 'AUC']\n",
    "label_list= ['Two Shared', 'Three Shared', 'Four Shared', 'Five Shared', 'Six Shared', 'Seven Shared', 'Eight Shared', 'Nine Shared', 'Ten Shared','Eleven Shared', 'Twelve Shared', 'Thirteen Shared']\n",
    "results = {\n",
    "    label: {\n",
    "        \"Accuracy\": [],\n",
    "        \"Sensitivity\": [],\n",
    "        \"Specificity\": [],\n",
    "        \"AUC\": []\n",
    "    } for label in label_list\n",
    "}\n",
    "for count in range(1,21):\n",
    "    with open(experiment_dir+'\\iteration_'+str(count)+'\\iteration_summary.json', 'r') as f:\n",
    "        data = json.load(f)\n",
    "    for item,label_name in zip(data,label_list):\n",
    "        for metrics, value in item['metrics']['Overall'].items():\n",
    "            results[label_name][metrics].append(value)\n",
    "print(results)\n",
    "\n",
    "\n",
    "\n",
    "    "
   ]
  },
  {
   "cell_type": "code",
   "execution_count": 49,
   "metadata": {},
   "outputs": [],
   "source": [
    "with open(r'data\\Experiment 3\\experiment_3_results.json', 'w') as f:\n",
    "     json.dump(results, f, indent=4)"
   ]
  },
  {
   "cell_type": "code",
   "execution_count": 48,
   "metadata": {},
   "outputs": [],
   "source": [
    "t_test_result=perform_t_tests(results,label_list)"
   ]
  },
  {
   "cell_type": "code",
   "execution_count": 38,
   "metadata": {},
   "outputs": [
    {
     "name": "stdout",
     "output_type": "stream",
     "text": [
      "{'Two Shared vs Three Shared': {'Accuracy': {'t_stat': 0.3446121141452313, 'p_value': 0.7341711693930921}, 'Sensitivity': {'t_stat': -0.33350822179507544, 'p_value': 0.7424031279010326}, 'Specificity': {'t_stat': 0.26919806545004815, 'p_value': 0.790678904842477}, 'AUC': {'t_stat': -0.35657997550545234, 'p_value': 0.7253355502415557}}, 'Two Shared vs Four Shared': {'Accuracy': {'t_stat': -0.5440167245245956, 'p_value': 0.5927572475216676}, 'Sensitivity': {'t_stat': 0.1890945590740979, 'p_value': 0.8520239952476714}, 'Specificity': {'t_stat': -0.5976384071938732, 'p_value': 0.5571378847598114}, 'AUC': {'t_stat': -0.5422408850003376, 'p_value': 0.593955981036038}}, 'Two Shared vs Five Shared': {'Accuracy': {'t_stat': -2.10701221745768e-15, 'p_value': 0.9999999999999983}, 'Sensitivity': {'t_stat': -0.4041955165223198, 'p_value': 0.6905825095545748}, 'Specificity': {'t_stat': -0.034688492341972715, 'p_value': 0.9726899784505503}, 'AUC': {'t_stat': -1.307974919989184, 'p_value': 0.20648643618798965}}, 'Two Shared vs Six Shared': {'Accuracy': {'t_stat': -0.10968387964645958, 'p_value': 0.9138102921558492}, 'Sensitivity': {'t_stat': -0.8658225211982303, 'p_value': 0.39738903189147723}, 'Specificity': {'t_stat': -0.032738989180918526, 'p_value': 0.974224215146013}, 'AUC': {'t_stat': -1.6974352349348618, 'p_value': 0.10593442238878344}}, 'Two Shared vs Seven Shared': {'Accuracy': {'t_stat': 0.6761781234204857, 'p_value': 0.5070757840693352}, 'Sensitivity': {'t_stat': -0.7487439842420494, 'p_value': 0.4631806588859353}, 'Specificity': {'t_stat': 0.5740148531233611, 'p_value': 0.5726911491487308}, 'AUC': {'t_stat': 0.3831597445178536, 'p_value': 0.7058545963165375}}, 'Two Shared vs Eight Shared': {'Accuracy': {'t_stat': 0.8416747880211861, 'p_value': 0.41043910256374927}, 'Sensitivity': {'t_stat': 0.4209524682778426, 'p_value': 0.6785131369279642}, 'Specificity': {'t_stat': 0.7697903536834481, 'p_value': 0.4508895495122547}, 'AUC': {'t_stat': 0.6448052562301251, 'p_value': 0.5267630147427016}}, 'Two Shared vs Nine Shared': {'Accuracy': {'t_stat': 1.173578797639295, 'p_value': 0.25506590752990427}, 'Sensitivity': {'t_stat': -0.8907997345354408, 'p_value': 0.38417833419999325}, 'Specificity': {'t_stat': 1.262602611734783, 'p_value': 0.22200917357720934}, 'AUC': {'t_stat': -0.8411916200702959, 'p_value': 0.4107029997223317}}, 'Two Shared vs Ten Shared': {'Accuracy': {'t_stat': 0.6433998439922596, 'p_value': 0.5276547246009475}, 'Sensitivity': {'t_stat': -0.8333700206745546, 'p_value': 0.4149901457713687}, 'Specificity': {'t_stat': 0.7169457660684835, 'p_value': 0.48212882661346046}, 'AUC': {'t_stat': -0.9825103649405406, 'p_value': 0.3381949827754037}}, 'Two Shared vs Eleven Shared': {'Accuracy': {'t_stat': 1.5779115808485384, 'p_value': 0.13109032877829413}, 'Sensitivity': {'t_stat': -0.9354616068563475, 'p_value': 0.36128877000495463}, 'Specificity': {'t_stat': 1.521520737826826, 'p_value': 0.1445981507498501}, 'AUC': {'t_stat': 0.05228363102578306, 'p_value': 0.9588484873981651}}, 'Two Shared vs Twelve Shared': {'Accuracy': {'t_stat': 1.7576231169263101, 'p_value': 0.0949125822768463}, 'Sensitivity': {'t_stat': -0.7336314755174946, 'p_value': 0.47212964788931533}, 'Specificity': {'t_stat': 1.679699909056856, 'p_value': 0.10938465426598426}, 'AUC': {'t_stat': -0.5838918649073288, 'p_value': 0.566161272512663}}, 'Two Shared vs Thirteen Shared': {'Accuracy': {'t_stat': 2.7109892454037556, 'p_value': 0.01385667556128961}, 'Sensitivity': {'t_stat': -1.5364874411349116, 'p_value': 0.140905072448318}, 'Specificity': {'t_stat': 2.563843819864395, 'p_value': 0.018992560213194544}, 'AUC': {'t_stat': -1.3991300821544117, 'p_value': 0.17788755868262926}}, 'Three Shared vs Four Shared': {'Accuracy': {'t_stat': -0.8987735678526529, 'p_value': 0.3800226900207291}, 'Sensitivity': {'t_stat': 0.6006239318977916, 'p_value': 0.5551881970307809}, 'Specificity': {'t_stat': -0.8302793720848707, 'p_value': 0.416692032069908}, 'AUC': {'t_stat': -0.1414753423985119, 'p_value': 0.8889837227126125}}, 'Three Shared vs Five Shared': {'Accuracy': {'t_stat': -0.27277535699020444, 'p_value': 0.7879685288002423}, 'Sensitivity': {'t_stat': -0.0391755246870059, 'p_value': 0.9691591603294889}, 'Specificity': {'t_stat': -0.24840866245972884, 'p_value': 0.8064833707530337}, 'AUC': {'t_stat': -0.3386479306283525, 'p_value': 0.7385887344230965}}, 'Three Shared vs Six Shared': {'Accuracy': {'t_stat': -0.4890639624632025, 'p_value': 0.6303942781674954}, 'Sensitivity': {'t_stat': -0.4556708138377561, 'p_value': 0.6537915269665808}, 'Specificity': {'t_stat': -0.33995203157177206, 'p_value': 0.7376220066939974}, 'AUC': {'t_stat': -1.3691117474629686, 'p_value': 0.18693287683414647}}, 'Three Shared vs Seven Shared': {'Accuracy': {'t_stat': 0.38731859344433195, 'p_value': 0.702824822755482}, 'Sensitivity': {'t_stat': -0.286133904887432, 'p_value': 0.7778720386589529}, 'Specificity': {'t_stat': 0.32703217693930564, 'p_value': 0.747219012035691}, 'AUC': {'t_stat': 0.7945924552185272, 'p_value': 0.43666398588313116}}, 'Three Shared vs Eight Shared': {'Accuracy': {'t_stat': 0.30466138961990286, 'p_value': 0.7639360087957018}, 'Sensitivity': {'t_stat': 0.5942033313886275, 'p_value': 0.55938560074087}, 'Specificity': {'t_stat': 0.3149052495274007, 'p_value': 0.7562657520603416}, 'AUC': {'t_stat': 0.9175275419357987, 'p_value': 0.3703670153040327}}, 'Three Shared vs Nine Shared': {'Accuracy': {'t_stat': 0.5372387703546458, 'p_value': 0.5973389528812572}, 'Sensitivity': {'t_stat': -0.4379053817232805, 'p_value': 0.6663926497683003}, 'Specificity': {'t_stat': 0.6588461063109793, 'p_value': 0.5179001711715662}, 'AUC': {'t_stat': -0.3406365592064618, 'p_value': 0.7371147468898578}}, 'Three Shared vs Ten Shared': {'Accuracy': {'t_stat': 0.06349535290747255, 'p_value': 0.9500353145780638}, 'Sensitivity': {'t_stat': -0.30566857711941064, 'p_value': 0.7631807352049246}, 'Specificity': {'t_stat': 0.17184814277746657, 'p_value': 0.8653740603855191}, 'AUC': {'t_stat': -0.4736426353083479, 'p_value': 0.641151640040503}}, 'Three Shared vs Eleven Shared': {'Accuracy': {'t_stat': 1.0875073951285315, 'p_value': 0.2904164202090858}, 'Sensitivity': {'t_stat': -0.6876046515094294, 'p_value': 0.5000103516990629}, 'Specificity': {'t_stat': 1.1105338057075174, 'p_value': 0.28062618245738463}, 'AUC': {'t_stat': 0.4235589195722771, 'p_value': 0.6766436916296527}}, 'Three Shared vs Twelve Shared': {'Accuracy': {'t_stat': 1.0208698356858996, 'p_value': 0.3201396646527318}, 'Sensitivity': {'t_stat': -0.40019578995213734, 'p_value': 0.6934761201666082}, 'Specificity': {'t_stat': 1.0434091730242039, 'p_value': 0.3098536338327563}, 'AUC': {'t_stat': -0.011319425425891472, 'p_value': 0.9910866099795208}}, 'Three Shared vs Thirteen Shared': {'Accuracy': {'t_stat': 1.2881415258017577, 'p_value': 0.2131640447670299}, 'Sensitivity': {'t_stat': -1.1019517458480428, 'p_value': 0.2842463980885195}, 'Specificity': {'t_stat': 1.279877628560731, 'p_value': 0.21599561311618443}, 'AUC': {'t_stat': -0.7381667401822118, 'p_value': 0.4694332917039715}}, 'Four Shared vs Five Shared': {'Accuracy': {'t_stat': 0.5480954423486517, 'p_value': 0.5900085633269663}, 'Sensitivity': {'t_stat': -0.8474611619559236, 'p_value': 0.4072871589037593}, 'Specificity': {'t_stat': 0.5670293063423083, 'p_value': 0.5773326428259987}, 'AUC': {'t_stat': -0.23989830782368698, 'p_value': 0.8129782393382639}}, 'Four Shared vs Six Shared': {'Accuracy': {'t_stat': 0.5643876487723044, 'p_value': 0.5790928494596319}, 'Sensitivity': {'t_stat': -1.5981925905207193, 'p_value': 0.12649774812757697}, 'Specificity': {'t_stat': 0.7336869446018881, 'p_value': 0.47209661417743787}, 'AUC': {'t_stat': -2.0281012412548596, 'p_value': 0.05680600952178865}}, 'Four Shared vs Seven Shared': {'Accuracy': {'t_stat': 1.3268984949242664, 'p_value': 0.20026918506706037}, 'Sensitivity': {'t_stat': -0.9185304321209918, 'p_value': 0.36985534158096856}, 'Specificity': {'t_stat': 1.2280072540544122, 'p_value': 0.23444034374217648}, 'AUC': {'t_stat': 1.1510280266165456, 'p_value': 0.26400067288508877}}, 'Four Shared vs Eight Shared': {'Accuracy': {'t_stat': 1.0583913087759527, 'p_value': 0.3031481583157348}, 'Sensitivity': {'t_stat': 0.18660836572184591, 'p_value': 0.8539457790495265}, 'Specificity': {'t_stat': 1.0511164757439273, 'p_value': 0.3063909997872576}, 'AUC': {'t_stat': 1.1975883049779479, 'p_value': 0.2458049189777921}}, 'Four Shared vs Nine Shared': {'Accuracy': {'t_stat': 1.5585659072310185, 'p_value': 0.13560044279380143}, 'Sensitivity': {'t_stat': -1.0494162931318038, 'p_value': 0.3071524443759409}, 'Specificity': {'t_stat': 1.734127984967304, 'p_value': 0.09909139243107824}, 'AUC': {'t_stat': -0.18546136866814336, 'p_value': 0.854832704224905}}, 'Four Shared vs Ten Shared': {'Accuracy': {'t_stat': 1.0510417460165644, 'p_value': 0.30642443985819495}, 'Sensitivity': {'t_stat': -0.8399385545734331, 'p_value': 0.4113879075712583}, 'Specificity': {'t_stat': 1.1677647302204717, 'p_value': 0.25734747675291586}, 'AUC': {'t_stat': -0.4138769259222252, 'p_value': 0.6835987441355189}}, 'Four Shared vs Eleven Shared': {'Accuracy': {'t_stat': 1.9619196982596903, 'p_value': 0.06458963851213574}, 'Sensitivity': {'t_stat': -1.0946105894981453, 'p_value': 0.28737016036918595}, 'Specificity': {'t_stat': 1.868937897456629, 'p_value': 0.07712732059210933}, 'AUC': {'t_stat': 0.648867197815669, 'p_value': 0.5241904635251073}}, 'Four Shared vs Twelve Shared': {'Accuracy': {'t_stat': 3.117346897559942, 'p_value': 0.0056714213637037}, 'Sensitivity': {'t_stat': -1.158527023357274, 'p_value': 0.26100396694190187}, 'Specificity': {'t_stat': 3.067585566754358, 'p_value': 0.006336334579916459}, 'AUC': {'t_stat': 0.19397298920490927, 'p_value': 0.8482558236128998}}, 'Four Shared vs Thirteen Shared': {'Accuracy': {'t_stat': 2.6899930529894225, 'p_value': 0.014498759483650868}, 'Sensitivity': {'t_stat': -1.8375013424504503, 'p_value': 0.08182721348523311}, 'Specificity': {'t_stat': 2.6438623878562564, 'p_value': 0.016010287271431826}, 'AUC': {'t_stat': -0.6022471840296306, 'p_value': 0.5541296507792514}}, 'Five Shared vs Six Shared': {'Accuracy': {'t_stat': -0.07690810047833747, 'p_value': 0.9395007571839686}, 'Sensitivity': {'t_stat': -0.4524172934996551, 'p_value': 0.6560914492013947}, 'Specificity': {'t_stat': 0.01813393829781748, 'p_value': 0.985721079705305}, 'AUC': {'t_stat': -0.9944785302651181, 'p_value': 0.3324872580952807}}, 'Five Shared vs Seven Shared': {'Accuracy': {'t_stat': 0.943429886120748, 'p_value': 0.3573039732897231}, 'Sensitivity': {'t_stat': -0.28727414424532094, 'p_value': 0.7770120830100351}, 'Specificity': {'t_stat': 0.8296040789838233, 'p_value': 0.41706447815663195}, 'AUC': {'t_stat': 1.0232845011487006, 'p_value': 0.3190262977648018}}, 'Five Shared vs Eight Shared': {'Accuracy': {'t_stat': 0.7088678687154822, 'p_value': 0.48701402354767254}, 'Sensitivity': {'t_stat': 0.8224729845966483, 'p_value': 0.42101044145274413}, 'Specificity': {'t_stat': 0.6801861475383588, 'p_value': 0.504591040816977}, 'AUC': {'t_stat': 1.3807966197411097, 'p_value': 0.18336916587225438}}, 'Five Shared vs Nine Shared': {'Accuracy': {'t_stat': 1.1382218476016075, 'p_value': 0.269177340850326}, 'Sensitivity': {'t_stat': -0.3762340648509558, 'p_value': 0.7109112193757778}, 'Specificity': {'t_stat': 1.2633968132850082, 'p_value': 0.22172989244888525}, 'AUC': {'t_stat': 0.05535077608236823, 'p_value': 0.9564369141649515}}, 'Five Shared vs Ten Shared': {'Accuracy': {'t_stat': 0.35697620861344487, 'p_value': 0.725043686265189}, 'Sensitivity': {'t_stat': -0.2499256351692364, 'p_value': 0.8053271568809055}, 'Specificity': {'t_stat': 0.4367128791299265, 'p_value': 0.66724220850089}, 'AUC': {'t_stat': -0.14281992271055263, 'p_value': 0.8879361145772915}}, 'Five Shared vs Eleven Shared': {'Accuracy': {'t_stat': 1.3443522881262189, 'p_value': 0.19466658784614996}, 'Sensitivity': {'t_stat': -0.48553322148393174, 'p_value': 0.6328498503628387}, 'Specificity': {'t_stat': 1.2980744540778795, 'p_value': 0.2097989985481741}, 'AUC': {'t_stat': 0.7843142227727977, 'p_value': 0.44252504026487094}}, 'Five Shared vs Twelve Shared': {'Accuracy': {'t_stat': 1.8115032037579875, 'p_value': 0.08590172951729556}, 'Sensitivity': {'t_stat': -0.5254450400504321, 'p_value': 0.60535240990641}, 'Specificity': {'t_stat': 1.7615339576893223, 'p_value': 0.09423200817477954}, 'AUC': {'t_stat': 0.5757057555146033, 'p_value': 0.571570525111773}}, 'Five Shared vs Thirteen Shared': {'Accuracy': {'t_stat': 1.7107376698891703, 'p_value': 0.10340812509126715}, 'Sensitivity': {'t_stat': -1.0314084187531005, 'p_value': 0.31530059769170127}, 'Specificity': {'t_stat': 1.635682864920593, 'p_value': 0.11836434010803808}, 'AUC': {'t_stat': -0.36612254683467604, 'p_value': 0.7183186052104362}}, 'Six Shared vs Seven Shared': {'Accuracy': {'t_stat': 0.9055057841614472, 'p_value': 0.37653745348044154}, 'Sensitivity': {'t_stat': 0.12392111864060971, 'p_value': 0.9026793233825583}, 'Specificity': {'t_stat': 0.7419261684076475, 'p_value': 0.46720518345695994}, 'AUC': {'t_stat': 2.4269572551398566, 'p_value': 0.025340818776803962}}, 'Six Shared vs Eight Shared': {'Accuracy': {'t_stat': 0.8035945646581869, 'p_value': 0.43157051440934324}, 'Sensitivity': {'t_stat': 1.2098509013579128, 'p_value': 0.24117428956009573}, 'Specificity': {'t_stat': 0.702048819472548, 'p_value': 0.49116031916553105}, 'AUC': {'t_stat': 2.9632953172075496, 'p_value': 0.007984126286076539}}, 'Six Shared vs Nine Shared': {'Accuracy': {'t_stat': 1.1366491221912856, 'p_value': 0.2698182435957309}, 'Sensitivity': {'t_stat': 0.020798050316632163, 'p_value': 0.9836236180775886}, 'Specificity': {'t_stat': 1.1941754173173198, 'p_value': 0.2471056106947937}, 'AUC': {'t_stat': 1.2350002521521675, 'p_value': 0.23188544307315834}}, 'Six Shared vs Ten Shared': {'Accuracy': {'t_stat': 0.6470365103601272, 'p_value': 0.525349031818594}, 'Sensitivity': {'t_stat': 0.05015620005888865, 'p_value': 0.9605214416203324}, 'Specificity': {'t_stat': 0.633921042440739, 'p_value': 0.5336905163134109}, 'AUC': {'t_stat': 1.0881416905934642, 'p_value': 0.2901434465375374}}, 'Six Shared vs Eleven Shared': {'Accuracy': {'t_stat': 1.3131643723516384, 'p_value': 0.2047665754244283}, 'Sensitivity': {'t_stat': -0.23868042877402265, 'p_value': 0.8139088413302294}, 'Specificity': {'t_stat': 1.2339818900179744, 'p_value': 0.23225616922379405}, 'AUC': {'t_stat': 1.8774017885810566, 'p_value': 0.0759032105923964}}, 'Six Shared vs Twelve Shared': {'Accuracy': {'t_stat': 1.8507639401756761, 'p_value': 0.07981460464928512}, 'Sensitivity': {'t_stat': -0.02240312700036433, 'p_value': 0.9823599954972808}, 'Specificity': {'t_stat': 1.7358191088949915, 'p_value': 0.09878539828469105}, 'AUC': {'t_stat': 1.6098993793886414, 'p_value': 0.12390889312044756}}, 'Six Shared vs Thirteen Shared': {'Accuracy': {'t_stat': 2.2958965098977564, 'p_value': 0.033230765436331654}, 'Sensitivity': {'t_stat': -0.7344561338123692, 'p_value': 0.4716386779097872}, 'Specificity': {'t_stat': 2.1305773849053895, 'p_value': 0.0464086558744906}, 'AUC': {'t_stat': 1.070971598960115, 'p_value': 0.29759867186651906}}, 'Seven Shared vs Eight Shared': {'Accuracy': {'t_stat': -0.09242857873390138, 'p_value': 0.9273251521734847}, 'Sensitivity': {'t_stat': 1.0560738055326007, 'p_value': 0.3041785269130248}, 'Specificity': {'t_stat': -0.015475669983349595, 'p_value': 0.9878140468957188}, 'AUC': {'t_stat': 0.011283942571768546, 'p_value': 0.9911145494158577}}, 'Seven Shared vs Nine Shared': {'Accuracy': {'t_stat': 0.17654335510555103, 'p_value': 0.861735306291202}, 'Sensitivity': {'t_stat': -0.09009834484920111, 'p_value': 0.9291520922534863}, 'Specificity': {'t_stat': 0.3743792757538206, 'p_value': 0.7122677994203077}, 'AUC': {'t_stat': -1.0379878738297112, 'p_value': 0.3123059154374253}}, 'Seven Shared vs Ten Shared': {'Accuracy': {'t_stat': -0.34640350958318156, 'p_value': 0.7328461609364889}, 'Sensitivity': {'t_stat': -0.0665928324089634, 'p_value': 0.9476016001750633}, 'Specificity': {'t_stat': -0.19380912077832713, 'p_value': 0.8483823377432601}, 'AUC': {'t_stat': -1.4561496698150773, 'p_value': 0.1616778578771751}}, 'Seven Shared vs Eleven Shared': {'Accuracy': {'t_stat': 0.5818573465167622, 'p_value': 0.5675031687330536}, 'Sensitivity': {'t_stat': -0.3334059338692494, 'p_value': 0.7424791098704857}, 'Specificity': {'t_stat': 0.6472892623333921, 'p_value': 0.525188991083737}, 'AUC': {'t_stat': -0.35529941042393115, 'p_value': 0.7262791048546962}}, 'Seven Shared vs Twelve Shared': {'Accuracy': {'t_stat': 0.6210564458077907, 'p_value': 0.5419422005084348}, 'Sensitivity': {'t_stat': -0.13092812854748073, 'p_value': 0.897208530258764}, 'Specificity': {'t_stat': 0.7020204781900878, 'p_value': 0.4911775946326542}, 'AUC': {'t_stat': -0.7854466469634033, 'p_value': 0.4418769124731754}}, 'Seven Shared vs Thirteen Shared': {'Accuracy': {'t_stat': 0.8148702503509756, 'p_value': 0.4252433702188365}, 'Sensitivity': {'t_stat': -0.7882647707827408, 'p_value': 0.4402665477784913}, 'Specificity': {'t_stat': 0.8631267076435807, 'p_value': 0.39883238732690485}, 'AUC': {'t_stat': -1.7299894629314947, 'p_value': 0.0998436696549414}}, 'Eight Shared vs Nine Shared': {'Accuracy': {'t_stat': 0.3983693330429937, 'p_value': 0.6947990859509191}, 'Sensitivity': {'t_stat': -1.4171016446341822, 'p_value': 0.17264282130624092}, 'Specificity': {'t_stat': 0.5813636036285029, 'p_value': 0.5678290720549928}, 'AUC': {'t_stat': -1.8327470784464384, 'p_value': 0.0825594288901468}}, 'Eight Shared vs Ten Shared': {'Accuracy': {'t_stat': -0.32727619399159186, 'p_value': 0.7470373548206956}, 'Sensitivity': {'t_stat': -1.1847501480188554, 'p_value': 0.2507247306579074}, 'Specificity': {'t_stat': -0.22876521655685417, 'p_value': 0.8214956685344059}, 'AUC': {'t_stat': -1.5273327851210095, 'p_value': 0.14315459831837848}}, 'Eight Shared vs Eleven Shared': {'Accuracy': {'t_stat': 0.6773161930137697, 'p_value': 0.5063695411896835}, 'Sensitivity': {'t_stat': -1.2025487175510314, 'p_value': 0.24392370374383465}, 'Specificity': {'t_stat': 0.6673023522920448, 'p_value': 0.5126028911732519}, 'AUC': {'t_stat': -0.566699793392104, 'p_value': 0.5775520573573213}}, 'Eight Shared vs Twelve Shared': {'Accuracy': {'t_stat': 0.7665070243088667, 'p_value': 0.45279379399501696}, 'Sensitivity': {'t_stat': -1.1331089728989852, 'p_value': 0.2712650293026251}, 'Specificity': {'t_stat': 0.748586684304683, 'p_value': 0.46327327645506167}, 'AUC': {'t_stat': -1.1685924419018185, 'p_value': 0.2570217332515976}}, 'Eight Shared vs Thirteen Shared': {'Accuracy': {'t_stat': 1.4328984480210016, 'p_value': 0.16813655848487008}, 'Sensitivity': {'t_stat': -1.808928402727695, 'p_value': 0.08631474308225905}, 'Specificity': {'t_stat': 1.3294173972595273, 'p_value': 0.19945285689557093}, 'AUC': {'t_stat': -2.873057934035553, 'p_value': 0.009737838452833417}}, 'Nine Shared vs Ten Shared': {'Accuracy': {'t_stat': -0.7005969141892578, 'p_value': 0.4920457836022212}, 'Sensitivity': {'t_stat': 0.04073764643284039, 'p_value': 0.9679300858281878}, 'Specificity': {'t_stat': -0.7522340248890796, 'p_value': 0.46112860735843253}, 'AUC': {'t_stat': -0.1894773761428158, 'p_value': 0.8517281683893994}}, 'Nine Shared vs Eleven Shared': {'Accuracy': {'t_stat': 0.4965399876187976, 'p_value': 0.6252093887939423}, 'Sensitivity': {'t_stat': -0.28226354861564573, 'p_value': 0.7807932048596934}, 'Specificity': {'t_stat': 0.36662362141541943, 'p_value': 0.7179508516041848}, 'AUC': {'t_stat': 1.1513734137472191, 'p_value': 0.2638620902892303}}, 'Nine Shared vs Twelve Shared': {'Accuracy': {'t_stat': 0.6645272842385948, 'p_value': 0.514337918242397}, 'Sensitivity': {'t_stat': -0.03871278462627523, 'p_value': 0.9695232586953388}, 'Specificity': {'t_stat': 0.4770914875861552, 'p_value': 0.638738651523372}, 'AUC': {'t_stat': 0.5069748606351293, 'p_value': 0.6180058565466424}}, 'Nine Shared vs Thirteen Shared': {'Accuracy': {'t_stat': 0.9877531448372593, 'p_value': 0.33568633360785505}, 'Sensitivity': {'t_stat': -0.8401507860684646, 'p_value': 0.411271853344082}, 'Specificity': {'t_stat': 0.774390571321095, 'p_value': 0.44822979943461005}, 'AUC': {'t_stat': -0.6184701656689315, 'p_value': 0.5436093782715943}}, 'Ten Shared vs Eleven Shared': {'Accuracy': {'t_stat': 0.9446153754061517, 'p_value': 0.3567136951014298}, 'Sensitivity': {'t_stat': -0.25916535087968984, 'p_value': 0.7982948085542795}, 'Specificity': {'t_stat': 0.8636022251416227, 'p_value': 0.39857754483886376}, 'AUC': {'t_stat': 0.867320981394477, 'p_value': 0.396588220290753}}, 'Ten Shared vs Twelve Shared': {'Accuracy': {'t_stat': 1.157417955681093, 'p_value': 0.2614455583844805}, 'Sensitivity': {'t_stat': -0.06066781896167551, 'p_value': 0.9522573710650831}, 'Specificity': {'t_stat': 1.0349113097472398, 'p_value': 0.31370370509599577}, 'AUC': {'t_stat': 0.6085828692318628, 'p_value': 0.5500082968104365}}, 'Ten Shared vs Thirteen Shared': {'Accuracy': {'t_stat': 1.7812394164412018, 'p_value': 0.09086675624099338}, 'Sensitivity': {'t_stat': -0.7153988358714184, 'p_value': 0.48306211571392854}, 'Specificity': {'t_stat': 1.6294737586282728, 'p_value': 0.11968000421796085}, 'AUC': {'t_stat': -0.24338104269484234, 'p_value': 0.8103186017548354}}, 'Eleven Shared vs Twelve Shared': {'Accuracy': {'t_stat': -0.00956626922954777, 'p_value': 0.9924670702606976}, 'Sensitivity': {'t_stat': 0.20958665419433442, 'p_value': 0.8362212088536284}, 'Specificity': {'t_stat': -0.00916677885239752, 'p_value': 0.9927816382715577}, 'AUC': {'t_stat': -0.5168782070717511, 'p_value': 0.6112057504602245}}, 'Eleven Shared vs Thirteen Shared': {'Accuracy': {'t_stat': 0.25905380915477155, 'p_value': 0.7983795989395632}, 'Sensitivity': {'t_stat': -0.44677915359678166, 'p_value': 0.6600854090522752}, 'Specificity': {'t_stat': 0.22954778215447874, 'p_value': 0.820896205452216}, 'AUC': {'t_stat': -1.3504217123075888, 'p_value': 0.1927476806279782}}, 'Twelve Shared vs Thirteen Shared': {'Accuracy': {'t_stat': 0.3705574400643015, 'p_value': 0.7150661641268483}, 'Sensitivity': {'t_stat': -0.7482590056778492, 'p_value': 0.4634662481206536}, 'Specificity': {'t_stat': 0.3215994262790802, 'p_value': 0.7512673063233936}, 'AUC': {'t_stat': -0.9986129613906836, 'p_value': 0.3305312170492858}}}\n"
     ]
    }
   ],
   "source": [
    "print(t_test_result)"
   ]
  },
  {
   "cell_type": "code",
   "execution_count": 39,
   "metadata": {},
   "outputs": [
    {
     "name": "stdout",
     "output_type": "stream",
     "text": [
      "Two Shared vs Three Shared\n",
      "{'t_stat': 0.3446121141452313, 'p_value': 0.7341711693930921}\n",
      "Two Shared vs Four Shared\n",
      "{'t_stat': -0.5440167245245956, 'p_value': 0.5927572475216676}\n",
      "Two Shared vs Five Shared\n",
      "{'t_stat': -2.10701221745768e-15, 'p_value': 0.9999999999999983}\n",
      "Two Shared vs Six Shared\n",
      "{'t_stat': -0.10968387964645958, 'p_value': 0.9138102921558492}\n",
      "Two Shared vs Seven Shared\n",
      "{'t_stat': 0.6761781234204857, 'p_value': 0.5070757840693352}\n",
      "Two Shared vs Eight Shared\n",
      "{'t_stat': 0.8416747880211861, 'p_value': 0.41043910256374927}\n",
      "Two Shared vs Nine Shared\n",
      "{'t_stat': 1.173578797639295, 'p_value': 0.25506590752990427}\n",
      "Two Shared vs Ten Shared\n",
      "{'t_stat': 0.6433998439922596, 'p_value': 0.5276547246009475}\n",
      "Two Shared vs Eleven Shared\n",
      "{'t_stat': 1.5779115808485384, 'p_value': 0.13109032877829413}\n",
      "Two Shared vs Twelve Shared\n",
      "{'t_stat': 1.7576231169263101, 'p_value': 0.0949125822768463}\n",
      "Two Shared vs Thirteen Shared\n",
      "{'t_stat': 2.7109892454037556, 'p_value': 0.01385667556128961}\n",
      "Three Shared vs Four Shared\n",
      "{'t_stat': -0.8987735678526529, 'p_value': 0.3800226900207291}\n",
      "Three Shared vs Five Shared\n",
      "{'t_stat': -0.27277535699020444, 'p_value': 0.7879685288002423}\n",
      "Three Shared vs Six Shared\n",
      "{'t_stat': -0.4890639624632025, 'p_value': 0.6303942781674954}\n",
      "Three Shared vs Seven Shared\n",
      "{'t_stat': 0.38731859344433195, 'p_value': 0.702824822755482}\n",
      "Three Shared vs Eight Shared\n",
      "{'t_stat': 0.30466138961990286, 'p_value': 0.7639360087957018}\n",
      "Three Shared vs Nine Shared\n",
      "{'t_stat': 0.5372387703546458, 'p_value': 0.5973389528812572}\n",
      "Three Shared vs Ten Shared\n",
      "{'t_stat': 0.06349535290747255, 'p_value': 0.9500353145780638}\n",
      "Three Shared vs Eleven Shared\n",
      "{'t_stat': 1.0875073951285315, 'p_value': 0.2904164202090858}\n",
      "Three Shared vs Twelve Shared\n",
      "{'t_stat': 1.0208698356858996, 'p_value': 0.3201396646527318}\n",
      "Three Shared vs Thirteen Shared\n",
      "{'t_stat': 1.2881415258017577, 'p_value': 0.2131640447670299}\n",
      "Four Shared vs Five Shared\n",
      "{'t_stat': 0.5480954423486517, 'p_value': 0.5900085633269663}\n",
      "Four Shared vs Six Shared\n",
      "{'t_stat': 0.5643876487723044, 'p_value': 0.5790928494596319}\n",
      "Four Shared vs Seven Shared\n",
      "{'t_stat': 1.3268984949242664, 'p_value': 0.20026918506706037}\n",
      "Four Shared vs Eight Shared\n",
      "{'t_stat': 1.0583913087759527, 'p_value': 0.3031481583157348}\n",
      "Four Shared vs Nine Shared\n",
      "{'t_stat': 1.5585659072310185, 'p_value': 0.13560044279380143}\n",
      "Four Shared vs Ten Shared\n",
      "{'t_stat': 1.0510417460165644, 'p_value': 0.30642443985819495}\n",
      "Four Shared vs Eleven Shared\n",
      "{'t_stat': 1.9619196982596903, 'p_value': 0.06458963851213574}\n",
      "Four Shared vs Twelve Shared\n",
      "{'t_stat': 3.117346897559942, 'p_value': 0.0056714213637037}\n",
      "Four Shared vs Thirteen Shared\n",
      "{'t_stat': 2.6899930529894225, 'p_value': 0.014498759483650868}\n",
      "Five Shared vs Six Shared\n",
      "{'t_stat': -0.07690810047833747, 'p_value': 0.9395007571839686}\n",
      "Five Shared vs Seven Shared\n",
      "{'t_stat': 0.943429886120748, 'p_value': 0.3573039732897231}\n",
      "Five Shared vs Eight Shared\n",
      "{'t_stat': 0.7088678687154822, 'p_value': 0.48701402354767254}\n",
      "Five Shared vs Nine Shared\n",
      "{'t_stat': 1.1382218476016075, 'p_value': 0.269177340850326}\n",
      "Five Shared vs Ten Shared\n",
      "{'t_stat': 0.35697620861344487, 'p_value': 0.725043686265189}\n",
      "Five Shared vs Eleven Shared\n",
      "{'t_stat': 1.3443522881262189, 'p_value': 0.19466658784614996}\n",
      "Five Shared vs Twelve Shared\n",
      "{'t_stat': 1.8115032037579875, 'p_value': 0.08590172951729556}\n",
      "Five Shared vs Thirteen Shared\n",
      "{'t_stat': 1.7107376698891703, 'p_value': 0.10340812509126715}\n",
      "Six Shared vs Seven Shared\n",
      "{'t_stat': 0.9055057841614472, 'p_value': 0.37653745348044154}\n",
      "Six Shared vs Eight Shared\n",
      "{'t_stat': 0.8035945646581869, 'p_value': 0.43157051440934324}\n",
      "Six Shared vs Nine Shared\n",
      "{'t_stat': 1.1366491221912856, 'p_value': 0.2698182435957309}\n",
      "Six Shared vs Ten Shared\n",
      "{'t_stat': 0.6470365103601272, 'p_value': 0.525349031818594}\n",
      "Six Shared vs Eleven Shared\n",
      "{'t_stat': 1.3131643723516384, 'p_value': 0.2047665754244283}\n",
      "Six Shared vs Twelve Shared\n",
      "{'t_stat': 1.8507639401756761, 'p_value': 0.07981460464928512}\n",
      "Six Shared vs Thirteen Shared\n",
      "{'t_stat': 2.2958965098977564, 'p_value': 0.033230765436331654}\n",
      "Seven Shared vs Eight Shared\n",
      "{'t_stat': -0.09242857873390138, 'p_value': 0.9273251521734847}\n",
      "Seven Shared vs Nine Shared\n",
      "{'t_stat': 0.17654335510555103, 'p_value': 0.861735306291202}\n",
      "Seven Shared vs Ten Shared\n",
      "{'t_stat': -0.34640350958318156, 'p_value': 0.7328461609364889}\n",
      "Seven Shared vs Eleven Shared\n",
      "{'t_stat': 0.5818573465167622, 'p_value': 0.5675031687330536}\n",
      "Seven Shared vs Twelve Shared\n",
      "{'t_stat': 0.6210564458077907, 'p_value': 0.5419422005084348}\n",
      "Seven Shared vs Thirteen Shared\n",
      "{'t_stat': 0.8148702503509756, 'p_value': 0.4252433702188365}\n",
      "Eight Shared vs Nine Shared\n",
      "{'t_stat': 0.3983693330429937, 'p_value': 0.6947990859509191}\n",
      "Eight Shared vs Ten Shared\n",
      "{'t_stat': -0.32727619399159186, 'p_value': 0.7470373548206956}\n",
      "Eight Shared vs Eleven Shared\n",
      "{'t_stat': 0.6773161930137697, 'p_value': 0.5063695411896835}\n",
      "Eight Shared vs Twelve Shared\n",
      "{'t_stat': 0.7665070243088667, 'p_value': 0.45279379399501696}\n",
      "Eight Shared vs Thirteen Shared\n",
      "{'t_stat': 1.4328984480210016, 'p_value': 0.16813655848487008}\n",
      "Nine Shared vs Ten Shared\n",
      "{'t_stat': -0.7005969141892578, 'p_value': 0.4920457836022212}\n",
      "Nine Shared vs Eleven Shared\n",
      "{'t_stat': 0.4965399876187976, 'p_value': 0.6252093887939423}\n",
      "Nine Shared vs Twelve Shared\n",
      "{'t_stat': 0.6645272842385948, 'p_value': 0.514337918242397}\n",
      "Nine Shared vs Thirteen Shared\n",
      "{'t_stat': 0.9877531448372593, 'p_value': 0.33568633360785505}\n",
      "Ten Shared vs Eleven Shared\n",
      "{'t_stat': 0.9446153754061517, 'p_value': 0.3567136951014298}\n",
      "Ten Shared vs Twelve Shared\n",
      "{'t_stat': 1.157417955681093, 'p_value': 0.2614455583844805}\n",
      "Ten Shared vs Thirteen Shared\n",
      "{'t_stat': 1.7812394164412018, 'p_value': 0.09086675624099338}\n",
      "Eleven Shared vs Twelve Shared\n",
      "{'t_stat': -0.00956626922954777, 'p_value': 0.9924670702606976}\n",
      "Eleven Shared vs Thirteen Shared\n",
      "{'t_stat': 0.25905380915477155, 'p_value': 0.7983795989395632}\n",
      "Twelve Shared vs Thirteen Shared\n",
      "{'t_stat': 0.3705574400643015, 'p_value': 0.7150661641268483}\n",
      "Data successfully exported\n"
     ]
    }
   ],
   "source": [
    "import pandas as pd\n",
    "import openpyxl\n",
    "\n",
    "# Create a list of rows, where each row is a dict that will become one row in the final DataFrame\n",
    "rows = []\n",
    "\n",
    "for shared_label, metrics_dict in t_test_result.items():\n",
    "    print(shared_label)\n",
    "    print(metrics_dict['Accuracy'])\n",
    "    # Each \"metrics_dict\" has keys like 'Accuracy', 'Sensitivity', 'Specificity', 'AUC'.\n",
    "    # Each of these keys corresponds to a list of 20 floats (in your example).\n",
    "    for metric_name, metric_values in metrics_dict.items():\n",
    "        # metric_values should be {\"t_stat\": X, \"p_value\": Y}\n",
    "        row = {\n",
    "            \"Shared Label\": shared_label,\n",
    "            \"Metric\": metric_name,\n",
    "            \"t_stat\": metric_values[\"t_stat\"],\n",
    "            \"p_value\": metric_values[\"p_value\"]\n",
    "        }\n",
    "        rows.append(row)\n",
    "# Convert the list of dicts into a pandas DataFrame\n",
    "df = pd.DataFrame(rows)\n",
    "\n",
    "# Now export this DataFrame to Excel\n",
    "df.to_excel(r\"data\\t-tests\\Experiment 3 Result.xlsx\", index=False)\n",
    "\n",
    "print(\"Data successfully exported\")\n"
   ]
  }
 ],
 "metadata": {
  "accelerator": "GPU",
  "colab": {
   "gpuType": "T4",
   "provenance": []
  },
  "kernelspec": {
   "display_name": ".venv",
   "language": "python",
   "name": "python3"
  },
  "language_info": {
   "codemirror_mode": {
    "name": "ipython",
    "version": 3
   },
   "file_extension": ".py",
   "mimetype": "text/x-python",
   "name": "python",
   "nbconvert_exporter": "python",
   "pygments_lexer": "ipython3",
   "version": "3.11.8"
  },
  "widgets": {
   "application/vnd.jupyter.widget-state+json": {
    "04ff5f37db7c42f2980f807bc3032586": {
     "model_module": "@jupyter-widgets/controls",
     "model_module_version": "1.5.0",
     "model_name": "HTMLModel",
     "state": {
      "_dom_classes": [],
      "_model_module": "@jupyter-widgets/controls",
      "_model_module_version": "1.5.0",
      "_model_name": "HTMLModel",
      "_view_count": null,
      "_view_module": "@jupyter-widgets/controls",
      "_view_module_version": "1.5.0",
      "_view_name": "HTMLView",
      "description": "",
      "description_tooltip": null,
      "layout": "IPY_MODEL_74a45523ed954b0abd9e7a05045d2daf",
      "placeholder": "​",
      "style": "IPY_MODEL_c2058ed868ff4815a9ef7ea89e85f022",
      "value": " 10.7k/10.7k [00:00&lt;00:00, 236kB/s]"
     }
    },
    "0a66bb0689824b83a0230934c12374e3": {
     "model_module": "@jupyter-widgets/controls",
     "model_module_version": "1.5.0",
     "model_name": "DescriptionStyleModel",
     "state": {
      "_model_module": "@jupyter-widgets/controls",
      "_model_module_version": "1.5.0",
      "_model_name": "DescriptionStyleModel",
      "_view_count": null,
      "_view_module": "@jupyter-widgets/base",
      "_view_module_version": "1.2.0",
      "_view_name": "StyleView",
      "description_width": ""
     }
    },
    "0cdbc7260ad346048a87a3f8ba22486e": {
     "model_module": "@jupyter-widgets/controls",
     "model_module_version": "1.5.0",
     "model_name": "HTMLModel",
     "state": {
      "_dom_classes": [],
      "_model_module": "@jupyter-widgets/controls",
      "_model_module_version": "1.5.0",
      "_model_name": "HTMLModel",
      "_view_count": null,
      "_view_module": "@jupyter-widgets/controls",
      "_view_module_version": "1.5.0",
      "_view_name": "HTMLView",
      "description": "",
      "description_tooltip": null,
      "layout": "IPY_MODEL_bf354c1bbf524f97a07cd2a6c854e22c",
      "placeholder": "​",
      "style": "IPY_MODEL_199a73af56a5402e9ad15644a7c72755",
      "value": " 349/349 [00:00&lt;00:00, 8.26kB/s]"
     }
    },
    "0ea78511c0d54dd1acbd29baaf0cbf58": {
     "model_module": "@jupyter-widgets/controls",
     "model_module_version": "1.5.0",
     "model_name": "HBoxModel",
     "state": {
      "_dom_classes": [],
      "_model_module": "@jupyter-widgets/controls",
      "_model_module_version": "1.5.0",
      "_model_name": "HBoxModel",
      "_view_count": null,
      "_view_module": "@jupyter-widgets/controls",
      "_view_module_version": "1.5.0",
      "_view_name": "HBoxView",
      "box_style": "",
      "children": [
       "IPY_MODEL_abdbb22939fd41db9b0a3ee58c7ed13b",
       "IPY_MODEL_c92270c929c24bcb847c6739686a799b",
       "IPY_MODEL_7b87dd0653c14863a8a2af560d5e7c42"
      ],
      "layout": "IPY_MODEL_fec6c46a94314fff8f5fa6db76c722a2"
     }
    },
    "10c6a410b1ca4210812a84b8d1bd9984": {
     "model_module": "@jupyter-widgets/base",
     "model_module_version": "1.2.0",
     "model_name": "LayoutModel",
     "state": {
      "_model_module": "@jupyter-widgets/base",
      "_model_module_version": "1.2.0",
      "_model_name": "LayoutModel",
      "_view_count": null,
      "_view_module": "@jupyter-widgets/base",
      "_view_module_version": "1.2.0",
      "_view_name": "LayoutView",
      "align_content": null,
      "align_items": null,
      "align_self": null,
      "border": null,
      "bottom": null,
      "display": null,
      "flex": null,
      "flex_flow": null,
      "grid_area": null,
      "grid_auto_columns": null,
      "grid_auto_flow": null,
      "grid_auto_rows": null,
      "grid_column": null,
      "grid_gap": null,
      "grid_row": null,
      "grid_template_areas": null,
      "grid_template_columns": null,
      "grid_template_rows": null,
      "height": null,
      "justify_content": null,
      "justify_items": null,
      "left": null,
      "margin": null,
      "max_height": null,
      "max_width": null,
      "min_height": null,
      "min_width": null,
      "object_fit": null,
      "object_position": null,
      "order": null,
      "overflow": null,
      "overflow_x": null,
      "overflow_y": null,
      "padding": null,
      "right": null,
      "top": null,
      "visibility": null,
      "width": null
     }
    },
    "12e62aa39c8a475ebd65aaf5e5e84338": {
     "model_module": "@jupyter-widgets/controls",
     "model_module_version": "1.5.0",
     "model_name": "HTMLModel",
     "state": {
      "_dom_classes": [],
      "_model_module": "@jupyter-widgets/controls",
      "_model_module_version": "1.5.0",
      "_model_name": "HTMLModel",
      "_view_count": null,
      "_view_module": "@jupyter-widgets/controls",
      "_view_module_version": "1.5.0",
      "_view_name": "HTMLView",
      "description": "",
      "description_tooltip": null,
      "layout": "IPY_MODEL_89c8e756392047b48e155bc153b4f6dd",
      "placeholder": "​",
      "style": "IPY_MODEL_9ce5c894beb448b1b5935907c38d9138",
      "value": "tokenizer_config.json: 100%"
     }
    },
    "14261702d08a4d019e8ce8ee1f08d4ce": {
     "model_module": "@jupyter-widgets/controls",
     "model_module_version": "1.5.0",
     "model_name": "HBoxModel",
     "state": {
      "_dom_classes": [],
      "_model_module": "@jupyter-widgets/controls",
      "_model_module_version": "1.5.0",
      "_model_name": "HBoxModel",
      "_view_count": null,
      "_view_module": "@jupyter-widgets/controls",
      "_view_module_version": "1.5.0",
      "_view_name": "HBoxView",
      "box_style": "",
      "children": [
       "IPY_MODEL_12e62aa39c8a475ebd65aaf5e5e84338",
       "IPY_MODEL_22223361bfd3496ca312f53e3653cfed",
       "IPY_MODEL_224ab887d94a455cb3664d0c7d7ddde2"
      ],
      "layout": "IPY_MODEL_81ae5aa2028c46248b01d916cce292fa"
     }
    },
    "14822fe23d064263bafda0ecaa573e15": {
     "model_module": "@jupyter-widgets/base",
     "model_module_version": "1.2.0",
     "model_name": "LayoutModel",
     "state": {
      "_model_module": "@jupyter-widgets/base",
      "_model_module_version": "1.2.0",
      "_model_name": "LayoutModel",
      "_view_count": null,
      "_view_module": "@jupyter-widgets/base",
      "_view_module_version": "1.2.0",
      "_view_name": "LayoutView",
      "align_content": null,
      "align_items": null,
      "align_self": null,
      "border": null,
      "bottom": null,
      "display": null,
      "flex": null,
      "flex_flow": null,
      "grid_area": null,
      "grid_auto_columns": null,
      "grid_auto_flow": null,
      "grid_auto_rows": null,
      "grid_column": null,
      "grid_gap": null,
      "grid_row": null,
      "grid_template_areas": null,
      "grid_template_columns": null,
      "grid_template_rows": null,
      "height": null,
      "justify_content": null,
      "justify_items": null,
      "left": null,
      "margin": null,
      "max_height": null,
      "max_width": null,
      "min_height": null,
      "min_width": null,
      "object_fit": null,
      "object_position": null,
      "order": null,
      "overflow": null,
      "overflow_x": null,
      "overflow_y": null,
      "padding": null,
      "right": null,
      "top": null,
      "visibility": null,
      "width": null
     }
    },
    "14cb9e333a89414b9167d21d26760cff": {
     "model_module": "@jupyter-widgets/controls",
     "model_module_version": "1.5.0",
     "model_name": "DescriptionStyleModel",
     "state": {
      "_model_module": "@jupyter-widgets/controls",
      "_model_module_version": "1.5.0",
      "_model_name": "DescriptionStyleModel",
      "_view_count": null,
      "_view_module": "@jupyter-widgets/base",
      "_view_module_version": "1.2.0",
      "_view_name": "StyleView",
      "description_width": ""
     }
    },
    "16d38234182b49dda5d3115621aecb39": {
     "model_module": "@jupyter-widgets/controls",
     "model_module_version": "1.5.0",
     "model_name": "DescriptionStyleModel",
     "state": {
      "_model_module": "@jupyter-widgets/controls",
      "_model_module_version": "1.5.0",
      "_model_name": "DescriptionStyleModel",
      "_view_count": null,
      "_view_module": "@jupyter-widgets/base",
      "_view_module_version": "1.2.0",
      "_view_name": "StyleView",
      "description_width": ""
     }
    },
    "199a73af56a5402e9ad15644a7c72755": {
     "model_module": "@jupyter-widgets/controls",
     "model_module_version": "1.5.0",
     "model_name": "DescriptionStyleModel",
     "state": {
      "_model_module": "@jupyter-widgets/controls",
      "_model_module_version": "1.5.0",
      "_model_name": "DescriptionStyleModel",
      "_view_count": null,
      "_view_module": "@jupyter-widgets/base",
      "_view_module_version": "1.2.0",
      "_view_name": "StyleView",
      "description_width": ""
     }
    },
    "1bc226c51f954bbf98c13d2310940135": {
     "model_module": "@jupyter-widgets/base",
     "model_module_version": "1.2.0",
     "model_name": "LayoutModel",
     "state": {
      "_model_module": "@jupyter-widgets/base",
      "_model_module_version": "1.2.0",
      "_model_name": "LayoutModel",
      "_view_count": null,
      "_view_module": "@jupyter-widgets/base",
      "_view_module_version": "1.2.0",
      "_view_name": "LayoutView",
      "align_content": null,
      "align_items": null,
      "align_self": null,
      "border": null,
      "bottom": null,
      "display": null,
      "flex": null,
      "flex_flow": null,
      "grid_area": null,
      "grid_auto_columns": null,
      "grid_auto_flow": null,
      "grid_auto_rows": null,
      "grid_column": null,
      "grid_gap": null,
      "grid_row": null,
      "grid_template_areas": null,
      "grid_template_columns": null,
      "grid_template_rows": null,
      "height": null,
      "justify_content": null,
      "justify_items": null,
      "left": null,
      "margin": null,
      "max_height": null,
      "max_width": null,
      "min_height": null,
      "min_width": null,
      "object_fit": null,
      "object_position": null,
      "order": null,
      "overflow": null,
      "overflow_x": null,
      "overflow_y": null,
      "padding": null,
      "right": null,
      "top": null,
      "visibility": null,
      "width": null
     }
    },
    "1cc1e2d9840149c497d7d90b5dbb2d55": {
     "model_module": "@jupyter-widgets/controls",
     "model_module_version": "1.5.0",
     "model_name": "ProgressStyleModel",
     "state": {
      "_model_module": "@jupyter-widgets/controls",
      "_model_module_version": "1.5.0",
      "_model_name": "ProgressStyleModel",
      "_view_count": null,
      "_view_module": "@jupyter-widgets/base",
      "_view_module_version": "1.2.0",
      "_view_name": "StyleView",
      "bar_color": null,
      "description_width": ""
     }
    },
    "1e89725dd21a4a28a127279a274819d8": {
     "model_module": "@jupyter-widgets/base",
     "model_module_version": "1.2.0",
     "model_name": "LayoutModel",
     "state": {
      "_model_module": "@jupyter-widgets/base",
      "_model_module_version": "1.2.0",
      "_model_name": "LayoutModel",
      "_view_count": null,
      "_view_module": "@jupyter-widgets/base",
      "_view_module_version": "1.2.0",
      "_view_name": "LayoutView",
      "align_content": null,
      "align_items": null,
      "align_self": null,
      "border": null,
      "bottom": null,
      "display": null,
      "flex": null,
      "flex_flow": null,
      "grid_area": null,
      "grid_auto_columns": null,
      "grid_auto_flow": null,
      "grid_auto_rows": null,
      "grid_column": null,
      "grid_gap": null,
      "grid_row": null,
      "grid_template_areas": null,
      "grid_template_columns": null,
      "grid_template_rows": null,
      "height": null,
      "justify_content": null,
      "justify_items": null,
      "left": null,
      "margin": null,
      "max_height": null,
      "max_width": null,
      "min_height": null,
      "min_width": null,
      "object_fit": null,
      "object_position": null,
      "order": null,
      "overflow": null,
      "overflow_x": null,
      "overflow_y": null,
      "padding": null,
      "right": null,
      "top": null,
      "visibility": null,
      "width": null
     }
    },
    "2153807b370049bd95c515e53f487f72": {
     "model_module": "@jupyter-widgets/base",
     "model_module_version": "1.2.0",
     "model_name": "LayoutModel",
     "state": {
      "_model_module": "@jupyter-widgets/base",
      "_model_module_version": "1.2.0",
      "_model_name": "LayoutModel",
      "_view_count": null,
      "_view_module": "@jupyter-widgets/base",
      "_view_module_version": "1.2.0",
      "_view_name": "LayoutView",
      "align_content": null,
      "align_items": null,
      "align_self": null,
      "border": null,
      "bottom": null,
      "display": null,
      "flex": null,
      "flex_flow": null,
      "grid_area": null,
      "grid_auto_columns": null,
      "grid_auto_flow": null,
      "grid_auto_rows": null,
      "grid_column": null,
      "grid_gap": null,
      "grid_row": null,
      "grid_template_areas": null,
      "grid_template_columns": null,
      "grid_template_rows": null,
      "height": null,
      "justify_content": null,
      "justify_items": null,
      "left": null,
      "margin": null,
      "max_height": null,
      "max_width": null,
      "min_height": null,
      "min_width": null,
      "object_fit": null,
      "object_position": null,
      "order": null,
      "overflow": null,
      "overflow_x": null,
      "overflow_y": null,
      "padding": null,
      "right": null,
      "top": null,
      "visibility": null,
      "width": null
     }
    },
    "22223361bfd3496ca312f53e3653cfed": {
     "model_module": "@jupyter-widgets/controls",
     "model_module_version": "1.5.0",
     "model_name": "FloatProgressModel",
     "state": {
      "_dom_classes": [],
      "_model_module": "@jupyter-widgets/controls",
      "_model_module_version": "1.5.0",
      "_model_name": "FloatProgressModel",
      "_view_count": null,
      "_view_module": "@jupyter-widgets/controls",
      "_view_module_version": "1.5.0",
      "_view_name": "ProgressView",
      "bar_style": "success",
      "description": "",
      "description_tooltip": null,
      "layout": "IPY_MODEL_fbb3251aed0743e1be86088735d2ba33",
      "max": 350,
      "min": 0,
      "orientation": "horizontal",
      "style": "IPY_MODEL_22617e8f1b384d17b2481d77edb94658",
      "value": 350
     }
    },
    "224ab887d94a455cb3664d0c7d7ddde2": {
     "model_module": "@jupyter-widgets/controls",
     "model_module_version": "1.5.0",
     "model_name": "HTMLModel",
     "state": {
      "_dom_classes": [],
      "_model_module": "@jupyter-widgets/controls",
      "_model_module_version": "1.5.0",
      "_model_name": "HTMLModel",
      "_view_count": null,
      "_view_module": "@jupyter-widgets/controls",
      "_view_module_version": "1.5.0",
      "_view_name": "HTMLView",
      "description": "",
      "description_tooltip": null,
      "layout": "IPY_MODEL_a02025fa486a4cab95eb79496bc3e7ea",
      "placeholder": "​",
      "style": "IPY_MODEL_89e43961094244889ca5e14889d9f815",
      "value": " 350/350 [00:00&lt;00:00, 11.5kB/s]"
     }
    },
    "22617e8f1b384d17b2481d77edb94658": {
     "model_module": "@jupyter-widgets/controls",
     "model_module_version": "1.5.0",
     "model_name": "ProgressStyleModel",
     "state": {
      "_model_module": "@jupyter-widgets/controls",
      "_model_module_version": "1.5.0",
      "_model_name": "ProgressStyleModel",
      "_view_count": null,
      "_view_module": "@jupyter-widgets/base",
      "_view_module_version": "1.2.0",
      "_view_name": "StyleView",
      "bar_color": null,
      "description_width": ""
     }
    },
    "2319ac540cdb44eba7715740e1f391b3": {
     "model_module": "@jupyter-widgets/controls",
     "model_module_version": "1.5.0",
     "model_name": "DescriptionStyleModel",
     "state": {
      "_model_module": "@jupyter-widgets/controls",
      "_model_module_version": "1.5.0",
      "_model_name": "DescriptionStyleModel",
      "_view_count": null,
      "_view_module": "@jupyter-widgets/base",
      "_view_module_version": "1.2.0",
      "_view_name": "StyleView",
      "description_width": ""
     }
    },
    "2377c5a7810c4e86849f2f1889cb0a5e": {
     "model_module": "@jupyter-widgets/base",
     "model_module_version": "1.2.0",
     "model_name": "LayoutModel",
     "state": {
      "_model_module": "@jupyter-widgets/base",
      "_model_module_version": "1.2.0",
      "_model_name": "LayoutModel",
      "_view_count": null,
      "_view_module": "@jupyter-widgets/base",
      "_view_module_version": "1.2.0",
      "_view_name": "LayoutView",
      "align_content": null,
      "align_items": null,
      "align_self": null,
      "border": null,
      "bottom": null,
      "display": null,
      "flex": null,
      "flex_flow": null,
      "grid_area": null,
      "grid_auto_columns": null,
      "grid_auto_flow": null,
      "grid_auto_rows": null,
      "grid_column": null,
      "grid_gap": null,
      "grid_row": null,
      "grid_template_areas": null,
      "grid_template_columns": null,
      "grid_template_rows": null,
      "height": null,
      "justify_content": null,
      "justify_items": null,
      "left": null,
      "margin": null,
      "max_height": null,
      "max_width": null,
      "min_height": null,
      "min_width": null,
      "object_fit": null,
      "object_position": null,
      "order": null,
      "overflow": null,
      "overflow_x": null,
      "overflow_y": null,
      "padding": null,
      "right": null,
      "top": null,
      "visibility": null,
      "width": null
     }
    },
    "25d29337a9544ee98ba83c7e9d75f853": {
     "model_module": "@jupyter-widgets/controls",
     "model_module_version": "1.5.0",
     "model_name": "ProgressStyleModel",
     "state": {
      "_model_module": "@jupyter-widgets/controls",
      "_model_module_version": "1.5.0",
      "_model_name": "ProgressStyleModel",
      "_view_count": null,
      "_view_module": "@jupyter-widgets/base",
      "_view_module_version": "1.2.0",
      "_view_name": "StyleView",
      "bar_color": null,
      "description_width": ""
     }
    },
    "267f0cdfde1f42cfb5a09d0da0c453ea": {
     "model_module": "@jupyter-widgets/controls",
     "model_module_version": "1.5.0",
     "model_name": "DescriptionStyleModel",
     "state": {
      "_model_module": "@jupyter-widgets/controls",
      "_model_module_version": "1.5.0",
      "_model_name": "DescriptionStyleModel",
      "_view_count": null,
      "_view_module": "@jupyter-widgets/base",
      "_view_module_version": "1.2.0",
      "_view_name": "StyleView",
      "description_width": ""
     }
    },
    "280332c72db54753a188f6abf68eaaa9": {
     "model_module": "@jupyter-widgets/base",
     "model_module_version": "1.2.0",
     "model_name": "LayoutModel",
     "state": {
      "_model_module": "@jupyter-widgets/base",
      "_model_module_version": "1.2.0",
      "_model_name": "LayoutModel",
      "_view_count": null,
      "_view_module": "@jupyter-widgets/base",
      "_view_module_version": "1.2.0",
      "_view_name": "LayoutView",
      "align_content": null,
      "align_items": null,
      "align_self": null,
      "border": null,
      "bottom": null,
      "display": null,
      "flex": null,
      "flex_flow": null,
      "grid_area": null,
      "grid_auto_columns": null,
      "grid_auto_flow": null,
      "grid_auto_rows": null,
      "grid_column": null,
      "grid_gap": null,
      "grid_row": null,
      "grid_template_areas": null,
      "grid_template_columns": null,
      "grid_template_rows": null,
      "height": null,
      "justify_content": null,
      "justify_items": null,
      "left": null,
      "margin": null,
      "max_height": null,
      "max_width": null,
      "min_height": null,
      "min_width": null,
      "object_fit": null,
      "object_position": null,
      "order": null,
      "overflow": null,
      "overflow_x": null,
      "overflow_y": null,
      "padding": null,
      "right": null,
      "top": null,
      "visibility": null,
      "width": null
     }
    },
    "2803d2f51c944e789952f5e4368c6c06": {
     "model_module": "@jupyter-widgets/base",
     "model_module_version": "1.2.0",
     "model_name": "LayoutModel",
     "state": {
      "_model_module": "@jupyter-widgets/base",
      "_model_module_version": "1.2.0",
      "_model_name": "LayoutModel",
      "_view_count": null,
      "_view_module": "@jupyter-widgets/base",
      "_view_module_version": "1.2.0",
      "_view_name": "LayoutView",
      "align_content": null,
      "align_items": null,
      "align_self": null,
      "border": null,
      "bottom": null,
      "display": null,
      "flex": null,
      "flex_flow": null,
      "grid_area": null,
      "grid_auto_columns": null,
      "grid_auto_flow": null,
      "grid_auto_rows": null,
      "grid_column": null,
      "grid_gap": null,
      "grid_row": null,
      "grid_template_areas": null,
      "grid_template_columns": null,
      "grid_template_rows": null,
      "height": null,
      "justify_content": null,
      "justify_items": null,
      "left": null,
      "margin": null,
      "max_height": null,
      "max_width": null,
      "min_height": null,
      "min_width": null,
      "object_fit": null,
      "object_position": null,
      "order": null,
      "overflow": null,
      "overflow_x": null,
      "overflow_y": null,
      "padding": null,
      "right": null,
      "top": null,
      "visibility": null,
      "width": null
     }
    },
    "291e805751f84bb3a29d25c8b7cb3204": {
     "model_module": "@jupyter-widgets/controls",
     "model_module_version": "1.5.0",
     "model_name": "ProgressStyleModel",
     "state": {
      "_model_module": "@jupyter-widgets/controls",
      "_model_module_version": "1.5.0",
      "_model_name": "ProgressStyleModel",
      "_view_count": null,
      "_view_module": "@jupyter-widgets/base",
      "_view_module_version": "1.2.0",
      "_view_name": "StyleView",
      "bar_color": null,
      "description_width": ""
     }
    },
    "2c7d422cafe04b1cb2112f28fd631194": {
     "model_module": "@jupyter-widgets/controls",
     "model_module_version": "1.5.0",
     "model_name": "HTMLModel",
     "state": {
      "_dom_classes": [],
      "_model_module": "@jupyter-widgets/controls",
      "_model_module_version": "1.5.0",
      "_model_name": "HTMLModel",
      "_view_count": null,
      "_view_module": "@jupyter-widgets/controls",
      "_view_module_version": "1.5.0",
      "_view_name": "HTMLView",
      "description": "",
      "description_tooltip": null,
      "layout": "IPY_MODEL_6b07c11c0b634256be6c9dc37369fbb5",
      "placeholder": "​",
      "style": "IPY_MODEL_bf34bae971834a2ca8ab1ac10e833986",
      "value": "1_Pooling/config.json: 100%"
     }
    },
    "2d273cb8c27347b68a191ee17dc89311": {
     "model_module": "@jupyter-widgets/controls",
     "model_module_version": "1.5.0",
     "model_name": "DescriptionStyleModel",
     "state": {
      "_model_module": "@jupyter-widgets/controls",
      "_model_module_version": "1.5.0",
      "_model_name": "DescriptionStyleModel",
      "_view_count": null,
      "_view_module": "@jupyter-widgets/base",
      "_view_module_version": "1.2.0",
      "_view_name": "StyleView",
      "description_width": ""
     }
    },
    "2d46775c61384019ad3479eab413e7a9": {
     "model_module": "@jupyter-widgets/base",
     "model_module_version": "1.2.0",
     "model_name": "LayoutModel",
     "state": {
      "_model_module": "@jupyter-widgets/base",
      "_model_module_version": "1.2.0",
      "_model_name": "LayoutModel",
      "_view_count": null,
      "_view_module": "@jupyter-widgets/base",
      "_view_module_version": "1.2.0",
      "_view_name": "LayoutView",
      "align_content": null,
      "align_items": null,
      "align_self": null,
      "border": null,
      "bottom": null,
      "display": null,
      "flex": null,
      "flex_flow": null,
      "grid_area": null,
      "grid_auto_columns": null,
      "grid_auto_flow": null,
      "grid_auto_rows": null,
      "grid_column": null,
      "grid_gap": null,
      "grid_row": null,
      "grid_template_areas": null,
      "grid_template_columns": null,
      "grid_template_rows": null,
      "height": null,
      "justify_content": null,
      "justify_items": null,
      "left": null,
      "margin": null,
      "max_height": null,
      "max_width": null,
      "min_height": null,
      "min_width": null,
      "object_fit": null,
      "object_position": null,
      "order": null,
      "overflow": null,
      "overflow_x": null,
      "overflow_y": null,
      "padding": null,
      "right": null,
      "top": null,
      "visibility": null,
      "width": null
     }
    },
    "2d94a369fc234cbc8452df68917e75b6": {
     "model_module": "@jupyter-widgets/controls",
     "model_module_version": "1.5.0",
     "model_name": "FloatProgressModel",
     "state": {
      "_dom_classes": [],
      "_model_module": "@jupyter-widgets/controls",
      "_model_module_version": "1.5.0",
      "_model_name": "FloatProgressModel",
      "_view_count": null,
      "_view_module": "@jupyter-widgets/controls",
      "_view_module_version": "1.5.0",
      "_view_name": "ProgressView",
      "bar_style": "success",
      "description": "",
      "description_tooltip": null,
      "layout": "IPY_MODEL_5e91ad19f8ad463f9cb5a0f9d1e8c294",
      "max": 10659,
      "min": 0,
      "orientation": "horizontal",
      "style": "IPY_MODEL_1cc1e2d9840149c497d7d90b5dbb2d55",
      "value": 10659
     }
    },
    "2fbd5496ad3944fd92a3c28f8d3e31a1": {
     "model_module": "@jupyter-widgets/controls",
     "model_module_version": "1.5.0",
     "model_name": "HTMLModel",
     "state": {
      "_dom_classes": [],
      "_model_module": "@jupyter-widgets/controls",
      "_model_module_version": "1.5.0",
      "_model_name": "HTMLModel",
      "_view_count": null,
      "_view_module": "@jupyter-widgets/controls",
      "_view_module_version": "1.5.0",
      "_view_name": "HTMLView",
      "description": "",
      "description_tooltip": null,
      "layout": "IPY_MODEL_76496dac60c44c839bb441f2f4ff6f9f",
      "placeholder": "​",
      "style": "IPY_MODEL_57453cbecc0b4d7ea786935449271c90",
      "value": "config_sentence_transformers.json: 100%"
     }
    },
    "30a058a01b434739adf517283900f1c8": {
     "model_module": "@jupyter-widgets/base",
     "model_module_version": "1.2.0",
     "model_name": "LayoutModel",
     "state": {
      "_model_module": "@jupyter-widgets/base",
      "_model_module_version": "1.2.0",
      "_model_name": "LayoutModel",
      "_view_count": null,
      "_view_module": "@jupyter-widgets/base",
      "_view_module_version": "1.2.0",
      "_view_name": "LayoutView",
      "align_content": null,
      "align_items": null,
      "align_self": null,
      "border": null,
      "bottom": null,
      "display": null,
      "flex": null,
      "flex_flow": null,
      "grid_area": null,
      "grid_auto_columns": null,
      "grid_auto_flow": null,
      "grid_auto_rows": null,
      "grid_column": null,
      "grid_gap": null,
      "grid_row": null,
      "grid_template_areas": null,
      "grid_template_columns": null,
      "grid_template_rows": null,
      "height": null,
      "justify_content": null,
      "justify_items": null,
      "left": null,
      "margin": null,
      "max_height": null,
      "max_width": null,
      "min_height": null,
      "min_width": null,
      "object_fit": null,
      "object_position": null,
      "order": null,
      "overflow": null,
      "overflow_x": null,
      "overflow_y": null,
      "padding": null,
      "right": null,
      "top": null,
      "visibility": null,
      "width": null
     }
    },
    "332a06b57849496c9a9b73b0cf2b4737": {
     "model_module": "@jupyter-widgets/controls",
     "model_module_version": "1.5.0",
     "model_name": "HBoxModel",
     "state": {
      "_dom_classes": [],
      "_model_module": "@jupyter-widgets/controls",
      "_model_module_version": "1.5.0",
      "_model_name": "HBoxModel",
      "_view_count": null,
      "_view_module": "@jupyter-widgets/controls",
      "_view_module_version": "1.5.0",
      "_view_name": "HBoxView",
      "box_style": "",
      "children": [
       "IPY_MODEL_2c7d422cafe04b1cb2112f28fd631194",
       "IPY_MODEL_56762b63b5c74f56bdeb19012c7e509b",
       "IPY_MODEL_fe74971a69824ace86c03a408afe7100"
      ],
      "layout": "IPY_MODEL_af86bd6b8bef45c99bc6d61af2c4f71f"
     }
    },
    "33c5f2daa3a146e4ad66a753a4969e71": {
     "model_module": "@jupyter-widgets/controls",
     "model_module_version": "1.5.0",
     "model_name": "ProgressStyleModel",
     "state": {
      "_model_module": "@jupyter-widgets/controls",
      "_model_module_version": "1.5.0",
      "_model_name": "ProgressStyleModel",
      "_view_count": null,
      "_view_module": "@jupyter-widgets/base",
      "_view_module_version": "1.2.0",
      "_view_name": "StyleView",
      "bar_color": null,
      "description_width": ""
     }
    },
    "35750f3fe46e40b99058d14ca7ed800b": {
     "model_module": "@jupyter-widgets/controls",
     "model_module_version": "1.5.0",
     "model_name": "HTMLModel",
     "state": {
      "_dom_classes": [],
      "_model_module": "@jupyter-widgets/controls",
      "_model_module_version": "1.5.0",
      "_model_name": "HTMLModel",
      "_view_count": null,
      "_view_module": "@jupyter-widgets/controls",
      "_view_module_version": "1.5.0",
      "_view_name": "HTMLView",
      "description": "",
      "description_tooltip": null,
      "layout": "IPY_MODEL_fffef1e3409c4e929c21060b07853091",
      "placeholder": "​",
      "style": "IPY_MODEL_692fbf8b0b7542a39c3978569db3a9f8",
      "value": "model.safetensors: 100%"
     }
    },
    "3960d078abed4760b043dd20fddcf949": {
     "model_module": "@jupyter-widgets/controls",
     "model_module_version": "1.5.0",
     "model_name": "HTMLModel",
     "state": {
      "_dom_classes": [],
      "_model_module": "@jupyter-widgets/controls",
      "_model_module_version": "1.5.0",
      "_model_name": "HTMLModel",
      "_view_count": null,
      "_view_module": "@jupyter-widgets/controls",
      "_view_module_version": "1.5.0",
      "_view_name": "HTMLView",
      "description": "",
      "description_tooltip": null,
      "layout": "IPY_MODEL_2803d2f51c944e789952f5e4368c6c06",
      "placeholder": "​",
      "style": "IPY_MODEL_267f0cdfde1f42cfb5a09d0da0c453ea",
      "value": " 612/612 [00:00&lt;00:00, 13.8kB/s]"
     }
    },
    "3987a825b2584353a2be546f63911a0c": {
     "model_module": "@jupyter-widgets/controls",
     "model_module_version": "1.5.0",
     "model_name": "HTMLModel",
     "state": {
      "_dom_classes": [],
      "_model_module": "@jupyter-widgets/controls",
      "_model_module_version": "1.5.0",
      "_model_name": "HTMLModel",
      "_view_count": null,
      "_view_module": "@jupyter-widgets/controls",
      "_view_module_version": "1.5.0",
      "_view_name": "HTMLView",
      "description": "",
      "description_tooltip": null,
      "layout": "IPY_MODEL_4f3486a446af44019511654af1f51312",
      "placeholder": "​",
      "style": "IPY_MODEL_14cb9e333a89414b9167d21d26760cff",
      "value": " 90.9M/90.9M [00:00&lt;00:00, 122MB/s]"
     }
    },
    "3f2a6b57c81c4dc99404363b0b0e5632": {
     "model_module": "@jupyter-widgets/controls",
     "model_module_version": "1.5.0",
     "model_name": "HTMLModel",
     "state": {
      "_dom_classes": [],
      "_model_module": "@jupyter-widgets/controls",
      "_model_module_version": "1.5.0",
      "_model_name": "HTMLModel",
      "_view_count": null,
      "_view_module": "@jupyter-widgets/controls",
      "_view_module_version": "1.5.0",
      "_view_name": "HTMLView",
      "description": "",
      "description_tooltip": null,
      "layout": "IPY_MODEL_1e89725dd21a4a28a127279a274819d8",
      "placeholder": "​",
      "style": "IPY_MODEL_0a66bb0689824b83a0230934c12374e3",
      "value": " 232k/232k [00:00&lt;00:00, 1.83MB/s]"
     }
    },
    "412ec4ec63d448939556ff9f40e5805b": {
     "model_module": "@jupyter-widgets/controls",
     "model_module_version": "1.5.0",
     "model_name": "HTMLModel",
     "state": {
      "_dom_classes": [],
      "_model_module": "@jupyter-widgets/controls",
      "_model_module_version": "1.5.0",
      "_model_name": "HTMLModel",
      "_view_count": null,
      "_view_module": "@jupyter-widgets/controls",
      "_view_module_version": "1.5.0",
      "_view_name": "HTMLView",
      "description": "",
      "description_tooltip": null,
      "layout": "IPY_MODEL_a53e2fc70d75494da4d6106f6608875b",
      "placeholder": "​",
      "style": "IPY_MODEL_77d4965ca1c1401381aca48ec309280e",
      "value": "README.md: 100%"
     }
    },
    "41be3437b15c4e57a75534d238a829a5": {
     "model_module": "@jupyter-widgets/base",
     "model_module_version": "1.2.0",
     "model_name": "LayoutModel",
     "state": {
      "_model_module": "@jupyter-widgets/base",
      "_model_module_version": "1.2.0",
      "_model_name": "LayoutModel",
      "_view_count": null,
      "_view_module": "@jupyter-widgets/base",
      "_view_module_version": "1.2.0",
      "_view_name": "LayoutView",
      "align_content": null,
      "align_items": null,
      "align_self": null,
      "border": null,
      "bottom": null,
      "display": null,
      "flex": null,
      "flex_flow": null,
      "grid_area": null,
      "grid_auto_columns": null,
      "grid_auto_flow": null,
      "grid_auto_rows": null,
      "grid_column": null,
      "grid_gap": null,
      "grid_row": null,
      "grid_template_areas": null,
      "grid_template_columns": null,
      "grid_template_rows": null,
      "height": null,
      "justify_content": null,
      "justify_items": null,
      "left": null,
      "margin": null,
      "max_height": null,
      "max_width": null,
      "min_height": null,
      "min_width": null,
      "object_fit": null,
      "object_position": null,
      "order": null,
      "overflow": null,
      "overflow_x": null,
      "overflow_y": null,
      "padding": null,
      "right": null,
      "top": null,
      "visibility": null,
      "width": null
     }
    },
    "4a8445cda576479ab8663568b2e58fe0": {
     "model_module": "@jupyter-widgets/controls",
     "model_module_version": "1.5.0",
     "model_name": "DescriptionStyleModel",
     "state": {
      "_model_module": "@jupyter-widgets/controls",
      "_model_module_version": "1.5.0",
      "_model_name": "DescriptionStyleModel",
      "_view_count": null,
      "_view_module": "@jupyter-widgets/base",
      "_view_module_version": "1.2.0",
      "_view_name": "StyleView",
      "description_width": ""
     }
    },
    "4b8aa7e353f045dd8297de8c688b9d40": {
     "model_module": "@jupyter-widgets/controls",
     "model_module_version": "1.5.0",
     "model_name": "FloatProgressModel",
     "state": {
      "_dom_classes": [],
      "_model_module": "@jupyter-widgets/controls",
      "_model_module_version": "1.5.0",
      "_model_name": "FloatProgressModel",
      "_view_count": null,
      "_view_module": "@jupyter-widgets/controls",
      "_view_module_version": "1.5.0",
      "_view_name": "ProgressView",
      "bar_style": "success",
      "description": "",
      "description_tooltip": null,
      "layout": "IPY_MODEL_2d46775c61384019ad3479eab413e7a9",
      "max": 349,
      "min": 0,
      "orientation": "horizontal",
      "style": "IPY_MODEL_25d29337a9544ee98ba83c7e9d75f853",
      "value": 349
     }
    },
    "4f3486a446af44019511654af1f51312": {
     "model_module": "@jupyter-widgets/base",
     "model_module_version": "1.2.0",
     "model_name": "LayoutModel",
     "state": {
      "_model_module": "@jupyter-widgets/base",
      "_model_module_version": "1.2.0",
      "_model_name": "LayoutModel",
      "_view_count": null,
      "_view_module": "@jupyter-widgets/base",
      "_view_module_version": "1.2.0",
      "_view_name": "LayoutView",
      "align_content": null,
      "align_items": null,
      "align_self": null,
      "border": null,
      "bottom": null,
      "display": null,
      "flex": null,
      "flex_flow": null,
      "grid_area": null,
      "grid_auto_columns": null,
      "grid_auto_flow": null,
      "grid_auto_rows": null,
      "grid_column": null,
      "grid_gap": null,
      "grid_row": null,
      "grid_template_areas": null,
      "grid_template_columns": null,
      "grid_template_rows": null,
      "height": null,
      "justify_content": null,
      "justify_items": null,
      "left": null,
      "margin": null,
      "max_height": null,
      "max_width": null,
      "min_height": null,
      "min_width": null,
      "object_fit": null,
      "object_position": null,
      "order": null,
      "overflow": null,
      "overflow_x": null,
      "overflow_y": null,
      "padding": null,
      "right": null,
      "top": null,
      "visibility": null,
      "width": null
     }
    },
    "50b11ecfa6ee4d4d8d4fc97a31a4551b": {
     "model_module": "@jupyter-widgets/controls",
     "model_module_version": "1.5.0",
     "model_name": "DescriptionStyleModel",
     "state": {
      "_model_module": "@jupyter-widgets/controls",
      "_model_module_version": "1.5.0",
      "_model_name": "DescriptionStyleModel",
      "_view_count": null,
      "_view_module": "@jupyter-widgets/base",
      "_view_module_version": "1.2.0",
      "_view_name": "StyleView",
      "description_width": ""
     }
    },
    "52067038eb414f5f983281696bcf84b1": {
     "model_module": "@jupyter-widgets/controls",
     "model_module_version": "1.5.0",
     "model_name": "FloatProgressModel",
     "state": {
      "_dom_classes": [],
      "_model_module": "@jupyter-widgets/controls",
      "_model_module_version": "1.5.0",
      "_model_name": "FloatProgressModel",
      "_view_count": null,
      "_view_module": "@jupyter-widgets/controls",
      "_view_module_version": "1.5.0",
      "_view_name": "ProgressView",
      "bar_style": "success",
      "description": "",
      "description_tooltip": null,
      "layout": "IPY_MODEL_658c15a0430b4a788e9874b236cfb86d",
      "max": 612,
      "min": 0,
      "orientation": "horizontal",
      "style": "IPY_MODEL_701a5fc9c6ac4efebee807273eae66e1",
      "value": 612
     }
    },
    "56762b63b5c74f56bdeb19012c7e509b": {
     "model_module": "@jupyter-widgets/controls",
     "model_module_version": "1.5.0",
     "model_name": "FloatProgressModel",
     "state": {
      "_dom_classes": [],
      "_model_module": "@jupyter-widgets/controls",
      "_model_module_version": "1.5.0",
      "_model_name": "FloatProgressModel",
      "_view_count": null,
      "_view_module": "@jupyter-widgets/controls",
      "_view_module_version": "1.5.0",
      "_view_name": "ProgressView",
      "bar_style": "success",
      "description": "",
      "description_tooltip": null,
      "layout": "IPY_MODEL_b4717e6adc3e42648ffbf1e202a852ca",
      "max": 190,
      "min": 0,
      "orientation": "horizontal",
      "style": "IPY_MODEL_71cef30c369b4878823b8a4db5b44f5b",
      "value": 190
     }
    },
    "57453cbecc0b4d7ea786935449271c90": {
     "model_module": "@jupyter-widgets/controls",
     "model_module_version": "1.5.0",
     "model_name": "DescriptionStyleModel",
     "state": {
      "_model_module": "@jupyter-widgets/controls",
      "_model_module_version": "1.5.0",
      "_model_name": "DescriptionStyleModel",
      "_view_count": null,
      "_view_module": "@jupyter-widgets/base",
      "_view_module_version": "1.2.0",
      "_view_name": "StyleView",
      "description_width": ""
     }
    },
    "590a4e7454af492a8910e8fc1940b872": {
     "model_module": "@jupyter-widgets/controls",
     "model_module_version": "1.5.0",
     "model_name": "HBoxModel",
     "state": {
      "_dom_classes": [],
      "_model_module": "@jupyter-widgets/controls",
      "_model_module_version": "1.5.0",
      "_model_name": "HBoxModel",
      "_view_count": null,
      "_view_module": "@jupyter-widgets/controls",
      "_view_module_version": "1.5.0",
      "_view_name": "HBoxView",
      "box_style": "",
      "children": [
       "IPY_MODEL_b73272664dfb4605b1d3a85928865304",
       "IPY_MODEL_52067038eb414f5f983281696bcf84b1",
       "IPY_MODEL_3960d078abed4760b043dd20fddcf949"
      ],
      "layout": "IPY_MODEL_14822fe23d064263bafda0ecaa573e15"
     }
    },
    "59d57ba6032a46d79628065ec01cff0f": {
     "model_module": "@jupyter-widgets/controls",
     "model_module_version": "1.5.0",
     "model_name": "DescriptionStyleModel",
     "state": {
      "_model_module": "@jupyter-widgets/controls",
      "_model_module_version": "1.5.0",
      "_model_name": "DescriptionStyleModel",
      "_view_count": null,
      "_view_module": "@jupyter-widgets/base",
      "_view_module_version": "1.2.0",
      "_view_name": "StyleView",
      "description_width": ""
     }
    },
    "59f57f5ddfd24b53a4f1621f1a6389bb": {
     "model_module": "@jupyter-widgets/base",
     "model_module_version": "1.2.0",
     "model_name": "LayoutModel",
     "state": {
      "_model_module": "@jupyter-widgets/base",
      "_model_module_version": "1.2.0",
      "_model_name": "LayoutModel",
      "_view_count": null,
      "_view_module": "@jupyter-widgets/base",
      "_view_module_version": "1.2.0",
      "_view_name": "LayoutView",
      "align_content": null,
      "align_items": null,
      "align_self": null,
      "border": null,
      "bottom": null,
      "display": null,
      "flex": null,
      "flex_flow": null,
      "grid_area": null,
      "grid_auto_columns": null,
      "grid_auto_flow": null,
      "grid_auto_rows": null,
      "grid_column": null,
      "grid_gap": null,
      "grid_row": null,
      "grid_template_areas": null,
      "grid_template_columns": null,
      "grid_template_rows": null,
      "height": null,
      "justify_content": null,
      "justify_items": null,
      "left": null,
      "margin": null,
      "max_height": null,
      "max_width": null,
      "min_height": null,
      "min_width": null,
      "object_fit": null,
      "object_position": null,
      "order": null,
      "overflow": null,
      "overflow_x": null,
      "overflow_y": null,
      "padding": null,
      "right": null,
      "top": null,
      "visibility": null,
      "width": null
     }
    },
    "5e61f9e947714e64a29e116c44a124f0": {
     "model_module": "@jupyter-widgets/controls",
     "model_module_version": "1.5.0",
     "model_name": "HTMLModel",
     "state": {
      "_dom_classes": [],
      "_model_module": "@jupyter-widgets/controls",
      "_model_module_version": "1.5.0",
      "_model_name": "HTMLModel",
      "_view_count": null,
      "_view_module": "@jupyter-widgets/controls",
      "_view_module_version": "1.5.0",
      "_view_name": "HTMLView",
      "description": "",
      "description_tooltip": null,
      "layout": "IPY_MODEL_e48c72f5aa414987a2ce9409e9b5ad69",
      "placeholder": "​",
      "style": "IPY_MODEL_2d273cb8c27347b68a191ee17dc89311",
      "value": "sentence_bert_config.json: 100%"
     }
    },
    "5e91ad19f8ad463f9cb5a0f9d1e8c294": {
     "model_module": "@jupyter-widgets/base",
     "model_module_version": "1.2.0",
     "model_name": "LayoutModel",
     "state": {
      "_model_module": "@jupyter-widgets/base",
      "_model_module_version": "1.2.0",
      "_model_name": "LayoutModel",
      "_view_count": null,
      "_view_module": "@jupyter-widgets/base",
      "_view_module_version": "1.2.0",
      "_view_name": "LayoutView",
      "align_content": null,
      "align_items": null,
      "align_self": null,
      "border": null,
      "bottom": null,
      "display": null,
      "flex": null,
      "flex_flow": null,
      "grid_area": null,
      "grid_auto_columns": null,
      "grid_auto_flow": null,
      "grid_auto_rows": null,
      "grid_column": null,
      "grid_gap": null,
      "grid_row": null,
      "grid_template_areas": null,
      "grid_template_columns": null,
      "grid_template_rows": null,
      "height": null,
      "justify_content": null,
      "justify_items": null,
      "left": null,
      "margin": null,
      "max_height": null,
      "max_width": null,
      "min_height": null,
      "min_width": null,
      "object_fit": null,
      "object_position": null,
      "order": null,
      "overflow": null,
      "overflow_x": null,
      "overflow_y": null,
      "padding": null,
      "right": null,
      "top": null,
      "visibility": null,
      "width": null
     }
    },
    "60bf8b23189b45949746bed8dbb91765": {
     "model_module": "@jupyter-widgets/base",
     "model_module_version": "1.2.0",
     "model_name": "LayoutModel",
     "state": {
      "_model_module": "@jupyter-widgets/base",
      "_model_module_version": "1.2.0",
      "_model_name": "LayoutModel",
      "_view_count": null,
      "_view_module": "@jupyter-widgets/base",
      "_view_module_version": "1.2.0",
      "_view_name": "LayoutView",
      "align_content": null,
      "align_items": null,
      "align_self": null,
      "border": null,
      "bottom": null,
      "display": null,
      "flex": null,
      "flex_flow": null,
      "grid_area": null,
      "grid_auto_columns": null,
      "grid_auto_flow": null,
      "grid_auto_rows": null,
      "grid_column": null,
      "grid_gap": null,
      "grid_row": null,
      "grid_template_areas": null,
      "grid_template_columns": null,
      "grid_template_rows": null,
      "height": null,
      "justify_content": null,
      "justify_items": null,
      "left": null,
      "margin": null,
      "max_height": null,
      "max_width": null,
      "min_height": null,
      "min_width": null,
      "object_fit": null,
      "object_position": null,
      "order": null,
      "overflow": null,
      "overflow_x": null,
      "overflow_y": null,
      "padding": null,
      "right": null,
      "top": null,
      "visibility": null,
      "width": null
     }
    },
    "6274cc6165234aaba2c930d23350b362": {
     "model_module": "@jupyter-widgets/controls",
     "model_module_version": "1.5.0",
     "model_name": "HBoxModel",
     "state": {
      "_dom_classes": [],
      "_model_module": "@jupyter-widgets/controls",
      "_model_module_version": "1.5.0",
      "_model_name": "HBoxModel",
      "_view_count": null,
      "_view_module": "@jupyter-widgets/controls",
      "_view_module_version": "1.5.0",
      "_view_name": "HBoxView",
      "box_style": "",
      "children": [
       "IPY_MODEL_5e61f9e947714e64a29e116c44a124f0",
       "IPY_MODEL_e2c7cbcbf7cd4e0ca1352925b8c7bdea",
       "IPY_MODEL_6b70db174de04c9ba25282525de05387"
      ],
      "layout": "IPY_MODEL_41be3437b15c4e57a75534d238a829a5"
     }
    },
    "63dc8025965242e09dfb7fffb70c953a": {
     "model_module": "@jupyter-widgets/controls",
     "model_module_version": "1.5.0",
     "model_name": "HTMLModel",
     "state": {
      "_dom_classes": [],
      "_model_module": "@jupyter-widgets/controls",
      "_model_module_version": "1.5.0",
      "_model_name": "HTMLModel",
      "_view_count": null,
      "_view_module": "@jupyter-widgets/controls",
      "_view_module_version": "1.5.0",
      "_view_name": "HTMLView",
      "description": "",
      "description_tooltip": null,
      "layout": "IPY_MODEL_280332c72db54753a188f6abf68eaaa9",
      "placeholder": "​",
      "style": "IPY_MODEL_f7d8f5d7761541ec95481008339f2420",
      "value": "modules.json: 100%"
     }
    },
    "64a3c90a4ba94283bbc717031722190c": {
     "model_module": "@jupyter-widgets/controls",
     "model_module_version": "1.5.0",
     "model_name": "DescriptionStyleModel",
     "state": {
      "_model_module": "@jupyter-widgets/controls",
      "_model_module_version": "1.5.0",
      "_model_name": "DescriptionStyleModel",
      "_view_count": null,
      "_view_module": "@jupyter-widgets/base",
      "_view_module_version": "1.2.0",
      "_view_name": "StyleView",
      "description_width": ""
     }
    },
    "658c15a0430b4a788e9874b236cfb86d": {
     "model_module": "@jupyter-widgets/base",
     "model_module_version": "1.2.0",
     "model_name": "LayoutModel",
     "state": {
      "_model_module": "@jupyter-widgets/base",
      "_model_module_version": "1.2.0",
      "_model_name": "LayoutModel",
      "_view_count": null,
      "_view_module": "@jupyter-widgets/base",
      "_view_module_version": "1.2.0",
      "_view_name": "LayoutView",
      "align_content": null,
      "align_items": null,
      "align_self": null,
      "border": null,
      "bottom": null,
      "display": null,
      "flex": null,
      "flex_flow": null,
      "grid_area": null,
      "grid_auto_columns": null,
      "grid_auto_flow": null,
      "grid_auto_rows": null,
      "grid_column": null,
      "grid_gap": null,
      "grid_row": null,
      "grid_template_areas": null,
      "grid_template_columns": null,
      "grid_template_rows": null,
      "height": null,
      "justify_content": null,
      "justify_items": null,
      "left": null,
      "margin": null,
      "max_height": null,
      "max_width": null,
      "min_height": null,
      "min_width": null,
      "object_fit": null,
      "object_position": null,
      "order": null,
      "overflow": null,
      "overflow_x": null,
      "overflow_y": null,
      "padding": null,
      "right": null,
      "top": null,
      "visibility": null,
      "width": null
     }
    },
    "692fbf8b0b7542a39c3978569db3a9f8": {
     "model_module": "@jupyter-widgets/controls",
     "model_module_version": "1.5.0",
     "model_name": "DescriptionStyleModel",
     "state": {
      "_model_module": "@jupyter-widgets/controls",
      "_model_module_version": "1.5.0",
      "_model_name": "DescriptionStyleModel",
      "_view_count": null,
      "_view_module": "@jupyter-widgets/base",
      "_view_module_version": "1.2.0",
      "_view_name": "StyleView",
      "description_width": ""
     }
    },
    "6b07c11c0b634256be6c9dc37369fbb5": {
     "model_module": "@jupyter-widgets/base",
     "model_module_version": "1.2.0",
     "model_name": "LayoutModel",
     "state": {
      "_model_module": "@jupyter-widgets/base",
      "_model_module_version": "1.2.0",
      "_model_name": "LayoutModel",
      "_view_count": null,
      "_view_module": "@jupyter-widgets/base",
      "_view_module_version": "1.2.0",
      "_view_name": "LayoutView",
      "align_content": null,
      "align_items": null,
      "align_self": null,
      "border": null,
      "bottom": null,
      "display": null,
      "flex": null,
      "flex_flow": null,
      "grid_area": null,
      "grid_auto_columns": null,
      "grid_auto_flow": null,
      "grid_auto_rows": null,
      "grid_column": null,
      "grid_gap": null,
      "grid_row": null,
      "grid_template_areas": null,
      "grid_template_columns": null,
      "grid_template_rows": null,
      "height": null,
      "justify_content": null,
      "justify_items": null,
      "left": null,
      "margin": null,
      "max_height": null,
      "max_width": null,
      "min_height": null,
      "min_width": null,
      "object_fit": null,
      "object_position": null,
      "order": null,
      "overflow": null,
      "overflow_x": null,
      "overflow_y": null,
      "padding": null,
      "right": null,
      "top": null,
      "visibility": null,
      "width": null
     }
    },
    "6b70db174de04c9ba25282525de05387": {
     "model_module": "@jupyter-widgets/controls",
     "model_module_version": "1.5.0",
     "model_name": "HTMLModel",
     "state": {
      "_dom_classes": [],
      "_model_module": "@jupyter-widgets/controls",
      "_model_module_version": "1.5.0",
      "_model_name": "HTMLModel",
      "_view_count": null,
      "_view_module": "@jupyter-widgets/controls",
      "_view_module_version": "1.5.0",
      "_view_name": "HTMLView",
      "description": "",
      "description_tooltip": null,
      "layout": "IPY_MODEL_8cd133cc3bd44a9cb49c7d1b6a4db642",
      "placeholder": "​",
      "style": "IPY_MODEL_16d38234182b49dda5d3115621aecb39",
      "value": " 53.0/53.0 [00:00&lt;00:00, 1.67kB/s]"
     }
    },
    "6bdcd35840594df4ab40d4c64e660dba": {
     "model_module": "@jupyter-widgets/base",
     "model_module_version": "1.2.0",
     "model_name": "LayoutModel",
     "state": {
      "_model_module": "@jupyter-widgets/base",
      "_model_module_version": "1.2.0",
      "_model_name": "LayoutModel",
      "_view_count": null,
      "_view_module": "@jupyter-widgets/base",
      "_view_module_version": "1.2.0",
      "_view_name": "LayoutView",
      "align_content": null,
      "align_items": null,
      "align_self": null,
      "border": null,
      "bottom": null,
      "display": null,
      "flex": null,
      "flex_flow": null,
      "grid_area": null,
      "grid_auto_columns": null,
      "grid_auto_flow": null,
      "grid_auto_rows": null,
      "grid_column": null,
      "grid_gap": null,
      "grid_row": null,
      "grid_template_areas": null,
      "grid_template_columns": null,
      "grid_template_rows": null,
      "height": null,
      "justify_content": null,
      "justify_items": null,
      "left": null,
      "margin": null,
      "max_height": null,
      "max_width": null,
      "min_height": null,
      "min_width": null,
      "object_fit": null,
      "object_position": null,
      "order": null,
      "overflow": null,
      "overflow_x": null,
      "overflow_y": null,
      "padding": null,
      "right": null,
      "top": null,
      "visibility": null,
      "width": null
     }
    },
    "701a5fc9c6ac4efebee807273eae66e1": {
     "model_module": "@jupyter-widgets/controls",
     "model_module_version": "1.5.0",
     "model_name": "ProgressStyleModel",
     "state": {
      "_model_module": "@jupyter-widgets/controls",
      "_model_module_version": "1.5.0",
      "_model_name": "ProgressStyleModel",
      "_view_count": null,
      "_view_module": "@jupyter-widgets/base",
      "_view_module_version": "1.2.0",
      "_view_name": "StyleView",
      "bar_color": null,
      "description_width": ""
     }
    },
    "71cef30c369b4878823b8a4db5b44f5b": {
     "model_module": "@jupyter-widgets/controls",
     "model_module_version": "1.5.0",
     "model_name": "ProgressStyleModel",
     "state": {
      "_model_module": "@jupyter-widgets/controls",
      "_model_module_version": "1.5.0",
      "_model_name": "ProgressStyleModel",
      "_view_count": null,
      "_view_module": "@jupyter-widgets/base",
      "_view_module_version": "1.2.0",
      "_view_name": "StyleView",
      "bar_color": null,
      "description_width": ""
     }
    },
    "71f5342382cb4fdf818c03978a4ccccb": {
     "model_module": "@jupyter-widgets/controls",
     "model_module_version": "1.5.0",
     "model_name": "HBoxModel",
     "state": {
      "_dom_classes": [],
      "_model_module": "@jupyter-widgets/controls",
      "_model_module_version": "1.5.0",
      "_model_name": "HBoxModel",
      "_view_count": null,
      "_view_module": "@jupyter-widgets/controls",
      "_view_module_version": "1.5.0",
      "_view_name": "HBoxView",
      "box_style": "",
      "children": [
       "IPY_MODEL_fb9ef2497d3b47a297501004b0176cde",
       "IPY_MODEL_b63ec0fd33c448e89cc03e6000abee00",
       "IPY_MODEL_7da0f13278624d2a91348680b4f9e6be"
      ],
      "layout": "IPY_MODEL_8a82c40aedbc4555a03a8c29981740dd"
     }
    },
    "74a45523ed954b0abd9e7a05045d2daf": {
     "model_module": "@jupyter-widgets/base",
     "model_module_version": "1.2.0",
     "model_name": "LayoutModel",
     "state": {
      "_model_module": "@jupyter-widgets/base",
      "_model_module_version": "1.2.0",
      "_model_name": "LayoutModel",
      "_view_count": null,
      "_view_module": "@jupyter-widgets/base",
      "_view_module_version": "1.2.0",
      "_view_name": "LayoutView",
      "align_content": null,
      "align_items": null,
      "align_self": null,
      "border": null,
      "bottom": null,
      "display": null,
      "flex": null,
      "flex_flow": null,
      "grid_area": null,
      "grid_auto_columns": null,
      "grid_auto_flow": null,
      "grid_auto_rows": null,
      "grid_column": null,
      "grid_gap": null,
      "grid_row": null,
      "grid_template_areas": null,
      "grid_template_columns": null,
      "grid_template_rows": null,
      "height": null,
      "justify_content": null,
      "justify_items": null,
      "left": null,
      "margin": null,
      "max_height": null,
      "max_width": null,
      "min_height": null,
      "min_width": null,
      "object_fit": null,
      "object_position": null,
      "order": null,
      "overflow": null,
      "overflow_x": null,
      "overflow_y": null,
      "padding": null,
      "right": null,
      "top": null,
      "visibility": null,
      "width": null
     }
    },
    "76496dac60c44c839bb441f2f4ff6f9f": {
     "model_module": "@jupyter-widgets/base",
     "model_module_version": "1.2.0",
     "model_name": "LayoutModel",
     "state": {
      "_model_module": "@jupyter-widgets/base",
      "_model_module_version": "1.2.0",
      "_model_name": "LayoutModel",
      "_view_count": null,
      "_view_module": "@jupyter-widgets/base",
      "_view_module_version": "1.2.0",
      "_view_name": "LayoutView",
      "align_content": null,
      "align_items": null,
      "align_self": null,
      "border": null,
      "bottom": null,
      "display": null,
      "flex": null,
      "flex_flow": null,
      "grid_area": null,
      "grid_auto_columns": null,
      "grid_auto_flow": null,
      "grid_auto_rows": null,
      "grid_column": null,
      "grid_gap": null,
      "grid_row": null,
      "grid_template_areas": null,
      "grid_template_columns": null,
      "grid_template_rows": null,
      "height": null,
      "justify_content": null,
      "justify_items": null,
      "left": null,
      "margin": null,
      "max_height": null,
      "max_width": null,
      "min_height": null,
      "min_width": null,
      "object_fit": null,
      "object_position": null,
      "order": null,
      "overflow": null,
      "overflow_x": null,
      "overflow_y": null,
      "padding": null,
      "right": null,
      "top": null,
      "visibility": null,
      "width": null
     }
    },
    "77d4965ca1c1401381aca48ec309280e": {
     "model_module": "@jupyter-widgets/controls",
     "model_module_version": "1.5.0",
     "model_name": "DescriptionStyleModel",
     "state": {
      "_model_module": "@jupyter-widgets/controls",
      "_model_module_version": "1.5.0",
      "_model_name": "DescriptionStyleModel",
      "_view_count": null,
      "_view_module": "@jupyter-widgets/base",
      "_view_module_version": "1.2.0",
      "_view_name": "StyleView",
      "description_width": ""
     }
    },
    "7a839c9bc6ca43fdbf6d63cfe823af63": {
     "model_module": "@jupyter-widgets/base",
     "model_module_version": "1.2.0",
     "model_name": "LayoutModel",
     "state": {
      "_model_module": "@jupyter-widgets/base",
      "_model_module_version": "1.2.0",
      "_model_name": "LayoutModel",
      "_view_count": null,
      "_view_module": "@jupyter-widgets/base",
      "_view_module_version": "1.2.0",
      "_view_name": "LayoutView",
      "align_content": null,
      "align_items": null,
      "align_self": null,
      "border": null,
      "bottom": null,
      "display": null,
      "flex": null,
      "flex_flow": null,
      "grid_area": null,
      "grid_auto_columns": null,
      "grid_auto_flow": null,
      "grid_auto_rows": null,
      "grid_column": null,
      "grid_gap": null,
      "grid_row": null,
      "grid_template_areas": null,
      "grid_template_columns": null,
      "grid_template_rows": null,
      "height": null,
      "justify_content": null,
      "justify_items": null,
      "left": null,
      "margin": null,
      "max_height": null,
      "max_width": null,
      "min_height": null,
      "min_width": null,
      "object_fit": null,
      "object_position": null,
      "order": null,
      "overflow": null,
      "overflow_x": null,
      "overflow_y": null,
      "padding": null,
      "right": null,
      "top": null,
      "visibility": null,
      "width": null
     }
    },
    "7b87dd0653c14863a8a2af560d5e7c42": {
     "model_module": "@jupyter-widgets/controls",
     "model_module_version": "1.5.0",
     "model_name": "HTMLModel",
     "state": {
      "_dom_classes": [],
      "_model_module": "@jupyter-widgets/controls",
      "_model_module_version": "1.5.0",
      "_model_name": "HTMLModel",
      "_view_count": null,
      "_view_module": "@jupyter-widgets/controls",
      "_view_module_version": "1.5.0",
      "_view_name": "HTMLView",
      "description": "",
      "description_tooltip": null,
      "layout": "IPY_MODEL_b5a63beb6d2b4249871961e1a0a9b937",
      "placeholder": "​",
      "style": "IPY_MODEL_f94f4f97ce194f77bdd6d4bdfea4edea",
      "value": " 112/112 [00:00&lt;00:00, 1.66kB/s]"
     }
    },
    "7da0f13278624d2a91348680b4f9e6be": {
     "model_module": "@jupyter-widgets/controls",
     "model_module_version": "1.5.0",
     "model_name": "HTMLModel",
     "state": {
      "_dom_classes": [],
      "_model_module": "@jupyter-widgets/controls",
      "_model_module_version": "1.5.0",
      "_model_name": "HTMLModel",
      "_view_count": null,
      "_view_module": "@jupyter-widgets/controls",
      "_view_module_version": "1.5.0",
      "_view_name": "HTMLView",
      "description": "",
      "description_tooltip": null,
      "layout": "IPY_MODEL_10c6a410b1ca4210812a84b8d1bd9984",
      "placeholder": "​",
      "style": "IPY_MODEL_c2d096efb1db4dde86fd42ff3a4df605",
      "value": " 466k/466k [00:00&lt;00:00, 3.66MB/s]"
     }
    },
    "81ae5aa2028c46248b01d916cce292fa": {
     "model_module": "@jupyter-widgets/base",
     "model_module_version": "1.2.0",
     "model_name": "LayoutModel",
     "state": {
      "_model_module": "@jupyter-widgets/base",
      "_model_module_version": "1.2.0",
      "_model_name": "LayoutModel",
      "_view_count": null,
      "_view_module": "@jupyter-widgets/base",
      "_view_module_version": "1.2.0",
      "_view_name": "LayoutView",
      "align_content": null,
      "align_items": null,
      "align_self": null,
      "border": null,
      "bottom": null,
      "display": null,
      "flex": null,
      "flex_flow": null,
      "grid_area": null,
      "grid_auto_columns": null,
      "grid_auto_flow": null,
      "grid_auto_rows": null,
      "grid_column": null,
      "grid_gap": null,
      "grid_row": null,
      "grid_template_areas": null,
      "grid_template_columns": null,
      "grid_template_rows": null,
      "height": null,
      "justify_content": null,
      "justify_items": null,
      "left": null,
      "margin": null,
      "max_height": null,
      "max_width": null,
      "min_height": null,
      "min_width": null,
      "object_fit": null,
      "object_position": null,
      "order": null,
      "overflow": null,
      "overflow_x": null,
      "overflow_y": null,
      "padding": null,
      "right": null,
      "top": null,
      "visibility": null,
      "width": null
     }
    },
    "86b9a304e58446939dbb1d7a023de81f": {
     "model_module": "@jupyter-widgets/controls",
     "model_module_version": "1.5.0",
     "model_name": "HBoxModel",
     "state": {
      "_dom_classes": [],
      "_model_module": "@jupyter-widgets/controls",
      "_model_module_version": "1.5.0",
      "_model_name": "HBoxModel",
      "_view_count": null,
      "_view_module": "@jupyter-widgets/controls",
      "_view_module_version": "1.5.0",
      "_view_name": "HBoxView",
      "box_style": "",
      "children": [
       "IPY_MODEL_87034250c3894eee883cb3ecb9347078",
       "IPY_MODEL_efa59884be0e4fa6bb6ddf4d4885ab52",
       "IPY_MODEL_3f2a6b57c81c4dc99404363b0b0e5632"
      ],
      "layout": "IPY_MODEL_60bf8b23189b45949746bed8dbb91765"
     }
    },
    "87034250c3894eee883cb3ecb9347078": {
     "model_module": "@jupyter-widgets/controls",
     "model_module_version": "1.5.0",
     "model_name": "HTMLModel",
     "state": {
      "_dom_classes": [],
      "_model_module": "@jupyter-widgets/controls",
      "_model_module_version": "1.5.0",
      "_model_name": "HTMLModel",
      "_view_count": null,
      "_view_module": "@jupyter-widgets/controls",
      "_view_module_version": "1.5.0",
      "_view_name": "HTMLView",
      "description": "",
      "description_tooltip": null,
      "layout": "IPY_MODEL_ab01960dd6954af78441736c8669b241",
      "placeholder": "​",
      "style": "IPY_MODEL_e3f45f680ec84c4eb6ee402b187e38a8",
      "value": "vocab.txt: 100%"
     }
    },
    "874a74254ebc4d71a119f67e137c0551": {
     "model_module": "@jupyter-widgets/controls",
     "model_module_version": "1.5.0",
     "model_name": "HBoxModel",
     "state": {
      "_dom_classes": [],
      "_model_module": "@jupyter-widgets/controls",
      "_model_module_version": "1.5.0",
      "_model_name": "HBoxModel",
      "_view_count": null,
      "_view_module": "@jupyter-widgets/controls",
      "_view_module_version": "1.5.0",
      "_view_name": "HBoxView",
      "box_style": "",
      "children": [
       "IPY_MODEL_2fbd5496ad3944fd92a3c28f8d3e31a1",
       "IPY_MODEL_a236061375e947dc9612c24adbe4ff0b",
       "IPY_MODEL_cd89e860240142e28da826f6f49ba240"
      ],
      "layout": "IPY_MODEL_9c8aa38595dc4b7e8ca640d03cc19694"
     }
    },
    "879a060bd57146398f7c175704456532": {
     "model_module": "@jupyter-widgets/base",
     "model_module_version": "1.2.0",
     "model_name": "LayoutModel",
     "state": {
      "_model_module": "@jupyter-widgets/base",
      "_model_module_version": "1.2.0",
      "_model_name": "LayoutModel",
      "_view_count": null,
      "_view_module": "@jupyter-widgets/base",
      "_view_module_version": "1.2.0",
      "_view_name": "LayoutView",
      "align_content": null,
      "align_items": null,
      "align_self": null,
      "border": null,
      "bottom": null,
      "display": null,
      "flex": null,
      "flex_flow": null,
      "grid_area": null,
      "grid_auto_columns": null,
      "grid_auto_flow": null,
      "grid_auto_rows": null,
      "grid_column": null,
      "grid_gap": null,
      "grid_row": null,
      "grid_template_areas": null,
      "grid_template_columns": null,
      "grid_template_rows": null,
      "height": null,
      "justify_content": null,
      "justify_items": null,
      "left": null,
      "margin": null,
      "max_height": null,
      "max_width": null,
      "min_height": null,
      "min_width": null,
      "object_fit": null,
      "object_position": null,
      "order": null,
      "overflow": null,
      "overflow_x": null,
      "overflow_y": null,
      "padding": null,
      "right": null,
      "top": null,
      "visibility": null,
      "width": null
     }
    },
    "887871630cd944d89907336e3124835e": {
     "model_module": "@jupyter-widgets/controls",
     "model_module_version": "1.5.0",
     "model_name": "HBoxModel",
     "state": {
      "_dom_classes": [],
      "_model_module": "@jupyter-widgets/controls",
      "_model_module_version": "1.5.0",
      "_model_name": "HBoxModel",
      "_view_count": null,
      "_view_module": "@jupyter-widgets/controls",
      "_view_module_version": "1.5.0",
      "_view_name": "HBoxView",
      "box_style": "",
      "children": [
       "IPY_MODEL_412ec4ec63d448939556ff9f40e5805b",
       "IPY_MODEL_2d94a369fc234cbc8452df68917e75b6",
       "IPY_MODEL_04ff5f37db7c42f2980f807bc3032586"
      ],
      "layout": "IPY_MODEL_d357f7f4bd3f4af7af517dd7a725d2f0"
     }
    },
    "89c8e756392047b48e155bc153b4f6dd": {
     "model_module": "@jupyter-widgets/base",
     "model_module_version": "1.2.0",
     "model_name": "LayoutModel",
     "state": {
      "_model_module": "@jupyter-widgets/base",
      "_model_module_version": "1.2.0",
      "_model_name": "LayoutModel",
      "_view_count": null,
      "_view_module": "@jupyter-widgets/base",
      "_view_module_version": "1.2.0",
      "_view_name": "LayoutView",
      "align_content": null,
      "align_items": null,
      "align_self": null,
      "border": null,
      "bottom": null,
      "display": null,
      "flex": null,
      "flex_flow": null,
      "grid_area": null,
      "grid_auto_columns": null,
      "grid_auto_flow": null,
      "grid_auto_rows": null,
      "grid_column": null,
      "grid_gap": null,
      "grid_row": null,
      "grid_template_areas": null,
      "grid_template_columns": null,
      "grid_template_rows": null,
      "height": null,
      "justify_content": null,
      "justify_items": null,
      "left": null,
      "margin": null,
      "max_height": null,
      "max_width": null,
      "min_height": null,
      "min_width": null,
      "object_fit": null,
      "object_position": null,
      "order": null,
      "overflow": null,
      "overflow_x": null,
      "overflow_y": null,
      "padding": null,
      "right": null,
      "top": null,
      "visibility": null,
      "width": null
     }
    },
    "89e43961094244889ca5e14889d9f815": {
     "model_module": "@jupyter-widgets/controls",
     "model_module_version": "1.5.0",
     "model_name": "DescriptionStyleModel",
     "state": {
      "_model_module": "@jupyter-widgets/controls",
      "_model_module_version": "1.5.0",
      "_model_name": "DescriptionStyleModel",
      "_view_count": null,
      "_view_module": "@jupyter-widgets/base",
      "_view_module_version": "1.2.0",
      "_view_name": "StyleView",
      "description_width": ""
     }
    },
    "8a82c40aedbc4555a03a8c29981740dd": {
     "model_module": "@jupyter-widgets/base",
     "model_module_version": "1.2.0",
     "model_name": "LayoutModel",
     "state": {
      "_model_module": "@jupyter-widgets/base",
      "_model_module_version": "1.2.0",
      "_model_name": "LayoutModel",
      "_view_count": null,
      "_view_module": "@jupyter-widgets/base",
      "_view_module_version": "1.2.0",
      "_view_name": "LayoutView",
      "align_content": null,
      "align_items": null,
      "align_self": null,
      "border": null,
      "bottom": null,
      "display": null,
      "flex": null,
      "flex_flow": null,
      "grid_area": null,
      "grid_auto_columns": null,
      "grid_auto_flow": null,
      "grid_auto_rows": null,
      "grid_column": null,
      "grid_gap": null,
      "grid_row": null,
      "grid_template_areas": null,
      "grid_template_columns": null,
      "grid_template_rows": null,
      "height": null,
      "justify_content": null,
      "justify_items": null,
      "left": null,
      "margin": null,
      "max_height": null,
      "max_width": null,
      "min_height": null,
      "min_width": null,
      "object_fit": null,
      "object_position": null,
      "order": null,
      "overflow": null,
      "overflow_x": null,
      "overflow_y": null,
      "padding": null,
      "right": null,
      "top": null,
      "visibility": null,
      "width": null
     }
    },
    "8cd133cc3bd44a9cb49c7d1b6a4db642": {
     "model_module": "@jupyter-widgets/base",
     "model_module_version": "1.2.0",
     "model_name": "LayoutModel",
     "state": {
      "_model_module": "@jupyter-widgets/base",
      "_model_module_version": "1.2.0",
      "_model_name": "LayoutModel",
      "_view_count": null,
      "_view_module": "@jupyter-widgets/base",
      "_view_module_version": "1.2.0",
      "_view_name": "LayoutView",
      "align_content": null,
      "align_items": null,
      "align_self": null,
      "border": null,
      "bottom": null,
      "display": null,
      "flex": null,
      "flex_flow": null,
      "grid_area": null,
      "grid_auto_columns": null,
      "grid_auto_flow": null,
      "grid_auto_rows": null,
      "grid_column": null,
      "grid_gap": null,
      "grid_row": null,
      "grid_template_areas": null,
      "grid_template_columns": null,
      "grid_template_rows": null,
      "height": null,
      "justify_content": null,
      "justify_items": null,
      "left": null,
      "margin": null,
      "max_height": null,
      "max_width": null,
      "min_height": null,
      "min_width": null,
      "object_fit": null,
      "object_position": null,
      "order": null,
      "overflow": null,
      "overflow_x": null,
      "overflow_y": null,
      "padding": null,
      "right": null,
      "top": null,
      "visibility": null,
      "width": null
     }
    },
    "9036a15be46e45799e8e3cc854fa88bb": {
     "model_module": "@jupyter-widgets/controls",
     "model_module_version": "1.5.0",
     "model_name": "ProgressStyleModel",
     "state": {
      "_model_module": "@jupyter-widgets/controls",
      "_model_module_version": "1.5.0",
      "_model_name": "ProgressStyleModel",
      "_view_count": null,
      "_view_module": "@jupyter-widgets/base",
      "_view_module_version": "1.2.0",
      "_view_name": "StyleView",
      "bar_color": null,
      "description_width": ""
     }
    },
    "932c4d4ac22d402fa5f1564437dc5e5b": {
     "model_module": "@jupyter-widgets/controls",
     "model_module_version": "1.5.0",
     "model_name": "HBoxModel",
     "state": {
      "_dom_classes": [],
      "_model_module": "@jupyter-widgets/controls",
      "_model_module_version": "1.5.0",
      "_model_name": "HBoxModel",
      "_view_count": null,
      "_view_module": "@jupyter-widgets/controls",
      "_view_module_version": "1.5.0",
      "_view_name": "HBoxView",
      "box_style": "",
      "children": [
       "IPY_MODEL_35750f3fe46e40b99058d14ca7ed800b",
       "IPY_MODEL_f4e20a4a864b4c13adc38f22fccb80a0",
       "IPY_MODEL_3987a825b2584353a2be546f63911a0c"
      ],
      "layout": "IPY_MODEL_1bc226c51f954bbf98c13d2310940135"
     }
    },
    "9c8aa38595dc4b7e8ca640d03cc19694": {
     "model_module": "@jupyter-widgets/base",
     "model_module_version": "1.2.0",
     "model_name": "LayoutModel",
     "state": {
      "_model_module": "@jupyter-widgets/base",
      "_model_module_version": "1.2.0",
      "_model_name": "LayoutModel",
      "_view_count": null,
      "_view_module": "@jupyter-widgets/base",
      "_view_module_version": "1.2.0",
      "_view_name": "LayoutView",
      "align_content": null,
      "align_items": null,
      "align_self": null,
      "border": null,
      "bottom": null,
      "display": null,
      "flex": null,
      "flex_flow": null,
      "grid_area": null,
      "grid_auto_columns": null,
      "grid_auto_flow": null,
      "grid_auto_rows": null,
      "grid_column": null,
      "grid_gap": null,
      "grid_row": null,
      "grid_template_areas": null,
      "grid_template_columns": null,
      "grid_template_rows": null,
      "height": null,
      "justify_content": null,
      "justify_items": null,
      "left": null,
      "margin": null,
      "max_height": null,
      "max_width": null,
      "min_height": null,
      "min_width": null,
      "object_fit": null,
      "object_position": null,
      "order": null,
      "overflow": null,
      "overflow_x": null,
      "overflow_y": null,
      "padding": null,
      "right": null,
      "top": null,
      "visibility": null,
      "width": null
     }
    },
    "9ce5c894beb448b1b5935907c38d9138": {
     "model_module": "@jupyter-widgets/controls",
     "model_module_version": "1.5.0",
     "model_name": "DescriptionStyleModel",
     "state": {
      "_model_module": "@jupyter-widgets/controls",
      "_model_module_version": "1.5.0",
      "_model_name": "DescriptionStyleModel",
      "_view_count": null,
      "_view_module": "@jupyter-widgets/base",
      "_view_module_version": "1.2.0",
      "_view_name": "StyleView",
      "description_width": ""
     }
    },
    "a02025fa486a4cab95eb79496bc3e7ea": {
     "model_module": "@jupyter-widgets/base",
     "model_module_version": "1.2.0",
     "model_name": "LayoutModel",
     "state": {
      "_model_module": "@jupyter-widgets/base",
      "_model_module_version": "1.2.0",
      "_model_name": "LayoutModel",
      "_view_count": null,
      "_view_module": "@jupyter-widgets/base",
      "_view_module_version": "1.2.0",
      "_view_name": "LayoutView",
      "align_content": null,
      "align_items": null,
      "align_self": null,
      "border": null,
      "bottom": null,
      "display": null,
      "flex": null,
      "flex_flow": null,
      "grid_area": null,
      "grid_auto_columns": null,
      "grid_auto_flow": null,
      "grid_auto_rows": null,
      "grid_column": null,
      "grid_gap": null,
      "grid_row": null,
      "grid_template_areas": null,
      "grid_template_columns": null,
      "grid_template_rows": null,
      "height": null,
      "justify_content": null,
      "justify_items": null,
      "left": null,
      "margin": null,
      "max_height": null,
      "max_width": null,
      "min_height": null,
      "min_width": null,
      "object_fit": null,
      "object_position": null,
      "order": null,
      "overflow": null,
      "overflow_x": null,
      "overflow_y": null,
      "padding": null,
      "right": null,
      "top": null,
      "visibility": null,
      "width": null
     }
    },
    "a0fd105ea5f046c18b8191d1ae5d89bc": {
     "model_module": "@jupyter-widgets/base",
     "model_module_version": "1.2.0",
     "model_name": "LayoutModel",
     "state": {
      "_model_module": "@jupyter-widgets/base",
      "_model_module_version": "1.2.0",
      "_model_name": "LayoutModel",
      "_view_count": null,
      "_view_module": "@jupyter-widgets/base",
      "_view_module_version": "1.2.0",
      "_view_name": "LayoutView",
      "align_content": null,
      "align_items": null,
      "align_self": null,
      "border": null,
      "bottom": null,
      "display": null,
      "flex": null,
      "flex_flow": null,
      "grid_area": null,
      "grid_auto_columns": null,
      "grid_auto_flow": null,
      "grid_auto_rows": null,
      "grid_column": null,
      "grid_gap": null,
      "grid_row": null,
      "grid_template_areas": null,
      "grid_template_columns": null,
      "grid_template_rows": null,
      "height": null,
      "justify_content": null,
      "justify_items": null,
      "left": null,
      "margin": null,
      "max_height": null,
      "max_width": null,
      "min_height": null,
      "min_width": null,
      "object_fit": null,
      "object_position": null,
      "order": null,
      "overflow": null,
      "overflow_x": null,
      "overflow_y": null,
      "padding": null,
      "right": null,
      "top": null,
      "visibility": null,
      "width": null
     }
    },
    "a236061375e947dc9612c24adbe4ff0b": {
     "model_module": "@jupyter-widgets/controls",
     "model_module_version": "1.5.0",
     "model_name": "FloatProgressModel",
     "state": {
      "_dom_classes": [],
      "_model_module": "@jupyter-widgets/controls",
      "_model_module_version": "1.5.0",
      "_model_name": "FloatProgressModel",
      "_view_count": null,
      "_view_module": "@jupyter-widgets/controls",
      "_view_module_version": "1.5.0",
      "_view_name": "ProgressView",
      "bar_style": "success",
      "description": "",
      "description_tooltip": null,
      "layout": "IPY_MODEL_6bdcd35840594df4ab40d4c64e660dba",
      "max": 116,
      "min": 0,
      "orientation": "horizontal",
      "style": "IPY_MODEL_f3384eb9244c4701ac8c1b16772132cf",
      "value": 116
     }
    },
    "a30e36f3bf9e4c3e85df561d3f1a81a1": {
     "model_module": "@jupyter-widgets/controls",
     "model_module_version": "1.5.0",
     "model_name": "HBoxModel",
     "state": {
      "_dom_classes": [],
      "_model_module": "@jupyter-widgets/controls",
      "_model_module_version": "1.5.0",
      "_model_name": "HBoxModel",
      "_view_count": null,
      "_view_module": "@jupyter-widgets/controls",
      "_view_module_version": "1.5.0",
      "_view_name": "HBoxView",
      "box_style": "",
      "children": [
       "IPY_MODEL_63dc8025965242e09dfb7fffb70c953a",
       "IPY_MODEL_4b8aa7e353f045dd8297de8c688b9d40",
       "IPY_MODEL_0cdbc7260ad346048a87a3f8ba22486e"
      ],
      "layout": "IPY_MODEL_59f57f5ddfd24b53a4f1621f1a6389bb"
     }
    },
    "a53e2fc70d75494da4d6106f6608875b": {
     "model_module": "@jupyter-widgets/base",
     "model_module_version": "1.2.0",
     "model_name": "LayoutModel",
     "state": {
      "_model_module": "@jupyter-widgets/base",
      "_model_module_version": "1.2.0",
      "_model_name": "LayoutModel",
      "_view_count": null,
      "_view_module": "@jupyter-widgets/base",
      "_view_module_version": "1.2.0",
      "_view_name": "LayoutView",
      "align_content": null,
      "align_items": null,
      "align_self": null,
      "border": null,
      "bottom": null,
      "display": null,
      "flex": null,
      "flex_flow": null,
      "grid_area": null,
      "grid_auto_columns": null,
      "grid_auto_flow": null,
      "grid_auto_rows": null,
      "grid_column": null,
      "grid_gap": null,
      "grid_row": null,
      "grid_template_areas": null,
      "grid_template_columns": null,
      "grid_template_rows": null,
      "height": null,
      "justify_content": null,
      "justify_items": null,
      "left": null,
      "margin": null,
      "max_height": null,
      "max_width": null,
      "min_height": null,
      "min_width": null,
      "object_fit": null,
      "object_position": null,
      "order": null,
      "overflow": null,
      "overflow_x": null,
      "overflow_y": null,
      "padding": null,
      "right": null,
      "top": null,
      "visibility": null,
      "width": null
     }
    },
    "ab01960dd6954af78441736c8669b241": {
     "model_module": "@jupyter-widgets/base",
     "model_module_version": "1.2.0",
     "model_name": "LayoutModel",
     "state": {
      "_model_module": "@jupyter-widgets/base",
      "_model_module_version": "1.2.0",
      "_model_name": "LayoutModel",
      "_view_count": null,
      "_view_module": "@jupyter-widgets/base",
      "_view_module_version": "1.2.0",
      "_view_name": "LayoutView",
      "align_content": null,
      "align_items": null,
      "align_self": null,
      "border": null,
      "bottom": null,
      "display": null,
      "flex": null,
      "flex_flow": null,
      "grid_area": null,
      "grid_auto_columns": null,
      "grid_auto_flow": null,
      "grid_auto_rows": null,
      "grid_column": null,
      "grid_gap": null,
      "grid_row": null,
      "grid_template_areas": null,
      "grid_template_columns": null,
      "grid_template_rows": null,
      "height": null,
      "justify_content": null,
      "justify_items": null,
      "left": null,
      "margin": null,
      "max_height": null,
      "max_width": null,
      "min_height": null,
      "min_width": null,
      "object_fit": null,
      "object_position": null,
      "order": null,
      "overflow": null,
      "overflow_x": null,
      "overflow_y": null,
      "padding": null,
      "right": null,
      "top": null,
      "visibility": null,
      "width": null
     }
    },
    "abdbb22939fd41db9b0a3ee58c7ed13b": {
     "model_module": "@jupyter-widgets/controls",
     "model_module_version": "1.5.0",
     "model_name": "HTMLModel",
     "state": {
      "_dom_classes": [],
      "_model_module": "@jupyter-widgets/controls",
      "_model_module_version": "1.5.0",
      "_model_name": "HTMLModel",
      "_view_count": null,
      "_view_module": "@jupyter-widgets/controls",
      "_view_module_version": "1.5.0",
      "_view_name": "HTMLView",
      "description": "",
      "description_tooltip": null,
      "layout": "IPY_MODEL_7a839c9bc6ca43fdbf6d63cfe823af63",
      "placeholder": "​",
      "style": "IPY_MODEL_59d57ba6032a46d79628065ec01cff0f",
      "value": "special_tokens_map.json: 100%"
     }
    },
    "af86bd6b8bef45c99bc6d61af2c4f71f": {
     "model_module": "@jupyter-widgets/base",
     "model_module_version": "1.2.0",
     "model_name": "LayoutModel",
     "state": {
      "_model_module": "@jupyter-widgets/base",
      "_model_module_version": "1.2.0",
      "_model_name": "LayoutModel",
      "_view_count": null,
      "_view_module": "@jupyter-widgets/base",
      "_view_module_version": "1.2.0",
      "_view_name": "LayoutView",
      "align_content": null,
      "align_items": null,
      "align_self": null,
      "border": null,
      "bottom": null,
      "display": null,
      "flex": null,
      "flex_flow": null,
      "grid_area": null,
      "grid_auto_columns": null,
      "grid_auto_flow": null,
      "grid_auto_rows": null,
      "grid_column": null,
      "grid_gap": null,
      "grid_row": null,
      "grid_template_areas": null,
      "grid_template_columns": null,
      "grid_template_rows": null,
      "height": null,
      "justify_content": null,
      "justify_items": null,
      "left": null,
      "margin": null,
      "max_height": null,
      "max_width": null,
      "min_height": null,
      "min_width": null,
      "object_fit": null,
      "object_position": null,
      "order": null,
      "overflow": null,
      "overflow_x": null,
      "overflow_y": null,
      "padding": null,
      "right": null,
      "top": null,
      "visibility": null,
      "width": null
     }
    },
    "b05eb88e352947e295a0ed84710ed5f0": {
     "model_module": "@jupyter-widgets/base",
     "model_module_version": "1.2.0",
     "model_name": "LayoutModel",
     "state": {
      "_model_module": "@jupyter-widgets/base",
      "_model_module_version": "1.2.0",
      "_model_name": "LayoutModel",
      "_view_count": null,
      "_view_module": "@jupyter-widgets/base",
      "_view_module_version": "1.2.0",
      "_view_name": "LayoutView",
      "align_content": null,
      "align_items": null,
      "align_self": null,
      "border": null,
      "bottom": null,
      "display": null,
      "flex": null,
      "flex_flow": null,
      "grid_area": null,
      "grid_auto_columns": null,
      "grid_auto_flow": null,
      "grid_auto_rows": null,
      "grid_column": null,
      "grid_gap": null,
      "grid_row": null,
      "grid_template_areas": null,
      "grid_template_columns": null,
      "grid_template_rows": null,
      "height": null,
      "justify_content": null,
      "justify_items": null,
      "left": null,
      "margin": null,
      "max_height": null,
      "max_width": null,
      "min_height": null,
      "min_width": null,
      "object_fit": null,
      "object_position": null,
      "order": null,
      "overflow": null,
      "overflow_x": null,
      "overflow_y": null,
      "padding": null,
      "right": null,
      "top": null,
      "visibility": null,
      "width": null
     }
    },
    "b4717e6adc3e42648ffbf1e202a852ca": {
     "model_module": "@jupyter-widgets/base",
     "model_module_version": "1.2.0",
     "model_name": "LayoutModel",
     "state": {
      "_model_module": "@jupyter-widgets/base",
      "_model_module_version": "1.2.0",
      "_model_name": "LayoutModel",
      "_view_count": null,
      "_view_module": "@jupyter-widgets/base",
      "_view_module_version": "1.2.0",
      "_view_name": "LayoutView",
      "align_content": null,
      "align_items": null,
      "align_self": null,
      "border": null,
      "bottom": null,
      "display": null,
      "flex": null,
      "flex_flow": null,
      "grid_area": null,
      "grid_auto_columns": null,
      "grid_auto_flow": null,
      "grid_auto_rows": null,
      "grid_column": null,
      "grid_gap": null,
      "grid_row": null,
      "grid_template_areas": null,
      "grid_template_columns": null,
      "grid_template_rows": null,
      "height": null,
      "justify_content": null,
      "justify_items": null,
      "left": null,
      "margin": null,
      "max_height": null,
      "max_width": null,
      "min_height": null,
      "min_width": null,
      "object_fit": null,
      "object_position": null,
      "order": null,
      "overflow": null,
      "overflow_x": null,
      "overflow_y": null,
      "padding": null,
      "right": null,
      "top": null,
      "visibility": null,
      "width": null
     }
    },
    "b5a63beb6d2b4249871961e1a0a9b937": {
     "model_module": "@jupyter-widgets/base",
     "model_module_version": "1.2.0",
     "model_name": "LayoutModel",
     "state": {
      "_model_module": "@jupyter-widgets/base",
      "_model_module_version": "1.2.0",
      "_model_name": "LayoutModel",
      "_view_count": null,
      "_view_module": "@jupyter-widgets/base",
      "_view_module_version": "1.2.0",
      "_view_name": "LayoutView",
      "align_content": null,
      "align_items": null,
      "align_self": null,
      "border": null,
      "bottom": null,
      "display": null,
      "flex": null,
      "flex_flow": null,
      "grid_area": null,
      "grid_auto_columns": null,
      "grid_auto_flow": null,
      "grid_auto_rows": null,
      "grid_column": null,
      "grid_gap": null,
      "grid_row": null,
      "grid_template_areas": null,
      "grid_template_columns": null,
      "grid_template_rows": null,
      "height": null,
      "justify_content": null,
      "justify_items": null,
      "left": null,
      "margin": null,
      "max_height": null,
      "max_width": null,
      "min_height": null,
      "min_width": null,
      "object_fit": null,
      "object_position": null,
      "order": null,
      "overflow": null,
      "overflow_x": null,
      "overflow_y": null,
      "padding": null,
      "right": null,
      "top": null,
      "visibility": null,
      "width": null
     }
    },
    "b63ec0fd33c448e89cc03e6000abee00": {
     "model_module": "@jupyter-widgets/controls",
     "model_module_version": "1.5.0",
     "model_name": "FloatProgressModel",
     "state": {
      "_dom_classes": [],
      "_model_module": "@jupyter-widgets/controls",
      "_model_module_version": "1.5.0",
      "_model_name": "FloatProgressModel",
      "_view_count": null,
      "_view_module": "@jupyter-widgets/controls",
      "_view_module_version": "1.5.0",
      "_view_name": "ProgressView",
      "bar_style": "success",
      "description": "",
      "description_tooltip": null,
      "layout": "IPY_MODEL_2153807b370049bd95c515e53f487f72",
      "max": 466247,
      "min": 0,
      "orientation": "horizontal",
      "style": "IPY_MODEL_291e805751f84bb3a29d25c8b7cb3204",
      "value": 466247
     }
    },
    "b73272664dfb4605b1d3a85928865304": {
     "model_module": "@jupyter-widgets/controls",
     "model_module_version": "1.5.0",
     "model_name": "HTMLModel",
     "state": {
      "_dom_classes": [],
      "_model_module": "@jupyter-widgets/controls",
      "_model_module_version": "1.5.0",
      "_model_name": "HTMLModel",
      "_view_count": null,
      "_view_module": "@jupyter-widgets/controls",
      "_view_module_version": "1.5.0",
      "_view_name": "HTMLView",
      "description": "",
      "description_tooltip": null,
      "layout": "IPY_MODEL_879a060bd57146398f7c175704456532",
      "placeholder": "​",
      "style": "IPY_MODEL_64a3c90a4ba94283bbc717031722190c",
      "value": "config.json: 100%"
     }
    },
    "bd7036844925403fb3db2f1985fbf7f8": {
     "model_module": "@jupyter-widgets/base",
     "model_module_version": "1.2.0",
     "model_name": "LayoutModel",
     "state": {
      "_model_module": "@jupyter-widgets/base",
      "_model_module_version": "1.2.0",
      "_model_name": "LayoutModel",
      "_view_count": null,
      "_view_module": "@jupyter-widgets/base",
      "_view_module_version": "1.2.0",
      "_view_name": "LayoutView",
      "align_content": null,
      "align_items": null,
      "align_self": null,
      "border": null,
      "bottom": null,
      "display": null,
      "flex": null,
      "flex_flow": null,
      "grid_area": null,
      "grid_auto_columns": null,
      "grid_auto_flow": null,
      "grid_auto_rows": null,
      "grid_column": null,
      "grid_gap": null,
      "grid_row": null,
      "grid_template_areas": null,
      "grid_template_columns": null,
      "grid_template_rows": null,
      "height": null,
      "justify_content": null,
      "justify_items": null,
      "left": null,
      "margin": null,
      "max_height": null,
      "max_width": null,
      "min_height": null,
      "min_width": null,
      "object_fit": null,
      "object_position": null,
      "order": null,
      "overflow": null,
      "overflow_x": null,
      "overflow_y": null,
      "padding": null,
      "right": null,
      "top": null,
      "visibility": null,
      "width": null
     }
    },
    "bf34bae971834a2ca8ab1ac10e833986": {
     "model_module": "@jupyter-widgets/controls",
     "model_module_version": "1.5.0",
     "model_name": "DescriptionStyleModel",
     "state": {
      "_model_module": "@jupyter-widgets/controls",
      "_model_module_version": "1.5.0",
      "_model_name": "DescriptionStyleModel",
      "_view_count": null,
      "_view_module": "@jupyter-widgets/base",
      "_view_module_version": "1.2.0",
      "_view_name": "StyleView",
      "description_width": ""
     }
    },
    "bf354c1bbf524f97a07cd2a6c854e22c": {
     "model_module": "@jupyter-widgets/base",
     "model_module_version": "1.2.0",
     "model_name": "LayoutModel",
     "state": {
      "_model_module": "@jupyter-widgets/base",
      "_model_module_version": "1.2.0",
      "_model_name": "LayoutModel",
      "_view_count": null,
      "_view_module": "@jupyter-widgets/base",
      "_view_module_version": "1.2.0",
      "_view_name": "LayoutView",
      "align_content": null,
      "align_items": null,
      "align_self": null,
      "border": null,
      "bottom": null,
      "display": null,
      "flex": null,
      "flex_flow": null,
      "grid_area": null,
      "grid_auto_columns": null,
      "grid_auto_flow": null,
      "grid_auto_rows": null,
      "grid_column": null,
      "grid_gap": null,
      "grid_row": null,
      "grid_template_areas": null,
      "grid_template_columns": null,
      "grid_template_rows": null,
      "height": null,
      "justify_content": null,
      "justify_items": null,
      "left": null,
      "margin": null,
      "max_height": null,
      "max_width": null,
      "min_height": null,
      "min_width": null,
      "object_fit": null,
      "object_position": null,
      "order": null,
      "overflow": null,
      "overflow_x": null,
      "overflow_y": null,
      "padding": null,
      "right": null,
      "top": null,
      "visibility": null,
      "width": null
     }
    },
    "c2058ed868ff4815a9ef7ea89e85f022": {
     "model_module": "@jupyter-widgets/controls",
     "model_module_version": "1.5.0",
     "model_name": "DescriptionStyleModel",
     "state": {
      "_model_module": "@jupyter-widgets/controls",
      "_model_module_version": "1.5.0",
      "_model_name": "DescriptionStyleModel",
      "_view_count": null,
      "_view_module": "@jupyter-widgets/base",
      "_view_module_version": "1.2.0",
      "_view_name": "StyleView",
      "description_width": ""
     }
    },
    "c2d096efb1db4dde86fd42ff3a4df605": {
     "model_module": "@jupyter-widgets/controls",
     "model_module_version": "1.5.0",
     "model_name": "DescriptionStyleModel",
     "state": {
      "_model_module": "@jupyter-widgets/controls",
      "_model_module_version": "1.5.0",
      "_model_name": "DescriptionStyleModel",
      "_view_count": null,
      "_view_module": "@jupyter-widgets/base",
      "_view_module_version": "1.2.0",
      "_view_name": "StyleView",
      "description_width": ""
     }
    },
    "c92270c929c24bcb847c6739686a799b": {
     "model_module": "@jupyter-widgets/controls",
     "model_module_version": "1.5.0",
     "model_name": "FloatProgressModel",
     "state": {
      "_dom_classes": [],
      "_model_module": "@jupyter-widgets/controls",
      "_model_module_version": "1.5.0",
      "_model_name": "FloatProgressModel",
      "_view_count": null,
      "_view_module": "@jupyter-widgets/controls",
      "_view_module_version": "1.5.0",
      "_view_name": "ProgressView",
      "bar_style": "success",
      "description": "",
      "description_tooltip": null,
      "layout": "IPY_MODEL_e5aa932cda80483d8328d9f942462e9e",
      "max": 112,
      "min": 0,
      "orientation": "horizontal",
      "style": "IPY_MODEL_e0e136927c3644c6bfb9d611817870c8",
      "value": 112
     }
    },
    "cd89e860240142e28da826f6f49ba240": {
     "model_module": "@jupyter-widgets/controls",
     "model_module_version": "1.5.0",
     "model_name": "HTMLModel",
     "state": {
      "_dom_classes": [],
      "_model_module": "@jupyter-widgets/controls",
      "_model_module_version": "1.5.0",
      "_model_name": "HTMLModel",
      "_view_count": null,
      "_view_module": "@jupyter-widgets/controls",
      "_view_module_version": "1.5.0",
      "_view_name": "HTMLView",
      "description": "",
      "description_tooltip": null,
      "layout": "IPY_MODEL_f412568cd7f741c5a2d4a18416981739",
      "placeholder": "​",
      "style": "IPY_MODEL_50b11ecfa6ee4d4d8d4fc97a31a4551b",
      "value": " 116/116 [00:00&lt;00:00, 3.09kB/s]"
     }
    },
    "d357f7f4bd3f4af7af517dd7a725d2f0": {
     "model_module": "@jupyter-widgets/base",
     "model_module_version": "1.2.0",
     "model_name": "LayoutModel",
     "state": {
      "_model_module": "@jupyter-widgets/base",
      "_model_module_version": "1.2.0",
      "_model_name": "LayoutModel",
      "_view_count": null,
      "_view_module": "@jupyter-widgets/base",
      "_view_module_version": "1.2.0",
      "_view_name": "LayoutView",
      "align_content": null,
      "align_items": null,
      "align_self": null,
      "border": null,
      "bottom": null,
      "display": null,
      "flex": null,
      "flex_flow": null,
      "grid_area": null,
      "grid_auto_columns": null,
      "grid_auto_flow": null,
      "grid_auto_rows": null,
      "grid_column": null,
      "grid_gap": null,
      "grid_row": null,
      "grid_template_areas": null,
      "grid_template_columns": null,
      "grid_template_rows": null,
      "height": null,
      "justify_content": null,
      "justify_items": null,
      "left": null,
      "margin": null,
      "max_height": null,
      "max_width": null,
      "min_height": null,
      "min_width": null,
      "object_fit": null,
      "object_position": null,
      "order": null,
      "overflow": null,
      "overflow_x": null,
      "overflow_y": null,
      "padding": null,
      "right": null,
      "top": null,
      "visibility": null,
      "width": null
     }
    },
    "dcbf618d0a85491f8254ead7a0c027f5": {
     "model_module": "@jupyter-widgets/controls",
     "model_module_version": "1.5.0",
     "model_name": "ProgressStyleModel",
     "state": {
      "_model_module": "@jupyter-widgets/controls",
      "_model_module_version": "1.5.0",
      "_model_name": "ProgressStyleModel",
      "_view_count": null,
      "_view_module": "@jupyter-widgets/base",
      "_view_module_version": "1.2.0",
      "_view_name": "StyleView",
      "bar_color": null,
      "description_width": ""
     }
    },
    "e0e136927c3644c6bfb9d611817870c8": {
     "model_module": "@jupyter-widgets/controls",
     "model_module_version": "1.5.0",
     "model_name": "ProgressStyleModel",
     "state": {
      "_model_module": "@jupyter-widgets/controls",
      "_model_module_version": "1.5.0",
      "_model_name": "ProgressStyleModel",
      "_view_count": null,
      "_view_module": "@jupyter-widgets/base",
      "_view_module_version": "1.2.0",
      "_view_name": "StyleView",
      "bar_color": null,
      "description_width": ""
     }
    },
    "e2c7cbcbf7cd4e0ca1352925b8c7bdea": {
     "model_module": "@jupyter-widgets/controls",
     "model_module_version": "1.5.0",
     "model_name": "FloatProgressModel",
     "state": {
      "_dom_classes": [],
      "_model_module": "@jupyter-widgets/controls",
      "_model_module_version": "1.5.0",
      "_model_name": "FloatProgressModel",
      "_view_count": null,
      "_view_module": "@jupyter-widgets/controls",
      "_view_module_version": "1.5.0",
      "_view_name": "ProgressView",
      "bar_style": "success",
      "description": "",
      "description_tooltip": null,
      "layout": "IPY_MODEL_30a058a01b434739adf517283900f1c8",
      "max": 53,
      "min": 0,
      "orientation": "horizontal",
      "style": "IPY_MODEL_9036a15be46e45799e8e3cc854fa88bb",
      "value": 53
     }
    },
    "e3f45f680ec84c4eb6ee402b187e38a8": {
     "model_module": "@jupyter-widgets/controls",
     "model_module_version": "1.5.0",
     "model_name": "DescriptionStyleModel",
     "state": {
      "_model_module": "@jupyter-widgets/controls",
      "_model_module_version": "1.5.0",
      "_model_name": "DescriptionStyleModel",
      "_view_count": null,
      "_view_module": "@jupyter-widgets/base",
      "_view_module_version": "1.2.0",
      "_view_name": "StyleView",
      "description_width": ""
     }
    },
    "e48c72f5aa414987a2ce9409e9b5ad69": {
     "model_module": "@jupyter-widgets/base",
     "model_module_version": "1.2.0",
     "model_name": "LayoutModel",
     "state": {
      "_model_module": "@jupyter-widgets/base",
      "_model_module_version": "1.2.0",
      "_model_name": "LayoutModel",
      "_view_count": null,
      "_view_module": "@jupyter-widgets/base",
      "_view_module_version": "1.2.0",
      "_view_name": "LayoutView",
      "align_content": null,
      "align_items": null,
      "align_self": null,
      "border": null,
      "bottom": null,
      "display": null,
      "flex": null,
      "flex_flow": null,
      "grid_area": null,
      "grid_auto_columns": null,
      "grid_auto_flow": null,
      "grid_auto_rows": null,
      "grid_column": null,
      "grid_gap": null,
      "grid_row": null,
      "grid_template_areas": null,
      "grid_template_columns": null,
      "grid_template_rows": null,
      "height": null,
      "justify_content": null,
      "justify_items": null,
      "left": null,
      "margin": null,
      "max_height": null,
      "max_width": null,
      "min_height": null,
      "min_width": null,
      "object_fit": null,
      "object_position": null,
      "order": null,
      "overflow": null,
      "overflow_x": null,
      "overflow_y": null,
      "padding": null,
      "right": null,
      "top": null,
      "visibility": null,
      "width": null
     }
    },
    "e5aa932cda80483d8328d9f942462e9e": {
     "model_module": "@jupyter-widgets/base",
     "model_module_version": "1.2.0",
     "model_name": "LayoutModel",
     "state": {
      "_model_module": "@jupyter-widgets/base",
      "_model_module_version": "1.2.0",
      "_model_name": "LayoutModel",
      "_view_count": null,
      "_view_module": "@jupyter-widgets/base",
      "_view_module_version": "1.2.0",
      "_view_name": "LayoutView",
      "align_content": null,
      "align_items": null,
      "align_self": null,
      "border": null,
      "bottom": null,
      "display": null,
      "flex": null,
      "flex_flow": null,
      "grid_area": null,
      "grid_auto_columns": null,
      "grid_auto_flow": null,
      "grid_auto_rows": null,
      "grid_column": null,
      "grid_gap": null,
      "grid_row": null,
      "grid_template_areas": null,
      "grid_template_columns": null,
      "grid_template_rows": null,
      "height": null,
      "justify_content": null,
      "justify_items": null,
      "left": null,
      "margin": null,
      "max_height": null,
      "max_width": null,
      "min_height": null,
      "min_width": null,
      "object_fit": null,
      "object_position": null,
      "order": null,
      "overflow": null,
      "overflow_x": null,
      "overflow_y": null,
      "padding": null,
      "right": null,
      "top": null,
      "visibility": null,
      "width": null
     }
    },
    "efa59884be0e4fa6bb6ddf4d4885ab52": {
     "model_module": "@jupyter-widgets/controls",
     "model_module_version": "1.5.0",
     "model_name": "FloatProgressModel",
     "state": {
      "_dom_classes": [],
      "_model_module": "@jupyter-widgets/controls",
      "_model_module_version": "1.5.0",
      "_model_name": "FloatProgressModel",
      "_view_count": null,
      "_view_module": "@jupyter-widgets/controls",
      "_view_module_version": "1.5.0",
      "_view_name": "ProgressView",
      "bar_style": "success",
      "description": "",
      "description_tooltip": null,
      "layout": "IPY_MODEL_bd7036844925403fb3db2f1985fbf7f8",
      "max": 231508,
      "min": 0,
      "orientation": "horizontal",
      "style": "IPY_MODEL_33c5f2daa3a146e4ad66a753a4969e71",
      "value": 231508
     }
    },
    "f3384eb9244c4701ac8c1b16772132cf": {
     "model_module": "@jupyter-widgets/controls",
     "model_module_version": "1.5.0",
     "model_name": "ProgressStyleModel",
     "state": {
      "_model_module": "@jupyter-widgets/controls",
      "_model_module_version": "1.5.0",
      "_model_name": "ProgressStyleModel",
      "_view_count": null,
      "_view_module": "@jupyter-widgets/base",
      "_view_module_version": "1.2.0",
      "_view_name": "StyleView",
      "bar_color": null,
      "description_width": ""
     }
    },
    "f412568cd7f741c5a2d4a18416981739": {
     "model_module": "@jupyter-widgets/base",
     "model_module_version": "1.2.0",
     "model_name": "LayoutModel",
     "state": {
      "_model_module": "@jupyter-widgets/base",
      "_model_module_version": "1.2.0",
      "_model_name": "LayoutModel",
      "_view_count": null,
      "_view_module": "@jupyter-widgets/base",
      "_view_module_version": "1.2.0",
      "_view_name": "LayoutView",
      "align_content": null,
      "align_items": null,
      "align_self": null,
      "border": null,
      "bottom": null,
      "display": null,
      "flex": null,
      "flex_flow": null,
      "grid_area": null,
      "grid_auto_columns": null,
      "grid_auto_flow": null,
      "grid_auto_rows": null,
      "grid_column": null,
      "grid_gap": null,
      "grid_row": null,
      "grid_template_areas": null,
      "grid_template_columns": null,
      "grid_template_rows": null,
      "height": null,
      "justify_content": null,
      "justify_items": null,
      "left": null,
      "margin": null,
      "max_height": null,
      "max_width": null,
      "min_height": null,
      "min_width": null,
      "object_fit": null,
      "object_position": null,
      "order": null,
      "overflow": null,
      "overflow_x": null,
      "overflow_y": null,
      "padding": null,
      "right": null,
      "top": null,
      "visibility": null,
      "width": null
     }
    },
    "f4e20a4a864b4c13adc38f22fccb80a0": {
     "model_module": "@jupyter-widgets/controls",
     "model_module_version": "1.5.0",
     "model_name": "FloatProgressModel",
     "state": {
      "_dom_classes": [],
      "_model_module": "@jupyter-widgets/controls",
      "_model_module_version": "1.5.0",
      "_model_name": "FloatProgressModel",
      "_view_count": null,
      "_view_module": "@jupyter-widgets/controls",
      "_view_module_version": "1.5.0",
      "_view_name": "ProgressView",
      "bar_style": "success",
      "description": "",
      "description_tooltip": null,
      "layout": "IPY_MODEL_b05eb88e352947e295a0ed84710ed5f0",
      "max": 90868376,
      "min": 0,
      "orientation": "horizontal",
      "style": "IPY_MODEL_dcbf618d0a85491f8254ead7a0c027f5",
      "value": 90868376
     }
    },
    "f7d8f5d7761541ec95481008339f2420": {
     "model_module": "@jupyter-widgets/controls",
     "model_module_version": "1.5.0",
     "model_name": "DescriptionStyleModel",
     "state": {
      "_model_module": "@jupyter-widgets/controls",
      "_model_module_version": "1.5.0",
      "_model_name": "DescriptionStyleModel",
      "_view_count": null,
      "_view_module": "@jupyter-widgets/base",
      "_view_module_version": "1.2.0",
      "_view_name": "StyleView",
      "description_width": ""
     }
    },
    "f94f4f97ce194f77bdd6d4bdfea4edea": {
     "model_module": "@jupyter-widgets/controls",
     "model_module_version": "1.5.0",
     "model_name": "DescriptionStyleModel",
     "state": {
      "_model_module": "@jupyter-widgets/controls",
      "_model_module_version": "1.5.0",
      "_model_name": "DescriptionStyleModel",
      "_view_count": null,
      "_view_module": "@jupyter-widgets/base",
      "_view_module_version": "1.2.0",
      "_view_name": "StyleView",
      "description_width": ""
     }
    },
    "fb9ef2497d3b47a297501004b0176cde": {
     "model_module": "@jupyter-widgets/controls",
     "model_module_version": "1.5.0",
     "model_name": "HTMLModel",
     "state": {
      "_dom_classes": [],
      "_model_module": "@jupyter-widgets/controls",
      "_model_module_version": "1.5.0",
      "_model_name": "HTMLModel",
      "_view_count": null,
      "_view_module": "@jupyter-widgets/controls",
      "_view_module_version": "1.5.0",
      "_view_name": "HTMLView",
      "description": "",
      "description_tooltip": null,
      "layout": "IPY_MODEL_2377c5a7810c4e86849f2f1889cb0a5e",
      "placeholder": "​",
      "style": "IPY_MODEL_4a8445cda576479ab8663568b2e58fe0",
      "value": "tokenizer.json: 100%"
     }
    },
    "fbb3251aed0743e1be86088735d2ba33": {
     "model_module": "@jupyter-widgets/base",
     "model_module_version": "1.2.0",
     "model_name": "LayoutModel",
     "state": {
      "_model_module": "@jupyter-widgets/base",
      "_model_module_version": "1.2.0",
      "_model_name": "LayoutModel",
      "_view_count": null,
      "_view_module": "@jupyter-widgets/base",
      "_view_module_version": "1.2.0",
      "_view_name": "LayoutView",
      "align_content": null,
      "align_items": null,
      "align_self": null,
      "border": null,
      "bottom": null,
      "display": null,
      "flex": null,
      "flex_flow": null,
      "grid_area": null,
      "grid_auto_columns": null,
      "grid_auto_flow": null,
      "grid_auto_rows": null,
      "grid_column": null,
      "grid_gap": null,
      "grid_row": null,
      "grid_template_areas": null,
      "grid_template_columns": null,
      "grid_template_rows": null,
      "height": null,
      "justify_content": null,
      "justify_items": null,
      "left": null,
      "margin": null,
      "max_height": null,
      "max_width": null,
      "min_height": null,
      "min_width": null,
      "object_fit": null,
      "object_position": null,
      "order": null,
      "overflow": null,
      "overflow_x": null,
      "overflow_y": null,
      "padding": null,
      "right": null,
      "top": null,
      "visibility": null,
      "width": null
     }
    },
    "fe74971a69824ace86c03a408afe7100": {
     "model_module": "@jupyter-widgets/controls",
     "model_module_version": "1.5.0",
     "model_name": "HTMLModel",
     "state": {
      "_dom_classes": [],
      "_model_module": "@jupyter-widgets/controls",
      "_model_module_version": "1.5.0",
      "_model_name": "HTMLModel",
      "_view_count": null,
      "_view_module": "@jupyter-widgets/controls",
      "_view_module_version": "1.5.0",
      "_view_name": "HTMLView",
      "description": "",
      "description_tooltip": null,
      "layout": "IPY_MODEL_a0fd105ea5f046c18b8191d1ae5d89bc",
      "placeholder": "​",
      "style": "IPY_MODEL_2319ac540cdb44eba7715740e1f391b3",
      "value": " 190/190 [00:00&lt;00:00, 2.82kB/s]"
     }
    },
    "fec6c46a94314fff8f5fa6db76c722a2": {
     "model_module": "@jupyter-widgets/base",
     "model_module_version": "1.2.0",
     "model_name": "LayoutModel",
     "state": {
      "_model_module": "@jupyter-widgets/base",
      "_model_module_version": "1.2.0",
      "_model_name": "LayoutModel",
      "_view_count": null,
      "_view_module": "@jupyter-widgets/base",
      "_view_module_version": "1.2.0",
      "_view_name": "LayoutView",
      "align_content": null,
      "align_items": null,
      "align_self": null,
      "border": null,
      "bottom": null,
      "display": null,
      "flex": null,
      "flex_flow": null,
      "grid_area": null,
      "grid_auto_columns": null,
      "grid_auto_flow": null,
      "grid_auto_rows": null,
      "grid_column": null,
      "grid_gap": null,
      "grid_row": null,
      "grid_template_areas": null,
      "grid_template_columns": null,
      "grid_template_rows": null,
      "height": null,
      "justify_content": null,
      "justify_items": null,
      "left": null,
      "margin": null,
      "max_height": null,
      "max_width": null,
      "min_height": null,
      "min_width": null,
      "object_fit": null,
      "object_position": null,
      "order": null,
      "overflow": null,
      "overflow_x": null,
      "overflow_y": null,
      "padding": null,
      "right": null,
      "top": null,
      "visibility": null,
      "width": null
     }
    },
    "fffef1e3409c4e929c21060b07853091": {
     "model_module": "@jupyter-widgets/base",
     "model_module_version": "1.2.0",
     "model_name": "LayoutModel",
     "state": {
      "_model_module": "@jupyter-widgets/base",
      "_model_module_version": "1.2.0",
      "_model_name": "LayoutModel",
      "_view_count": null,
      "_view_module": "@jupyter-widgets/base",
      "_view_module_version": "1.2.0",
      "_view_name": "LayoutView",
      "align_content": null,
      "align_items": null,
      "align_self": null,
      "border": null,
      "bottom": null,
      "display": null,
      "flex": null,
      "flex_flow": null,
      "grid_area": null,
      "grid_auto_columns": null,
      "grid_auto_flow": null,
      "grid_auto_rows": null,
      "grid_column": null,
      "grid_gap": null,
      "grid_row": null,
      "grid_template_areas": null,
      "grid_template_columns": null,
      "grid_template_rows": null,
      "height": null,
      "justify_content": null,
      "justify_items": null,
      "left": null,
      "margin": null,
      "max_height": null,
      "max_width": null,
      "min_height": null,
      "min_width": null,
      "object_fit": null,
      "object_position": null,
      "order": null,
      "overflow": null,
      "overflow_x": null,
      "overflow_y": null,
      "padding": null,
      "right": null,
      "top": null,
      "visibility": null,
      "width": null
     }
    }
   }
  }
 },
 "nbformat": 4,
 "nbformat_minor": 0
}
